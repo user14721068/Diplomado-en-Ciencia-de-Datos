{
 "cells": [
  {
   "cell_type": "code",
   "execution_count": null,
   "id": "fae92d1f-fcd2-42ff-8096-c8ef05db4d35",
   "metadata": {},
   "outputs": [],
   "source": [
    "import pandas as pd\n",
    "import numpy as np\n",
    "import os"
   ]
  },
  {
   "cell_type": "code",
   "execution_count": 3,
   "id": "cea42d17-92e3-489e-a835-b49dc6febd08",
   "metadata": {},
   "outputs": [],
   "source": [
    "ruta = \"/home/nicolas/Escritorio/Diplomado en Ciencia de Datos/Modulo1/EcoBici Ciudad de Mexico/\"+\"all_data.csv\""
   ]
  },
  {
   "cell_type": "code",
   "execution_count": 4,
   "id": "e525e5c7-0d8b-4d33-88c6-50f22ee30b9d",
   "metadata": {},
   "outputs": [
    {
     "name": "stdout",
     "output_type": "stream",
     "text": [
      "9965028\n"
     ]
    }
   ],
   "source": [
    "num_rows = 0                                                         #Obtener el numero total de filas en el csv\n",
    "for row in open(ruta):\n",
    "    num_rows += 1\n",
    "print(num_rows)"
   ]
  },
  {
   "cell_type": "code",
   "execution_count": 9,
   "id": "dcbe5ba5-1a7b-49f0-b43d-b84b970da06c",
   "metadata": {},
   "outputs": [
    {
     "name": "stderr",
     "output_type": "stream",
     "text": [
      "/tmp/ipykernel_8476/3384377000.py:4: DtypeWarning: Columns (3) have mixed types. Specify dtype option on import or set low_memory=False.\n",
      "  df = pd.read_csv(infile, skiprows = 0, nrows=3000000)                 #Lee las primeras 3 millones filas del csv\n"
     ]
    },
    {
     "data": {
      "text/plain": [
       "(3000000, 16)"
      ]
     },
     "execution_count": 9,
     "metadata": {},
     "output_type": "execute_result"
    }
   ],
   "source": [
    "import pandas as pd\n",
    "infile = ruta\n",
    "columnas = pd.read_csv(infile, skiprows = 0, nrows=0)                 #Los nombres de las columnas\n",
    "df = pd.read_csv(infile, skiprows = 0, nrows=3000000)                 #Lee las primeras 3 millones filas del csv\n",
    "df.shape "
   ]
  },
  {
   "cell_type": "code",
   "execution_count": 10,
   "id": "810903bd-e36b-4740-81f2-877b4fd23a28",
   "metadata": {},
   "outputs": [
    {
     "name": "stderr",
     "output_type": "stream",
     "text": [
      "/tmp/ipykernel_8476/3627623694.py:1: DtypeWarning: Columns (3) have mixed types. Specify dtype option on import or set low_memory=False.\n",
      "  temp = pd.read_csv(infile, skiprows = 3000000, nrows=3000000)    #Ignorar las primeras 8,000,000 filas y lee las siguientes 8,000,000\n"
     ]
    },
    {
     "data": {
      "text/plain": [
       "(3000000, 16)"
      ]
     },
     "execution_count": 10,
     "metadata": {},
     "output_type": "execute_result"
    }
   ],
   "source": [
    "temp = pd.read_csv(infile, skiprows = 3000000, nrows=3000000)    #Ignorar las primeras 8,000,000 filas y lee las siguientes 8,000,000\n",
    "temp.columns = df.columns                                        #Renombrar las columnas del dataframe\n",
    "temp.shape                                                         "
   ]
  },
  {
   "cell_type": "code",
   "execution_count": 11,
   "id": "7c6b377b-67d3-4916-97c4-59f1d2965d60",
   "metadata": {},
   "outputs": [
    {
     "data": {
      "text/plain": [
       "(6000000, 16)"
      ]
     },
     "execution_count": 11,
     "metadata": {},
     "output_type": "execute_result"
    }
   ],
   "source": [
    "df = pd.concat([df,temp])                                        #Concatenar\n",
    "del temp                                                         #Eliminar dataframe\n",
    "df.shape"
   ]
  },
  {
   "cell_type": "code",
   "execution_count": 12,
   "id": "1612fb57-0b52-4f83-9026-e0ca5481e680",
   "metadata": {},
   "outputs": [
    {
     "name": "stderr",
     "output_type": "stream",
     "text": [
      "/tmp/ipykernel_8476/1540261814.py:1: DtypeWarning: Columns (1,3,5,6,8,9,11,13,14,15) have mixed types. Specify dtype option on import or set low_memory=False.\n",
      "  temp = pd.read_csv(infile, skiprows = 6000000)                    #Ignorar las primeras 6 millones de filas y lee las siguientes 5,000,000\n"
     ]
    },
    {
     "data": {
      "text/plain": [
       "(3965022, 16)"
      ]
     },
     "execution_count": 12,
     "metadata": {},
     "output_type": "execute_result"
    }
   ],
   "source": [
    "temp = pd.read_csv(infile, skiprows = 6000000)                    #Ignorar las primeras 6 millones de filas y lee las siguientes 5,000,000\n",
    "temp.columns = df.columns                                         #Renombrar las columnas del dataframe\n",
    "temp.shape    "
   ]
  },
  {
   "cell_type": "code",
   "execution_count": 13,
   "id": "ead9ea0c-1516-4329-a17b-7c4d179015f8",
   "metadata": {},
   "outputs": [
    {
     "data": {
      "text/plain": [
       "(9965022, 16)"
      ]
     },
     "execution_count": 13,
     "metadata": {},
     "output_type": "execute_result"
    }
   ],
   "source": [
    "df = pd.concat([df,temp])                                        #Concatenar\n",
    "del temp                                                         #Eliminar dataframe\n",
    "df.shape"
   ]
  },
  {
   "cell_type": "code",
   "execution_count": 14,
   "id": "96bcd061-57de-4603-a3cb-6e253375edb9",
   "metadata": {},
   "outputs": [
    {
     "data": {
      "text/plain": [
       "(9965022, 16)"
      ]
     },
     "execution_count": 14,
     "metadata": {},
     "output_type": "execute_result"
    }
   ],
   "source": [
    "df.shape"
   ]
  },
  {
   "cell_type": "code",
   "execution_count": 17,
   "id": "8339024d-d4bf-4067-9db3-66248593f8f9",
   "metadata": {},
   "outputs": [
    {
     "data": {
      "text/html": [
       "<div>\n",
       "<style scoped>\n",
       "    .dataframe tbody tr th:only-of-type {\n",
       "        vertical-align: middle;\n",
       "    }\n",
       "\n",
       "    .dataframe tbody tr th {\n",
       "        vertical-align: top;\n",
       "    }\n",
       "\n",
       "    .dataframe thead th {\n",
       "        text-align: right;\n",
       "    }\n",
       "</style>\n",
       "<table border=\"1\" class=\"dataframe\">\n",
       "  <thead>\n",
       "    <tr style=\"text-align: right;\">\n",
       "      <th></th>\n",
       "      <th>Unnamed: 0</th>\n",
       "      <th>Genero_Usuario</th>\n",
       "      <th>Edad_Usuario</th>\n",
       "      <th>Bici</th>\n",
       "      <th>Ciclo_Estacion_Retiro</th>\n",
       "      <th>Fecha_Retiro</th>\n",
       "      <th>Hora_Retiro</th>\n",
       "      <th>Ciclo_Estacion_Arribo</th>\n",
       "      <th>Fecha_Arribo</th>\n",
       "      <th>Hora_Arribo</th>\n",
       "      <th>BikeID</th>\n",
       "      <th>v�sp\u001c",
       "�crrOU</th>\n",
       "      <th>Ciclo_EstacionArribo</th>\n",
       "      <th>Fecha Arribo</th>\n",
       "      <th>Hora Arribo</th>\n",
       "      <th>Hora_Retiro.1</th>\n",
       "    </tr>\n",
       "  </thead>\n",
       "  <tbody>\n",
       "    <tr>\n",
       "      <th>0</th>\n",
       "      <td>0</td>\n",
       "      <td>F</td>\n",
       "      <td>32.0</td>\n",
       "      <td>11584</td>\n",
       "      <td>452.0</td>\n",
       "      <td>01/07/2019</td>\n",
       "      <td>0:01:35</td>\n",
       "      <td>312.0</td>\n",
       "      <td>01/07/2019</td>\n",
       "      <td>0:29:28</td>\n",
       "      <td>NaN</td>\n",
       "      <td>NaN</td>\n",
       "      <td>NaN</td>\n",
       "      <td>NaN</td>\n",
       "      <td>NaN</td>\n",
       "      <td>NaN</td>\n",
       "    </tr>\n",
       "    <tr>\n",
       "      <th>1</th>\n",
       "      <td>1</td>\n",
       "      <td>M</td>\n",
       "      <td>19.0</td>\n",
       "      <td>10219</td>\n",
       "      <td>136.0</td>\n",
       "      <td>01/07/2019</td>\n",
       "      <td>0:02:47</td>\n",
       "      <td>133.0</td>\n",
       "      <td>01/07/2019</td>\n",
       "      <td>0:13:35</td>\n",
       "      <td>NaN</td>\n",
       "      <td>NaN</td>\n",
       "      <td>NaN</td>\n",
       "      <td>NaN</td>\n",
       "      <td>NaN</td>\n",
       "      <td>NaN</td>\n",
       "    </tr>\n",
       "    <tr>\n",
       "      <th>2</th>\n",
       "      <td>2</td>\n",
       "      <td>M</td>\n",
       "      <td>28.0</td>\n",
       "      <td>11496</td>\n",
       "      <td>180.0</td>\n",
       "      <td>01/07/2019</td>\n",
       "      <td>0:02:54</td>\n",
       "      <td>348.0</td>\n",
       "      <td>01/07/2019</td>\n",
       "      <td>0:13:58</td>\n",
       "      <td>NaN</td>\n",
       "      <td>NaN</td>\n",
       "      <td>NaN</td>\n",
       "      <td>NaN</td>\n",
       "      <td>NaN</td>\n",
       "      <td>NaN</td>\n",
       "    </tr>\n",
       "    <tr>\n",
       "      <th>3</th>\n",
       "      <td>3</td>\n",
       "      <td>M</td>\n",
       "      <td>44.0</td>\n",
       "      <td>11948</td>\n",
       "      <td>181.0</td>\n",
       "      <td>01/07/2019</td>\n",
       "      <td>0:03:01</td>\n",
       "      <td>291.0</td>\n",
       "      <td>01/07/2019</td>\n",
       "      <td>0:39:25</td>\n",
       "      <td>NaN</td>\n",
       "      <td>NaN</td>\n",
       "      <td>NaN</td>\n",
       "      <td>NaN</td>\n",
       "      <td>NaN</td>\n",
       "      <td>NaN</td>\n",
       "    </tr>\n",
       "  </tbody>\n",
       "</table>\n",
       "</div>"
      ],
      "text/plain": [
       "   Unnamed: 0 Genero_Usuario  Edad_Usuario   Bici  Ciclo_Estacion_Retiro  \\\n",
       "0           0              F          32.0  11584                  452.0   \n",
       "1           1              M          19.0  10219                  136.0   \n",
       "2           2              M          28.0  11496                  180.0   \n",
       "3           3              M          44.0  11948                  181.0   \n",
       "\n",
       "  Fecha_Retiro Hora_Retiro  Ciclo_Estacion_Arribo Fecha_Arribo Hora_Arribo  \\\n",
       "0   01/07/2019     0:01:35                  312.0   01/07/2019     0:29:28   \n",
       "1   01/07/2019     0:02:47                  133.0   01/07/2019     0:13:35   \n",
       "2   01/07/2019     0:02:54                  348.0   01/07/2019     0:13:58   \n",
       "3   01/07/2019     0:03:01                  291.0   01/07/2019     0:39:25   \n",
       "\n",
       "   BikeID v�sp\n",
       "�crrOU  Ciclo_EstacionArribo Fecha Arribo Hora Arribo  \\\n",
       "0     NaN         NaN                   NaN          NaN         NaN   \n",
       "1     NaN         NaN                   NaN          NaN         NaN   \n",
       "2     NaN         NaN                   NaN          NaN         NaN   \n",
       "3     NaN         NaN                   NaN          NaN         NaN   \n",
       "\n",
       "  Hora_Retiro.1  \n",
       "0           NaN  \n",
       "1           NaN  \n",
       "2           NaN  \n",
       "3           NaN  "
      ]
     },
     "execution_count": 17,
     "metadata": {},
     "output_type": "execute_result"
    }
   ],
   "source": [
    "df.head(4)"
   ]
  },
  {
   "cell_type": "code",
   "execution_count": 18,
   "id": "56976ed2-42dc-4fa7-8932-4f30cf0931f7",
   "metadata": {},
   "outputs": [
    {
     "data": {
      "text/plain": [
       "Index(['Unnamed: 0', 'Genero_Usuario', 'Edad_Usuario', 'Bici',\n",
       "       'Ciclo_Estacion_Retiro', 'Fecha_Retiro', 'Hora_Retiro',\n",
       "       'Ciclo_Estacion_Arribo', 'Fecha_Arribo', 'Hora_Arribo', 'BikeID',\n",
       "       'v�sp\n",
       "�crrOU', 'Ciclo_EstacionArribo', 'Fecha Arribo', 'Hora Arribo',\n",
       "       'Hora_Retiro.1'],\n",
       "      dtype='object')"
      ]
     },
     "execution_count": 18,
     "metadata": {},
     "output_type": "execute_result"
    }
   ],
   "source": [
    "df.columns"
   ]
  },
  {
   "cell_type": "code",
   "execution_count": 20,
   "id": "ec337b69-6573-458b-b18f-875dc05cca6a",
   "metadata": {},
   "outputs": [
    {
     "data": {
      "text/plain": [
       "Unnamed: 0                     0\n",
       "Genero_Usuario            319992\n",
       "Edad_Usuario               54144\n",
       "Bici                       54144\n",
       "Ciclo_Estacion_Retiro      54144\n",
       "Fecha_Retiro               54144\n",
       "Hora_Retiro                54144\n",
       "Ciclo_Estacion_Arribo    1499318\n",
       "Fecha_Arribo             1499318\n",
       "Hora_Arribo              1499318\n",
       "BikeID                   9698084\n",
       "v�sp\n",
       "�crrOU              9910923\n",
       "Ciclo_EstacionArribo     8519803\n",
       "Fecha Arribo             8519803\n",
       "Hora Arribo              8885799\n",
       "Hora_Retiro.1            9599026\n",
       "dtype: int64"
      ]
     },
     "execution_count": 20,
     "metadata": {},
     "output_type": "execute_result"
    }
   ],
   "source": [
    "faltantes = df.isna().sum()\n",
    "faltantes"
   ]
  },
  {
   "cell_type": "code",
   "execution_count": 31,
   "id": "8871f2c6-e168-46a8-af89-e9c866101c86",
   "metadata": {},
   "outputs": [
    {
     "data": {
      "text/plain": [
       "Unnamed: 0                0.000000\n",
       "Genero_Usuario            3.211152\n",
       "Edad_Usuario              0.543340\n",
       "Bici                      0.543340\n",
       "Ciclo_Estacion_Retiro     0.543340\n",
       "Fecha_Retiro              0.543340\n",
       "Hora_Retiro               0.543340\n",
       "Ciclo_Estacion_Arribo    15.045807\n",
       "Fecha_Arribo             15.045807\n",
       "Hora_Arribo              15.045807\n",
       "BikeID                   97.321250\n",
       "v�sp\n",
       "�crrOU              99.457111\n",
       "Ciclo_EstacionArribo     85.497082\n",
       "Fecha Arribo             85.497082\n",
       "Hora Arribo              89.169888\n",
       "Hora_Retiro.1            96.327193\n",
       "dtype: float64"
      ]
     },
     "execution_count": 31,
     "metadata": {},
     "output_type": "execute_result"
    }
   ],
   "source": [
    "100*faltantes/df.shape[0]                       #Porcentaje de valores faltantes\n",
    "                                                #Notemos que la ultimas 6 columnas tienen mas del 85 % de valores nulos."
   ]
  },
  {
   "cell_type": "code",
   "execution_count": 33,
   "id": "7236b7fb-f91f-4cb6-9811-30514be4989f",
   "metadata": {},
   "outputs": [],
   "source": [
    "import matplotlib.pyplot as plt"
   ]
  },
  {
   "cell_type": "code",
   "execution_count": 37,
   "id": "d28cfdab-e35c-4032-bf18-3300952c4afe",
   "metadata": {},
   "outputs": [
    {
     "data": {
      "text/plain": [
       "M    7090964\n",
       "F    2554066\n",
       "Name: Genero_Usuario, dtype: int64"
      ]
     },
     "execution_count": 37,
     "metadata": {},
     "output_type": "execute_result"
    }
   ],
   "source": [
    "df[\"Genero_Usuario\"].value_counts()"
   ]
  },
  {
   "cell_type": "code",
   "execution_count": null,
   "id": "88a5ccd6-865d-4f7f-bd9c-8b5c506de16d",
   "metadata": {},
   "outputs": [],
   "source": []
  },
  {
   "cell_type": "code",
   "execution_count": null,
   "id": "b7781639-89a8-4a40-90dd-5c433f95b17a",
   "metadata": {},
   "outputs": [],
   "source": []
  }
 ],
 "metadata": {
  "kernelspec": {
   "display_name": "Python 3 (ipykernel)",
   "language": "python",
   "name": "python3"
  },
  "language_info": {
   "codemirror_mode": {
    "name": "ipython",
    "version": 3
   },
   "file_extension": ".py",
   "mimetype": "text/x-python",
   "name": "python",
   "nbconvert_exporter": "python",
   "pygments_lexer": "ipython3",
   "version": "3.8.10"
  }
 },
 "nbformat": 4,
 "nbformat_minor": 5
}
