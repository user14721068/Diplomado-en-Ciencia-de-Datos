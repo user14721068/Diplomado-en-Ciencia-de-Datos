{
 "cells": [
  {
   "cell_type": "code",
   "execution_count": 2,
   "id": "1bd09fa6-319c-4397-92ab-73ab6e64882e",
   "metadata": {},
   "outputs": [],
   "source": [
    "import pandas as pd\n",
    "import numpy as np\n",
    "import matplotlib.pyplot as plt\n",
    "import os\n",
    "import json\n",
    "os.getcwd()\n",
    "files_path = \"C:/Users/ncr/Desktop/Mis Documentos/2021 Diplomado Ciencia de Datos/20220108 Examen/02 Datos\" #Elegir la ruta\n",
    "files = os.listdir(files_path)"
   ]
  },
  {
   "cell_type": "code",
   "execution_count": 3,
   "id": "1ffd3ad1-082e-45a2-bb3c-802d1d8cf2af",
   "metadata": {},
   "outputs": [],
   "source": [
    "pd.set_option('display.max_columns', 500) # La opción para definir el número de columnas que deseo que pandas imprimr"
   ]
  },
  {
   "cell_type": "code",
   "execution_count": 4,
   "id": "0375d64b-9543-45a2-8193-b6826ca4040b",
   "metadata": {},
   "outputs": [],
   "source": [
    "# Lectura de archivo JSON\n",
    "import json\n",
    "with open(files_path + '/' + \"column_remapping.json\") as f:\n",
    "  column_remapping = json.load(f)"
   ]
  },
  {
   "cell_type": "markdown",
   "id": "49a4ff18-808f-4932-a223-dab80f0398df",
   "metadata": {},
   "source": [
    "# LECTURA DE ARCHIVOS CSV"
   ]
  },
  {
   "cell_type": "code",
   "execution_count": 5,
   "id": "639ed79f-12f2-4318-9e9f-9fadda0dcf00",
   "metadata": {},
   "outputs": [
    {
     "name": "stdout",
     "output_type": "stream",
     "text": [
      "Leyendo archivo : chicago_taxi_trips_2016_01.csv\n",
      "Leyendo archivo : chicago_taxi_trips_2016_02.csv\n",
      "Leyendo archivo : chicago_taxi_trips_2016_03.csv\n",
      "Leyendo archivo : chicago_taxi_trips_2016_04.csv\n",
      "Leyendo archivo : chicago_taxi_trips_2016_05.csv\n",
      "Leyendo archivo : chicago_taxi_trips_2016_06.csv\n",
      "Leyendo archivo : chicago_taxi_trips_2016_07.csv\n",
      "Leyendo archivo : chicago_taxi_trips_2016_08.csv\n",
      "Leyendo archivo : chicago_taxi_trips_2016_09.csv\n",
      "Leyendo archivo : chicago_taxi_trips_2016_10.csv\n",
      "Leyendo archivo : chicago_taxi_trips_2016_11.csv\n",
      "Leyendo archivo : chicago_taxi_trips_2016_12.csv\n",
      "Termino de cargar los csv\n"
     ]
    }
   ],
   "source": [
    "# Lectura de archivos csv\n",
    "# Debido al tamanio de los archivos leeremos uno a uno y le eliminare las variables que no usamos para el examen\n",
    "eliminar = [\"dropoff_longitude\",\n",
    "            \"dropoff_latitude\",\n",
    "            \"pickup_longitude\",\n",
    "            \"pickup_latitude\",\n",
    "            \"trip_start_timestamp\",\n",
    "            \"trip_end_timestamp\",\n",
    "            \"pickup_census_tract\",\n",
    "            \"dropoff_census_tract\",\n",
    "            \"pickup_community_area\",\n",
    "            \"dropoff_community_area\",\n",
    "            \"fare\"]\n",
    "\n",
    "archivos = [\"chicago_taxi_trips_2016_01.csv\",\n",
    "            \"chicago_taxi_trips_2016_02.csv\",\n",
    "            \"chicago_taxi_trips_2016_03.csv\",\n",
    "            \"chicago_taxi_trips_2016_04.csv\",\n",
    "            \"chicago_taxi_trips_2016_05.csv\",\n",
    "            \"chicago_taxi_trips_2016_06.csv\",\n",
    "            \"chicago_taxi_trips_2016_07.csv\",\n",
    "            \"chicago_taxi_trips_2016_08.csv\",\n",
    "            \"chicago_taxi_trips_2016_09.csv\",\n",
    "            \"chicago_taxi_trips_2016_10.csv\",\n",
    "            \"chicago_taxi_trips_2016_11.csv\",\n",
    "            \"chicago_taxi_trips_2016_12.csv\"]\n",
    "\n",
    "column_names = [\"taxi_id\", \"trip_seconds\", \"trip_miles\",\"tips\",\"tolls\",\"extras\",\"trip_total\",\"payment_type\",\"company\"]\n",
    "datos = pd.DataFrame(columns = column_names) #Declaramos un Data Frame\n",
    "\n",
    "for file in archivos:\n",
    "    print(\"Leyendo archivo :\", file)                 \n",
    "    temporal = pd.read_csv(files_path + '/' +  file) # Lectura del csv\n",
    "    temporal = temporal.drop(eliminar, 1)            # Eliminar columnas innecesarias\n",
    "    datos = pd.concat([datos,temporal], axis=0)      # Unir los dataframes\n",
    "    del temporal                                     # Eliminar dataframe temporal\n",
    "print(\"Termino de cargar los csv\")                   "
   ]
  },
  {
   "cell_type": "code",
   "execution_count": 6,
   "id": "7ae3ea92-859e-4e70-b467-cfdc7638bb50",
   "metadata": {},
   "outputs": [
    {
     "data": {
      "text/plain": [
       "(19866157, 9)"
      ]
     },
     "execution_count": 6,
     "metadata": {},
     "output_type": "execute_result"
    }
   ],
   "source": [
    "datos.shape #Dimension de dataframe"
   ]
  },
  {
   "cell_type": "code",
   "execution_count": 7,
   "id": "7e07e6df-fc2f-482b-b14b-697c8eb7f73a",
   "metadata": {},
   "outputs": [
    {
     "data": {
      "text/html": [
       "<div>\n",
       "<style scoped>\n",
       "    .dataframe tbody tr th:only-of-type {\n",
       "        vertical-align: middle;\n",
       "    }\n",
       "\n",
       "    .dataframe tbody tr th {\n",
       "        vertical-align: top;\n",
       "    }\n",
       "\n",
       "    .dataframe thead th {\n",
       "        text-align: right;\n",
       "    }\n",
       "</style>\n",
       "<table border=\"1\" class=\"dataframe\">\n",
       "  <thead>\n",
       "    <tr style=\"text-align: right;\">\n",
       "      <th></th>\n",
       "      <th>company</th>\n",
       "      <th>name_company</th>\n",
       "    </tr>\n",
       "  </thead>\n",
       "  <tbody>\n",
       "    <tr>\n",
       "      <th>0</th>\n",
       "      <td>0</td>\n",
       "      <td>3623-Arrington Enterprises</td>\n",
       "    </tr>\n",
       "    <tr>\n",
       "      <th>1</th>\n",
       "      <td>1</td>\n",
       "      <td>5874 - Sergey Cab Corp.</td>\n",
       "    </tr>\n",
       "    <tr>\n",
       "      <th>2</th>\n",
       "      <td>2</td>\n",
       "      <td>5874 - 73628 Sergey Cab Corp.</td>\n",
       "    </tr>\n",
       "    <tr>\n",
       "      <th>3</th>\n",
       "      <td>3</td>\n",
       "      <td>Chicago Medallion Management</td>\n",
       "    </tr>\n",
       "    <tr>\n",
       "      <th>4</th>\n",
       "      <td>4</td>\n",
       "      <td>3011 - JBL Cab Inc.</td>\n",
       "    </tr>\n",
       "  </tbody>\n",
       "</table>\n",
       "</div>"
      ],
      "text/plain": [
       "  company                   name_company\n",
       "0       0     3623-Arrington Enterprises\n",
       "1       1        5874 - Sergey Cab Corp.\n",
       "2       2  5874 - 73628 Sergey Cab Corp.\n",
       "3       3   Chicago Medallion Management\n",
       "4       4            3011 - JBL Cab Inc."
      ]
     },
     "execution_count": 7,
     "metadata": {},
     "output_type": "execute_result"
    }
   ],
   "source": [
    "# Convertir JSON a DataFrame\n",
    "\n",
    "column_remapping_df = pd.DataFrame(columns=('company', 'name_company'))\n",
    "for k in range(0,len(list(column_remapping[\"company\"].keys()))):\n",
    "    #print(list(column_remapping[\"company\"].keys())[k])\n",
    "    a = int(list(column_remapping[\"company\"].keys())[k])\n",
    "    j = str(k)\n",
    "    #print(column_remapping[\"company\"][j])\n",
    "    b = column_remapping[\"company\"][j]\n",
    "    column_remapping_df.loc[k] = [a,b]\n",
    "\n",
    "column_remapping_df.head()"
   ]
  },
  {
   "cell_type": "code",
   "execution_count": 8,
   "id": "b0549c78-861e-4999-ab46-0127bcd75ef7",
   "metadata": {},
   "outputs": [
    {
     "data": {
      "text/plain": [
       "(19866157, 10)"
      ]
     },
     "execution_count": 8,
     "metadata": {},
     "output_type": "execute_result"
    }
   ],
   "source": [
    "#Cruce para obtener el nombre de la compañia.\n",
    "datos = datos.merge(column_remapping_df, on=\"company\", how=\"left\")\n",
    "datos.shape"
   ]
  },
  {
   "cell_type": "code",
   "execution_count": 9,
   "id": "9d8a7eaa-0083-43c3-b9eb-f287db8a3907",
   "metadata": {},
   "outputs": [],
   "source": [
    "# Conservar solo las filas cuya compania se haya podido mapear con las companias del JSON\n",
    "datos = datos.dropna(subset=['name_company'])"
   ]
  },
  {
   "cell_type": "code",
   "execution_count": 10,
   "id": "a045fb50-1b5d-470a-9611-50d7243e7be3",
   "metadata": {},
   "outputs": [
    {
     "data": {
      "text/plain": [
       "(12230263, 10)"
      ]
     },
     "execution_count": 10,
     "metadata": {},
     "output_type": "execute_result"
    }
   ],
   "source": [
    "datos.shape"
   ]
  },
  {
   "cell_type": "markdown",
   "id": "d1556e8f-c38c-4ca6-88dc-77c7118429bb",
   "metadata": {},
   "source": [
    "# CREACION DE LA TAD"
   ]
  },
  {
   "cell_type": "code",
   "execution_count": 11,
   "id": "46bc06d4-93c1-4946-afec-b2201a561d79",
   "metadata": {},
   "outputs": [
    {
     "data": {
      "text/html": [
       "<div>\n",
       "<style scoped>\n",
       "    .dataframe tbody tr th:only-of-type {\n",
       "        vertical-align: middle;\n",
       "    }\n",
       "\n",
       "    .dataframe tbody tr th {\n",
       "        vertical-align: top;\n",
       "    }\n",
       "\n",
       "    .dataframe thead th {\n",
       "        text-align: right;\n",
       "    }\n",
       "</style>\n",
       "<table border=\"1\" class=\"dataframe\">\n",
       "  <thead>\n",
       "    <tr style=\"text-align: right;\">\n",
       "      <th></th>\n",
       "      <th>name_company</th>\n",
       "      <th>Number of Taxis</th>\n",
       "    </tr>\n",
       "  </thead>\n",
       "  <tbody>\n",
       "    <tr>\n",
       "      <th>0</th>\n",
       "      <td>0118 - 42111 Godfrey S.Awir</td>\n",
       "      <td>1</td>\n",
       "    </tr>\n",
       "    <tr>\n",
       "      <th>1</th>\n",
       "      <td>0694 - 59280 Chinesco Trans Inc</td>\n",
       "      <td>1</td>\n",
       "    </tr>\n",
       "    <tr>\n",
       "      <th>2</th>\n",
       "      <td>1085 - 72312 N and W Cab Co</td>\n",
       "      <td>1</td>\n",
       "    </tr>\n",
       "    <tr>\n",
       "      <th>3</th>\n",
       "      <td>1247 - 72807 Daniel Ayertey</td>\n",
       "      <td>1</td>\n",
       "    </tr>\n",
       "    <tr>\n",
       "      <th>4</th>\n",
       "      <td>2092 - 61288 Sbeih company</td>\n",
       "      <td>1</td>\n",
       "    </tr>\n",
       "  </tbody>\n",
       "</table>\n",
       "</div>"
      ],
      "text/plain": [
       "                      name_company  Number of Taxis\n",
       "0      0118 - 42111 Godfrey S.Awir                1\n",
       "1  0694 - 59280 Chinesco Trans Inc                1\n",
       "2      1085 - 72312 N and W Cab Co                1\n",
       "3      1247 - 72807 Daniel Ayertey                1\n",
       "4       2092 - 61288 Sbeih company                1"
      ]
     },
     "execution_count": 11,
     "metadata": {},
     "output_type": "execute_result"
    }
   ],
   "source": [
    "# Construccion de la TAD\n",
    "# (b) Numero de Taxis pertenecientes a la compania\n",
    "\n",
    "b = datos.groupby(\"name_company\")[\"taxi_id\"].nunique()\n",
    "b_1 = { 'name_company': b.index, 'Number of Taxis': b.values }\n",
    "b_1 = pd.DataFrame(b_1)\n",
    "b_1.head()"
   ]
  },
  {
   "cell_type": "code",
   "execution_count": 12,
   "id": "08a5dc83-5806-4e08-9d3f-a41140634656",
   "metadata": {},
   "outputs": [
    {
     "data": {
      "text/html": [
       "<div>\n",
       "<style scoped>\n",
       "    .dataframe tbody tr th:only-of-type {\n",
       "        vertical-align: middle;\n",
       "    }\n",
       "\n",
       "    .dataframe tbody tr th {\n",
       "        vertical-align: top;\n",
       "    }\n",
       "\n",
       "    .dataframe thead th {\n",
       "        text-align: right;\n",
       "    }\n",
       "</style>\n",
       "<table border=\"1\" class=\"dataframe\">\n",
       "  <thead>\n",
       "    <tr style=\"text-align: right;\">\n",
       "      <th></th>\n",
       "      <th>name_company</th>\n",
       "      <th>Avg trips per Taxi</th>\n",
       "    </tr>\n",
       "  </thead>\n",
       "  <tbody>\n",
       "    <tr>\n",
       "      <th>0</th>\n",
       "      <td>0118 - 42111 Godfrey S.Awir</td>\n",
       "      <td>5145.0</td>\n",
       "    </tr>\n",
       "    <tr>\n",
       "      <th>1</th>\n",
       "      <td>0694 - 59280 Chinesco Trans Inc</td>\n",
       "      <td>3218.0</td>\n",
       "    </tr>\n",
       "    <tr>\n",
       "      <th>2</th>\n",
       "      <td>1085 - 72312 N and W Cab Co</td>\n",
       "      <td>4763.0</td>\n",
       "    </tr>\n",
       "    <tr>\n",
       "      <th>3</th>\n",
       "      <td>1247 - 72807 Daniel Ayertey</td>\n",
       "      <td>2486.0</td>\n",
       "    </tr>\n",
       "    <tr>\n",
       "      <th>4</th>\n",
       "      <td>2092 - 61288 Sbeih company</td>\n",
       "      <td>4452.0</td>\n",
       "    </tr>\n",
       "  </tbody>\n",
       "</table>\n",
       "</div>"
      ],
      "text/plain": [
       "                      name_company  Avg trips per Taxi\n",
       "0      0118 - 42111 Godfrey S.Awir              5145.0\n",
       "1  0694 - 59280 Chinesco Trans Inc              3218.0\n",
       "2      1085 - 72312 N and W Cab Co              4763.0\n",
       "3      1247 - 72807 Daniel Ayertey              2486.0\n",
       "4       2092 - 61288 Sbeih company              4452.0"
      ]
     },
     "execution_count": 12,
     "metadata": {},
     "output_type": "execute_result"
    }
   ],
   "source": [
    "# (c) Número promedio de viajes por taxi\n",
    "c = datos.groupby([\"name_company\",\"taxi_id\"],as_index=False)[\"taxi_id\"].count()\n",
    "c_1 = { 'name_company': c[\"name_company\"], 'Avg trips per Taxi': c[\"taxi_id\"] }\n",
    "c_1 = pd.DataFrame(c_1)\n",
    "c_1 = c_1.groupby(\"name_company\")[\"Avg trips per Taxi\"].mean()\n",
    "c_2 = { 'name_company': c_1.index, 'Avg trips per Taxi': c_1.values }\n",
    "c_2 = pd.DataFrame(c_2)\n",
    "c_2.head()"
   ]
  },
  {
   "cell_type": "code",
   "execution_count": 13,
   "id": "d6dd32e1-261d-4e32-b0dc-b335e5c6c9ba",
   "metadata": {},
   "outputs": [
    {
     "data": {
      "text/html": [
       "<div>\n",
       "<style scoped>\n",
       "    .dataframe tbody tr th:only-of-type {\n",
       "        vertical-align: middle;\n",
       "    }\n",
       "\n",
       "    .dataframe tbody tr th {\n",
       "        vertical-align: top;\n",
       "    }\n",
       "\n",
       "    .dataframe thead th {\n",
       "        text-align: right;\n",
       "    }\n",
       "</style>\n",
       "<table border=\"1\" class=\"dataframe\">\n",
       "  <thead>\n",
       "    <tr style=\"text-align: right;\">\n",
       "      <th></th>\n",
       "      <th>name_company</th>\n",
       "      <th>Avg fare per trip</th>\n",
       "    </tr>\n",
       "  </thead>\n",
       "  <tbody>\n",
       "    <tr>\n",
       "      <th>0</th>\n",
       "      <td>0118 - 42111 Godfrey S.Awir</td>\n",
       "      <td>16.983710</td>\n",
       "    </tr>\n",
       "    <tr>\n",
       "      <th>1</th>\n",
       "      <td>0694 - 59280 Chinesco Trans Inc</td>\n",
       "      <td>13.608760</td>\n",
       "    </tr>\n",
       "    <tr>\n",
       "      <th>2</th>\n",
       "      <td>1085 - 72312 N and W Cab Co</td>\n",
       "      <td>10.710735</td>\n",
       "    </tr>\n",
       "    <tr>\n",
       "      <th>3</th>\n",
       "      <td>1247 - 72807 Daniel Ayertey</td>\n",
       "      <td>15.695141</td>\n",
       "    </tr>\n",
       "    <tr>\n",
       "      <th>4</th>\n",
       "      <td>2092 - 61288 Sbeih company</td>\n",
       "      <td>15.824888</td>\n",
       "    </tr>\n",
       "  </tbody>\n",
       "</table>\n",
       "</div>"
      ],
      "text/plain": [
       "                      name_company  Avg fare per trip\n",
       "0      0118 - 42111 Godfrey S.Awir          16.983710\n",
       "1  0694 - 59280 Chinesco Trans Inc          13.608760\n",
       "2      1085 - 72312 N and W Cab Co          10.710735\n",
       "3      1247 - 72807 Daniel Ayertey          15.695141\n",
       "4       2092 - 61288 Sbeih company          15.824888"
      ]
     },
     "execution_count": 13,
     "metadata": {},
     "output_type": "execute_result"
    }
   ],
   "source": [
    "# (d) Tarifa promedio por viaje\n",
    "d = datos.groupby(\"name_company\")[\"trip_total\"].mean()\n",
    "d_1 = { 'name_company': d.index, 'Avg fare per trip': d.values }\n",
    "d_1 = pd.DataFrame(d_1)\n",
    "d_1.head()"
   ]
  },
  {
   "cell_type": "code",
   "execution_count": 14,
   "id": "5b6b1e53-1352-4d37-8916-504a1305788e",
   "metadata": {},
   "outputs": [
    {
     "data": {
      "text/html": [
       "<div>\n",
       "<style scoped>\n",
       "    .dataframe tbody tr th:only-of-type {\n",
       "        vertical-align: middle;\n",
       "    }\n",
       "\n",
       "    .dataframe tbody tr th {\n",
       "        vertical-align: top;\n",
       "    }\n",
       "\n",
       "    .dataframe thead th {\n",
       "        text-align: right;\n",
       "    }\n",
       "</style>\n",
       "<table border=\"1\" class=\"dataframe\">\n",
       "  <thead>\n",
       "    <tr style=\"text-align: right;\">\n",
       "      <th></th>\n",
       "      <th>name_company</th>\n",
       "      <th>Avg tip per trip</th>\n",
       "    </tr>\n",
       "  </thead>\n",
       "  <tbody>\n",
       "    <tr>\n",
       "      <th>0</th>\n",
       "      <td>0118 - 42111 Godfrey S.Awir</td>\n",
       "      <td>1.235535</td>\n",
       "    </tr>\n",
       "    <tr>\n",
       "      <th>1</th>\n",
       "      <td>0694 - 59280 Chinesco Trans Inc</td>\n",
       "      <td>1.107346</td>\n",
       "    </tr>\n",
       "    <tr>\n",
       "      <th>2</th>\n",
       "      <td>1085 - 72312 N and W Cab Co</td>\n",
       "      <td>0.993004</td>\n",
       "    </tr>\n",
       "    <tr>\n",
       "      <th>3</th>\n",
       "      <td>1247 - 72807 Daniel Ayertey</td>\n",
       "      <td>1.249115</td>\n",
       "    </tr>\n",
       "    <tr>\n",
       "      <th>4</th>\n",
       "      <td>2092 - 61288 Sbeih company</td>\n",
       "      <td>0.016060</td>\n",
       "    </tr>\n",
       "  </tbody>\n",
       "</table>\n",
       "</div>"
      ],
      "text/plain": [
       "                      name_company  Avg tip per trip\n",
       "0      0118 - 42111 Godfrey S.Awir          1.235535\n",
       "1  0694 - 59280 Chinesco Trans Inc          1.107346\n",
       "2      1085 - 72312 N and W Cab Co          0.993004\n",
       "3      1247 - 72807 Daniel Ayertey          1.249115\n",
       "4       2092 - 61288 Sbeih company          0.016060"
      ]
     },
     "execution_count": 14,
     "metadata": {},
     "output_type": "execute_result"
    }
   ],
   "source": [
    "# (e) Propina promedio por viaje\n",
    "\n",
    "e = datos.groupby(\"name_company\")[\"tips\"].mean()\n",
    "e_1 = { 'name_company': e.index, 'Avg tip per trip': e.values }\n",
    "e_1 = pd.DataFrame(e_1)\n",
    "e_1.head()"
   ]
  },
  {
   "cell_type": "code",
   "execution_count": 15,
   "id": "711be0d6-2d03-41bf-a469-67e4b6d37dc3",
   "metadata": {},
   "outputs": [
    {
     "data": {
      "text/html": [
       "<div>\n",
       "<style scoped>\n",
       "    .dataframe tbody tr th:only-of-type {\n",
       "        vertical-align: middle;\n",
       "    }\n",
       "\n",
       "    .dataframe tbody tr th {\n",
       "        vertical-align: top;\n",
       "    }\n",
       "\n",
       "    .dataframe thead th {\n",
       "        text-align: right;\n",
       "    }\n",
       "</style>\n",
       "<table border=\"1\" class=\"dataframe\">\n",
       "  <thead>\n",
       "    <tr style=\"text-align: right;\">\n",
       "      <th></th>\n",
       "      <th>name_company</th>\n",
       "      <th>Avg tools per trip</th>\n",
       "    </tr>\n",
       "  </thead>\n",
       "  <tbody>\n",
       "    <tr>\n",
       "      <th>0</th>\n",
       "      <td>0118 - 42111 Godfrey S.Awir</td>\n",
       "      <td>0.0</td>\n",
       "    </tr>\n",
       "    <tr>\n",
       "      <th>1</th>\n",
       "      <td>0694 - 59280 Chinesco Trans Inc</td>\n",
       "      <td>0.0</td>\n",
       "    </tr>\n",
       "    <tr>\n",
       "      <th>2</th>\n",
       "      <td>1085 - 72312 N and W Cab Co</td>\n",
       "      <td>0.0</td>\n",
       "    </tr>\n",
       "    <tr>\n",
       "      <th>3</th>\n",
       "      <td>1247 - 72807 Daniel Ayertey</td>\n",
       "      <td>0.0</td>\n",
       "    </tr>\n",
       "    <tr>\n",
       "      <th>4</th>\n",
       "      <td>2092 - 61288 Sbeih company</td>\n",
       "      <td>0.0</td>\n",
       "    </tr>\n",
       "  </tbody>\n",
       "</table>\n",
       "</div>"
      ],
      "text/plain": [
       "                      name_company  Avg tools per trip\n",
       "0      0118 - 42111 Godfrey S.Awir                 0.0\n",
       "1  0694 - 59280 Chinesco Trans Inc                 0.0\n",
       "2      1085 - 72312 N and W Cab Co                 0.0\n",
       "3      1247 - 72807 Daniel Ayertey                 0.0\n",
       "4       2092 - 61288 Sbeih company                 0.0"
      ]
     },
     "execution_count": 15,
     "metadata": {},
     "output_type": "execute_result"
    }
   ],
   "source": [
    "# (f) Costo promedio de las herramientas utilizadas\n",
    "f = datos.groupby(\"name_company\")[\"tolls\"].mean()\n",
    "f_1 = { 'name_company': f.index, 'Avg tools per trip': f.values }\n",
    "f_1 = pd.DataFrame(f_1)\n",
    "f_1.head()"
   ]
  },
  {
   "cell_type": "code",
   "execution_count": 16,
   "id": "d43237d6-4ded-4df2-be14-6d4c305d73fd",
   "metadata": {},
   "outputs": [
    {
     "data": {
      "text/html": [
       "<div>\n",
       "<style scoped>\n",
       "    .dataframe tbody tr th:only-of-type {\n",
       "        vertical-align: middle;\n",
       "    }\n",
       "\n",
       "    .dataframe tbody tr th {\n",
       "        vertical-align: top;\n",
       "    }\n",
       "\n",
       "    .dataframe thead th {\n",
       "        text-align: right;\n",
       "    }\n",
       "</style>\n",
       "<table border=\"1\" class=\"dataframe\">\n",
       "  <thead>\n",
       "    <tr style=\"text-align: right;\">\n",
       "      <th></th>\n",
       "      <th>name_company</th>\n",
       "      <th>Avg extras per trip</th>\n",
       "    </tr>\n",
       "  </thead>\n",
       "  <tbody>\n",
       "    <tr>\n",
       "      <th>0</th>\n",
       "      <td>0118 - 42111 Godfrey S.Awir</td>\n",
       "      <td>1.337026</td>\n",
       "    </tr>\n",
       "    <tr>\n",
       "      <th>1</th>\n",
       "      <td>0694 - 59280 Chinesco Trans Inc</td>\n",
       "      <td>0.828154</td>\n",
       "    </tr>\n",
       "    <tr>\n",
       "      <th>2</th>\n",
       "      <td>1085 - 72312 N and W Cab Co</td>\n",
       "      <td>0.456330</td>\n",
       "    </tr>\n",
       "    <tr>\n",
       "      <th>3</th>\n",
       "      <td>1247 - 72807 Daniel Ayertey</td>\n",
       "      <td>0.877920</td>\n",
       "    </tr>\n",
       "    <tr>\n",
       "      <th>4</th>\n",
       "      <td>2092 - 61288 Sbeih company</td>\n",
       "      <td>1.059524</td>\n",
       "    </tr>\n",
       "  </tbody>\n",
       "</table>\n",
       "</div>"
      ],
      "text/plain": [
       "                      name_company  Avg extras per trip\n",
       "0      0118 - 42111 Godfrey S.Awir             1.337026\n",
       "1  0694 - 59280 Chinesco Trans Inc             0.828154\n",
       "2      1085 - 72312 N and W Cab Co             0.456330\n",
       "3      1247 - 72807 Daniel Ayertey             0.877920\n",
       "4       2092 - 61288 Sbeih company             1.059524"
      ]
     },
     "execution_count": 16,
     "metadata": {},
     "output_type": "execute_result"
    }
   ],
   "source": [
    "# (g) Extras promedio\n",
    "g = datos.groupby(\"name_company\")[\"extras\"].mean()\n",
    "g_1 = { 'name_company': g.index, 'Avg extras per trip': g.values }\n",
    "g_1 = pd.DataFrame(g_1)\n",
    "g_1.head()"
   ]
  },
  {
   "cell_type": "code",
   "execution_count": 17,
   "id": "86c8843b-0836-4379-b8dd-84c9e51b0709",
   "metadata": {},
   "outputs": [
    {
     "data": {
      "text/html": [
       "<div>\n",
       "<style scoped>\n",
       "    .dataframe tbody tr th:only-of-type {\n",
       "        vertical-align: middle;\n",
       "    }\n",
       "\n",
       "    .dataframe tbody tr th {\n",
       "        vertical-align: top;\n",
       "    }\n",
       "\n",
       "    .dataframe thead th {\n",
       "        text-align: right;\n",
       "    }\n",
       "</style>\n",
       "<table border=\"1\" class=\"dataframe\">\n",
       "  <thead>\n",
       "    <tr style=\"text-align: right;\">\n",
       "      <th></th>\n",
       "      <th>name_company</th>\n",
       "      <th>Avg duration per trip</th>\n",
       "    </tr>\n",
       "  </thead>\n",
       "  <tbody>\n",
       "    <tr>\n",
       "      <th>0</th>\n",
       "      <td>0118 - 42111 Godfrey S.Awir</td>\n",
       "      <td>878.953918</td>\n",
       "    </tr>\n",
       "    <tr>\n",
       "      <th>1</th>\n",
       "      <td>0694 - 59280 Chinesco Trans Inc</td>\n",
       "      <td>808.955873</td>\n",
       "    </tr>\n",
       "    <tr>\n",
       "      <th>2</th>\n",
       "      <td>1085 - 72312 N and W Cab Co</td>\n",
       "      <td>597.077472</td>\n",
       "    </tr>\n",
       "    <tr>\n",
       "      <th>3</th>\n",
       "      <td>1247 - 72807 Daniel Ayertey</td>\n",
       "      <td>861.247485</td>\n",
       "    </tr>\n",
       "    <tr>\n",
       "      <th>4</th>\n",
       "      <td>2092 - 61288 Sbeih company</td>\n",
       "      <td>895.875084</td>\n",
       "    </tr>\n",
       "  </tbody>\n",
       "</table>\n",
       "</div>"
      ],
      "text/plain": [
       "                      name_company  Avg duration per trip\n",
       "0      0118 - 42111 Godfrey S.Awir             878.953918\n",
       "1  0694 - 59280 Chinesco Trans Inc             808.955873\n",
       "2      1085 - 72312 N and W Cab Co             597.077472\n",
       "3      1247 - 72807 Daniel Ayertey             861.247485\n",
       "4       2092 - 61288 Sbeih company             895.875084"
      ]
     },
     "execution_count": 17,
     "metadata": {},
     "output_type": "execute_result"
    }
   ],
   "source": [
    "# (h) Duracion promedio de los viajes\n",
    "h = datos.groupby(\"name_company\")[\"trip_seconds\"].mean()\n",
    "h_1 = { 'name_company': h.index, 'Avg duration per trip': h.values }\n",
    "h_1 = pd.DataFrame(h_1)\n",
    "h_1.head()"
   ]
  },
  {
   "cell_type": "code",
   "execution_count": 18,
   "id": "d823c3db-ee0e-4807-9dac-6d8cb937e7c6",
   "metadata": {},
   "outputs": [
    {
     "data": {
      "text/html": [
       "<div>\n",
       "<style scoped>\n",
       "    .dataframe tbody tr th:only-of-type {\n",
       "        vertical-align: middle;\n",
       "    }\n",
       "\n",
       "    .dataframe tbody tr th {\n",
       "        vertical-align: top;\n",
       "    }\n",
       "\n",
       "    .dataframe thead th {\n",
       "        text-align: right;\n",
       "    }\n",
       "</style>\n",
       "<table border=\"1\" class=\"dataframe\">\n",
       "  <thead>\n",
       "    <tr style=\"text-align: right;\">\n",
       "      <th></th>\n",
       "      <th>name_company</th>\n",
       "      <th>Full trips duration</th>\n",
       "    </tr>\n",
       "  </thead>\n",
       "  <tbody>\n",
       "    <tr>\n",
       "      <th>0</th>\n",
       "      <td>0118 - 42111 Godfrey S.Awir</td>\n",
       "      <td>4520460.0</td>\n",
       "    </tr>\n",
       "    <tr>\n",
       "      <th>1</th>\n",
       "      <td>0694 - 59280 Chinesco Trans Inc</td>\n",
       "      <td>2603220.0</td>\n",
       "    </tr>\n",
       "    <tr>\n",
       "      <th>2</th>\n",
       "      <td>1085 - 72312 N and W Cab Co</td>\n",
       "      <td>2843880.0</td>\n",
       "    </tr>\n",
       "    <tr>\n",
       "      <th>3</th>\n",
       "      <td>1247 - 72807 Daniel Ayertey</td>\n",
       "      <td>2140200.0</td>\n",
       "    </tr>\n",
       "    <tr>\n",
       "      <th>4</th>\n",
       "      <td>2092 - 61288 Sbeih company</td>\n",
       "      <td>3987540.0</td>\n",
       "    </tr>\n",
       "  </tbody>\n",
       "</table>\n",
       "</div>"
      ],
      "text/plain": [
       "                      name_company  Full trips duration\n",
       "0      0118 - 42111 Godfrey S.Awir            4520460.0\n",
       "1  0694 - 59280 Chinesco Trans Inc            2603220.0\n",
       "2      1085 - 72312 N and W Cab Co            2843880.0\n",
       "3      1247 - 72807 Daniel Ayertey            2140200.0\n",
       "4       2092 - 61288 Sbeih company            3987540.0"
      ]
     },
     "execution_count": 18,
     "metadata": {},
     "output_type": "execute_result"
    }
   ],
   "source": [
    "# (i) Duracion total de los viajes\n",
    "i = datos.groupby(\"name_company\")[\"trip_seconds\"].sum()\n",
    "i_1 = { 'name_company': i.index, 'Full trips duration': i.values }\n",
    "i_1 = pd.DataFrame(i_1)\n",
    "i_1.head()"
   ]
  },
  {
   "cell_type": "code",
   "execution_count": 19,
   "id": "90562a8d-0666-45d6-86b7-9220a6681cb4",
   "metadata": {},
   "outputs": [
    {
     "data": {
      "text/html": [
       "<div>\n",
       "<style scoped>\n",
       "    .dataframe tbody tr th:only-of-type {\n",
       "        vertical-align: middle;\n",
       "    }\n",
       "\n",
       "    .dataframe tbody tr th {\n",
       "        vertical-align: top;\n",
       "    }\n",
       "\n",
       "    .dataframe thead th {\n",
       "        text-align: right;\n",
       "    }\n",
       "</style>\n",
       "<table border=\"1\" class=\"dataframe\">\n",
       "  <thead>\n",
       "    <tr style=\"text-align: right;\">\n",
       "      <th></th>\n",
       "      <th>name_company</th>\n",
       "      <th>Avg distance per trip</th>\n",
       "    </tr>\n",
       "  </thead>\n",
       "  <tbody>\n",
       "    <tr>\n",
       "      <th>0</th>\n",
       "      <td>0118 - 42111 Godfrey S.Awir</td>\n",
       "      <td>4.219728</td>\n",
       "    </tr>\n",
       "    <tr>\n",
       "      <th>1</th>\n",
       "      <td>0694 - 59280 Chinesco Trans Inc</td>\n",
       "      <td>3.017216</td>\n",
       "    </tr>\n",
       "    <tr>\n",
       "      <th>2</th>\n",
       "      <td>1085 - 72312 N and W Cab Co</td>\n",
       "      <td>2.218644</td>\n",
       "    </tr>\n",
       "    <tr>\n",
       "      <th>3</th>\n",
       "      <td>1247 - 72807 Daniel Ayertey</td>\n",
       "      <td>3.978117</td>\n",
       "    </tr>\n",
       "    <tr>\n",
       "      <th>4</th>\n",
       "      <td>2092 - 61288 Sbeih company</td>\n",
       "      <td>4.399236</td>\n",
       "    </tr>\n",
       "  </tbody>\n",
       "</table>\n",
       "</div>"
      ],
      "text/plain": [
       "                      name_company  Avg distance per trip\n",
       "0      0118 - 42111 Godfrey S.Awir               4.219728\n",
       "1  0694 - 59280 Chinesco Trans Inc               3.017216\n",
       "2      1085 - 72312 N and W Cab Co               2.218644\n",
       "3      1247 - 72807 Daniel Ayertey               3.978117\n",
       "4       2092 - 61288 Sbeih company               4.399236"
      ]
     },
     "execution_count": 19,
     "metadata": {},
     "output_type": "execute_result"
    }
   ],
   "source": [
    "# (j) Distancia promedio por viaje\n",
    "j = datos.groupby(\"name_company\")[\"trip_miles\"].mean()\n",
    "j_1 = { 'name_company': j.index, 'Avg distance per trip': j.values }\n",
    "j_1 = pd.DataFrame(j_1)\n",
    "j_1.head()"
   ]
  },
  {
   "cell_type": "code",
   "execution_count": 20,
   "id": "5f9feb27-7096-4d18-b158-6dfce5e94e0d",
   "metadata": {},
   "outputs": [
    {
     "data": {
      "text/html": [
       "<div>\n",
       "<style scoped>\n",
       "    .dataframe tbody tr th:only-of-type {\n",
       "        vertical-align: middle;\n",
       "    }\n",
       "\n",
       "    .dataframe tbody tr th {\n",
       "        vertical-align: top;\n",
       "    }\n",
       "\n",
       "    .dataframe thead th {\n",
       "        text-align: right;\n",
       "    }\n",
       "</style>\n",
       "<table border=\"1\" class=\"dataframe\">\n",
       "  <thead>\n",
       "    <tr style=\"text-align: right;\">\n",
       "      <th></th>\n",
       "      <th>name_company</th>\n",
       "      <th>Full distance</th>\n",
       "    </tr>\n",
       "  </thead>\n",
       "  <tbody>\n",
       "    <tr>\n",
       "      <th>0</th>\n",
       "      <td>0118 - 42111 Godfrey S.Awir</td>\n",
       "      <td>21710.5</td>\n",
       "    </tr>\n",
       "    <tr>\n",
       "      <th>1</th>\n",
       "      <td>0694 - 59280 Chinesco Trans Inc</td>\n",
       "      <td>9709.4</td>\n",
       "    </tr>\n",
       "    <tr>\n",
       "      <th>2</th>\n",
       "      <td>1085 - 72312 N and W Cab Co</td>\n",
       "      <td>10567.4</td>\n",
       "    </tr>\n",
       "    <tr>\n",
       "      <th>3</th>\n",
       "      <td>1247 - 72807 Daniel Ayertey</td>\n",
       "      <td>9889.6</td>\n",
       "    </tr>\n",
       "    <tr>\n",
       "      <th>4</th>\n",
       "      <td>2092 - 61288 Sbeih company</td>\n",
       "      <td>19585.4</td>\n",
       "    </tr>\n",
       "  </tbody>\n",
       "</table>\n",
       "</div>"
      ],
      "text/plain": [
       "                      name_company  Full distance\n",
       "0      0118 - 42111 Godfrey S.Awir        21710.5\n",
       "1  0694 - 59280 Chinesco Trans Inc         9709.4\n",
       "2      1085 - 72312 N and W Cab Co        10567.4\n",
       "3      1247 - 72807 Daniel Ayertey         9889.6\n",
       "4       2092 - 61288 Sbeih company        19585.4"
      ]
     },
     "execution_count": 20,
     "metadata": {},
     "output_type": "execute_result"
    }
   ],
   "source": [
    "# (k) Distancia total recorrida por sus taxis\n",
    "k = datos.groupby(\"name_company\")[\"trip_miles\"].sum()\n",
    "k_1 = { 'name_company': k.index, 'Full distance': k.values }\n",
    "k_1 = pd.DataFrame(k_1)\n",
    "k_1.head()"
   ]
  },
  {
   "cell_type": "code",
   "execution_count": 21,
   "id": "4864e704-d2cd-48dd-8dae-50c057e6f0b4",
   "metadata": {},
   "outputs": [
    {
     "data": {
      "text/html": [
       "<div>\n",
       "<style scoped>\n",
       "    .dataframe tbody tr th:only-of-type {\n",
       "        vertical-align: middle;\n",
       "    }\n",
       "\n",
       "    .dataframe tbody tr th {\n",
       "        vertical-align: top;\n",
       "    }\n",
       "\n",
       "    .dataframe thead th {\n",
       "        text-align: right;\n",
       "    }\n",
       "</style>\n",
       "<table border=\"1\" class=\"dataframe\">\n",
       "  <thead>\n",
       "    <tr style=\"text-align: right;\">\n",
       "      <th></th>\n",
       "      <th>name_company</th>\n",
       "      <th>Max distance in a trip</th>\n",
       "    </tr>\n",
       "  </thead>\n",
       "  <tbody>\n",
       "    <tr>\n",
       "      <th>0</th>\n",
       "      <td>0118 - 42111 Godfrey S.Awir</td>\n",
       "      <td>47.3</td>\n",
       "    </tr>\n",
       "    <tr>\n",
       "      <th>1</th>\n",
       "      <td>0694 - 59280 Chinesco Trans Inc</td>\n",
       "      <td>60.3</td>\n",
       "    </tr>\n",
       "    <tr>\n",
       "      <th>2</th>\n",
       "      <td>1085 - 72312 N and W Cab Co</td>\n",
       "      <td>19.3</td>\n",
       "    </tr>\n",
       "    <tr>\n",
       "      <th>3</th>\n",
       "      <td>1247 - 72807 Daniel Ayertey</td>\n",
       "      <td>35.8</td>\n",
       "    </tr>\n",
       "    <tr>\n",
       "      <th>4</th>\n",
       "      <td>2092 - 61288 Sbeih company</td>\n",
       "      <td>45.3</td>\n",
       "    </tr>\n",
       "  </tbody>\n",
       "</table>\n",
       "</div>"
      ],
      "text/plain": [
       "                      name_company  Max distance in a trip\n",
       "0      0118 - 42111 Godfrey S.Awir                    47.3\n",
       "1  0694 - 59280 Chinesco Trans Inc                    60.3\n",
       "2      1085 - 72312 N and W Cab Co                    19.3\n",
       "3      1247 - 72807 Daniel Ayertey                    35.8\n",
       "4       2092 - 61288 Sbeih company                    45.3"
      ]
     },
     "execution_count": 21,
     "metadata": {},
     "output_type": "execute_result"
    }
   ],
   "source": [
    "# (l) Distancia m´axima recorrido en un viaje\n",
    "l = datos.groupby(\"name_company\")[\"trip_miles\"].max()\n",
    "l_1 = { 'name_company': l.index, 'Max distance in a trip': l.values }\n",
    "l_1 = pd.DataFrame(l_1)\n",
    "l_1.head()"
   ]
  },
  {
   "cell_type": "code",
   "execution_count": 22,
   "id": "4e6ae5d4-5891-46f0-b7b9-3b6427781ae6",
   "metadata": {},
   "outputs": [
    {
     "data": {
      "text/html": [
       "<div>\n",
       "<style scoped>\n",
       "    .dataframe tbody tr th:only-of-type {\n",
       "        vertical-align: middle;\n",
       "    }\n",
       "\n",
       "    .dataframe tbody tr th {\n",
       "        vertical-align: top;\n",
       "    }\n",
       "\n",
       "    .dataframe thead th {\n",
       "        text-align: right;\n",
       "    }\n",
       "</style>\n",
       "<table border=\"1\" class=\"dataframe\">\n",
       "  <thead>\n",
       "    <tr style=\"text-align: right;\">\n",
       "      <th></th>\n",
       "      <th>name_company</th>\n",
       "      <th>Min distance in a trip</th>\n",
       "    </tr>\n",
       "  </thead>\n",
       "  <tbody>\n",
       "    <tr>\n",
       "      <th>0</th>\n",
       "      <td>0118 - 42111 Godfrey S.Awir</td>\n",
       "      <td>0.0</td>\n",
       "    </tr>\n",
       "    <tr>\n",
       "      <th>1</th>\n",
       "      <td>0694 - 59280 Chinesco Trans Inc</td>\n",
       "      <td>0.0</td>\n",
       "    </tr>\n",
       "    <tr>\n",
       "      <th>2</th>\n",
       "      <td>1085 - 72312 N and W Cab Co</td>\n",
       "      <td>0.0</td>\n",
       "    </tr>\n",
       "    <tr>\n",
       "      <th>3</th>\n",
       "      <td>1247 - 72807 Daniel Ayertey</td>\n",
       "      <td>0.0</td>\n",
       "    </tr>\n",
       "    <tr>\n",
       "      <th>4</th>\n",
       "      <td>2092 - 61288 Sbeih company</td>\n",
       "      <td>0.0</td>\n",
       "    </tr>\n",
       "  </tbody>\n",
       "</table>\n",
       "</div>"
      ],
      "text/plain": [
       "                      name_company  Min distance in a trip\n",
       "0      0118 - 42111 Godfrey S.Awir                     0.0\n",
       "1  0694 - 59280 Chinesco Trans Inc                     0.0\n",
       "2      1085 - 72312 N and W Cab Co                     0.0\n",
       "3      1247 - 72807 Daniel Ayertey                     0.0\n",
       "4       2092 - 61288 Sbeih company                     0.0"
      ]
     },
     "execution_count": 22,
     "metadata": {},
     "output_type": "execute_result"
    }
   ],
   "source": [
    "# (m) Distancia mınima recorrido en un viaje\n",
    "m = datos.groupby(\"name_company\")[\"trip_miles\"].min()\n",
    "m_1 = { 'name_company': m.index, 'Min distance in a trip': m.values }\n",
    "m_1 = pd.DataFrame(m_1)\n",
    "m_1.head()"
   ]
  },
  {
   "cell_type": "code",
   "execution_count": 23,
   "id": "b74ac590-3c07-451d-b16b-50fd7bc620e3",
   "metadata": {},
   "outputs": [
    {
     "data": {
      "text/html": [
       "<div>\n",
       "<style scoped>\n",
       "    .dataframe tbody tr th:only-of-type {\n",
       "        vertical-align: middle;\n",
       "    }\n",
       "\n",
       "    .dataframe tbody tr th {\n",
       "        vertical-align: top;\n",
       "    }\n",
       "\n",
       "    .dataframe thead th {\n",
       "        text-align: right;\n",
       "    }\n",
       "</style>\n",
       "<table border=\"1\" class=\"dataframe\">\n",
       "  <thead>\n",
       "    <tr style=\"text-align: right;\">\n",
       "      <th></th>\n",
       "      <th>name_company</th>\n",
       "      <th>Max time for a trip</th>\n",
       "    </tr>\n",
       "  </thead>\n",
       "  <tbody>\n",
       "    <tr>\n",
       "      <th>0</th>\n",
       "      <td>0118 - 42111 Godfrey S.Awir</td>\n",
       "      <td>5760.0</td>\n",
       "    </tr>\n",
       "    <tr>\n",
       "      <th>1</th>\n",
       "      <td>0694 - 59280 Chinesco Trans Inc</td>\n",
       "      <td>7860.0</td>\n",
       "    </tr>\n",
       "    <tr>\n",
       "      <th>2</th>\n",
       "      <td>1085 - 72312 N and W Cab Co</td>\n",
       "      <td>4440.0</td>\n",
       "    </tr>\n",
       "    <tr>\n",
       "      <th>3</th>\n",
       "      <td>1247 - 72807 Daniel Ayertey</td>\n",
       "      <td>8520.0</td>\n",
       "    </tr>\n",
       "    <tr>\n",
       "      <th>4</th>\n",
       "      <td>2092 - 61288 Sbeih company</td>\n",
       "      <td>5460.0</td>\n",
       "    </tr>\n",
       "  </tbody>\n",
       "</table>\n",
       "</div>"
      ],
      "text/plain": [
       "                      name_company  Max time for a trip\n",
       "0      0118 - 42111 Godfrey S.Awir               5760.0\n",
       "1  0694 - 59280 Chinesco Trans Inc               7860.0\n",
       "2      1085 - 72312 N and W Cab Co               4440.0\n",
       "3      1247 - 72807 Daniel Ayertey               8520.0\n",
       "4       2092 - 61288 Sbeih company               5460.0"
      ]
     },
     "execution_count": 23,
     "metadata": {},
     "output_type": "execute_result"
    }
   ],
   "source": [
    "# (n) Tiempo m´aximo recorrido en un viaje\n",
    "n = datos.groupby(\"name_company\")[\"trip_seconds\"].max()\n",
    "n_1 = { 'name_company': n.index, 'Max time for a trip': n.values }\n",
    "n_1 = pd.DataFrame(n_1)\n",
    "n_1.head()"
   ]
  },
  {
   "cell_type": "code",
   "execution_count": 24,
   "id": "ad3c2bbc-7379-440a-96ba-d6f0f94f4bff",
   "metadata": {},
   "outputs": [
    {
     "data": {
      "text/html": [
       "<div>\n",
       "<style scoped>\n",
       "    .dataframe tbody tr th:only-of-type {\n",
       "        vertical-align: middle;\n",
       "    }\n",
       "\n",
       "    .dataframe tbody tr th {\n",
       "        vertical-align: top;\n",
       "    }\n",
       "\n",
       "    .dataframe thead th {\n",
       "        text-align: right;\n",
       "    }\n",
       "</style>\n",
       "<table border=\"1\" class=\"dataframe\">\n",
       "  <thead>\n",
       "    <tr style=\"text-align: right;\">\n",
       "      <th></th>\n",
       "      <th>name_company</th>\n",
       "      <th>Min time for a trip</th>\n",
       "    </tr>\n",
       "  </thead>\n",
       "  <tbody>\n",
       "    <tr>\n",
       "      <th>0</th>\n",
       "      <td>0118 - 42111 Godfrey S.Awir</td>\n",
       "      <td>0.0</td>\n",
       "    </tr>\n",
       "    <tr>\n",
       "      <th>1</th>\n",
       "      <td>0694 - 59280 Chinesco Trans Inc</td>\n",
       "      <td>0.0</td>\n",
       "    </tr>\n",
       "    <tr>\n",
       "      <th>2</th>\n",
       "      <td>1085 - 72312 N and W Cab Co</td>\n",
       "      <td>0.0</td>\n",
       "    </tr>\n",
       "    <tr>\n",
       "      <th>3</th>\n",
       "      <td>1247 - 72807 Daniel Ayertey</td>\n",
       "      <td>0.0</td>\n",
       "    </tr>\n",
       "    <tr>\n",
       "      <th>4</th>\n",
       "      <td>2092 - 61288 Sbeih company</td>\n",
       "      <td>0.0</td>\n",
       "    </tr>\n",
       "  </tbody>\n",
       "</table>\n",
       "</div>"
      ],
      "text/plain": [
       "                      name_company  Min time for a trip\n",
       "0      0118 - 42111 Godfrey S.Awir                  0.0\n",
       "1  0694 - 59280 Chinesco Trans Inc                  0.0\n",
       "2      1085 - 72312 N and W Cab Co                  0.0\n",
       "3      1247 - 72807 Daniel Ayertey                  0.0\n",
       "4       2092 - 61288 Sbeih company                  0.0"
      ]
     },
     "execution_count": 24,
     "metadata": {},
     "output_type": "execute_result"
    }
   ],
   "source": [
    "# (o) Tiempo m´ınimo recorrido en un viaje\n",
    "o = datos.groupby(\"name_company\")[\"trip_seconds\"].min()\n",
    "o_1 = { 'name_company': o.index, 'Min time for a trip': o.values }\n",
    "o_1 = pd.DataFrame(o_1)\n",
    "o_1.head()"
   ]
  },
  {
   "cell_type": "code",
   "execution_count": 25,
   "id": "c880cc19-7c7d-4cb5-9c81-8992a4778360",
   "metadata": {},
   "outputs": [
    {
     "data": {
      "text/html": [
       "<div>\n",
       "<style scoped>\n",
       "    .dataframe tbody tr th:only-of-type {\n",
       "        vertical-align: middle;\n",
       "    }\n",
       "\n",
       "    .dataframe tbody tr th {\n",
       "        vertical-align: top;\n",
       "    }\n",
       "\n",
       "    .dataframe thead th {\n",
       "        text-align: right;\n",
       "    }\n",
       "</style>\n",
       "<table border=\"1\" class=\"dataframe\">\n",
       "  <thead>\n",
       "    <tr style=\"text-align: right;\">\n",
       "      <th></th>\n",
       "      <th>name_company</th>\n",
       "      <th>Most Frequent payment option</th>\n",
       "    </tr>\n",
       "  </thead>\n",
       "  <tbody>\n",
       "    <tr>\n",
       "      <th>0</th>\n",
       "      <td>0118 - 42111 Godfrey S.Awir</td>\n",
       "      <td>Cash</td>\n",
       "    </tr>\n",
       "    <tr>\n",
       "      <th>1</th>\n",
       "      <td>0694 - 59280 Chinesco Trans Inc</td>\n",
       "      <td>Cash</td>\n",
       "    </tr>\n",
       "    <tr>\n",
       "      <th>2</th>\n",
       "      <td>1085 - 72312 N and W Cab Co</td>\n",
       "      <td>Cash</td>\n",
       "    </tr>\n",
       "    <tr>\n",
       "      <th>3</th>\n",
       "      <td>1247 - 72807 Daniel Ayertey</td>\n",
       "      <td>Cash</td>\n",
       "    </tr>\n",
       "    <tr>\n",
       "      <th>4</th>\n",
       "      <td>2092 - 61288 Sbeih company</td>\n",
       "      <td>Cash</td>\n",
       "    </tr>\n",
       "  </tbody>\n",
       "</table>\n",
       "</div>"
      ],
      "text/plain": [
       "                      name_company Most Frequent payment option\n",
       "0      0118 - 42111 Godfrey S.Awir                         Cash\n",
       "1  0694 - 59280 Chinesco Trans Inc                         Cash\n",
       "2      1085 - 72312 N and W Cab Co                         Cash\n",
       "3      1247 - 72807 Daniel Ayertey                         Cash\n",
       "4       2092 - 61288 Sbeih company                         Cash"
      ]
     },
     "execution_count": 25,
     "metadata": {},
     "output_type": "execute_result"
    }
   ],
   "source": [
    "# (p) Tipo de pago con mayor recurrencia\n",
    "p = datos.groupby(\"name_company\")[\"payment_type\"].agg(pd.Series.mode)\n",
    "p_1 = { 'name_company': p.index, 'Most Frequent payment option': p.values }\n",
    "p_1 = pd.DataFrame(p_1)\n",
    "p_1.head()"
   ]
  },
  {
   "cell_type": "code",
   "execution_count": 26,
   "id": "96190bd2-0aa4-4686-b437-390c7a4a61bc",
   "metadata": {},
   "outputs": [
    {
     "data": {
      "text/html": [
       "<div>\n",
       "<style scoped>\n",
       "    .dataframe tbody tr th:only-of-type {\n",
       "        vertical-align: middle;\n",
       "    }\n",
       "\n",
       "    .dataframe tbody tr th {\n",
       "        vertical-align: top;\n",
       "    }\n",
       "\n",
       "    .dataframe thead th {\n",
       "        text-align: right;\n",
       "    }\n",
       "</style>\n",
       "<table border=\"1\" class=\"dataframe\">\n",
       "  <thead>\n",
       "    <tr style=\"text-align: right;\">\n",
       "      <th></th>\n",
       "      <th>name_company</th>\n",
       "      <th>Max trips Taxi</th>\n",
       "    </tr>\n",
       "  </thead>\n",
       "  <tbody>\n",
       "    <tr>\n",
       "      <th>0</th>\n",
       "      <td>0118 - 42111 Godfrey S.Awir</td>\n",
       "      <td>5145</td>\n",
       "    </tr>\n",
       "    <tr>\n",
       "      <th>1</th>\n",
       "      <td>0694 - 59280 Chinesco Trans Inc</td>\n",
       "      <td>3218</td>\n",
       "    </tr>\n",
       "    <tr>\n",
       "      <th>2</th>\n",
       "      <td>1085 - 72312 N and W Cab Co</td>\n",
       "      <td>4763</td>\n",
       "    </tr>\n",
       "    <tr>\n",
       "      <th>3</th>\n",
       "      <td>1247 - 72807 Daniel Ayertey</td>\n",
       "      <td>2486</td>\n",
       "    </tr>\n",
       "    <tr>\n",
       "      <th>4</th>\n",
       "      <td>2092 - 61288 Sbeih company</td>\n",
       "      <td>4452</td>\n",
       "    </tr>\n",
       "  </tbody>\n",
       "</table>\n",
       "</div>"
      ],
      "text/plain": [
       "                      name_company  Max trips Taxi\n",
       "0      0118 - 42111 Godfrey S.Awir            5145\n",
       "1  0694 - 59280 Chinesco Trans Inc            3218\n",
       "2      1085 - 72312 N and W Cab Co            4763\n",
       "3      1247 - 72807 Daniel Ayertey            2486\n",
       "4       2092 - 61288 Sbeih company            4452"
      ]
     },
     "execution_count": 26,
     "metadata": {},
     "output_type": "execute_result"
    }
   ],
   "source": [
    "# (q) M´aximo n´umero de viajes hechos por un mismo taxi\n",
    "q = datos.groupby([\"name_company\",\"taxi_id\"],as_index=False)[\"taxi_id\"].count()\n",
    "q_1 = { 'name_company': q[\"name_company\"], 'Avg trips per Taxi': q[\"taxi_id\"] }\n",
    "q_1 = pd.DataFrame(q_1)\n",
    "q_1 = q_1.groupby(\"name_company\")[\"Avg trips per Taxi\"].max()\n",
    "q_1\n",
    "q_2 = { 'name_company': q_1.index, 'Max trips Taxi': q_1.values }\n",
    "q_2 = pd.DataFrame(q_2)\n",
    "q_2.head()"
   ]
  },
  {
   "cell_type": "code",
   "execution_count": 27,
   "id": "9ffce350-6999-4f44-9483-638ac07cf53a",
   "metadata": {},
   "outputs": [
    {
     "data": {
      "text/html": [
       "<div>\n",
       "<style scoped>\n",
       "    .dataframe tbody tr th:only-of-type {\n",
       "        vertical-align: middle;\n",
       "    }\n",
       "\n",
       "    .dataframe tbody tr th {\n",
       "        vertical-align: top;\n",
       "    }\n",
       "\n",
       "    .dataframe thead th {\n",
       "        text-align: right;\n",
       "    }\n",
       "</style>\n",
       "<table border=\"1\" class=\"dataframe\">\n",
       "  <thead>\n",
       "    <tr style=\"text-align: right;\">\n",
       "      <th></th>\n",
       "      <th>name_company</th>\n",
       "      <th>Min trips Taxi</th>\n",
       "    </tr>\n",
       "  </thead>\n",
       "  <tbody>\n",
       "    <tr>\n",
       "      <th>0</th>\n",
       "      <td>0118 - 42111 Godfrey S.Awir</td>\n",
       "      <td>5145</td>\n",
       "    </tr>\n",
       "    <tr>\n",
       "      <th>1</th>\n",
       "      <td>0694 - 59280 Chinesco Trans Inc</td>\n",
       "      <td>3218</td>\n",
       "    </tr>\n",
       "    <tr>\n",
       "      <th>2</th>\n",
       "      <td>1085 - 72312 N and W Cab Co</td>\n",
       "      <td>4763</td>\n",
       "    </tr>\n",
       "    <tr>\n",
       "      <th>3</th>\n",
       "      <td>1247 - 72807 Daniel Ayertey</td>\n",
       "      <td>2486</td>\n",
       "    </tr>\n",
       "    <tr>\n",
       "      <th>4</th>\n",
       "      <td>2092 - 61288 Sbeih company</td>\n",
       "      <td>4452</td>\n",
       "    </tr>\n",
       "  </tbody>\n",
       "</table>\n",
       "</div>"
      ],
      "text/plain": [
       "                      name_company  Min trips Taxi\n",
       "0      0118 - 42111 Godfrey S.Awir            5145\n",
       "1  0694 - 59280 Chinesco Trans Inc            3218\n",
       "2      1085 - 72312 N and W Cab Co            4763\n",
       "3      1247 - 72807 Daniel Ayertey            2486\n",
       "4       2092 - 61288 Sbeih company            4452"
      ]
     },
     "execution_count": 27,
     "metadata": {},
     "output_type": "execute_result"
    }
   ],
   "source": [
    "# (r) Mınimo n´umero de viajes hechos por un mismo taxi\n",
    "r = datos.groupby([\"name_company\",\"taxi_id\"],as_index=False)[\"taxi_id\"].count()\n",
    "r_1 = { 'name_company': r[\"name_company\"], 'Avg trips per Taxi': r[\"taxi_id\"] }\n",
    "r_1 = pd.DataFrame(r_1)\n",
    "r_1 = r_1.groupby(\"name_company\")[\"Avg trips per Taxi\"].min()\n",
    "r_1\n",
    "r_2 = { 'name_company': r_1.index, 'Min trips Taxi': r_1.values }\n",
    "r_2 = pd.DataFrame(r_2)\n",
    "r_2.head()"
   ]
  },
  {
   "cell_type": "code",
   "execution_count": 28,
   "id": "6ad5be72-f50a-4384-9f03-8d108b9815f0",
   "metadata": {},
   "outputs": [],
   "source": [
    "# Reunir los dataframe en una sola estructura\n",
    "\n",
    "TAD = b_1.merge(c_2, on=\"name_company\")\\\n",
    "    .merge(d_1, on=\"name_company\")\\\n",
    "    .merge(e_1, on=\"name_company\")\\\n",
    "    .merge(f_1, on=\"name_company\")\\\n",
    "    .merge(g_1, on=\"name_company\")\\\n",
    "    .merge(h_1, on=\"name_company\")\\\n",
    "    .merge(i_1, on=\"name_company\")\\\n",
    "    .merge(j_1, on=\"name_company\")\\\n",
    "    .merge(k_1, on=\"name_company\")\\\n",
    "    .merge(l_1, on=\"name_company\")\\\n",
    "    .merge(m_1, on=\"name_company\")\\\n",
    "    .merge(n_1, on=\"name_company\")\\\n",
    "    .merge(o_1, on=\"name_company\")\\\n",
    "    .merge(p_1, on=\"name_company\")\\\n",
    "    .merge(q_2, on=\"name_company\")\\\n",
    "    .merge(r_2, on=\"name_company\")\n",
    "TAD.rename(columns={'name_company':'Company'}, inplace=True)\n",
    "TAD.to_csv(\"TAD_Cruz_Ramirez_Nicolas.csv\",index=False) #Esportar a csv"
   ]
  },
  {
   "cell_type": "markdown",
   "id": "f2b082a4-5823-430b-81ac-f3c6c0fdc353",
   "metadata": {},
   "source": [
    "# ELABORACION DE GRAFICAS"
   ]
  },
  {
   "cell_type": "code",
   "execution_count": 29,
   "id": "4f000145-cbcc-4cec-a025-789a8e8cacbd",
   "metadata": {},
   "outputs": [],
   "source": [
    "# Crear carpetas para guardar las graficas.\n",
    "os.mkdir(files_path + \"/Histograma\")\n",
    "os.mkdir(files_path + \"/BoxPlot\")\n",
    "os.mkdir(files_path + \"/PieChart\")\n",
    "os.mkdir(files_path + \"/Barplot\")"
   ]
  },
  {
   "cell_type": "code",
   "execution_count": 30,
   "id": "3ce3a550-d29b-4cce-9d9d-68e82f0c9f4e",
   "metadata": {},
   "outputs": [],
   "source": [
    "# SEPARA ENTRE VARIABLES CONTINUAS Y CATEGORICAS DE LA TAD\n",
    "\n",
    "columnas = TAD.columns\n",
    "df = pd.DataFrame({\"Variable\": columnas,\"Tipo\": np.zeros(len(columnas))})\n",
    "\n",
    "for k in range(0,len(columnas)):\n",
    "    df.iloc[k,1] = str(type(TAD[columnas[k]][1]))\n",
    "\n",
    "categoricas = df[ (df[\"Tipo\"] == \"<class 'str'>\")]\n",
    "continuas   = df[~(df[\"Tipo\"] == \"<class 'str'>\")]"
   ]
  },
  {
   "cell_type": "code",
   "execution_count": 31,
   "id": "d8f97c28-8e70-42f5-9298-e796b9679e4a",
   "metadata": {},
   "outputs": [
    {
     "name": "stderr",
     "output_type": "stream",
     "text": [
      "No handles with labels found to put in legend.\n"
     ]
    },
    {
     "name": "stdout",
     "output_type": "stream",
     "text": [
      "Number of TaxisCruz_Ramirez_Nicolas.png\n"
     ]
    },
    {
     "data": {
      "image/png": "[encoded data removed]",
      "text/plain": [
       "<Figure size 432x288 with 1 Axes>"
      ]
     },
     "metadata": {
      "needs_background": "light"
     },
     "output_type": "display_data"
    },
    {
     "name": "stderr",
     "output_type": "stream",
     "text": [
      "No handles with labels found to put in legend.\n"
     ]
    },
    {
     "name": "stdout",
     "output_type": "stream",
     "text": [
      "Avg trips per TaxiCruz_Ramirez_Nicolas.png\n"
     ]
    },
    {
     "data": {
      "image/png": "[encoded data removed]",
      "text/plain": [
       "<Figure size 432x288 with 1 Axes>"
      ]
     },
     "metadata": {
      "needs_background": "light"
     },
     "output_type": "display_data"
    },
    {
     "name": "stderr",
     "output_type": "stream",
     "text": [
      "No handles with labels found to put in legend.\n"
     ]
    },
    {
     "name": "stdout",
     "output_type": "stream",
     "text": [
      "Avg fare per tripCruz_Ramirez_Nicolas.png\n"
     ]
    },
    {
     "data": {
      "image/png": "[encoded data removed]",
      "text/plain": [
       "<Figure size 432x288 with 1 Axes>"
      ]
     },
     "metadata": {
      "needs_background": "light"
     },
     "output_type": "display_data"
    },
    {
     "name": "stderr",
     "output_type": "stream",
     "text": [
      "No handles with labels found to put in legend.\n"
     ]
    },
    {
     "name": "stdout",
     "output_type": "stream",
     "text": [
      "Avg tip per tripCruz_Ramirez_Nicolas.png\n"
     ]
    },
    {
     "data": {
      "image/png": "[encoded data removed]",
      "text/plain": [
       "<Figure size 432x288 with 1 Axes>"
      ]
     },
     "metadata": {
      "needs_background": "light"
     },
     "output_type": "display_data"
    },
    {
     "name": "stderr",
     "output_type": "stream",
     "text": [
      "No handles with labels found to put in legend.\n"
     ]
    },
    {
     "name": "stdout",
     "output_type": "stream",
     "text": [
      "Avg tools per tripCruz_Ramirez_Nicolas.png\n"
     ]
    },
    {
     "data": {
      "image/png": "[encoded data removed]",
      "text/plain": [
       "<Figure size 432x288 with 1 Axes>"
      ]
     },
     "metadata": {
      "needs_background": "light"
     },
     "output_type": "display_data"
    },
    {
     "name": "stderr",
     "output_type": "stream",
     "text": [
      "No handles with labels found to put in legend.\n"
     ]
    },
    {
     "name": "stdout",
     "output_type": "stream",
     "text": [
      "Avg extras per tripCruz_Ramirez_Nicolas.png\n"
     ]
    },
    {
     "data": {
      "image/png": "[encoded data removed]",
      "text/plain": [
       "<Figure size 432x288 with 1 Axes>"
      ]
     },
     "metadata": {
      "needs_background": "light"
     },
     "output_type": "display_data"
    },
    {
     "name": "stderr",
     "output_type": "stream",
     "text": [
      "No handles with labels found to put in legend.\n"
     ]
    },
    {
     "name": "stdout",
     "output_type": "stream",
     "text": [
      "Avg duration per tripCruz_Ramirez_Nicolas.png\n"
     ]
    },
    {
     "data": {
      "image/png": "[encoded data removed]",
      "text/plain": [
       "<Figure size 432x288 with 1 Axes>"
      ]
     },
     "metadata": {
      "needs_background": "light"
     },
     "output_type": "display_data"
    },
    {
     "name": "stderr",
     "output_type": "stream",
     "text": [
      "No handles with labels found to put in legend.\n"
     ]
    },
    {
     "name": "stdout",
     "output_type": "stream",
     "text": [
      "Full trips durationCruz_Ramirez_Nicolas.png\n"
     ]
    },
    {
     "data": {
      "image/png": "[encoded data removed]",
      "text/plain": [
       "<Figure size 432x288 with 1 Axes>"
      ]
     },
     "metadata": {
      "needs_background": "light"
     },
     "output_type": "display_data"
    },
    {
     "name": "stderr",
     "output_type": "stream",
     "text": [
      "No handles with labels found to put in legend.\n"
     ]
    },
    {
     "name": "stdout",
     "output_type": "stream",
     "text": [
      "Avg distance per tripCruz_Ramirez_Nicolas.png\n"
     ]
    },
    {
     "data": {
      "image/png": "[encoded data removed]",
      "text/plain": [
       "<Figure size 432x288 with 1 Axes>"
      ]
     },
     "metadata": {
      "needs_background": "light"
     },
     "output_type": "display_data"
    },
    {
     "name": "stderr",
     "output_type": "stream",
     "text": [
      "No handles with labels found to put in legend.\n"
     ]
    },
    {
     "name": "stdout",
     "output_type": "stream",
     "text": [
      "Full distanceCruz_Ramirez_Nicolas.png\n"
     ]
    },
    {
     "data": {
      "image/png": "[encoded data removed]",
      "text/plain": [
       "<Figure size 432x288 with 1 Axes>"
      ]
     },
     "metadata": {
      "needs_background": "light"
     },
     "output_type": "display_data"
    },
    {
     "name": "stderr",
     "output_type": "stream",
     "text": [
      "No handles with labels found to put in legend.\n"
     ]
    },
    {
     "name": "stdout",
     "output_type": "stream",
     "text": [
      "Max distance in a tripCruz_Ramirez_Nicolas.png\n"
     ]
    },
    {
     "data": {
      "image/png": "[encoded data removed]",
      "text/plain": [
       "<Figure size 432x288 with 1 Axes>"
      ]
     },
     "metadata": {
      "needs_background": "light"
     },
     "output_type": "display_data"
    },
    {
     "name": "stderr",
     "output_type": "stream",
     "text": [
      "No handles with labels found to put in legend.\n"
     ]
    },
    {
     "name": "stdout",
     "output_type": "stream",
     "text": [
      "Min distance in a tripCruz_Ramirez_Nicolas.png\n"
     ]
    },
    {
     "data": {
      "image/png": "[encoded data removed]",
      "text/plain": [
       "<Figure size 432x288 with 1 Axes>"
      ]
     },
     "metadata": {
      "needs_background": "light"
     },
     "output_type": "display_data"
    },
    {
     "name": "stderr",
     "output_type": "stream",
     "text": [
      "No handles with labels found to put in legend.\n"
     ]
    },
    {
     "name": "stdout",
     "output_type": "stream",
     "text": [
      "Max time for a tripCruz_Ramirez_Nicolas.png\n"
     ]
    },
    {
     "data": {
      "image/png": "[encoded data removed]",
      "text/plain": [
       "<Figure size 432x288 with 1 Axes>"
      ]
     },
     "metadata": {
      "needs_background": "light"
     },
     "output_type": "display_data"
    },
    {
     "name": "stderr",
     "output_type": "stream",
     "text": [
      "No handles with labels found to put in legend.\n"
     ]
    },
    {
     "name": "stdout",
     "output_type": "stream",
     "text": [
      "Min time for a tripCruz_Ramirez_Nicolas.png\n"
     ]
    },
    {
     "data": {
      "image/png": "[encoded data removed]",
      "text/plain": [
       "<Figure size 432x288 with 1 Axes>"
      ]
     },
     "metadata": {
      "needs_background": "light"
     },
     "output_type": "display_data"
    },
    {
     "name": "stderr",
     "output_type": "stream",
     "text": [
      "No handles with labels found to put in legend.\n"
     ]
    },
    {
     "name": "stdout",
     "output_type": "stream",
     "text": [
      "Max trips TaxiCruz_Ramirez_Nicolas.png\n"
     ]
    },
    {
     "data": {
      "image/png": "[encoded data removed]",
      "text/plain": [
       "<Figure size 432x288 with 1 Axes>"
      ]
     },
     "metadata": {
      "needs_background": "light"
     },
     "output_type": "display_data"
    },
    {
     "name": "stderr",
     "output_type": "stream",
     "text": [
      "No handles with labels found to put in legend.\n"
     ]
    },
    {
     "name": "stdout",
     "output_type": "stream",
     "text": [
      "Min trips TaxiCruz_Ramirez_Nicolas.png\n"
     ]
    },
    {
     "data": {
      "image/png": "[encoded data removed]",
      "text/plain": [
       "<Figure size 432x288 with 1 Axes>"
      ]
     },
     "metadata": {
      "needs_background": "light"
     },
     "output_type": "display_data"
    }
   ],
   "source": [
    "# VARIABLES CONTINUAS - HISTOGRAMA\n",
    "for j in range(0, len(continuas[\"Tipo\"])):\n",
    "    k = j\n",
    "    # TRANSPERENCY OF HISTOGRAM\n",
    "    fig, ax = plt.subplots()\n",
    "    ax.hist(TAD[continuas.iloc[k,0]], bins=50)\n",
    "    ax.legend()\n",
    "    ax.set_xlabel(continuas.iloc[k,0])\n",
    "    ax.set_ylabel(\"Frecuencia\")\n",
    "    ax.set_title(\"Histograma de: \" + continuas.iloc[k,0])\n",
    "    nombre = str(continuas.iloc[k,0])+\"Cruz_Ramirez_Nicolas.png\"\n",
    "    print(nombre)\n",
    "    plt.savefig(\"Histograma/\"+nombre)\n",
    "    plt.show()"
   ]
  },
  {
   "cell_type": "code",
   "execution_count": 32,
   "id": "f4629649-69b9-4bf4-8e0a-7b07f46c386f",
   "metadata": {},
   "outputs": [
    {
     "name": "stdout",
     "output_type": "stream",
     "text": [
      "Number of Taxis_Cruz_Ramirez_Nicolas.png\n"
     ]
    },
    {
     "data": {
      "image/png": "[encoded data removed]",
      "text/plain": [
       "<Figure size 432x360 with 1 Axes>"
      ]
     },
     "metadata": {
      "needs_background": "light"
     },
     "output_type": "display_data"
    },
    {
     "name": "stdout",
     "output_type": "stream",
     "text": [
      "Avg trips per Taxi_Cruz_Ramirez_Nicolas.png\n"
     ]
    },
    {
     "data": {
      "image/png": "[encoded data removed]",
      "text/plain": [
       "<Figure size 432x360 with 1 Axes>"
      ]
     },
     "metadata": {
      "needs_background": "light"
     },
     "output_type": "display_data"
    },
    {
     "name": "stdout",
     "output_type": "stream",
     "text": [
      "Avg fare per trip_Cruz_Ramirez_Nicolas.png\n"
     ]
    },
    {
     "data": {
      "image/png": "[encoded data removed]",
      "text/plain": [
       "<Figure size 432x360 with 1 Axes>"
      ]
     },
     "metadata": {
      "needs_background": "light"
     },
     "output_type": "display_data"
    },
    {
     "name": "stdout",
     "output_type": "stream",
     "text": [
      "Avg tip per trip_Cruz_Ramirez_Nicolas.png\n"
     ]
    },
    {
     "data": {
      "image/png": "[encoded data removed]",
      "text/plain": [
       "<Figure size 432x360 with 1 Axes>"
      ]
     },
     "metadata": {
      "needs_background": "light"
     },
     "output_type": "display_data"
    },
    {
     "name": "stdout",
     "output_type": "stream",
     "text": [
      "Avg tools per trip_Cruz_Ramirez_Nicolas.png\n"
     ]
    },
    {
     "data": {
      "image/png": "[encoded data removed]",
      "text/plain": [
       "<Figure size 432x360 with 1 Axes>"
      ]
     },
     "metadata": {
      "needs_background": "light"
     },
     "output_type": "display_data"
    },
    {
     "name": "stdout",
     "output_type": "stream",
     "text": [
      "Avg extras per trip_Cruz_Ramirez_Nicolas.png\n"
     ]
    },
    {
     "data": {
      "image/png": "[encoded data removed]",
      "text/plain": [
       "<Figure size 432x360 with 1 Axes>"
      ]
     },
     "metadata": {
      "needs_background": "light"
     },
     "output_type": "display_data"
    },
    {
     "name": "stdout",
     "output_type": "stream",
     "text": [
      "Avg duration per trip_Cruz_Ramirez_Nicolas.png\n"
     ]
    },
    {
     "data": {
      "image/png": "[encoded data removed]",
      "text/plain": [
       "<Figure size 432x360 with 1 Axes>"
      ]
     },
     "metadata": {
      "needs_background": "light"
     },
     "output_type": "display_data"
    },
    {
     "name": "stdout",
     "output_type": "stream",
     "text": [
      "Full trips duration_Cruz_Ramirez_Nicolas.png\n"
     ]
    },
    {
     "data": {
      "image/png": "[encoded data removed]",
      "text/plain": [
       "<Figure size 432x360 with 1 Axes>"
      ]
     },
     "metadata": {
      "needs_background": "light"
     },
     "output_type": "display_data"
    },
    {
     "name": "stdout",
     "output_type": "stream",
     "text": [
      "Avg distance per trip_Cruz_Ramirez_Nicolas.png\n"
     ]
    },
    {
     "data": {
      "image/png": "[encoded data removed]",
      "text/plain": [
       "<Figure size 432x360 with 1 Axes>"
      ]
     },
     "metadata": {
      "needs_background": "light"
     },
     "output_type": "display_data"
    },
    {
     "name": "stdout",
     "output_type": "stream",
     "text": [
      "Full distance_Cruz_Ramirez_Nicolas.png\n"
     ]
    },
    {
     "data": {
      "image/png": "[encoded data removed]",
      "text/plain": [
       "<Figure size 432x360 with 1 Axes>"
      ]
     },
     "metadata": {
      "needs_background": "light"
     },
     "output_type": "display_data"
    },
    {
     "name": "stdout",
     "output_type": "stream",
     "text": [
      "Max distance in a trip_Cruz_Ramirez_Nicolas.png\n"
     ]
    },
    {
     "data": {
      "image/png": "[encoded data removed]",
      "text/plain": [
       "<Figure size 432x360 with 1 Axes>"
      ]
     },
     "metadata": {
      "needs_background": "light"
     },
     "output_type": "display_data"
    },
    {
     "name": "stdout",
     "output_type": "stream",
     "text": [
      "Min distance in a trip_Cruz_Ramirez_Nicolas.png\n"
     ]
    },
    {
     "data": {
      "image/png": "[encoded data removed]",
      "text/plain": [
       "<Figure size 432x360 with 1 Axes>"
      ]
     },
     "metadata": {
      "needs_background": "light"
     },
     "output_type": "display_data"
    },
    {
     "name": "stdout",
     "output_type": "stream",
     "text": [
      "Max time for a trip_Cruz_Ramirez_Nicolas.png\n"
     ]
    },
    {
     "data": {
      "image/png": "[encoded data removed]",
      "text/plain": [
       "<Figure size 432x360 with 1 Axes>"
      ]
     },
     "metadata": {
      "needs_background": "light"
     },
     "output_type": "display_data"
    },
    {
     "name": "stdout",
     "output_type": "stream",
     "text": [
      "Min time for a trip_Cruz_Ramirez_Nicolas.png\n"
     ]
    },
    {
     "data": {
      "image/png": "[encoded data removed]",
      "text/plain": [
       "<Figure size 432x360 with 1 Axes>"
      ]
     },
     "metadata": {
      "needs_background": "light"
     },
     "output_type": "display_data"
    },
    {
     "name": "stdout",
     "output_type": "stream",
     "text": [
      "Max trips Taxi_Cruz_Ramirez_Nicolas.png\n"
     ]
    },
    {
     "data": {
      "image/png": "[encoded data removed]",
      "text/plain": [
       "<Figure size 432x360 with 1 Axes>"
      ]
     },
     "metadata": {
      "needs_background": "light"
     },
     "output_type": "display_data"
    },
    {
     "name": "stdout",
     "output_type": "stream",
     "text": [
      "Min trips Taxi_Cruz_Ramirez_Nicolas.png\n"
     ]
    },
    {
     "data": {
      "image/png": "[encoded data removed]",
      "text/plain": [
       "<Figure size 432x360 with 1 Axes>"
      ]
     },
     "metadata": {
      "needs_background": "light"
     },
     "output_type": "display_data"
    }
   ],
   "source": [
    "# VARIABLES CONTINUAS - GRAFICO DE CAJAS\n",
    "for j in range(0, len(continuas[\"Tipo\"])):\n",
    "    k = j\n",
    "    fig, ax = plt.subplots()\n",
    "    fig.set_size_inches(6,5)\n",
    "    ax.boxplot( [TAD[continuas.iloc[k,0]]  ] )\n",
    "    ax.set_ylabel(continuas.iloc[k,0])\n",
    "    ax.set_title(\"BoxPlot de: \" + continuas.iloc[k,0])\n",
    "    nombre = str(continuas.iloc[k,0])+\"_Cruz_Ramirez_Nicolas.png\"\n",
    "    print(nombre)\n",
    "    plt.savefig(\"BoxPlot/\"+nombre)\n",
    "    plt.show()"
   ]
  },
  {
   "cell_type": "code",
   "execution_count": 33,
   "id": "f51aea80-f1b6-4ac9-b84b-52e15560ba86",
   "metadata": {},
   "outputs": [
    {
     "name": "stdout",
     "output_type": "stream",
     "text": [
      "Most Frequent payment option_Cruz_Ramirez_Nicolas.png\n"
     ]
    },
    {
     "data": {
      "image/png": "[encoded data removed]",
      "text/plain": [
       "<Figure size 432x288 with 1 Axes>"
      ]
     },
     "metadata": {},
     "output_type": "display_data"
    }
   ],
   "source": [
    "# VARIABLES DISCRETAS - GRAFICO DE PIE\n",
    "for j in range(1, len(categoricas[\"Tipo\"])):\n",
    "\n",
    "    k = j\n",
    "    categoricas.iloc[k,0]\n",
    "\n",
    "    x = TAD.groupby(categoricas.iloc[k,0])[\"Company\"].count().sort_values(ascending=False)\n",
    "    x = 100*x/x.sum()\n",
    "    x = x.reset_index()\n",
    "\n",
    "    fig1, ax1 = plt.subplots()\n",
    "    ax1.pie(x[\"Company\"], labels=x[categoricas.iloc[k,0]], shadow=True, startangle=40)\n",
    "    ax1.axis('equal') \n",
    "    ax1.set_title(\"Gráfica de pastel de: \"+categoricas.iloc[k,0])\n",
    "    nombre = str(categoricas.iloc[k,0])+\"_Cruz_Ramirez_Nicolas.png\"\n",
    "    print(nombre)\n",
    "    plt.savefig(\"PieChart/\"+nombre)\n",
    "    plt.show()"
   ]
  },
  {
   "cell_type": "code",
   "execution_count": 34,
   "id": "3bf157b6-4787-439f-9ec4-16a47ebc5ad7",
   "metadata": {},
   "outputs": [
    {
     "name": "stdout",
     "output_type": "stream",
     "text": [
      "Most Frequent payment option_Cruz_Ramirez_Nicolas.png\n"
     ]
    },
    {
     "name": "stderr",
     "output_type": "stream",
     "text": [
      "<ipython-input-34-5d92df84f618>:9: UserWarning: FixedFormatter should only be used together with FixedLocator\n",
      "  ax.set_xticklabels(t.index, rotation=0)\n"
     ]
    },
    {
     "data": {
      "image/png": "[encoded data removed]",
      "text/plain": [
       "<Figure size 360x288 with 1 Axes>"
      ]
     },
     "metadata": {
      "needs_background": "light"
     },
     "output_type": "display_data"
    }
   ],
   "source": [
    "# VARIABLES DISCRETAS - GRAFICO DE BARRAS\n",
    "for j in range(1, len(categoricas[\"Tipo\"])):\n",
    "    k = 1\n",
    "\n",
    "    t = TAD.groupby(categoricas.iloc[k,0])[\"Company\"].count().sort_values(ascending=False)\n",
    "    fig, ax = plt.subplots()\n",
    "    fig.set_size_inches(5,4)\n",
    "    ax.bar(t.index, t.values)\n",
    "    ax.set_xticklabels(t.index, rotation=0)\n",
    "    ax.set_ylabel(\"Número de observaciones\")\n",
    "    ax1.set_title(\"Gráfica de pastel de: \"+categoricas.iloc[k,0])\n",
    "    nombre = str(categoricas.iloc[k,0])+\"_Cruz_Ramirez_Nicolas.png\"\n",
    "    print(nombre)\n",
    "    plt.savefig(\"Barplot/\"+nombre)\n",
    "    plt.show() "
   ]
  },
  {
   "cell_type": "code",
   "execution_count": null,
   "id": "3e6583dd-4b31-4b65-961f-992df500aff4",
   "metadata": {},
   "outputs": [],
   "source": []
  }
 ],
 "metadata": {
  "kernelspec": {
   "display_name": "Python 3 (ipykernel)",
   "language": "python",
   "name": "python3"
  },
  "language_info": {
   "codemirror_mode": {
    "name": "ipython",
    "version": 3
   },
   "file_extension": ".py",
   "mimetype": "text/x-python",
   "name": "python",
   "nbconvert_exporter": "python",
   "pygments_lexer": "ipython3",
   "version": "3.8.1"
  }
 },
 "nbformat": 4,
 "nbformat_minor": 5
}
