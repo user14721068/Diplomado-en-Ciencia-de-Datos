{
 "cells": [
  {
   "cell_type": "markdown",
   "metadata": {},
   "source": [
    "# Ensamble de modelos"
   ]
  },
  {
   "cell_type": "markdown",
   "metadata": {},
   "source": [
    "## Importar librerías útiles"
   ]
  },
  {
   "cell_type": "code",
   "execution_count": 2,
   "metadata": {
    "ExecuteTime": {
     "end_time": "2022-03-19T05:02:26.786377Z",
     "start_time": "2022-03-19T05:02:26.774031Z"
    }
   },
   "outputs": [],
   "source": [
    "# Librerías estándar\n",
    "import pandas as pd\n",
    "import numpy as np\n",
    "import itertools\n",
    "\n",
    "# Librerías de Ciencia de Datos\n",
    "from sklearn.model_selection import learning_curve\n",
    "from sklearn.model_selection import validation_curve\n",
    "from sklearn.model_selection import StratifiedShuffleSplit\n",
    "from sklearn.model_selection import train_test_split\n",
    "from sklearn.model_selection import StratifiedKFold\n",
    "from sklearn.metrics         import confusion_matrix\n",
    "from sklearn.metrics         import roc_curve\n",
    "from sklearn.metrics         import roc_auc_score\n",
    "from sklearn.ensemble        import RandomForestClassifier\n",
    "from sklearn.neighbors       import KNeighborsClassifier\n",
    "from sklearn.dummy           import DummyClassifier\n",
    "from sklearn.linear_model    import LogisticRegression\n",
    "from sklearn.pipeline        import Pipeline\n",
    "from sklearn.svm             import SVC\n",
    "from sklearn.tree            import DecisionTreeClassifier\n",
    "from sklearn.preprocessing   import StandardScaler\n",
    "\n",
    "# Librerías de visualización\n",
    "import seaborn as sns\n",
    "import matplotlib.pyplot as plt\n",
    "\n",
    "# Otras librerías\n",
    "import warnings\n",
    "warnings.simplefilter('ignore')\n",
    "\n",
    "plt.style.use('ggplot')\n",
    "\n",
    "%matplotlib inline"
   ]
  },
  {
   "cell_type": "code",
   "execution_count": 3,
   "metadata": {
    "ExecuteTime": {
     "end_time": "2022-03-19T05:02:26.793212Z",
     "start_time": "2022-03-19T05:02:26.790103Z"
    }
   },
   "outputs": [],
   "source": [
    "# Definir semilla para poder reproducir resultados\n",
    "SEED = 12345"
   ]
  },
  {
   "cell_type": "code",
   "execution_count": 4,
   "metadata": {
    "ExecuteTime": {
     "end_time": "2022-03-19T05:02:26.812676Z",
     "start_time": "2022-03-19T05:02:26.797538Z"
    }
   },
   "outputs": [],
   "source": [
    "# Definir funciones útiles\n",
    "def grafica_matriz_confusion(cm, classes=[0,1], normalize=False, title='Matriz de confusión\\n', cmap=plt.cm.Reds):\n",
    "    \"\"\" \n",
    "    Función para mostrar la matriz de confusión de un problema de clasificación binario. \n",
    "    El parámetro cm puede ser el objeto resultante de ejecutar la función confusion_matrix() de la librería sklearn.\n",
    "    \n",
    "    Args:\n",
    "        cm         matriz de confusión de sklearn\n",
    "        classes    categorías de la variable target\n",
    "        normalize  normaliza asignando el parámetro True\n",
    "        title      string para definir el título para la gráfica\n",
    "        cmap       mapa de colores\n",
    "    \"\"\"\n",
    "    plt.imshow(cm, interpolation='nearest', cmap=cmap)\n",
    "    plt.title(title)\n",
    "    plt.colorbar()\n",
    "    tick_marks = np.arange(len(classes))\n",
    "    plt.xticks(tick_marks, classes, rotation=0)\n",
    "    plt.yticks(tick_marks, classes)\n",
    "    if normalize:\n",
    "        cm = cm.astype('float') / cm.sum(axis=1)[:, np.newaxis]\n",
    "    thresh = cm.max()\n",
    "    text = [[\"VN =\", \"FN =\"], [\"FP =\", \"VP =\"]]\n",
    "    for i, j in itertools.product(range(cm.shape[0]), range(cm.shape[1])):\n",
    "        plt.text(j, i, \"     {}\".format(round (cm[i, j],2)), horizontalalignment=\"left\",\n",
    "                 color=\"white\" if cm[i, j] > thresh else \"black\")\n",
    "    for i, j in itertools.product(range(cm.shape[0]), range(cm.shape[1])):\n",
    "        plt.text(j, i, text[j][i] , horizontalalignment=\"center\",\n",
    "                 color=\"white\" if cm[i, j] > thresh else \"black\")\n",
    "    plt.tight_layout()\n",
    "    plt.ylabel('Valor real')\n",
    "    plt.xlabel('Predicción')\n",
    "    \n",
    "def grafica_curva_roc(fpr, tpr, title='Curva ROC', note=''):\n",
    "    \"\"\"\n",
    "    Función para graficar la curva ROC\n",
    "    Los parámetros fpr y tpr son el output de ejecutar la función roc_curve de sklearn\n",
    "    \n",
    "    Args:\n",
    "        fpr        Tasa de falsos positivos \n",
    "        tpr        Tasa de verdaderos positivos\n",
    "        title      sting para definir el título de la gráfica\n",
    "        note       Nota para mostrar en la gráfica\n",
    "    \"\"\"\n",
    "    plt.figure(1)\n",
    "    plt.plot([0, 1], [0, 1], 'k--')\n",
    "    plt.plot(fpr, tpr)\n",
    "    plt.xlabel('Tasa de falsos positivos ')\n",
    "    plt.ylabel('Tasa de verdaderos positivos')\n",
    "    plt.title(title)\n",
    "    if note: plt.text(0.6, 0.2, note)\n",
    "    plt.show()"
   ]
  },
  {
   "cell_type": "markdown",
   "metadata": {},
   "source": [
    "## Importar set de datos"
   ]
  },
  {
   "cell_type": "code",
   "execution_count": 5,
   "metadata": {
    "ExecuteTime": {
     "end_time": "2022-03-19T05:02:26.877031Z",
     "start_time": "2022-03-19T05:02:26.816077Z"
    }
   },
   "outputs": [],
   "source": [
    "from sklearn.datasets import make_moons, make_gaussian_quantiles\n",
    "from sklearn.model_selection import train_test_split\n",
    "\n",
    "X_moons, y_moons = make_moons(1000, noise=0.2, random_state=SEED)"
   ]
  },
  {
   "cell_type": "markdown",
   "metadata": {},
   "source": [
    "## Gráfica los datos"
   ]
  },
  {
   "cell_type": "code",
   "execution_count": 6,
   "metadata": {
    "ExecuteTime": {
     "end_time": "2022-03-19T05:02:27.224213Z",
     "start_time": "2022-03-19T05:02:26.880177Z"
    }
   },
   "outputs": [
    {
     "data": {
      "image/png": "[encoded data removed]",
      "text/plain": [
       "<Figure size 432x288 with 1 Axes>"
      ]
     },
     "metadata": {
      "needs_background": "light"
     },
     "output_type": "display_data"
    }
   ],
   "source": [
    "plt.scatter(X_moons[:,0], X_moons[:,1], c=y_moons)\n",
    "plt.title('Moon Data')\n",
    "plt.show()"
   ]
  },
  {
   "cell_type": "markdown",
   "metadata": {},
   "source": [
    "## Partir el set de datos en train y test"
   ]
  },
  {
   "cell_type": "code",
   "execution_count": 7,
   "metadata": {
    "ExecuteTime": {
     "end_time": "2022-03-19T05:02:27.234343Z",
     "start_time": "2022-03-19T05:02:27.227044Z"
    }
   },
   "outputs": [
    {
     "name": "stdout",
     "output_type": "stream",
     "text": [
      "X_train represents 70.00% of the data set\n",
      "X_test  represents 30.00% of the data set\n"
     ]
    }
   ],
   "source": [
    "# Partición de datos\n",
    "X_train, X_test, y_train, y_test = train_test_split(X_moons, y_moons, test_size = 0.3, random_state = SEED)\n",
    "# Comprueba que se hayan partido correctamente\n",
    "print(\"X_train represents {0:.2f}% of the data set\".format(X_train.shape[0]/X_moons.shape[0]*100))\n",
    "print(\"X_test  represents {0:.2f}% of the data set\".format(X_test.shape[0]/X_moons.shape[0]*100))"
   ]
  },
  {
   "cell_type": "markdown",
   "metadata": {},
   "source": [
    "## Entrena tres modelos de aprendizaje de máquina"
   ]
  },
  {
   "cell_type": "markdown",
   "metadata": {},
   "source": [
    "### Regresión logística con norma L2 como término regularizador\n",
    "  * 3-Fold CV estratificado\n",
    "  * utiliza un pipeline de Python para entrenar tu modelo\n",
    "  * hyper parámetro C puede tomar valores en: logspace 10^-5 to 10^5\n",
    "  * usa la métrica de efectividad\n",
    "  * usa la función de Sklearn llamada `validation_curve()`. Investiga de qué trata\n",
    "  * asigna el valor -1 a `n_jobs` para usar todos los cores del CPU disponibles para entrenar el modelo\n",
    "  * utiliza la semilla definida en la parte de arriba para poder reproducir los resultados"
   ]
  },
  {
   "cell_type": "code",
   "execution_count": 8,
   "metadata": {
    "ExecuteTime": {
     "end_time": "2022-03-19T05:02:27.240932Z",
     "start_time": "2022-03-19T05:02:27.237392Z"
    }
   },
   "outputs": [],
   "source": [
    "# Utiliza el siguiente espacio para los valores que puede tomar el hyper parámetro C\n",
    "C_values = np.logspace(-4, 6, 10, base = 10)"
   ]
  },
  {
   "cell_type": "code",
   "execution_count": 9,
   "metadata": {
    "ExecuteTime": {
     "end_time": "2022-03-19T05:02:29.814110Z",
     "start_time": "2022-03-19T05:02:27.248734Z"
    }
   },
   "outputs": [],
   "source": [
    "# 3-Fold CV\n",
    "cv_schema = StratifiedKFold(n_splits=3, random_state=SEED, shuffle = True)\n",
    "N_JOBS = -1\n",
    "\n",
    "# Define un pipeline con toda la información del modelo\n",
    "estimators = []\n",
    "estimators.append(('logit_model_l2', LogisticRegression()))\n",
    "pipeline = Pipeline(estimators)\n",
    "pipeline.set_params(logit_model_l2__penalty='l2')\n",
    "pipeline.set_params(logit_model_l2__random_state = SEED)\n",
    "pipeline.set_params(logit_model_l2__solver = 'lbfgs')\n",
    "pipeline.set_params(logit_model_l2__n_jobs = N_JOBS)\n",
    "pipeline\n",
    "\n",
    "# Utiliza la función validation_curve para entrenar y validar varios modelos (tantos como valores para el hyper parámetro C)\n",
    "train_scores, test_scores = validation_curve(pipeline, X_train, y_train, \n",
    "                                              param_name = 'logit_model_l2__C', \n",
    "                                              param_range  = C_values, \n",
    "                                              cv = cv_schema, scoring = 'accuracy', n_jobs = N_JOBS)\n"
   ]
  },
  {
   "cell_type": "code",
   "execution_count": 10,
   "metadata": {
    "ExecuteTime": {
     "end_time": "2022-03-19T05:02:30.609132Z",
     "start_time": "2022-03-19T05:02:29.820122Z"
    }
   },
   "outputs": [
    {
     "data": {
      "image/png": "[encoded data removed]",
      "text/plain": [
       "<Figure size 432x288 with 1 Axes>"
      ]
     },
     "metadata": {
      "needs_background": "light"
     },
     "output_type": "display_data"
    }
   ],
   "source": [
    "# Gráfica los resultados para todos los valores del hyper parámetro C\n",
    "# Saca el promedio de los resultados obtenidos en la parte de arriba\n",
    "train_scores_mean_cv = np.mean(train_scores, axis = 1)\n",
    "test_scores_mean_cv = np.mean(test_scores, axis = 1)\n",
    "\n",
    "# Escoge el valor de C tal que:\n",
    "# Maximice la efectividad en el test de validación\n",
    "# Minimice la diferencia entre la métrica de efectividad en el set de datos de entrenamiento y validación\n",
    "choose_index_list = list(np.array(test_scores_mean_cv) - np.abs((np.array(train_scores_mean_cv)-np.array(test_scores_mean_cv))))\n",
    "choose_index = choose_index_list.index(np.max(choose_index_list))\n",
    "\n",
    "# Guarda el valor óptimo para C\n",
    "optimum_parameter = C_values[choose_index]\n",
    "\n",
    "# Gráfica las curvas de efectividad en el set de datos de train y test\n",
    "import matplotlib.lines as mlines\n",
    "def plot_score_metric_train_test(SM_list_train, SM_list_test, param_range,choose_index, value_parameter, symbol_parameter):\n",
    "    plt.plot(param_range, SM_list_train, color = 'r')\n",
    "    plt.plot(param_range, SM_list_test, 'b')\n",
    "    plt.axvline(x = optimum_parameter, color = 'g')\n",
    "    plt.title('Trade-off entre sesgo y varianza')\n",
    "    plt.xlabel('Hyper parámetro {0}'.format(symbol_parameter))\n",
    "    plt.ylabel('Efectividad')\n",
    "    plt.ylim(0.0, 1.1)\n",
    "    plt.xscale('log')\n",
    "\n",
    "    train = mlines.Line2D([], [], color='r', marker='',\n",
    "                              markersize=15, label='Curva en train')\n",
    "    test = mlines.Line2D([], [], color='b', marker='',\n",
    "                              markersize=15, label='Curva en test')\n",
    "    opt_value = mlines.Line2D([], [], color='g', marker='',\n",
    "                              markersize=15, label='Valor óptimo: {0:.5f}'.format(value_parameter))\n",
    "    plt.legend(handles=[train, test, opt_value])\n",
    "    plt.show()\n",
    "    \n",
    "# Gráfica las curvas de performance en cada set de datos\n",
    "plot_score_metric_train_test(train_scores_mean_cv, test_scores_mean_cv, C_values,choose_index, optimum_parameter, 'C')"
   ]
  },
  {
   "cell_type": "code",
   "execution_count": 11,
   "metadata": {
    "ExecuteTime": {
     "end_time": "2022-03-19T05:02:30.616322Z",
     "start_time": "2022-03-19T05:02:30.612210Z"
    }
   },
   "outputs": [
    {
     "name": "stdout",
     "output_type": "stream",
     "text": [
      "Valor óptimo para C es: 2.78256\n"
     ]
    }
   ],
   "source": [
    "# Imprime el mejor valor para C\n",
    "print(\"Valor óptimo para C es: {0:.5f}\".format(optimum_parameter))"
   ]
  },
  {
   "cell_type": "code",
   "execution_count": 12,
   "metadata": {
    "ExecuteTime": {
     "end_time": "2022-03-19T05:02:30.626823Z",
     "start_time": "2022-03-19T05:02:30.619332Z"
    }
   },
   "outputs": [
    {
     "name": "stdout",
     "output_type": "stream",
     "text": [
      "----------------------------------------------------------------------------------------------------\n",
      "Valor de Hyper parámetro      Efectividad media en train         Efectividad media en test\n",
      "----------------------------------------------------------------------------------------------------\n",
      "0.0001                        0.510                              0.510                    \n",
      "0.0013                        0.782                              0.787                    \n",
      "0.0167                        0.826                              0.826                    \n",
      "0.2154                        0.874                              0.871                    \n",
      "2.7826                        0.891                              0.887                    \n",
      "35.9381                       0.892                              0.886                    \n",
      "464.1589                      0.892                              0.886                    \n",
      "5994.8425                     0.892                              0.886                    \n",
      "77426.3683                    0.892                              0.886                    \n",
      "1000000.0000                  0.892                              0.886                    \n",
      "----------------------------------------------------------------------------------------------------\n"
     ]
    }
   ],
   "source": [
    "# Imprime las métricas de efectividad en train y test para cada valor de C\n",
    "def print_cv_validation_scores(parameter, train_accu_mean_scores, test_accu_mean_scores): \n",
    "    dash = '-' * 100\n",
    "    print(dash)\n",
    "    print('{:<30s}{:<35s}{:<25s}'.format('Valor de Hyper parámetro','Efectividad media en train', 'Efectividad media en test'))\n",
    "    print(dash)\n",
    "    for i in range(len(parameter)):\n",
    "        print('{:<30.4f}{:<35.3f}{:<25.3f}'.format(parameter[i], train_accu_mean_scores[i], test_accu_mean_scores[i]))\n",
    "    print(dash)\n",
    "\n",
    "print_cv_validation_scores(C_values, train_scores_mean_cv, test_scores_mean_cv)"
   ]
  },
  {
   "cell_type": "code",
   "execution_count": 13,
   "metadata": {
    "ExecuteTime": {
     "end_time": "2022-03-19T05:02:30.651191Z",
     "start_time": "2022-03-19T05:02:30.630136Z"
    }
   },
   "outputs": [
    {
     "name": "stdout",
     "output_type": "stream",
     "text": [
      "Efectividad del modelo: 88.00%\n"
     ]
    }
   ],
   "source": [
    "# Entrena un modelo final con el hyper parámetro C óptimo\n",
    "pipeline.set_params(logit_model_l2__C = optimum_parameter)\n",
    "logit_model_l2 = pipeline.named_steps['logit_model_l2'] \n",
    "logit_model_l2.fit(X_train,y_train)\n",
    "accu_logit_model_l2 = logit_model_l2.score(X_test,y_test)\n",
    "print (\"Efectividad del modelo: {0:.2f}%\".format(100*accu_logit_model_l2))"
   ]
  },
  {
   "cell_type": "code",
   "execution_count": 14,
   "metadata": {
    "ExecuteTime": {
     "end_time": "2022-03-19T05:02:30.658869Z",
     "start_time": "2022-03-19T05:02:30.654570Z"
    }
   },
   "outputs": [],
   "source": [
    "# Haz una predicción\n",
    "y_pred_logit = logit_model_l2.predict(X_test)\n",
    "y_pred_proba_logit = logit_model_l2.predict_proba(X_test)"
   ]
  },
  {
   "cell_type": "code",
   "execution_count": 15,
   "metadata": {
    "ExecuteTime": {
     "end_time": "2022-03-19T05:02:30.965800Z",
     "start_time": "2022-03-19T05:02:30.661978Z"
    }
   },
   "outputs": [
    {
     "data": {
      "image/png": "[encoded data removed]",
      "text/plain": [
       "<Figure size 432x288 with 2 Axes>"
      ]
     },
     "metadata": {
      "needs_background": "light"
     },
     "output_type": "display_data"
    }
   ],
   "source": [
    "# Muestra la matriz de confusión\n",
    "matriz_confusion_logit = confusion_matrix(y_test, y_pred_logit)  \n",
    "grafica_matriz_confusion(matriz_confusion_logit)"
   ]
  },
  {
   "cell_type": "code",
   "execution_count": 16,
   "metadata": {
    "ExecuteTime": {
     "end_time": "2022-03-19T05:02:30.974134Z",
     "start_time": "2022-03-19T05:02:30.968997Z"
    }
   },
   "outputs": [
    {
     "name": "stdout",
     "output_type": "stream",
     "text": [
      "# Errores = 36\n",
      "% Erroress = 0.12\n"
     ]
    }
   ],
   "source": [
    "# Cuántos errores cometimos?\n",
    "error_logit = matriz_confusion_logit[0][1] + matriz_confusion_logit[1][0]\n",
    "print('# Errores =', error_logit)\n",
    "print('% Erroress =', error_logit/len(y_pred_logit))"
   ]
  },
  {
   "cell_type": "code",
   "execution_count": 17,
   "metadata": {
    "ExecuteTime": {
     "end_time": "2022-03-19T05:02:30.982208Z",
     "start_time": "2022-03-19T05:02:30.977003Z"
    }
   },
   "outputs": [
    {
     "name": "stdout",
     "output_type": "stream",
     "text": [
      "# Aciertos = 264\n",
      "% Efectividad = 0.88\n",
      "Otra forma de calcular la efectividad = 0.88\n"
     ]
    }
   ],
   "source": [
    "# Calcula la efectividad\n",
    "efectividad_logit = matriz_confusion_logit[0][0] + matriz_confusion_logit[1][1]\n",
    "print('# Aciertos =', efectividad_logit)\n",
    "print('% Efectividad =', efectividad_logit/len(y_pred_logit))\n",
    "print('Otra forma de calcular la efectividad =', 1-(error_logit/len(y_pred_logit)))"
   ]
  },
  {
   "cell_type": "code",
   "execution_count": 18,
   "metadata": {
    "ExecuteTime": {
     "end_time": "2022-03-19T05:02:30.990811Z",
     "start_time": "2022-03-19T05:02:30.985358Z"
    }
   },
   "outputs": [
    {
     "name": "stdout",
     "output_type": "stream",
     "text": [
      "% Recall = 0.8980891719745223\n",
      "% Precisión = 0.8757763975155279\n"
     ]
    }
   ],
   "source": [
    "# Calcula el recall y la precisión de la predicción\n",
    "recall_logit = matriz_confusion_logit[1][1]/(matriz_confusion_logit[1][1] + matriz_confusion_logit[1][0])\n",
    "precision_logit = matriz_confusion_logit[1][1]/(matriz_confusion_logit[1][1] + matriz_confusion_logit[0][1])\n",
    "print('% Recall =', recall_logit)\n",
    "print('% Precisión =', precision_logit)"
   ]
  },
  {
   "cell_type": "code",
   "execution_count": 19,
   "metadata": {
    "ExecuteTime": {
     "end_time": "2022-03-19T05:02:31.246245Z",
     "start_time": "2022-03-19T05:02:30.994409Z"
    }
   },
   "outputs": [
    {
     "data": {
      "image/png": "[encoded data removed]",
      "text/plain": [
       "<Figure size 432x288 with 1 Axes>"
      ]
     },
     "metadata": {
      "needs_background": "light"
     },
     "output_type": "display_data"
    }
   ],
   "source": [
    "# Calcula la tasa de falsos positivos y la tasa de verdaderos positivos para poder graficar la curva ROC, y para calcular la métrica ROC AUC\n",
    "fpr_logit, tpr_logit, _ = roc_curve(y_test, y_pred_logit)\n",
    "auc_logit = roc_auc_score(y_test, y_pred_logit)\n",
    "grafica_curva_roc(fpr_logit, tpr_logit, 'Curva ROC', note='ROC AUC: {0:.4f}'.format(auc_logit))"
   ]
  },
  {
   "cell_type": "markdown",
   "metadata": {},
   "source": [
    "### Clasificador KNN\n",
    "  * 3-Fold CV estratificado\n",
    "  * utiliza un pipeline de Python para entrenar tu modelo\n",
    "  * hyper parámetro K puede tomar valores en: [1,10]\n",
    "  * usa la métrica de efectividad\n",
    "  * usa la función de Sklearn llamada `validation_curve()`. Investiga de qué trata\n",
    "  * asigna el valor -1 a `n_jobs` para usar todos los cores del CPU disponibles para entrenar el modelo\n",
    "  * utiliza la semilla definida en la parte de arriba para poder reproducir los resultados"
   ]
  },
  {
   "cell_type": "code",
   "execution_count": 20,
   "metadata": {
    "ExecuteTime": {
     "end_time": "2022-03-19T05:02:31.253585Z",
     "start_time": "2022-03-19T05:02:31.249491Z"
    }
   },
   "outputs": [],
   "source": [
    "# Utiliza el siguiente espacio para los valores que puede tomar el hyper parámetro K\n",
    "K_values  = np.array([int(i) for i in np.linspace(1, 15,15)])"
   ]
  },
  {
   "cell_type": "code",
   "execution_count": 21,
   "metadata": {
    "ExecuteTime": {
     "end_time": "2022-03-19T05:02:32.161820Z",
     "start_time": "2022-03-19T05:02:31.256720Z"
    }
   },
   "outputs": [],
   "source": [
    "# Utiliza un clasificador KNN\n",
    "N_JOBS = -1\n",
    "model     = KNeighborsClassifier(n_jobs = N_JOBS)\n",
    "cv_schema = StratifiedKFold(n_splits=3, random_state=SEED, shuffle=True)\n",
    "\n",
    "# Define un pipeline con toda la información del modelo\n",
    "estimators = []\n",
    "estimators.append(('knn', model))\n",
    "pipeline = Pipeline(estimators) \n",
    "pipeline.set_params(knn__n_jobs = N_JOBS)\n",
    "pipeline\n",
    "\n",
    "# Utiliza la función validation_curve para entrenar y validar varios modelos (tantos como valores para el hyper parámetro K)\n",
    "\n",
    "train_scores, test_scores = validation_curve(pipeline, X_train, y_train, \n",
    "                                              param_name = 'knn__n_neighbors', \n",
    "                                              param_range  = K_values, \n",
    "                                              cv = cv_schema, scoring = 'accuracy', n_jobs = N_JOBS)"
   ]
  },
  {
   "cell_type": "code",
   "execution_count": 22,
   "metadata": {
    "ExecuteTime": {
     "end_time": "2022-03-19T05:02:32.686242Z",
     "start_time": "2022-03-19T05:02:32.165036Z"
    }
   },
   "outputs": [
    {
     "data": {
      "image/png": "[encoded data removed]",
      "text/plain": [
       "<Figure size 432x288 with 1 Axes>"
      ]
     },
     "metadata": {
      "needs_background": "light"
     },
     "output_type": "display_data"
    }
   ],
   "source": [
    "# Gráfica los resultados para todos los valores del hyper parámetro K\n",
    "# Saca el promedio de los resultados obtenidos en la parte de arriba\n",
    "train_scores_mean_cv = np.mean(train_scores, axis = 1)\n",
    "test_scores_mean_cv = np.mean(test_scores, axis = 1)\n",
    "\n",
    "# Escoge el valor de K tal que:\n",
    "# Maximice la efectividad en el test de validación\n",
    "# Minimice la diferencia entre la métrica de efectividad en el set de datos de entrenamiento y validación\n",
    "choose_index_list = list(np.array(test_scores_mean_cv) - np.abs((np.array(train_scores_mean_cv)-np.array(test_scores_mean_cv))))\n",
    "choose_index = choose_index_list.index(np.max(choose_index_list))\n",
    "\n",
    "# Guarda el valor óptimo para K\n",
    "optimum_parameter = K_values[choose_index]\n",
    "\n",
    "# Gráfica las curvas de efectividad en el set de datos de train y test\n",
    "import matplotlib.lines as mlines\n",
    "def plot_score_metric_train_test(SM_list_train, SM_list_test,choose_index, value_parameter, symbol_parameter):\n",
    "    plt.plot(SM_list_train, color = 'r')\n",
    "    plt.plot(SM_list_test, 'b')\n",
    "    plt.axvline(x = optimum_parameter, color = 'g')\n",
    "    plt.title('Trade-off entre sesgo y varianza')\n",
    "    plt.xlabel('Hyper parámetro {0}'.format(symbol_parameter))\n",
    "    plt.ylabel('Efectividad')\n",
    "    plt.ylim(0.0, 1.1)\n",
    "    plt.xscale('log')\n",
    "\n",
    "    train = mlines.Line2D([], [], color='r', marker='',\n",
    "                              markersize=15, label='Curva en train')\n",
    "    test = mlines.Line2D([], [], color='b', marker='',\n",
    "                              markersize=15, label='Curva en test')\n",
    "    opt_value = mlines.Line2D([], [], color='g', marker='',\n",
    "                              markersize=15, label='Valor óptimo: {0:.5f}'.format(value_parameter))\n",
    "    plt.legend(handles=[train, test, opt_value])\n",
    "    plt.show()\n",
    "    \n",
    "# Gráfica las curvas de performance en cada set de datos\n",
    "plot_score_metric_train_test(train_scores_mean_cv,test_scores_mean_cv, K_values, choose_index, 'K')"
   ]
  },
  {
   "cell_type": "code",
   "execution_count": 23,
   "metadata": {
    "ExecuteTime": {
     "end_time": "2022-03-19T05:02:32.693383Z",
     "start_time": "2022-03-19T05:02:32.689046Z"
    }
   },
   "outputs": [
    {
     "name": "stdout",
     "output_type": "stream",
     "text": [
      "Valor óptimo para K es: 15.00000\n"
     ]
    }
   ],
   "source": [
    "# Imprime el mejor valor para C\n",
    "print(\"Valor óptimo para K es: {0:.5f}\".format(optimum_parameter))"
   ]
  },
  {
   "cell_type": "code",
   "execution_count": 24,
   "metadata": {
    "ExecuteTime": {
     "end_time": "2022-03-19T05:02:32.709987Z",
     "start_time": "2022-03-19T05:02:32.705430Z"
    }
   },
   "outputs": [
    {
     "name": "stdout",
     "output_type": "stream",
     "text": [
      "----------------------------------------------------------------------------------------------------\n",
      "Valor de Hyper parámetro      Efectividad media en train         Efectividad media en test\n",
      "----------------------------------------------------------------------------------------------------\n",
      "1.0000                        1.000                              0.949                    \n",
      "2.0000                        0.974                              0.953                    \n",
      "3.0000                        0.974                              0.949                    \n",
      "4.0000                        0.973                              0.954                    \n",
      "5.0000                        0.973                              0.954                    \n",
      "6.0000                        0.973                              0.954                    \n",
      "7.0000                        0.971                              0.956                    \n",
      "8.0000                        0.973                              0.956                    \n",
      "9.0000                        0.972                              0.960                    \n",
      "10.0000                       0.974                              0.960                    \n",
      "11.0000                       0.974                              0.963                    \n",
      "12.0000                       0.974                              0.964                    \n",
      "13.0000                       0.973                              0.964                    \n",
      "14.0000                       0.972                              0.963                    \n",
      "15.0000                       0.971                              0.964                    \n",
      "----------------------------------------------------------------------------------------------------\n"
     ]
    }
   ],
   "source": [
    "# Imprime las métricas de efectividad en train y test para cada valor de K\n",
    "print_cv_validation_scores(K_values, train_scores_mean_cv, test_scores_mean_cv)"
   ]
  },
  {
   "cell_type": "code",
   "execution_count": 25,
   "metadata": {
    "ExecuteTime": {
     "end_time": "2022-03-19T05:02:32.849815Z",
     "start_time": "2022-03-19T05:02:32.716906Z"
    }
   },
   "outputs": [
    {
     "name": "stdout",
     "output_type": "stream",
     "text": [
      "Efectividad del modelo: 96.33%\n"
     ]
    }
   ],
   "source": [
    "# Entrena un modelo final con el hyper parámetro K óptimo\n",
    "pipeline.set_params(knn__n_neighbors = optimum_parameter)\n",
    "knn = pipeline.named_steps['knn'] \n",
    "knn.fit(X_train,y_train)\n",
    "accu_knn = knn.score(X_test,y_test)\n",
    "print (\"Efectividad del modelo: {0:.2f}%\".format(100*accu_knn))"
   ]
  },
  {
   "cell_type": "code",
   "execution_count": 26,
   "metadata": {
    "ExecuteTime": {
     "end_time": "2022-03-19T05:02:33.085932Z",
     "start_time": "2022-03-19T05:02:32.853329Z"
    }
   },
   "outputs": [],
   "source": [
    "# Haz una predicción\n",
    "y_pred_knn = knn.predict(X_test)\n",
    "y_pred_proba_knn = knn.predict_proba(X_test)"
   ]
  },
  {
   "cell_type": "code",
   "execution_count": 27,
   "metadata": {
    "ExecuteTime": {
     "end_time": "2022-03-19T05:02:33.380920Z",
     "start_time": "2022-03-19T05:02:33.089528Z"
    }
   },
   "outputs": [
    {
     "data": {
      "image/png": "[encoded data removed]",
      "text/plain": [
       "<Figure size 432x288 with 2 Axes>"
      ]
     },
     "metadata": {
      "needs_background": "light"
     },
     "output_type": "display_data"
    }
   ],
   "source": [
    "# Muestra la matriz de confusión\n",
    "matriz_confusion_knn = confusion_matrix(y_test, y_pred_knn)  \n",
    "grafica_matriz_confusion(matriz_confusion_knn)"
   ]
  },
  {
   "cell_type": "code",
   "execution_count": 28,
   "metadata": {
    "ExecuteTime": {
     "end_time": "2022-03-19T05:02:33.389316Z",
     "start_time": "2022-03-19T05:02:33.384157Z"
    }
   },
   "outputs": [
    {
     "name": "stdout",
     "output_type": "stream",
     "text": [
      "# Errores = 11\n",
      "% Erroress = 0.03666666666666667\n"
     ]
    }
   ],
   "source": [
    "# Cuántos errores cometimos?\n",
    "error_knn = matriz_confusion_knn[0][1] + matriz_confusion_knn[1][0]\n",
    "print('# Errores =', error_knn)\n",
    "print('% Erroress =', error_knn/len(y_pred_knn))"
   ]
  },
  {
   "cell_type": "code",
   "execution_count": 29,
   "metadata": {
    "ExecuteTime": {
     "end_time": "2022-03-19T05:02:33.398114Z",
     "start_time": "2022-03-19T05:02:33.392286Z"
    }
   },
   "outputs": [
    {
     "name": "stdout",
     "output_type": "stream",
     "text": [
      "# Aciertos = 289\n",
      "% Efectividad = 0.9633333333333334\n",
      "Otra forma de calcular la efectividad = 0.9633333333333334\n"
     ]
    }
   ],
   "source": [
    "# Calcula la efectividad\n",
    "efectividad_knn = matriz_confusion_knn[0][0] + matriz_confusion_knn[1][1]\n",
    "print('# Aciertos =', efectividad_knn)\n",
    "print('% Efectividad =', efectividad_knn/len(y_pred_knn))\n",
    "print('Otra forma de calcular la efectividad =', 1-(error_knn/len(y_pred_knn)))"
   ]
  },
  {
   "cell_type": "code",
   "execution_count": 30,
   "metadata": {
    "ExecuteTime": {
     "end_time": "2022-03-19T05:02:33.407022Z",
     "start_time": "2022-03-19T05:02:33.401354Z"
    }
   },
   "outputs": [
    {
     "name": "stdout",
     "output_type": "stream",
     "text": [
      "% Recall = 0.9490445859872612\n",
      "% Precisión = 0.9802631578947368\n"
     ]
    }
   ],
   "source": [
    "# Calcula el recall y la precisión de la predicción\n",
    "recall_knn = matriz_confusion_knn[1][1]/(matriz_confusion_knn[1][1] + matriz_confusion_knn[1][0])\n",
    "precision_knn = matriz_confusion_knn[1][1]/(matriz_confusion_knn[1][1] + matriz_confusion_knn[0][1])\n",
    "print('% Recall =', recall_knn)\n",
    "print('% Precisión =', precision_knn)"
   ]
  },
  {
   "cell_type": "code",
   "execution_count": 31,
   "metadata": {
    "ExecuteTime": {
     "end_time": "2022-03-19T05:02:33.646457Z",
     "start_time": "2022-03-19T05:02:33.410199Z"
    }
   },
   "outputs": [
    {
     "data": {
      "image/png": "[encoded data removed]",
      "text/plain": [
       "<Figure size 432x288 with 1 Axes>"
      ]
     },
     "metadata": {
      "needs_background": "light"
     },
     "output_type": "display_data"
    }
   ],
   "source": [
    "# Calcula la tasa de falsos positivos y la tasa de verdaderos positivos para poder graficar la curva ROC, y para calcular la métrica ROC AUC\n",
    "fpr_knn, tpr_knn, _ = roc_curve(y_test, y_pred_knn)\n",
    "auc_knn = roc_auc_score(y_test, y_pred_knn)\n",
    "grafica_curva_roc(fpr_knn, tpr_knn, 'Curva ROC', note='ROC AUC: {0:.4f}'.format(auc_knn))"
   ]
  },
  {
   "cell_type": "markdown",
   "metadata": {},
   "source": [
    "### Modelo Árbol de decisión\n",
    "  * 3-Fold CV estratificado\n",
    "  * utiliza un pipeline de Python para entrenar tu modelo\n",
    "  * hyper parámetro max_depth puede tomar valores en: linspace(1,10,10)\n",
    "  * usa la métrica de efectividad\n",
    "  * usa la función de Sklearn llamada `validation_curve()`. Investiga de qué trata\n",
    "  * utiliza la semilla definida en la parte de arriba para poder reproducir los resultados"
   ]
  },
  {
   "cell_type": "code",
   "execution_count": 32,
   "metadata": {
    "ExecuteTime": {
     "end_time": "2022-03-19T05:02:33.653107Z",
     "start_time": "2022-03-19T05:02:33.649665Z"
    }
   },
   "outputs": [],
   "source": [
    "# Utiliza el siguiente espacio para los valores que puede tomar el hyper parámetro C\n",
    "max_depth = np.linspace(1,10,10)"
   ]
  },
  {
   "cell_type": "code",
   "execution_count": 33,
   "metadata": {
    "ExecuteTime": {
     "end_time": "2022-03-19T05:02:33.864139Z",
     "start_time": "2022-03-19T05:02:33.656288Z"
    }
   },
   "outputs": [],
   "source": [
    "# 3-Fold CV\n",
    "cv_schema = StratifiedKFold(n_splits=3, random_state=SEED, shuffle=True)\n",
    "\n",
    "# Define un pipeline con toda la información del modelo\n",
    "estimators = []\n",
    "estimators.append(('tree', DecisionTreeClassifier()))\n",
    "pipeline = Pipeline(estimators) \n",
    "pipeline.set_params(tree__criterion='gini')\n",
    "pipeline.set_params(tree__random_state = SEED)\n",
    "pipeline.set_params(tree__splitter='best')\n",
    "pipeline\n",
    "\n",
    "# Utiliza la función validation_curve para entrenar y validar varios modelos (tantos como valores para el hyper parámetro C)\n",
    "train_scores, test_scores = validation_curve(pipeline, X_train, y_train, \n",
    "                                              param_name = 'tree__max_depth', \n",
    "                                              param_range  = max_depth, \n",
    "                                              cv = cv_schema, scoring = 'accuracy')\n"
   ]
  },
  {
   "cell_type": "code",
   "execution_count": 34,
   "metadata": {
    "ExecuteTime": {
     "end_time": "2022-03-19T05:02:34.387116Z",
     "start_time": "2022-03-19T05:02:33.867593Z"
    }
   },
   "outputs": [
    {
     "data": {
      "image/png": "[encoded data removed]",
      "text/plain": [
       "<Figure size 432x288 with 1 Axes>"
      ]
     },
     "metadata": {
      "needs_background": "light"
     },
     "output_type": "display_data"
    }
   ],
   "source": [
    "# Gráfica los resultados para todos los valores del hyper parámetro max_depth\n",
    "# Saca el promedio de los resultados obtenidos en la parte de arriba\n",
    "train_scores_mean_cv = np.mean(train_scores, axis = 1)\n",
    "test_scores_mean_cv = np.mean(test_scores, axis = 1)\n",
    "\n",
    "# Escoge el valor de max_depth tal que:\n",
    "# Maximice la efectividad en el test de validación\n",
    "# Minimice la diferencia entre la métrica de efectividad en el set de datos de entrenamiento y validación\n",
    "choose_index_list = list(np.array(test_scores_mean_cv) - np.abs((np.array(train_scores_mean_cv)-np.array(test_scores_mean_cv))))\n",
    "choose_index = choose_index_list.index(np.max(choose_index_list))\n",
    "\n",
    "# Guarda el valor óptimo para max_depth\n",
    "optimum_parameter = max_depth[choose_index]\n",
    "\n",
    "# Gráfica las curvas de efectividad en el set de datos de train y test\n",
    "import matplotlib.lines as mlines\n",
    "def plot_score_metric_train_test(SM_list_train, SM_list_test, param_range,choose_index, value_parameter, symbol_parameter):\n",
    "    plt.plot(param_range, SM_list_train, color = 'r')\n",
    "    plt.plot(param_range, SM_list_test, 'b')\n",
    "    plt.axvline(x = optimum_parameter, color = 'g')\n",
    "    plt.title('Trade-off entre sesgo y varianza')\n",
    "    plt.xlabel('Hyper parámetro {0}'.format(symbol_parameter))\n",
    "    plt.ylabel('Efectividad')\n",
    "    plt.ylim(0.0, 1.1)\n",
    "    plt.xscale('log')\n",
    "\n",
    "    train = mlines.Line2D([], [], color='r', marker='',\n",
    "                              markersize=15, label='Curva en train')\n",
    "    test = mlines.Line2D([], [], color='b', marker='',\n",
    "                              markersize=15, label='Curva en test')\n",
    "    opt_value = mlines.Line2D([], [], color='g', marker='',\n",
    "                              markersize=15, label='Valor óptimo: {0:.5f}'.format(value_parameter))\n",
    "    plt.legend(handles=[train, test, opt_value])\n",
    "    plt.show()\n",
    "    \n",
    "# Gráfica las curvas de performance en cada set de datos\n",
    "plot_score_metric_train_test(train_scores_mean_cv, test_scores_mean_cv, max_depth,choose_index, optimum_parameter, 'max depth')"
   ]
  },
  {
   "cell_type": "code",
   "execution_count": 35,
   "metadata": {
    "ExecuteTime": {
     "end_time": "2022-03-19T05:02:34.394630Z",
     "start_time": "2022-03-19T05:02:34.390404Z"
    }
   },
   "outputs": [
    {
     "name": "stdout",
     "output_type": "stream",
     "text": [
      "Valor óptimo para max_depth es: 5.00000\n"
     ]
    }
   ],
   "source": [
    "# Imprime el mejor valor para max_depth\n",
    "print(\"Valor óptimo para max_depth es: {0:.5f}\".format(optimum_parameter))"
   ]
  },
  {
   "cell_type": "code",
   "execution_count": 36,
   "metadata": {
    "ExecuteTime": {
     "end_time": "2022-03-19T05:02:34.404762Z",
     "start_time": "2022-03-19T05:02:34.397905Z"
    }
   },
   "outputs": [
    {
     "name": "stdout",
     "output_type": "stream",
     "text": [
      "----------------------------------------------------------------------------------------------------\n",
      "Valor de Hyper parámetro      Efectividad media en train         Efectividad media en test\n",
      "----------------------------------------------------------------------------------------------------\n",
      "1.0000                        0.846                              0.814                    \n",
      "2.0000                        0.934                              0.911                    \n",
      "3.0000                        0.934                              0.911                    \n",
      "4.0000                        0.936                              0.911                    \n",
      "5.0000                        0.982                              0.957                    \n",
      "6.0000                        0.986                              0.954                    \n",
      "7.0000                        0.991                              0.949                    \n",
      "8.0000                        0.996                              0.949                    \n",
      "9.0000                        0.997                              0.950                    \n",
      "10.0000                       0.999                              0.946                    \n",
      "----------------------------------------------------------------------------------------------------\n"
     ]
    }
   ],
   "source": [
    "# Imprime las métricas de efectividad en train y test para cada valor de max_depth\n",
    "def print_cv_validation_scores(parameter, train_accu_mean_scores, test_accu_mean_scores): \n",
    "    dash = '-' * 100\n",
    "    print(dash)\n",
    "    print('{:<30s}{:<35s}{:<25s}'.format('Valor de Hyper parámetro','Efectividad media en train', 'Efectividad media en test'))\n",
    "    print(dash)\n",
    "    for i in range(len(parameter)):\n",
    "        print('{:<30.4f}{:<35.3f}{:<25.3f}'.format(parameter[i], train_accu_mean_scores[i], test_accu_mean_scores[i]))\n",
    "    print(dash)\n",
    "\n",
    "print_cv_validation_scores(max_depth, train_scores_mean_cv, test_scores_mean_cv)"
   ]
  },
  {
   "cell_type": "code",
   "execution_count": 37,
   "metadata": {
    "ExecuteTime": {
     "end_time": "2022-03-19T05:02:34.418637Z",
     "start_time": "2022-03-19T05:02:34.407717Z"
    }
   },
   "outputs": [
    {
     "name": "stdout",
     "output_type": "stream",
     "text": [
      "Efectividad del modelo: 94.33%\n"
     ]
    }
   ],
   "source": [
    "# Entrena un modelo final con el hyper parámetro C óptimo\n",
    "pipeline.set_params(tree__max_depth = optimum_parameter)\n",
    "tree = pipeline.named_steps['tree'] \n",
    "tree.fit(X_train,y_train)\n",
    "accu_tree = tree.score(X_test,y_test)\n",
    "print (\"Efectividad del modelo: {0:.2f}%\".format(100*accu_tree))"
   ]
  },
  {
   "cell_type": "code",
   "execution_count": 38,
   "metadata": {
    "ExecuteTime": {
     "end_time": "2022-03-19T05:02:34.425974Z",
     "start_time": "2022-03-19T05:02:34.421682Z"
    }
   },
   "outputs": [],
   "source": [
    "# Haz una predicción\n",
    "y_pred_tree = tree.predict(X_test)\n",
    "y_pred_proba_tree = tree.predict_proba(X_test)"
   ]
  },
  {
   "cell_type": "code",
   "execution_count": 39,
   "metadata": {
    "ExecuteTime": {
     "end_time": "2022-03-19T05:02:34.728905Z",
     "start_time": "2022-03-19T05:02:34.429796Z"
    }
   },
   "outputs": [
    {
     "data": {
      "image/png": "[encoded data removed]",
      "text/plain": [
       "<Figure size 432x288 with 2 Axes>"
      ]
     },
     "metadata": {
      "needs_background": "light"
     },
     "output_type": "display_data"
    }
   ],
   "source": [
    "# Muestra la matriz de confusión\n",
    "matriz_confusion_tree = confusion_matrix(y_test, y_pred_tree)  \n",
    "grafica_matriz_confusion(matriz_confusion_tree)"
   ]
  },
  {
   "cell_type": "code",
   "execution_count": 40,
   "metadata": {
    "ExecuteTime": {
     "end_time": "2022-03-19T05:02:34.736699Z",
     "start_time": "2022-03-19T05:02:34.731723Z"
    }
   },
   "outputs": [
    {
     "name": "stdout",
     "output_type": "stream",
     "text": [
      "# Errores = 17\n",
      "% Erroress = 0.056666666666666664\n"
     ]
    }
   ],
   "source": [
    "# Cuántos errores cometimos?\n",
    "error_tree = matriz_confusion_tree[0][1] + matriz_confusion_tree[1][0]\n",
    "print('# Errores =', error_tree)\n",
    "print('% Erroress =', error_tree/len(y_pred_tree))"
   ]
  },
  {
   "cell_type": "code",
   "execution_count": 41,
   "metadata": {
    "ExecuteTime": {
     "end_time": "2022-03-19T05:02:34.745346Z",
     "start_time": "2022-03-19T05:02:34.739534Z"
    }
   },
   "outputs": [
    {
     "name": "stdout",
     "output_type": "stream",
     "text": [
      "# Aciertos = 283\n",
      "% Efectividad = 0.9433333333333334\n",
      "Otra forma de calcular la efectividad = 0.9433333333333334\n"
     ]
    }
   ],
   "source": [
    "# Calcula la efectividad\n",
    "efectividad_tree = matriz_confusion_tree[0][0] + matriz_confusion_tree[1][1]\n",
    "print('# Aciertos =', efectividad_tree)\n",
    "print('% Efectividad =', efectividad_tree/len(y_pred_tree))\n",
    "print('Otra forma de calcular la efectividad =', 1-(error_tree/len(y_pred_tree)))"
   ]
  },
  {
   "cell_type": "code",
   "execution_count": 42,
   "metadata": {
    "ExecuteTime": {
     "end_time": "2022-03-19T05:02:34.754104Z",
     "start_time": "2022-03-19T05:02:34.748587Z"
    }
   },
   "outputs": [
    {
     "name": "stdout",
     "output_type": "stream",
     "text": [
      "% Recall = 0.9235668789808917\n",
      "% Precisión = 0.9666666666666667\n"
     ]
    }
   ],
   "source": [
    "# Calcula el recall y la precisión de la predicción\n",
    "recall_tree = matriz_confusion_tree[1][1]/(matriz_confusion_tree[1][1] + matriz_confusion_tree[1][0])\n",
    "precision_tree = matriz_confusion_tree[1][1]/(matriz_confusion_tree[1][1] + matriz_confusion_tree[0][1])\n",
    "print('% Recall =', recall_tree)\n",
    "print('% Precisión =', precision_tree)"
   ]
  },
  {
   "cell_type": "code",
   "execution_count": 43,
   "metadata": {
    "ExecuteTime": {
     "end_time": "2022-03-19T05:02:34.983349Z",
     "start_time": "2022-03-19T05:02:34.756870Z"
    }
   },
   "outputs": [
    {
     "data": {
      "image/png": "[encoded data removed]",
      "text/plain": [
       "<Figure size 432x288 with 1 Axes>"
      ]
     },
     "metadata": {
      "needs_background": "light"
     },
     "output_type": "display_data"
    }
   ],
   "source": [
    "# Calcula la tasa de falsos positivos y la tasa de verdaderos positivos para poder graficar la curva ROC, y para calcular la métrica ROC AUC\n",
    "fpr_tree, tpr_tree, _ = roc_curve(y_test, y_pred_tree)\n",
    "auc_tree = roc_auc_score(y_test, y_pred_tree)\n",
    "grafica_curva_roc(fpr_tree, tpr_tree, 'Curva ROC', note='ROC AUC: {0:.4f}'.format(auc_tree))"
   ]
  },
  {
   "cell_type": "markdown",
   "metadata": {},
   "source": [
    "## Compara los modelos"
   ]
  },
  {
   "cell_type": "code",
   "execution_count": 44,
   "metadata": {
    "ExecuteTime": {
     "end_time": "2022-03-19T05:02:34.991364Z",
     "start_time": "2022-03-19T05:02:34.986510Z"
    }
   },
   "outputs": [],
   "source": [
    "classifiers = ['logit_model_l2', 'knn', 'tree']\n",
    "accuracy = [efectividad_logit/len(y_pred_logit), efectividad_knn/len(y_pred_knn), efectividad_tree/len(y_pred_tree)]\n",
    "roc_auc = [auc_logit, auc_knn, auc_tree]\n",
    "recall = [recall_logit, recall_knn, recall_tree]\n",
    "precision = [precision_logit, precision_knn, precision_tree]"
   ]
  },
  {
   "cell_type": "code",
   "execution_count": 45,
   "metadata": {
    "ExecuteTime": {
     "end_time": "2022-03-19T05:02:35.001854Z",
     "start_time": "2022-03-19T05:02:34.994659Z"
    }
   },
   "outputs": [
    {
     "name": "stdout",
     "output_type": "stream",
     "text": [
      "--------------------------------------------------------------------------------\n",
      "Clasificador        Efectividad    ROC AUC        recall         precision      \n",
      "--------------------------------------------------------------------------------\n",
      "logit_model_l2      0.880          0.879          0.898          0.876          \n",
      "knn                 0.963          0.964          0.949          0.980          \n",
      "tree                0.943          0.944          0.924          0.967          \n",
      "--------------------------------------------------------------------------------\n"
     ]
    }
   ],
   "source": [
    "## Compara las métricas de los modelos anteriores\n",
    "def print_metrics(classifier_name, metric_1_list, metric_2_list, metric_3_list, metric_4_list): \n",
    "    dash = '-' * 80\n",
    "    print(dash)\n",
    "    print('{:<20s}{:<15s}{:<15s}{:<15s}{:<15s}'.format('Clasificador','Efectividad', 'ROC AUC', 'recall', 'precision'))\n",
    "    print(dash)\n",
    "    for i in range(len(classifier_name)):\n",
    "        print('{:<20s}{:<15.3f}{:<15.3f}{:<15.3f}{:<15.3f}'.format(classifier_name[i], metric_1_list[i], metric_2_list[i], metric_3_list[i], metric_4_list[i]))\n",
    "    print(dash)\n",
    "    \n",
    "print_metrics(classifiers, accuracy, roc_auc, recall, precision)"
   ]
  },
  {
   "cell_type": "markdown",
   "metadata": {},
   "source": [
    "## Entrena un ensamble de modelos"
   ]
  },
  {
   "cell_type": "markdown",
   "metadata": {},
   "source": [
    "Ensamble de modelos.\n",
    "* Utiliza el objeto llamado VotingClassifier de Sklearn\n",
    "* Utiliza los 3 modelos anteriores (los que entrenaste utilizando el parámetro óptimo)"
   ]
  },
  {
   "cell_type": "code",
   "execution_count": 46,
   "metadata": {
    "ExecuteTime": {
     "end_time": "2022-03-19T05:02:35.151071Z",
     "start_time": "2022-03-19T05:02:35.004882Z"
    }
   },
   "outputs": [
    {
     "name": "stdout",
     "output_type": "stream",
     "text": [
      "Efectividad del modelo: 95.33%\n"
     ]
    }
   ],
   "source": [
    "from sklearn.ensemble import VotingClassifier\n",
    "\n",
    "voting_classifier = VotingClassifier(\n",
    "    estimators=[('Log Reg', logit_model_l2), ('KNN', knn), ('tree',tree)], voting='hard'\n",
    "                )\n",
    "voting_classifier.fit(X_train, y_train)\n",
    "print (\"Efectividad del modelo: {0:.2f}%\".format(100*voting_classifier.score(X_test, y_test)))"
   ]
  },
  {
   "cell_type": "code",
   "execution_count": 47,
   "metadata": {
    "ExecuteTime": {
     "end_time": "2022-03-19T05:02:35.280372Z",
     "start_time": "2022-03-19T05:02:35.154674Z"
    }
   },
   "outputs": [],
   "source": [
    "# Haz una predicción\n",
    "y_pred_voting_classifier = voting_classifier.predict(X_test)"
   ]
  },
  {
   "cell_type": "code",
   "execution_count": 48,
   "metadata": {
    "ExecuteTime": {
     "end_time": "2022-03-19T05:02:35.576607Z",
     "start_time": "2022-03-19T05:02:35.283689Z"
    }
   },
   "outputs": [
    {
     "data": {
      "image/png": "[encoded data removed]",
      "text/plain": [
       "<Figure size 432x288 with 2 Axes>"
      ]
     },
     "metadata": {
      "needs_background": "light"
     },
     "output_type": "display_data"
    }
   ],
   "source": [
    "# Muestra la matriz de confusión\n",
    "matriz_confusion_voting_classifier = confusion_matrix(y_test, y_pred_voting_classifier)  \n",
    "grafica_matriz_confusion(matriz_confusion_voting_classifier)"
   ]
  },
  {
   "cell_type": "code",
   "execution_count": 49,
   "metadata": {
    "ExecuteTime": {
     "end_time": "2022-03-19T05:02:35.584879Z",
     "start_time": "2022-03-19T05:02:35.579541Z"
    }
   },
   "outputs": [
    {
     "name": "stdout",
     "output_type": "stream",
     "text": [
      "# Errores = 14\n",
      "% Erroress = 0.04666666666666667\n"
     ]
    }
   ],
   "source": [
    "# Cuántos errores cometimos?\n",
    "error_voting_classifier = matriz_confusion_voting_classifier[0][1] + matriz_confusion_voting_classifier[1][0]\n",
    "print('# Errores =', error_voting_classifier)\n",
    "print('% Erroress =', error_voting_classifier/len(y_pred_voting_classifier))"
   ]
  },
  {
   "cell_type": "code",
   "execution_count": 50,
   "metadata": {
    "ExecuteTime": {
     "end_time": "2022-03-19T05:02:35.594050Z",
     "start_time": "2022-03-19T05:02:35.588255Z"
    }
   },
   "outputs": [
    {
     "name": "stdout",
     "output_type": "stream",
     "text": [
      "# Aciertos = 286\n",
      "% Efectividad = 0.9533333333333334\n",
      "Otra forma de calcular la efectividad = 0.9533333333333334\n"
     ]
    }
   ],
   "source": [
    "# Calcula la efectividad\n",
    "efectividad_voting_classifier = matriz_confusion_voting_classifier[0][0] + matriz_confusion_voting_classifier[1][1]\n",
    "print('# Aciertos =', efectividad_voting_classifier)\n",
    "print('% Efectividad =', efectividad_voting_classifier/len(y_pred_voting_classifier))\n",
    "print('Otra forma de calcular la efectividad =', 1-(error_voting_classifier/len(y_pred_voting_classifier)))"
   ]
  },
  {
   "cell_type": "code",
   "execution_count": 51,
   "metadata": {
    "ExecuteTime": {
     "end_time": "2022-03-19T05:02:35.603308Z",
     "start_time": "2022-03-19T05:02:35.597403Z"
    }
   },
   "outputs": [
    {
     "name": "stdout",
     "output_type": "stream",
     "text": [
      "% Recall = 0.9299363057324841\n",
      "% Precisión = 0.9798657718120806\n"
     ]
    }
   ],
   "source": [
    "# Calcula el recall y la precisión de la predicción\n",
    "recall_voting_classifier = matriz_confusion_voting_classifier[1][1]/(matriz_confusion_voting_classifier[1][1] + matriz_confusion_voting_classifier[1][0])\n",
    "precision_voting_classifier = matriz_confusion_voting_classifier[1][1]/(matriz_confusion_voting_classifier[1][1] + matriz_confusion_voting_classifier[0][1])\n",
    "print('% Recall =', recall_voting_classifier)\n",
    "print('% Precisión =', precision_voting_classifier)"
   ]
  },
  {
   "cell_type": "code",
   "execution_count": 52,
   "metadata": {
    "ExecuteTime": {
     "end_time": "2022-03-19T05:02:35.837992Z",
     "start_time": "2022-03-19T05:02:35.606292Z"
    }
   },
   "outputs": [
    {
     "data": {
      "image/png": "[encoded data removed]",
      "text/plain": [
       "<Figure size 432x288 with 1 Axes>"
      ]
     },
     "metadata": {
      "needs_background": "light"
     },
     "output_type": "display_data"
    }
   ],
   "source": [
    "# Calcula la tasa de falsos positivos y la tasa de verdaderos positivos para poder graficar la curva ROC, y para calcular la métrica ROC AUC\n",
    "fpr_voting_classifier, tpr_voting_classifier, _ = roc_curve(y_test, y_pred_voting_classifier)\n",
    "auc_voting_classifier = roc_auc_score(y_test, y_pred_voting_classifier)\n",
    "grafica_curva_roc(fpr_voting_classifier, tpr_voting_classifier, 'Curva ROC', note='ROC AUC: {0:.4f}'.format(auc_voting_classifier))"
   ]
  },
  {
   "cell_type": "markdown",
   "metadata": {},
   "source": [
    "## Compara los modelos nuevamente"
   ]
  },
  {
   "cell_type": "code",
   "execution_count": 53,
   "metadata": {
    "ExecuteTime": {
     "end_time": "2022-03-19T05:02:35.848064Z",
     "start_time": "2022-03-19T05:02:35.841014Z"
    }
   },
   "outputs": [
    {
     "name": "stdout",
     "output_type": "stream",
     "text": [
      "--------------------------------------------------------------------------------\n",
      "Clasificador        Efectividad    ROC AUC        recall         precision      \n",
      "--------------------------------------------------------------------------------\n",
      "logit_model_l2      0.880          0.879          0.898          0.876          \n",
      "knn                 0.963          0.964          0.949          0.980          \n",
      "tree                0.943          0.944          0.924          0.967          \n",
      "ensamble            0.953          0.954          0.930          0.980          \n",
      "--------------------------------------------------------------------------------\n"
     ]
    }
   ],
   "source": [
    "# Agrega las métricas del modelo ensamble\n",
    "classifiers = ['logit_model_l2', 'knn', 'tree', 'ensamble']\n",
    "accuracy = [efectividad_logit/len(y_pred_logit), efectividad_knn/len(y_pred_knn), efectividad_tree/len(y_pred_tree), efectividad_voting_classifier/len(y_pred_voting_classifier)]\n",
    "roc_auc = [auc_logit, auc_knn, auc_tree, auc_voting_classifier]\n",
    "recall = [recall_logit, recall_knn, recall_tree, recall_voting_classifier]\n",
    "precision = [precision_logit, precision_knn, precision_tree, precision_voting_classifier]\n",
    "\n",
    "# Imprime tabla de resultados\n",
    "print_metrics(classifiers, accuracy, roc_auc, recall, precision)"
   ]
  },
  {
   "cell_type": "markdown",
   "metadata": {},
   "source": [
    "## Bootstrap para seleccionar el modelo ganador"
   ]
  },
  {
   "cell_type": "code",
   "execution_count": 54,
   "metadata": {
    "ExecuteTime": {
     "end_time": "2022-03-19T05:07:10.947498Z",
     "start_time": "2022-03-19T05:02:35.851226Z"
    }
   },
   "outputs": [
    {
     "name": "stdout",
     "output_type": "stream",
     "text": [
      "95% CIs\n",
      "Knn: [0.943663, 0.978019], con media: 0.961475\n",
      "logit_model_l2: [0.856675, 0.909217], con media: 0.884008\n",
      "Tree: [0.922655, 0.971546, con media: 0.949487]\n",
      "Ensamble: [0.929585, 0.976019, con media: 0.955947]\n"
     ]
    }
   ],
   "source": [
    "num_records = y_moons.shape[0]\n",
    "bootstrap_errors_logit_model_l2 = []\n",
    "bootstrap_errors_knn = []\n",
    "bootstrap_errors_tree = []\n",
    "bootstrap_errors_ensamble = []\n",
    "for i in range(1000):\n",
    "    train_indices = np.random.choice(range(num_records), num_records, replace=True)\n",
    "    test_indices = np.setdiff1d(range(num_records), train_indices)\n",
    "    X_train_b, y_train_b = X_moons[train_indices], y_moons[train_indices]\n",
    "    X_test_b, y_test_b = X_moons[test_indices], y_moons[test_indices]\n",
    "    \n",
    "    # Logit model L2\n",
    "    logit_model_l2.fit(X_train_b, y_train_b)\n",
    "    bootstrap_errors_logit_model_l2.append(roc_auc_score(y_test_b, logit_model_l2.predict(X_test_b)))\n",
    "    \n",
    "    # Knn model\n",
    "    knn.fit(X_train_b, y_train_b)\n",
    "    bootstrap_errors_knn.append(roc_auc_score(y_test_b, knn.predict(X_test_b)))\n",
    "    \n",
    "    # Decision trees model\n",
    "    tree.fit(X_train_b, y_train_b)\n",
    "    bootstrap_errors_tree.append(roc_auc_score(y_test_b, tree.predict(X_test_b)))\n",
    "    \n",
    "    # Ensamble model\n",
    "    voting_classifier.fit(X_train_b, y_train_b)\n",
    "    bootstrap_errors_ensamble.append(roc_auc_score(y_test_b, voting_classifier.predict(X_test_b)))\n",
    "    \n",
    "bootstrap_errors_sorted_logit_model_l2 = np.sort(bootstrap_errors_logit_model_l2)\n",
    "bootstrap_errors_sorted_knn = np.sort(bootstrap_errors_knn)\n",
    "bootstrap_errors_sorted_tree = np.sort(bootstrap_errors_tree)\n",
    "bootstrap_errors_sorted_ensamble = np.sort(bootstrap_errors_ensamble)\n",
    "\n",
    "mean_error_knn = bootstrap_errors_sorted_knn.mean()\n",
    "mean_error_logit_model_l2 = bootstrap_errors_sorted_logit_model_l2.mean()\n",
    "mean_error_tree = bootstrap_errors_sorted_tree.mean()\n",
    "mean_error_ensamble = bootstrap_errors_sorted_ensamble.mean()\n",
    "\n",
    "errors = [mean_error_knn, mean_error_logit_model_l2, mean_error_tree, mean_error_ensamble]\n",
    "\n",
    "deviation_knn = bootstrap_errors_sorted_knn - mean_error_knn\n",
    "deviation_logit_model_l2 = bootstrap_errors_sorted_logit_model_l2 - mean_error_logit_model_l2\n",
    "deviation_tree = bootstrap_errors_sorted_tree - mean_error_tree\n",
    "deviation_ensamble = bootstrap_errors_sorted_ensamble - mean_error_ensamble\n",
    "\n",
    "print('95% CIs')\n",
    "print('Knn: [{:f}, {:f}], con media: {:f}'.format(bootstrap_errors_sorted_knn[25], bootstrap_errors_sorted_knn[975], mean_error_knn))\n",
    "print('logit_model_l2: [{:f}, {:f}], con media: {:f}'.format(bootstrap_errors_sorted_logit_model_l2[25], bootstrap_errors_sorted_logit_model_l2[975], mean_error_logit_model_l2))\n",
    "print('Tree: [{:f}, {:f}], con media: {:f}'.format(bootstrap_errors_sorted_tree[25], bootstrap_errors_sorted_tree[975], mean_error_tree))\n",
    "print('Ensamble: [{:f}, {:f}], con media: {:f}'.format(bootstrap_errors_sorted_ensamble[25], bootstrap_errors_sorted_ensamble[975], mean_error_ensamble))"
   ]
  },
  {
   "cell_type": "code",
   "execution_count": 55,
   "metadata": {
    "ExecuteTime": {
     "end_time": "2022-03-19T05:07:11.055217Z",
     "start_time": "2022-03-19T05:07:10.950131Z"
    }
   },
   "outputs": [
    {
     "data": {
      "image/png": "[encoded data removed]",
      "text/plain": [
       "<Figure size 432x288 with 1 Axes>"
      ]
     },
     "metadata": {
      "needs_background": "light"
     },
     "output_type": "display_data"
    }
   ],
   "source": [
    "# grafica resultados\n",
    "xpos = np.arange(len(errors))\n",
    "plt.bar(xpos, errors, align='center', alpha=0.5, ecolor='black', capsize=10)\n",
    "plt.xticks(xpos, ('Knn model', 'Logit L2 model', 'Tree model', 'Ensamble'))\n",
    "plt.ylabel('ROC AUC')\n",
    "plt.title('Comparison of the Models')\n",
    "plt.show()"
   ]
  },
  {
   "cell_type": "code",
   "execution_count": 56,
   "metadata": {
    "ExecuteTime": {
     "end_time": "2022-03-19T05:07:11.411366Z",
     "start_time": "2022-03-19T05:07:11.057025Z"
    }
   },
   "outputs": [
    {
     "data": {
      "image/png": "[encoded data removed]",
      "text/plain": [
       "<Figure size 1800x360 with 4 Axes>"
      ]
     },
     "metadata": {
      "needs_background": "light"
     },
     "output_type": "display_data"
    }
   ],
   "source": [
    "# Checa si los resultados tienen una distribución simétrica\n",
    "fig, ax = plt.subplots(1,4,figsize=(25,5))\n",
    "ax[0].hist(bootstrap_errors_sorted_knn, color = 'b')\n",
    "ax[0].set_title(\"Histogram - {}\".format('Knn model'))\n",
    "\n",
    "ax[1].hist(bootstrap_errors_sorted_logit_model_l2)\n",
    "ax[1].set_title(\"Histogram - {}\".format('Logit L2 model'))\n",
    "\n",
    "ax[2].hist(bootstrap_errors_sorted_tree, color = 'green')\n",
    "ax[2].set_title(\"Histogram - {}\".format('Tree model'))\n",
    "\n",
    "ax[3].hist(bootstrap_errors_sorted_ensamble, color = 'gray')\n",
    "ax[3].set_title(\"Histogram - {}\".format('Ensamble'))\n",
    "plt.show()"
   ]
  }
 ],
 "metadata": {
  "kernelspec": {
   "display_name": "Python 3",
   "language": "python",
   "name": "python3"
  },
  "language_info": {
   "codemirror_mode": {
    "name": "ipython",
    "version": 3
   },
   "file_extension": ".py",
   "mimetype": "text/x-python",
   "name": "python",
   "nbconvert_exporter": "python",
   "pygments_lexer": "ipython3",
   "version": "3.7.7"
  },
  "toc": {
   "base_numbering": 1,
   "nav_menu": {},
   "number_sections": true,
   "sideBar": true,
   "skip_h1_title": false,
   "title_cell": "Table of Contents",
   "title_sidebar": "Contents",
   "toc_cell": false,
   "toc_position": {},
   "toc_section_display": true,
   "toc_window_display": false
  },
  "varInspector": {
   "cols": {
    "lenName": 16,
    "lenType": 16,
    "lenVar": 40
   },
   "kernels_config": {
    "python": {
     "delete_cmd_postfix": "",
     "delete_cmd_prefix": "del ",
     "library": "var_list.py",
     "varRefreshCmd": "print(var_dic_list())"
    },
    "r": {
     "delete_cmd_postfix": ") ",
     "delete_cmd_prefix": "rm(",
     "library": "var_list.r",
     "varRefreshCmd": "cat(var_dic_list()) "
    }
   },
   "types_to_exclude": [
    "module",
    "function",
    "builtin_function_or_method",
    "instance",
    "_Feature"
   ],
   "window_display": false
  }
 },
 "nbformat": 4,
 "nbformat_minor": 4
}
