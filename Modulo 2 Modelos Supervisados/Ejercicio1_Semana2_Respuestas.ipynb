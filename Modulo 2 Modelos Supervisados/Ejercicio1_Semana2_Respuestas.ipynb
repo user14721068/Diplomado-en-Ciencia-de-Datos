{
 "cells": [
  {
   "cell_type": "markdown",
   "metadata": {},
   "source": [
    "# Importa librerías importantes"
   ]
  },
  {
   "cell_type": "code",
   "execution_count": null,
   "metadata": {},
   "outputs": [],
   "source": [
    "# Librerías estándar\n",
    "import numpy  as np\n",
    "import pandas as pd\n",
    "\n",
    "import itertools\n",
    "import random\n",
    "import datetime\n",
    "import operator\n",
    "\n",
    "# Gráficas\n",
    "import matplotlib.pyplot as plt\n",
    "from matplotlib.colors import ListedColormap\n",
    "%matplotlib inline  \n",
    "import seaborn as sns\n",
    "sns.set(style=\"white\")\n",
    "\n",
    "# scikit-learn\n",
    "from sklearn.dummy           import DummyClassifier\n",
    "from sklearn.linear_model    import LogisticRegression\n",
    "from sklearn.linear_model    import LinearRegression\n",
    "from sklearn.linear_model    import Lasso\n",
    "from sklearn.metrics         import confusion_matrix\n",
    "from sklearn.metrics         import roc_curve\n",
    "from sklearn.metrics         import roc_auc_score\n",
    "from sklearn.metrics         import mean_squared_error\n",
    "from sklearn.preprocessing   import StandardScaler\n",
    "from sklearn.model_selection import train_test_split\n",
    "\n",
    "\n",
    "# Ignorar warnings \n",
    "import warnings\n",
    "warnings.filterwarnings('ignore')\n",
    "\n",
    "# Para poder replicar los resultados de problemas aleatorios, es necesario definir una semilla\n",
    "SEED = 1"
   ]
  },
  {
   "cell_type": "markdown",
   "metadata": {},
   "source": [
    "# Importar datos"
   ]
  },
  {
   "cell_type": "code",
   "execution_count": null,
   "metadata": {},
   "outputs": [],
   "source": [
    "# Importar datos\n",
    "data = pd.read_csv(r'data/movies.csv')"
   ]
  },
  {
   "cell_type": "code",
   "execution_count": 57,
   "metadata": {},
   "outputs": [
    {
     "data": {
      "text/html": [
       "<div>\n",
       "<style scoped>\n",
       "    .dataframe tbody tr th:only-of-type {\n",
       "        vertical-align: middle;\n",
       "    }\n",
       "\n",
       "    .dataframe tbody tr th {\n",
       "        vertical-align: top;\n",
       "    }\n",
       "\n",
       "    .dataframe thead th {\n",
       "        text-align: right;\n",
       "    }\n",
       "</style>\n",
       "<table border=\"1\" class=\"dataframe\">\n",
       "  <thead>\n",
       "    <tr style=\"text-align: right;\">\n",
       "      <th></th>\n",
       "      <th>movie_name</th>\n",
       "      <th>Filmaffinity_score</th>\n",
       "      <th>IMBD_score</th>\n",
       "    </tr>\n",
       "  </thead>\n",
       "  <tbody>\n",
       "    <tr>\n",
       "      <th>0</th>\n",
       "      <td>Bidrman</td>\n",
       "      <td>7.2</td>\n",
       "      <td>7.9</td>\n",
       "    </tr>\n",
       "    <tr>\n",
       "      <th>1</th>\n",
       "      <td>Boyhood</td>\n",
       "      <td>7.4</td>\n",
       "      <td>8.1</td>\n",
       "    </tr>\n",
       "    <tr>\n",
       "      <th>2</th>\n",
       "      <td>El gran Hotel Budapest</td>\n",
       "      <td>7.2</td>\n",
       "      <td>8.1</td>\n",
       "    </tr>\n",
       "    <tr>\n",
       "      <th>3</th>\n",
       "      <td>El Francotirador</td>\n",
       "      <td>6.3</td>\n",
       "      <td>7.4</td>\n",
       "    </tr>\n",
       "    <tr>\n",
       "      <th>4</th>\n",
       "      <td>La Teoría del Todo</td>\n",
       "      <td>7.1</td>\n",
       "      <td>7.8</td>\n",
       "    </tr>\n",
       "  </tbody>\n",
       "</table>\n",
       "</div>"
      ],
      "text/plain": [
       "               movie_name  Filmaffinity_score  IMBD_score\n",
       "0                 Bidrman                 7.2         7.9\n",
       "1                Boyhood                  7.4         8.1\n",
       "2  El gran Hotel Budapest                 7.2         8.1\n",
       "3        El Francotirador                 6.3         7.4\n",
       "4      La Teoría del Todo                 7.1         7.8"
      ]
     },
     "execution_count": 57,
     "metadata": {},
     "output_type": "execute_result"
    }
   ],
   "source": [
    "# Echa un vistazo a los datos\n",
    "data.head()"
   ]
  },
  {
   "cell_type": "markdown",
   "metadata": {},
   "source": [
    "# Explorar los datos brevemente"
   ]
  },
  {
   "cell_type": "code",
   "execution_count": 58,
   "metadata": {},
   "outputs": [
    {
     "data": {
      "image/png": "[encoded data removed]",
      "text/plain": [
       "<Figure size 432x288 with 2 Axes>"
      ]
     },
     "metadata": {},
     "output_type": "display_data"
    }
   ],
   "source": [
    "# Gráficar mapa de calor para visualizar la matriz de correlación entre las variables IMBD_score y Filmaffinity_score\n",
    "dataplot = sns.heatmap(data.corr(), cmap=\"YlGnBu\", annot=True)\n",
    "plt.show()"
   ]
  },
  {
   "cell_type": "markdown",
   "metadata": {},
   "source": [
    "# Define variable target y set de datos con variables independientes"
   ]
  },
  {
   "cell_type": "code",
   "execution_count": 60,
   "metadata": {},
   "outputs": [],
   "source": [
    "# Define la variable target (Score de IMBD)\n",
    "y = np.array(data['IMBD_score'])\n",
    "\n",
    "# Define el conjunto de variable independiente\n",
    "X = data.drop(columns=['IMBD_score', 'movie_name'])"
   ]
  },
  {
   "cell_type": "markdown",
   "metadata": {},
   "source": [
    "# Obtén los parámetros W óptimos usando el método de LinearRegression() de la librería Sklearn"
   ]
  },
  {
   "cell_type": "code",
   "execution_count": null,
   "metadata": {},
   "outputs": [],
   "source": [
    "# Entrena una regresión lineal para predecir el score de IMBD con base en el de Filmaffinity_score\n",
    "modelo_LinReg = LinearRegression()\n",
    "modelo_LinReg.fit(X, y)"
   ]
  },
  {
   "cell_type": "code",
   "execution_count": null,
   "metadata": {},
   "outputs": [],
   "source": [
    "# Revisa los parámetros W óptimos\n",
    "\n",
    "w0 = modelo_LinReg.intercept_\n",
    "w1 = float(modelo_LinReg.coef_)\n",
    "\n",
    "print(\"W0 = {0:.4f}\".format(w0))\n",
    "print(\"W1 = {0:.4f}\".format(w1))"
   ]
  },
  {
   "cell_type": "code",
   "execution_count": null,
   "metadata": {},
   "outputs": [],
   "source": [
    "# Calcula y_pred\n",
    "y_pred = np.array(X*w1+w0)"
   ]
  },
  {
   "cell_type": "code",
   "execution_count": null,
   "metadata": {},
   "outputs": [],
   "source": [
    "# Calcula el MSE\n",
    "mean_squared_error(y,y_pred)"
   ]
  },
  {
   "cell_type": "code",
   "execution_count": null,
   "metadata": {},
   "outputs": [],
   "source": [
    "# Revisa el score R^2\n",
    "modelo_LinReg.score(X,y)"
   ]
  },
  {
   "cell_type": "code",
   "execution_count": null,
   "metadata": {},
   "outputs": [],
   "source": [
    "# Gráfica los resultados\n",
    "plt.scatter(X, y, s=10)\n",
    "plt.plot(X, w0 + X*w1, color='red')\n",
    "plt.show()"
   ]
  },
  {
   "cell_type": "markdown",
   "metadata": {},
   "source": [
    "# Ahora hazlo con la fórmula de mínimos cuadrados\n",
    "$\\textbf{W} = (\\textbf{X}^T\\textbf{X})^{-1}\\textbf{X}^Ty$"
   ]
  },
  {
   "cell_type": "code",
   "execution_count": null,
   "metadata": {},
   "outputs": [],
   "source": [
    "# Agrega el valor para el intercepto en la matrix X\n",
    "X_b = np.c_[np.ones((X.shape[0],1)), X]\n",
    "X_b"
   ]
  },
  {
   "cell_type": "code",
   "execution_count": null,
   "metadata": {},
   "outputs": [],
   "source": [
    "# Determina los valores para w0 y w1\n",
    "W = np.linalg.inv(X_b.T.dot(X_b)).dot(X_b.T).dot(y)"
   ]
  },
  {
   "cell_type": "code",
   "execution_count": null,
   "metadata": {},
   "outputs": [],
   "source": [
    "# Revisa los parámetros W óptimos\n",
    "print(\"W0 = {0:.4f}\".format(W[0]))\n",
    "print(\"W1 = {0:.4f}\".format(W[1]))"
   ]
  },
  {
   "cell_type": "code",
   "execution_count": null,
   "metadata": {},
   "outputs": [],
   "source": [
    "# Revisa el error cuadrático medio\n",
    "e = y - X_b.dot(W.T)\n",
    "e_2 = e**2\n",
    "MSE = np.mean(e_2)\n",
    "MSE"
   ]
  },
  {
   "cell_type": "code",
   "execution_count": null,
   "metadata": {},
   "outputs": [],
   "source": [
    "# Gráfica los resultados\n",
    "plt.scatter(X, y, s=10)\n",
    "plt.plot(X, W[0] + X*W[1], color='red')\n",
    "plt.show()"
   ]
  },
  {
   "cell_type": "markdown",
   "metadata": {},
   "source": [
    "# Ahora hazlo con gradiente descendiente\n",
    "## Pasos para llevar a cabo el algoritmo gradiente descendente\n",
    "Itera las veces que sean necesarias\n",
    "1. Calcula el valor de la función de costo para el vector w inicial\n",
    "2. Calcula el valor del gradiente de la función de costo en ese valor w\n",
    "3. Da un paso de tamaño $\\gamma$ en dirección contraria al gradiente de la función de costo, i.e. $\\textbf{w}^{(t+1)} = \\textbf{w}^{(t)}-\\gamma \\nabla\\mathcal{L}(\\textbf{w}^{(t)})$\n",
    "4. Guarda el valor de los parámetros ws y de los valores de la función de costo en cada iteración\n",
    "5. Imprime resultados de cada iteración para que veas como va la ejecución del algoritmo "
   ]
  },
  {
   "cell_type": "code",
   "execution_count": 61,
   "metadata": {},
   "outputs": [
    {
     "name": "stdout",
     "output_type": "stream",
     "text": [
      "Gradiente Descendente(0/9999): valor función de costo=62.99285714285713, w0=0.15857142857142859, w1=1.1314285714285715\n",
      "Gradiente Descendente(1000/9999): valor función de costo=0.0292883409763395, w0=0.3542379704508628, w1=1.0633104564241975\n",
      "Gradiente Descendente(2000/9999): valor función de costo=0.025804164103574414, w0=0.5390276885101818, w1=1.0374468640544348\n",
      "Gradiente Descendente(3000/9999): valor función de costo=0.02286685541025562, w0=0.7086966889541105, w1=1.0136996019699815\n",
      "Gradiente Descendente(4000/9999): valor función de costo=0.020390579757521683, w0=0.8644822489623856, w1=0.9918954980216447\n",
      "Gradiente Descendente(5000/9999): valor función de costo=0.018302974487339998, w0=1.0075204035079597, w1=0.9718755501514807\n",
      "Gradiente Descendente(6000/9999): valor función de costo=0.016543034813710177, w0=1.1388542296643538, w1=0.9534937669021559\n",
      "Gradiente Descendente(7000/9999): valor función de costo=0.015059331117873715, w0=1.25944145303616, w1=0.9366161028035032\n",
      "Gradiente Descendente(8000/9999): valor función de costo=0.013808506052660542, w0=1.3701614317810604, w1=0.9211194808727978\n",
      "Gradiente Descendente(9000/9999): valor función de costo=0.012754007537791642, w0=1.471821569152932, w1=0.9068908951005302\n",
      "Gradiente Descendente: tiempo de ejecución=-0.230 segundos\n"
     ]
    }
   ],
   "source": [
    "def calcula_costo_mse(y, X, w):\n",
    "    \"\"\" \n",
    "    Función para calcular el valor de la función de costo/pérdida\n",
    "    \n",
    "    Args:\n",
    "        y     arreglo de numpy que contiene variable target\n",
    "        X     matriz que contiene variables independientes\n",
    "        w     arreglo de numpy que contiene parámetros w\n",
    "    \"\"\"\n",
    "    e = y - X.dot(w)\n",
    "    mse = np.mean(e**2)\n",
    "    return mse\n",
    "\n",
    "def calcula_gradiente(y, X, w):\n",
    "    \"\"\" \n",
    "    Función para calcular el valor del gradiente\n",
    "    \n",
    "    Args:\n",
    "        y     arreglo de numpy que contiene variable target\n",
    "        X     matriz que contiene variables independientes\n",
    "        w     arreglo de numpy que contiene parámetros w\n",
    "    \"\"\"\n",
    "    e = y - X.dot(w)\n",
    "    gradiente = -X.T.dot(e) / len(e)\n",
    "    return gradiente\n",
    "\n",
    "def gradiente_descendente(y, X, w_inicial, max_iters, gamma):\n",
    "    \"\"\" \n",
    "    Función para llevar a cabo el algoritmo de optimización llamado gradiente descendente\n",
    "    \n",
    "    Args:\n",
    "        y             arreglo de numpy que contiene variable target\n",
    "        X             matriz que contiene variables independientes\n",
    "        w_inicial     arreglo de numpy que contiene parámetros w iniciales\n",
    "        max_iters     número de iteraciones máximas para ejecutar el algoritmo\n",
    "        gamma         parámetro de aprendizaje\n",
    "    \"\"\"\n",
    "    # Define variables para guardar w y el valor de la función de costo\n",
    "    ws = [w_inicial]\n",
    "    costos = []\n",
    "    w = w_inicial\n",
    "    for n_iter in range(max_iters):\n",
    "        # Calcula el valor de la función de costo y del gradiente\n",
    "        costo = calcula_costo_mse(y, X, w)\n",
    "        gradiente = calcula_gradiente(y, X, w)\n",
    "        # Actualiza el valor de w\n",
    "        w = w - gamma * gradiente\n",
    "        # Almacena el valor de w y de la función de costo\n",
    "        ws.append(w)\n",
    "        costos.append(costo)\n",
    "        if (n_iter % 1000==0):\n",
    "            print(\"Gradiente Descendente({bi}/{ti}): valor función de costo={l}, w0={w0}, w1={w1}\".format(\n",
    "              bi=n_iter, ti=max_iters - 1, l=costo, w0=w[0], w1=w[1]))\n",
    "\n",
    "    return costos, ws\n",
    "\n",
    "# Definir parámetros para iniciar con el algoritmo\n",
    "max_iters = 10000\n",
    "gamma = 0.02\n",
    "\n",
    "# Inicializar el vector de parámetros w\n",
    "w_inicial = np.array([0,0])\n",
    "\n",
    "# Iniciar algoritmo de gradiente descendente\n",
    "inicio = datetime.datetime.now()\n",
    "costo_gradiente, ws_gradiente = gradiente_descendente(y, X_b, w_inicial, max_iters, gamma)\n",
    "final = datetime.datetime.now()\n",
    "\n",
    "# Imprimir proceso de ejecución\n",
    "tiempo_ejecucion = (inicio - final).total_seconds()\n",
    "print(\"Gradiente Descendente: tiempo de ejecución={t:.3f} segundos\".format(t=tiempo_ejecucion))"
   ]
  },
  {
   "cell_type": "markdown",
   "metadata": {},
   "source": [
    "¿Cómo podrías determinar el valor óptimo para gamma y para el número de iteraciones?"
   ]
  },
  {
   "cell_type": "markdown",
   "metadata": {},
   "source": [
    "# Extendiendo el set de datos para ajustar una regresión lineal a datos que fueron generados por una función no lineal\n",
    "¿Qué pasa si tenemos un set de datos que no tienen una relación lineal?"
   ]
  },
  {
   "cell_type": "code",
   "execution_count": null,
   "metadata": {},
   "outputs": [],
   "source": [
    "# Genera los datos\n",
    "np.random.seed(1)\n",
    "n = 100\n",
    "X = 6*np.random.rand(n,1) - 3\n",
    "y = 0.5*X**2 + np.random.rand(n,1)"
   ]
  },
  {
   "cell_type": "code",
   "execution_count": null,
   "metadata": {},
   "outputs": [],
   "source": [
    "# Gráfica la distribución\n",
    "plt.scatter(X, y, s=10)\n",
    "plt.show()"
   ]
  },
  {
   "cell_type": "markdown",
   "metadata": {},
   "source": [
    "¿Y si intentamos ajustar un modelo lineal a esos datos?"
   ]
  },
  {
   "cell_type": "code",
   "execution_count": null,
   "metadata": {},
   "outputs": [],
   "source": [
    "# Entrena una regresión lineal para predecir la variable y dado X\n",
    "modelo_LinReg = LinearRegression()\n",
    "modelo_LinReg.fit(X, y)"
   ]
  },
  {
   "cell_type": "code",
   "execution_count": null,
   "metadata": {},
   "outputs": [],
   "source": [
    "# Revisa los parámetros W óptimos\n",
    "w0 = float(modelo_LinReg.intercept_)\n",
    "w1 = float(modelo_LinReg.coef_)\n",
    "\n",
    "print(\"W0 = {0:.4f}\".format(w0))\n",
    "print(\"W1 = {0:.4f}\".format(w1))"
   ]
  },
  {
   "cell_type": "code",
   "execution_count": null,
   "metadata": {},
   "outputs": [],
   "source": [
    "# Revisa el score R^2\n",
    "modelo_LinReg.score(X,y)"
   ]
  },
  {
   "cell_type": "code",
   "execution_count": null,
   "metadata": {},
   "outputs": [],
   "source": [
    "# Gráfica los resultados\n",
    "plt.scatter(X, y, s=10)\n",
    "plt.plot(X, w0 + X*w1, color='red')\n",
    "plt.show()"
   ]
  },
  {
   "cell_type": "markdown",
   "metadata": {},
   "source": [
    "Los resultados no son muy buenos verdad. \n",
    "Extendamos el set de datos con variables de tipo polinomial de grado M. "
   ]
  },
  {
   "cell_type": "code",
   "execution_count": null,
   "metadata": {},
   "outputs": [],
   "source": [
    "#¿Qué grado de polinomio haría sentido para los datos anteriores?\n",
    "from sklearn.preprocessing import PolynomialFeatures\n",
    "poly_variables = PolynomialFeatures(degree = 2, include_bias = False)\n",
    "X_poly = poly_variables.fit_transform(X)\n",
    "print(\"Valor de X: {0}, valor de X extendido {1}\".format(X[0], X_poly[0]))"
   ]
  },
  {
   "cell_type": "code",
   "execution_count": null,
   "metadata": {},
   "outputs": [],
   "source": [
    "# Vamos a utilizar el set de datos extendido para entrenar una regresión lineal\n",
    "modelo_LinReg = LinearRegression()\n",
    "modelo_LinReg.fit(X_poly, y)"
   ]
  },
  {
   "cell_type": "code",
   "execution_count": null,
   "metadata": {},
   "outputs": [],
   "source": [
    "# Revisa los parámetros W óptimos\n",
    "w0 = float(modelo_LinReg.intercept_)\n",
    "w1, w2 = modelo_LinReg.coef_[0][0], modelo_LinReg.coef_[0][1]\n",
    "\n",
    "print(\"W0 = {0:.4f}\".format(w0))\n",
    "print(\"W1 = {0:.4f}\".format(w1))\n",
    "print(\"W2 = {0:.4f}\".format(w2))"
   ]
  },
  {
   "cell_type": "code",
   "execution_count": null,
   "metadata": {},
   "outputs": [],
   "source": [
    "# Revisa el score R^2\n",
    "modelo_LinReg.score(X_poly,y)"
   ]
  },
  {
   "cell_type": "code",
   "execution_count": null,
   "metadata": {},
   "outputs": [],
   "source": [
    "# Gráfica tus resultados\n",
    "plt.scatter(X, y, s=10)\n",
    "sort_axis = operator.itemgetter(0)\n",
    "sorted_zip = sorted(zip(X,w0 + X*w1 + X_poly[:,1].reshape(-1,1)*w2), key=sort_axis)\n",
    "X, y_pred = zip(*sorted_zip)\n",
    "plt.plot(X, y_pred, color='red')\n",
    "plt.show()"
   ]
  },
  {
   "cell_type": "markdown",
   "metadata": {},
   "source": [
    "# Datos con una distribución que sigue una forma cúbica\n",
    "¿Qué pasa si tenemos datos que siguen una forma cúbica?"
   ]
  },
  {
   "cell_type": "code",
   "execution_count": null,
   "metadata": {},
   "outputs": [],
   "source": [
    "# Define la distribución que generará los datos\n",
    "np.random.seed(1)\n",
    "X = 2 - 3 * np.random.normal(0, 1, 20)\n",
    "y = X - 2 * (X ** 2) + 0.5 * (X ** 3) + np.random.normal(-3, 3, 20)"
   ]
  },
  {
   "cell_type": "code",
   "execution_count": null,
   "metadata": {},
   "outputs": [],
   "source": [
    "# Gráfica la distribución\n",
    "plt.scatter(X, y, s=10)\n",
    "plt.show()"
   ]
  },
  {
   "cell_type": "markdown",
   "metadata": {},
   "source": [
    "# Extender set de datos X con Polinomios de grado 1,2,3 y 20\n",
    "Vamos a comparar que es lo que sucede cuando utilizamos diferentes grados de polinomio para extender el set de datos"
   ]
  },
  {
   "cell_type": "code",
   "execution_count": null,
   "metadata": {},
   "outputs": [],
   "source": [
    "def extiende_set_datos(X,y,grado_polinomio):\n",
    "    poly_variables= PolynomialFeatures(degree=grado_polinomio)\n",
    "    X_poly = poly_variables.fit_transform(X.reshape(-1,1))\n",
    "    return X_poly"
   ]
  },
  {
   "cell_type": "code",
   "execution_count": null,
   "metadata": {},
   "outputs": [],
   "source": [
    "def ajusta_reg_lin_set_extendido(X, y, grado_polinomio):\n",
    "    X_poly = extiende_set_datos(X,y,grado_polinomio)\n",
    "    modelo_LinReg = LinearRegression()\n",
    "    modelo_LinReg.fit(X_poly, y.reshape(-1,1))\n",
    "    return modelo_LinReg"
   ]
  },
  {
   "cell_type": "code",
   "execution_count": null,
   "metadata": {},
   "outputs": [],
   "source": [
    "def grafica_reg_polinomica(X, y_pred, grado_polinomio, col, lab):\n",
    "    # Vamos a utilizar el set de datos extendido para entrenar una regresión lineal y calcular y predicción\n",
    "    y_pred = ajusta_reg_lin_set_extendido(X, y, grado_polinomio).predict(extiende_set_datos(X,y,grado_polinomio))\n",
    "    sort_axis = operator.itemgetter(0)\n",
    "    sorted_zip = sorted(zip(X, y_pred), key=sort_axis)\n",
    "    X, y_pred = zip(*sorted_zip)\n",
    "    plt.plot(X, y_pred, color=col, label=lab)\n",
    "\n",
    "fig, ax = plt.subplots()\n",
    "plt.scatter(X, y, s=10)\n",
    "grafica_reg_polinomica(X, y_pred, 1, 'orange', 'Polinomio de grado 1, con un R² de {0:.3f}'.format(ajusta_reg_lin_set_extendido(X, y, 1).score(extiende_set_datos(X,y,1),y)))\n",
    "grafica_reg_polinomica(X, y_pred, 2, 'green', 'Polinomio de grado 2, con un R² de {0:.3f}'.format(ajusta_reg_lin_set_extendido(X, y, 2).score(extiende_set_datos(X,y,2),y)))\n",
    "grafica_reg_polinomica(X, y_pred, 3, 'red', 'Polinomio de grado 3, con un R² de {0:.3f}'.format(ajusta_reg_lin_set_extendido(X, y, 3).score(extiende_set_datos(X,y,3),y)))\n",
    "grafica_reg_polinomica(X, y_pred, 20, 'gray', 'Polinomio de grado 20, con un R² de {0:.3f}'.format(ajusta_reg_lin_set_extendido(X, y, 20).score(extiende_set_datos(X,y,20),y)))\n",
    "ax.legend()\n",
    "ax.legend=True\n",
    "plt.show()"
   ]
  },
  {
   "cell_type": "code",
   "execution_count": null,
   "metadata": {},
   "outputs": [],
   "source": []
  }
 ],
 "metadata": {
  "kernelspec": {
   "display_name": "Python 3 (ipykernel)",
   "language": "python",
   "name": "python3"
  },
  "language_info": {
   "codemirror_mode": {
    "name": "ipython",
    "version": 3
   },
   "file_extension": ".py",
   "mimetype": "text/x-python",
   "name": "python",
   "nbconvert_exporter": "python",
   "pygments_lexer": "ipython3",
   "version": "3.8.1"
  }
 },
 "nbformat": 4,
 "nbformat_minor": 4
}
