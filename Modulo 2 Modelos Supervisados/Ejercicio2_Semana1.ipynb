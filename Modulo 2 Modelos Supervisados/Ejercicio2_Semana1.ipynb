{
 "cells": [
  {
   "cell_type": "markdown",
   "metadata": {},
   "source": [
    "# Importar librerías"
   ]
  },
  {
   "cell_type": "code",
   "execution_count": 1,
   "metadata": {},
   "outputs": [],
   "source": [
    "# Imports estándar\n",
    "import numpy as np\n",
    "import pandas as pd\n",
    "%matplotlib inline\n",
    "import matplotlib.pyplot as plt\n",
    "%load_ext autoreload\n",
    "%autoreload 2\n",
    "import datetime\n",
    "\n",
    "# scikit-learn\n",
    "from sklearn.dummy           import DummyClassifier\n",
    "from sklearn.linear_model    import LogisticRegression\n",
    "from sklearn.linear_model    import LinearRegression\n",
    "from sklearn.linear_model    import Lasso\n",
    "from sklearn.metrics         import confusion_matrix\n",
    "from sklearn.metrics         import roc_curve\n",
    "from sklearn.metrics         import roc_auc_score\n",
    "from sklearn.preprocessing   import StandardScaler\n",
    "from sklearn.model_selection import train_test_split"
   ]
  },
  {
   "cell_type": "markdown",
   "metadata": {},
   "source": [
    "# Definir funciones que nos serán útiles"
   ]
  },
  {
   "cell_type": "code",
   "execution_count": 2,
   "metadata": {},
   "outputs": [],
   "source": [
    "def estandarizacion(X):\n",
    "    \"\"\" \n",
    "    Función para estandarizar una variable\n",
    "    \n",
    "    Args:\n",
    "        x     set de variables independientes\n",
    "    \"\"\"\n",
    "    media_X = np.mean(X)\n",
    "    X = X - media_X\n",
    "    std_X = np.std(X)\n",
    "    X = X / std_X\n",
    "    return X, media_X, std_X"
   ]
  },
  {
   "cell_type": "markdown",
   "metadata": {},
   "source": [
    "# Importar set de datos"
   ]
  },
  {
   "cell_type": "code",
   "execution_count": 3,
   "metadata": {},
   "outputs": [],
   "source": [
    "# Importar datos\n"
   ]
  },
  {
   "cell_type": "code",
   "execution_count": 4,
   "metadata": {},
   "outputs": [],
   "source": [
    "# Hecha un vistazo a los datos\n"
   ]
  },
  {
   "cell_type": "markdown",
   "metadata": {},
   "source": [
    "# Preprocesa set de datos\n",
    "Para este ejercicio no vamos a dividir el set en entrenamiento y validación, nos quedaremos con un solo set de datos"
   ]
  },
  {
   "cell_type": "code",
   "execution_count": 5,
   "metadata": {},
   "outputs": [],
   "source": [
    "# Crear variables dummy para la variable categórica \"Gender\"\n"
   ]
  },
  {
   "cell_type": "code",
   "execution_count": 6,
   "metadata": {},
   "outputs": [],
   "source": [
    "# Mostrar el nombre de las variables dummy creadas\n"
   ]
  },
  {
   "cell_type": "code",
   "execution_count": 7,
   "metadata": {},
   "outputs": [],
   "source": [
    "# Define la variable target (Weight)\n",
    "\n",
    "\n",
    "# Define el conjunto de variables independientes\n"
   ]
  },
  {
   "cell_type": "code",
   "execution_count": 8,
   "metadata": {},
   "outputs": [],
   "source": [
    "# Checa el tamaño de las variables dependiente e independientes\n"
   ]
  },
  {
   "cell_type": "code",
   "execution_count": 9,
   "metadata": {},
   "outputs": [],
   "source": [
    "# Estandarizar las variables independientes\n"
   ]
  },
  {
   "cell_type": "code",
   "execution_count": 10,
   "metadata": {},
   "outputs": [],
   "source": [
    "# Hecha un vistazo a las variables estandarizadas\n"
   ]
  },
  {
   "cell_type": "markdown",
   "metadata": {},
   "source": [
    "# Define las funciones que nos van a servir para ejecutar el algoritmo de gradiente descendente"
   ]
  },
  {
   "cell_type": "markdown",
   "metadata": {},
   "source": [
    "## Función de costo error cuadrático medio (MSE)\n",
    " $\\mathcal{L}(w) =  \\displaystyle \\frac{1}{N} \\sum_{i=1}^{N} \\textbf{e}^2$, $\\textbf{e} = \\textbf{y-Xw}$"
   ]
  },
  {
   "cell_type": "code",
   "execution_count": 11,
   "metadata": {},
   "outputs": [],
   "source": [
    "def calcula_costo_mse(y, X, w):\n",
    "    \"\"\" \n",
    "    Función para calcular el valor de la función de costo/pérdida\n",
    "    \n",
    "    Args:\n",
    "        y     arreglo de numpy que contiene variable target\n",
    "        X     matriz que contiene variables independientes\n",
    "        w     arreglo de numpy que contiene parámetros w\n",
    "    \"\"\"\n",
    "    # Pon aquí el código"
   ]
  },
  {
   "cell_type": "markdown",
   "metadata": {},
   "source": [
    "## Fórmula del gradiente de la función de costo error cuadrático medio (MSE)\n",
    "$\\nabla \\mathcal{L}(w) =  \\displaystyle \\frac{1}{N} \\textbf{X}^T\\textbf{e}$, $\\textbf{e} = \\textbf{y-Xw}$"
   ]
  },
  {
   "cell_type": "code",
   "execution_count": 12,
   "metadata": {},
   "outputs": [],
   "source": [
    "def calcula_gradiente(y, X, w):\n",
    "    \"\"\" \n",
    "    Función para calcular el valor del gradiente\n",
    "    \n",
    "    Args:\n",
    "        y     arreglo de numpy que contiene variable target\n",
    "        X     matriz que contiene variables independientes\n",
    "        w     arreglo de numpy que contiene parámetros w\n",
    "    \"\"\"\n",
    "    # Pon aquí el código"
   ]
  },
  {
   "cell_type": "markdown",
   "metadata": {},
   "source": [
    "## Pasos para llevar a cabo el algoritmo gradiente descendente\n",
    "Itera las veces que sean necesarias\n",
    "1. Calcula el valor de la función de costo\n",
    "2. Calcula el valor del gradiente de la función de costo\n",
    "3. Da un paso de tamaño $\\gamma$ en dirección contraria al gradiente de la función de costo, i.e. $\\textbf{w}^{(t+1)} = \\textbf{w}^{(t)}-\\gamma \\nabla\\mathcal{L}(\\textbf{w}^{(t)})$\n",
    "4. Guarda el valor de los parámetros ws y de los valores de la función de costo en cada iteración\n",
    "5. Imprime resultados de cada iteración para que veas como va la ejecución del algoritmo "
   ]
  },
  {
   "cell_type": "code",
   "execution_count": 13,
   "metadata": {},
   "outputs": [],
   "source": [
    "def gradiente_descendente(y, X, w_inicial, max_iters, gamma):\n",
    "    \"\"\" \n",
    "    Función para llevar a cabo el algoritmo de optimización llamado gradiente descendente\n",
    "    \n",
    "    Args:\n",
    "        y             arreglo de numpy que contiene variable target\n",
    "        X             matriz que contiene variables independientes\n",
    "        w_inicial     arreglo de numpy que contiene parámetros w iniciales\n",
    "        max_iters     número de iteraciones máximas para ejecutar el algoritmo\n",
    "        gamma         parámetro de aprendizaje\n",
    "    \"\"\"\n",
    "    # Define variables para guardar w y el valor de la función de costo\n",
    "    ws = [w_inicial]\n",
    "    costos = []\n",
    "    w = w_inicial\n",
    "    for n_iter in range(max_iters):\n",
    "        # Calcula el valor de la función de costo y del gradiente\n",
    "        costo = calcula_costo_mse(y, X, w)\n",
    "        gradiente = calcula_gradiente(y, X, w)\n",
    "        # Actualiza el valor de w\n",
    "        w = w - gamma * gradiente\n",
    "        # Almacena el valor de w y de la función de costo\n",
    "        ws.append(w)\n",
    "        costos.append(costo)\n",
    "        print(\"Gradiente Descendente({bi}/{ti}): valor función de costo={l}, w0={w0}, w1={w1}, w2={w2}\".format(\n",
    "              bi=n_iter, ti=max_iters - 1, l=costo, w0=w[0], w1=w[1], w2=w[2]))\n",
    "\n",
    "    return costos, ws"
   ]
  },
  {
   "cell_type": "code",
   "execution_count": 14,
   "metadata": {},
   "outputs": [
    {
     "name": "stdout",
     "output_type": "stream",
     "text": [
      "Gradiente Descendente: tiempo de ejecución=-0.000 segundos\n"
     ]
    }
   ],
   "source": [
    "# Definir parámetros para iniciar con el algoritmo\n",
    "max_iters = 50\n",
    "gamma = 0.7\n",
    "\n",
    "# Inicializar el vector de parámetros w\n",
    "w_inicial = np.array([0,0,0])\n",
    "\n",
    "# Iniciar algoritmo de gradiente descendente\n",
    "inicio = datetime.datetime.now()\n",
    "costo_gradiente, ws_gradiente = gradiente_descendente(y, X, w_inicial, max_iters, gamma)\n",
    "final = datetime.datetime.now()\n",
    "\n",
    "# Imprimir proceso de ejecución\n",
    "tiempo_ejecucion = (inicio - final).total_seconds()\n",
    "print(\"Gradiente Descendente: tiempo de ejecución={t:.3f} segundos\".format(t=tiempo_ejecucion))"
   ]
  },
  {
   "cell_type": "markdown",
   "metadata": {},
   "source": [
    "# Confirma predicción utilizando el objeto de regresión lineal de sklearn"
   ]
  },
  {
   "cell_type": "markdown",
   "metadata": {},
   "source": [
    "## Fórmula de regresión lineal con tres variables independientes\n",
    "$y = b + w_0x_0 + w_1x_1 + w_2x_2$"
   ]
  },
  {
   "cell_type": "code",
   "execution_count": 15,
   "metadata": {},
   "outputs": [],
   "source": [
    "# Entrena una regresión lineal para confirmar los resultados anteriores\n",
    "modelo_LinReg = LinearRegression()\n",
    "modelo_LinReg.fit(X, y)\n",
    "y_pred_proba_LinReg = modelo_LinReg.predict(X)"
   ]
  },
  {
   "cell_type": "code",
   "execution_count": 16,
   "metadata": {},
   "outputs": [],
   "source": [
    "# Revisa la medida de R^2 de la regresión anterior\n",
    "modelo_LinReg.score(X,y)"
   ]
  },
  {
   "cell_type": "code",
   "execution_count": 17,
   "metadata": {},
   "outputs": [],
   "source": [
    "# Checa los coefientes del modelo\n",
    "print(\"Los parámetros del modelo son: w0= {0}, w1={1}, w2={2}\".format(modelo_LinReg.coef_[0], modelo_LinReg.coef_[1], modelo_LinReg.coef_[2]))"
   ]
  }
 ],
 "metadata": {
  "kernelspec": {
   "display_name": "Python 3",
   "language": "python",
   "name": "python3"
  },
  "language_info": {
   "codemirror_mode": {
    "name": "ipython",
    "version": 3
   },
   "file_extension": ".py",
   "mimetype": "text/x-python",
   "name": "python",
   "nbconvert_exporter": "python",
   "pygments_lexer": "ipython3",
   "version": "3.7.6"
  }
 },
 "nbformat": 4,
 "nbformat_minor": 4
}
