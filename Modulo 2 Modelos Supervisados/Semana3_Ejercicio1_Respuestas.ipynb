{
 "cells": [
  {
   "cell_type": "markdown",
   "metadata": {},
   "source": [
    "# Regresión Lasso como método para selección de variables\n",
    "En este ejercicio intentaremos ver cómo Lasso sirve para como método de selección de variables."
   ]
  },
  {
   "cell_type": "code",
   "execution_count": 6,
   "metadata": {},
   "outputs": [],
   "source": [
    "# Importa librerías relevantes\n",
    "import numpy as np\n",
    "import pandas as pd\n",
    "\n",
    "# scikit-learn\n",
    "from sklearn.linear_model    import LogisticRegression, Lasso\n",
    "from sklearn.metrics         import confusion_matrix\n",
    "from sklearn.metrics         import roc_curve, roc_auc_score\n",
    "from sklearn.preprocessing   import StandardScaler\n",
    "from sklearn.model_selection import train_test_split, cross_val_score\n",
    "from sklearn                 import preprocessing"
   ]
  },
  {
   "cell_type": "markdown",
   "metadata": {},
   "source": [
    "Revisa la documentación de sklearn.datasets (https://scikit-learn.org/stable/datasets.html) para importar el data set de **Boston house prices**. ¿Cuál es la variable target del modelo?"
   ]
  },
  {
   "cell_type": "code",
   "execution_count": 245,
   "metadata": {},
   "outputs": [],
   "source": [
    "# Importa los datos\n",
    "from sklearn.datasets import load_boston\n",
    "X,y = load_boston(return_X_y=True)\n",
    "features = load_boston()['feature_names']"
   ]
  },
  {
   "cell_type": "markdown",
   "metadata": {},
   "source": [
    "Haz un análisis exploratorio inicial y preprocesa los datos de tal manera que tu modelo tenga buen performance"
   ]
  },
  {
   "cell_type": "code",
   "execution_count": 104,
   "metadata": {},
   "outputs": [],
   "source": [
    "# Normaliza los valores de las variables independientes\n",
    "data_values = X\n",
    "min_max_scaler = preprocessing.StandardScaler()\n",
    "data_values = min_max_scaler.fit_transform(data_values)\n",
    "X = data_values"
   ]
  },
  {
   "cell_type": "code",
   "execution_count": 105,
   "metadata": {},
   "outputs": [],
   "source": [
    "# Parte los datos\n",
    "X_train, X_test, y_train, y_test = train_test_split(X, y, test_size=0.3, random_state=1)"
   ]
  },
  {
   "cell_type": "markdown",
   "metadata": {},
   "source": [
    "En la siguientes celdas define un proceso para encontrar el hyper parámetro alfa óptimo para una regresión Lasso. Posterior a ello, entrena un modelo Lasso para encontrar las variables más importantes para predecir la variable **y target** (revisa la documentación del data set)"
   ]
  },
  {
   "cell_type": "code",
   "execution_count": 106,
   "metadata": {},
   "outputs": [],
   "source": [
    "# Define aquí el proceso para determinar el alpha óptimo a través de ejecutar un algoritmo de validación cruzada con K = 5\n",
    "alphas = []\n",
    "scores = []\n",
    "# hyperparameter optimization\n",
    "def hyper_lasso(X, y):\n",
    "    best_alpha = 0\n",
    "    highest_score = float('-inf')\n",
    "    for alpha in np.arange(0.1,1000,0.1):\n",
    "        lasso_reg = Lasso(alpha=alpha)\n",
    "        alphas.append(alpha)\n",
    "        curr_score = cross_val_score(lasso_reg, X_train, y_train, cv=5, scoring='neg_mean_squared_error').mean()\n",
    "        scores.append(curr_score)\n",
    "        if curr_score > highest_score:\n",
    "            highest_score = curr_score\n",
    "            best_alpha = alpha\n",
    "    return best_alpha\n",
    "\n",
    "# Determina el mejor alpha para la regresión Lasso\n",
    "alpha_opt = hyper_lasso(X_train, y_train)"
   ]
  },
  {
   "cell_type": "code",
   "execution_count": 107,
   "metadata": {},
   "outputs": [
    {
     "data": {
      "text/plain": [
       "Lasso(alpha=0.1, copy_X=True, fit_intercept=True, max_iter=1000,\n",
       "      normalize=False, positive=False, precompute=False, random_state=None,\n",
       "      selection='cyclic', tol=0.0001, warm_start=False)"
      ]
     },
     "execution_count": 107,
     "metadata": {},
     "output_type": "execute_result"
    }
   ],
   "source": [
    "# Entrena un modelo de regresión Lasso con el alpha óptimo\n",
    "lasso_reg = Lasso(alpha=alpha_opt)\n",
    "lasso_reg.fit(X_train, y_train)"
   ]
  },
  {
   "cell_type": "code",
   "execution_count": 108,
   "metadata": {},
   "outputs": [
    {
     "data": {
      "text/plain": [
       "0.1"
      ]
     },
     "execution_count": 108,
     "metadata": {},
     "output_type": "execute_result"
    }
   ],
   "source": [
    "# ¿Cuál es el valor alfa óptimo?\n",
    "alpha_opt"
   ]
  },
  {
   "cell_type": "code",
   "execution_count": 109,
   "metadata": {},
   "outputs": [
    {
     "data": {
      "text/plain": [
       "(0.7036033498259772, 0.7729045748893623)"
      ]
     },
     "execution_count": 109,
     "metadata": {},
     "output_type": "execute_result"
    }
   ],
   "source": [
    "# Muestra el score de R² para los sets de datos train y test\n",
    "lasso_reg.score(X_train, y_train), lasso_reg.score(X_test, y_test)"
   ]
  },
  {
   "cell_type": "code",
   "execution_count": 115,
   "metadata": {},
   "outputs": [
    {
     "data": {
      "text/plain": [
       "array(['CRIM', 'ZN', 'CHAS', 'NOX', 'RM', 'DIS', 'RAD', 'TAX', 'PTRATIO',\n",
       "       'B', 'LSTAT'], dtype='<U7')"
      ]
     },
     "execution_count": 115,
     "metadata": {},
     "output_type": "execute_result"
    }
   ],
   "source": [
    "# ¿Cuáles son las variables más importantes para predecir la variable target?\n",
    "importancia = np.abs(lasso_reg.coef_)\n",
    "np.array(features)[importancia > 0]"
   ]
  },
  {
   "cell_type": "markdown",
   "metadata": {},
   "source": [
    "# Regresión Logítica\n",
    "En esta sección vas a aprender a optimizar hyper parámetros para un regresión logística con diferentes términos de regularización. Usaremos un problema de clasificación binario para ello, es decir trataremos de predecir si un cliente hará o no default en un crédito. \n",
    "Utilizaremos el data set **credit_data.csv**, puedes ver el layout en la parte de abajo. \n",
    "\n",
    "| Feature name     | Variable Type | Description \n",
    "|------------------|---------------|--------------------------------------------------------\n",
    "| customer_default (target) | Binary        | 1 = default in following month; 0 = no default \n",
    "| LIMIT_BAL        | Continuous    | Credit limit   \n",
    "| SEX              | Categorical   | 1 = male; 2 = female\n",
    "| EDUCATION        | Categorical   | 1 = graduate school; 2 = university; 3 = high school; 4 = others\n",
    "| MARRIAGE         | Categorical   | 0 = unknown; 1 = married; 2 = single; 3 = others\n",
    "| AGE              | Continuous    | Age in years  \n",
    "| PAY1             | Categorical   | Repayment status in September, 2005 \n",
    "| PAY2             | Categorical   | Repayment status in August, 2005 \n",
    "| PAY3             | Categorical   | Repayment status in July, 2005 \n",
    "| PAY4             | Categorical   | Repayment status in June, 2005 \n",
    "| PAY5             | Categorical   | Repayment status in May, 2005 \n",
    "| PAY6             | Categorical   | Repayment status in April, 2005 \n",
    "| BILL_AMT1        | Continuous    | Balance in September, 2005  \n",
    "| BILL_AMT2        | Continuous    | Balance in August, 2005  \n",
    "| BILL_AMT3        | Continuous    | Balance in July, 2005  \n",
    "| BILL_AMT4        | Continuous    | Balance in June, 2005 \n",
    "| BILL_AMT5        | Continuous    | Balance in May, 2005  \n",
    "| BILL_AMT6        | Continuous    | Balance in April, 2005  \n",
    "| PAY_AMT1         | Continuous    | Amount paid in September, 2005\n",
    "| PAY_AMT2         | Continuous    | Amount paid in August, 2005\n",
    "| PAY_AMT3         | Continuous    | Amount paid in July, 2005\n",
    "| PAY_AMT4         | Continuous    | Amount paid in June, 2005\n",
    "| PAY_AMT5         | Continuous    | Amount paid in May, 2005\n",
    "| PAY_AMT6         | Continuous    | Amount paid in April, 2005"
   ]
  },
  {
   "cell_type": "code",
   "execution_count": 7,
   "metadata": {},
   "outputs": [],
   "source": [
    "# Librerías estándar\n",
    "import numpy  as np\n",
    "import pandas as pd\n",
    "\n",
    "import itertools\n",
    "import random\n",
    "\n",
    "# Gráficas\n",
    "import matplotlib.pyplot as plt\n",
    "%matplotlib inline  \n",
    "import seaborn as sns\n",
    "sns.set(style=\"white\")\n",
    "\n",
    "# scikit-learn\n",
    "from sklearn.linear_model    import LogisticRegression\n",
    "from sklearn.linear_model    import Lasso\n",
    "from sklearn.metrics         import confusion_matrix\n",
    "from sklearn.metrics         import roc_curve\n",
    "from sklearn.metrics         import roc_auc_score\n",
    "from sklearn.preprocessing   import StandardScaler\n",
    "from sklearn.model_selection import train_test_split\n",
    "\n",
    "\n",
    "# Ignorar warnings \n",
    "import warnings\n",
    "warnings.filterwarnings('ignore')\n",
    "\n",
    "# Para poder replicar los resultados de problemas aleatorios, es necesario definir una semilla\n",
    "SEED = 1"
   ]
  },
  {
   "cell_type": "code",
   "execution_count": 8,
   "metadata": {},
   "outputs": [],
   "source": [
    "# Define funciones que serán útiles\n",
    "def grafica_matriz_confusion(cm, classes=[0,1], normalize=False, title='Matriz de confusión\\n', cmap=plt.cm.Reds):\n",
    "    \"\"\" \n",
    "    Función para mostrar la matriz de confusión de un problema de clasificación binario. \n",
    "    El parámetro cm puede ser el objeto resultante de ejecutar la función confusion_matrix() de la librería sklearn.\n",
    "    \n",
    "    Args:\n",
    "        cm         matriz de confusión de sklearn\n",
    "        classes    categorías de la variable target\n",
    "        normalize  normaliza asignando el parámetro True\n",
    "        title      string para definir el título para la gráfica\n",
    "        cmap       mapa de colores\n",
    "    \"\"\"\n",
    "    plt.imshow(cm, interpolation='nearest', cmap=cmap)\n",
    "    plt.title(title)\n",
    "    plt.colorbar()\n",
    "    tick_marks = np.arange(len(classes))\n",
    "    plt.xticks(tick_marks, classes, rotation=0)\n",
    "    plt.yticks(tick_marks, classes)\n",
    "    if normalize:\n",
    "        cm = cm.astype('float') / cm.sum(axis=1)[:, np.newaxis]\n",
    "    thresh = cm.max()\n",
    "    text = [[\"VN =\", \"FN =\"], [\"FP =\", \"VP =\"]]\n",
    "    for i, j in itertools.product(range(cm.shape[0]), range(cm.shape[1])):\n",
    "        plt.text(j, i, \"     {}\".format(round (cm[i, j],2)), horizontalalignment=\"left\",\n",
    "                 color=\"white\" if cm[i, j] > thresh else \"black\")\n",
    "    for i, j in itertools.product(range(cm.shape[0]), range(cm.shape[1])):\n",
    "        plt.text(j, i, text[j][i] , horizontalalignment=\"center\",\n",
    "                 color=\"white\" if cm[i, j] > thresh else \"black\")\n",
    "    plt.tight_layout()\n",
    "    plt.ylabel('Valor real')\n",
    "    plt.xlabel('Predicción')\n",
    "    \n",
    "def grafica_curva_roc(fpr, tpr, title='Curva ROC', note=''):\n",
    "    \"\"\"\n",
    "    Función para graficar la curva ROC\n",
    "    Los parámetros fpr y tpr son el output de ejecutar la función roc_curve de sklearn\n",
    "    \n",
    "    Args:\n",
    "        fpr        Tasa de falsos positivos \n",
    "        tpr        Tasa de verdaderos positivos\n",
    "        title      sting para definir el título de la gráfica\n",
    "        note       Nota para mostrar en la gráfica\n",
    "    \"\"\"\n",
    "    plt.figure(1)\n",
    "    plt.plot([0, 1], [0, 1], 'k--')\n",
    "    plt.plot(fpr, tpr)\n",
    "    plt.xlabel('Tasa de falsos positivos ')\n",
    "    plt.ylabel('Tasa de verdaderos positivos')\n",
    "    plt.title(title)\n",
    "    if note: plt.text(0.6, 0.2, note)\n",
    "    plt.show()"
   ]
  },
  {
   "cell_type": "markdown",
   "metadata": {},
   "source": [
    "## Regresión Logística con norma L1 cómo término regularizador\n",
    "Haz todos los pasos necesarios para cargar el set de datos, exploración, preprocesamiento, selección de hyper parámetros, entrenamiento de una regresión logística con la norma L1 como término regularizador, y Evaluación de resultados.\n",
    "**Hint: revisa la documentación de sklearn acerca del objeto LogisticRegression(), especialmente el parámetro penalty para saber cómo definir un modelo de Regresión Logística con norma L1. Se cuidadoso con el parámetro solver, pues dependerá de la norma que elijas**"
   ]
  },
  {
   "cell_type": "code",
   "execution_count": 9,
   "metadata": {},
   "outputs": [],
   "source": [
    "# Load Data\n",
    "data = pd.read_csv(r'data/credit_data.csv')\n",
    "\n",
    "# One-hot-encode SEX and MARRIAGE  \n",
    "data = pd.get_dummies(data = data, columns = ['SEX', 'MARRIAGE'])\n",
    "\n",
    "# Drop the ID column\n",
    "data = data.drop(columns = ['ID'], axis = 1)\n",
    "\n",
    "# Sort Columns alphabetically\n",
    "data = data.reindex(sorted(data.columns), axis=1)\n",
    "\n",
    "# Move target variable to first column (not necessary, but easier to see)\n",
    "data = data.set_index('customer_default').reset_index() \n",
    "\n",
    "# Select target\n",
    "y = np.array(data['customer_default'])\n",
    "\n",
    "# Select features \n",
    "features = list(set(list(data.columns)) - set(['customer_default']))\n",
    "X = data.loc[:, features]"
   ]
  },
  {
   "cell_type": "code",
   "execution_count": 10,
   "metadata": {},
   "outputs": [],
   "source": [
    "# Estandariza los valores de las variables independientes\n",
    "data_values = X.values\n",
    "min_max_scaler = preprocessing.StandardScaler()\n",
    "data_values = min_max_scaler.fit_transform(data_values)\n",
    "X = pd.DataFrame(data_values, columns=X.columns)"
   ]
  },
  {
   "cell_type": "code",
   "execution_count": 11,
   "metadata": {},
   "outputs": [],
   "source": [
    "# Parte los datos\n",
    "X_train, X_test, y_train, y_test = train_test_split(X, y, test_size=0.3, random_state=1)"
   ]
  },
  {
   "cell_type": "code",
   "execution_count": 15,
   "metadata": {},
   "outputs": [],
   "source": [
    "# Define aquí el proceso para determinar el hyper parámetro C óptimo a través de ejecutar un algoritmo de validación cruzada con K = 5\n",
    "C = []\n",
    "scores = []\n",
    "# hyperparameter optimization\n",
    "def hyper_log_reg(X, y):\n",
    "    best_C = 0\n",
    "    highest_score = float('-inf')\n",
    "    for c in np.arange(0.1,10,0.1):\n",
    "        log_reg = LogisticRegression(C=c, penalty='l1', solver='liblinear')\n",
    "        C.append(c)\n",
    "        curr_score = cross_val_score(log_reg, X_train, y_train, cv=5, scoring='roc_auc').mean()\n",
    "        scores.append(curr_score)\n",
    "        if curr_score > highest_score:\n",
    "            highest_score = curr_score\n",
    "            best_C = c\n",
    "    return best_C\n",
    "\n",
    "# Determina el mejor alpha para la regresión Lasso\n",
    "C_opt = hyper_log_reg(X_train, y_train)"
   ]
  },
  {
   "cell_type": "code",
   "execution_count": 16,
   "metadata": {},
   "outputs": [
    {
     "data": {
      "text/plain": [
       "9.9"
      ]
     },
     "execution_count": 16,
     "metadata": {},
     "output_type": "execute_result"
    }
   ],
   "source": [
    "C_opt"
   ]
  },
  {
   "cell_type": "code",
   "execution_count": 237,
   "metadata": {},
   "outputs": [
    {
     "data": {
      "text/plain": [
       "LogisticRegression(C=7.4, class_weight=None, dual=False, fit_intercept=True,\n",
       "                   intercept_scaling=1, l1_ratio=None, max_iter=100,\n",
       "                   multi_class='auto', n_jobs=None, penalty='l1',\n",
       "                   random_state=None, solver='liblinear', tol=0.0001, verbose=0,\n",
       "                   warm_start=False)"
      ]
     },
     "execution_count": 237,
     "metadata": {},
     "output_type": "execute_result"
    }
   ],
   "source": [
    "log_reg = LogisticRegression(C=C_opt, penalty='l1', solver='liblinear')\n",
    "log_reg.fit(X_train,y_train)"
   ]
  },
  {
   "cell_type": "code",
   "execution_count": 238,
   "metadata": {},
   "outputs": [],
   "source": [
    "# Determina la predicción para y\n",
    "y_pred = log_reg.predict(X_test)\n",
    "y_pred_proba = log_reg.predict_proba(X_test)"
   ]
  },
  {
   "cell_type": "code",
   "execution_count": 239,
   "metadata": {},
   "outputs": [
    {
     "data": {
      "image/png": "[encoded data removed]",
      "text/plain": [
       "<Figure size 432x288 with 2 Axes>"
      ]
     },
     "metadata": {},
     "output_type": "display_data"
    }
   ],
   "source": [
    "# Muestra la matriz de confusión\n",
    "matriz_confusion = confusion_matrix(y_test, y_pred)  \n",
    "grafica_matriz_confusion(matriz_confusion)"
   ]
  },
  {
   "cell_type": "code",
   "execution_count": 240,
   "metadata": {},
   "outputs": [
    {
     "name": "stdout",
     "output_type": "stream",
     "text": [
      "# Errores = 1723\n",
      "% Erroress = 0.19144444444444444\n"
     ]
    }
   ],
   "source": [
    "# Cuántos errores cometimos?\n",
    "error = matriz_confusion[0][1] + matriz_confusion[1][0]\n",
    "print('# Errores =', error)\n",
    "print('% Erroress =', error/len(y_pred))"
   ]
  },
  {
   "cell_type": "code",
   "execution_count": 241,
   "metadata": {},
   "outputs": [
    {
     "name": "stdout",
     "output_type": "stream",
     "text": [
      "# Aciertos = 7277\n",
      "% Efectividad = 0.8085555555555556\n",
      "Otra forma de calcular la efectividad = 0.8085555555555556\n"
     ]
    }
   ],
   "source": [
    "# Calcula la efectividad\n",
    "efectividad = matriz_confusion[0][0] + matriz_confusion[1][1]\n",
    "print('# Aciertos =', efectividad)\n",
    "print('% Efectividad =', efectividad/len(y_pred))\n",
    "print('Otra forma de calcular la efectividad =', 1-(error/len(y_pred)))"
   ]
  },
  {
   "cell_type": "code",
   "execution_count": 242,
   "metadata": {},
   "outputs": [
    {
     "name": "stdout",
     "output_type": "stream",
     "text": [
      "% Recall = 0.232\n",
      "% Precisión = 0.7127496159754224\n"
     ]
    }
   ],
   "source": [
    "# Calcula el recall y la precisión de la predicción\n",
    "print('% Recall =', matriz_confusion[1][1]/(matriz_confusion[1][1] + matriz_confusion[1][0]))\n",
    "print('% Precisión =', matriz_confusion[1][1]/(matriz_confusion[1][1] + matriz_confusion[0][1]))"
   ]
  },
  {
   "cell_type": "code",
   "execution_count": 243,
   "metadata": {},
   "outputs": [
    {
     "data": {
      "image/png": "[encoded data removed]",
      "text/plain": [
       "<Figure size 432x288 with 1 Axes>"
      ]
     },
     "metadata": {},
     "output_type": "display_data"
    }
   ],
   "source": [
    "# Calcula la tasa de falsos positivos y la tasa de verdaderos positivos para poder graficar la curva ROC, y para calcular la métrica ROC AUC\n",
    "fpr, tpr, _ = roc_curve(y_test, y_pred)\n",
    "auc = roc_auc_score(y_test, y_pred_proba[:,1])\n",
    "grafica_curva_roc(fpr, tpr, 'Curva ROC', note='ROC AUC: {0:.4f}'.format(auc))"
   ]
  },
  {
   "cell_type": "markdown",
   "metadata": {},
   "source": [
    "## Regresión Logística con norma L2 cómo término regularizador\n",
    "Haz todos los pasos necesarios para cargar el set de datos, exploración, preprocesamiento, selección de hyper parámetros, entrenamiento de una regresión logística con la norma L2 como término regularizador, y Evaluación de resultados.\n",
    "**Hint: revisa la documentación de sklearn acerca del objeto LogisticRegression(), especialmente el parámetro penalty para saber cómo definir un modelo de Regresión Logística con norma L2. Se cuidadoso con el parámetro solver, pues dependerá de la norma que elijas**"
   ]
  },
  {
   "cell_type": "code",
   "execution_count": null,
   "metadata": {},
   "outputs": [],
   "source": [
    "# Se deja como ejercicio, pues es muy similar al ejercicio anterior, lo único que cambia es el término regularizador"
   ]
  },
  {
   "cell_type": "markdown",
   "metadata": {},
   "source": [
    "## Regresión Logística con norma L1 + L2 cómo término regularizador\n",
    "Haz todos los pasos necesarios para cargar el set de datos, exploración, preprocesamiento, selección de hyper parámetros, entrenamiento de una regresión logística con la norma L1 + L2 como término regularizador, y Evaluación de resultados.\n",
    "**Hint: revisa la documentación de sklearn acerca del objeto LogisticRegression(), especialmente el parámetro penalty para saber cómo definir un modelo de Regresión Logística con norma L1 + L2. Se cuidadoso con el parámetro solver, pues dependerá de la norma que elijas**"
   ]
  },
  {
   "cell_type": "code",
   "execution_count": null,
   "metadata": {},
   "outputs": [],
   "source": [
    "# Se deja como ejercicio, pues es muy similar al ejercicio anterior, lo único que cambia es el término regularizador"
   ]
  },
  {
   "cell_type": "markdown",
   "metadata": {},
   "source": [
    "# [Stretch] Selecciona el modelo ganador, considera la métrica ROC AUC para hacer la evaluación"
   ]
  }
 ],
 "metadata": {
  "kernelspec": {
   "display_name": "Python 3 (ipykernel)",
   "language": "python",
   "name": "python3"
  },
  "language_info": {
   "codemirror_mode": {
    "name": "ipython",
    "version": 3
   },
   "file_extension": ".py",
   "mimetype": "text/x-python",
   "name": "python",
   "nbconvert_exporter": "python",
   "pygments_lexer": "ipython3",
   "version": "3.8.1"
  },
  "toc": {
   "base_numbering": 1,
   "nav_menu": {},
   "number_sections": true,
   "sideBar": true,
   "skip_h1_title": false,
   "title_cell": "Table of Contents",
   "title_sidebar": "Contents",
   "toc_cell": false,
   "toc_position": {},
   "toc_section_display": true,
   "toc_window_display": false
  },
  "varInspector": {
   "cols": {
    "lenName": 16,
    "lenType": 16,
    "lenVar": 40
   },
   "kernels_config": {
    "python": {
     "delete_cmd_postfix": "",
     "delete_cmd_prefix": "del ",
     "library": "var_list.py",
     "varRefreshCmd": "print(var_dic_list())"
    },
    "r": {
     "delete_cmd_postfix": ") ",
     "delete_cmd_prefix": "rm(",
     "library": "var_list.r",
     "varRefreshCmd": "cat(var_dic_list()) "
    }
   },
   "types_to_exclude": [
    "module",
    "function",
    "builtin_function_or_method",
    "instance",
    "_Feature"
   ],
   "window_display": false
  }
 },
 "nbformat": 4,
 "nbformat_minor": 4
}
