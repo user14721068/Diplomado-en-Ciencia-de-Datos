{
 "cells": [
  {
   "cell_type": "markdown",
   "id": "6fc4e615",
   "metadata": {},
   "source": [
    "# Prediciendo la supervivencia en Titanic"
   ]
  },
  {
   "cell_type": "markdown",
   "id": "f1e0cdc9",
   "metadata": {},
   "source": [
    "En esta parte vas a usar diferentes modelos para predecir la supervivencia en Titanic. Utiliza el data set llamado 'titanic.xls'. Estas son las variables:\n",
    "\n",
    "* name: Nombre del pasajero\n",
    "* sex: Sexo del pasajero\n",
    "* age: edad en años\n",
    "* sibsp: # de hermanos / esposas abordo del Titanic\n",
    "* parch: # de padres / niños abordo del Titanic\n",
    "* ticket: Número de Boleto del barco\n",
    "* fare: Precio del Boleto del barco\n",
    "* cabin: Número de camarote\n",
    "* embarked: Puerto de embarcación\n",
    "* survived: Sobrevivió?"
   ]
  },
  {
   "cell_type": "code",
   "execution_count": 1,
   "id": "16632c49",
   "metadata": {
    "ExecuteTime": {
     "end_time": "2022-03-19T15:04:49.518649Z",
     "start_time": "2022-03-19T15:04:48.351914Z"
    }
   },
   "outputs": [],
   "source": [
    "# Librerías estándar\n",
    "import pandas as pd\n",
    "import numpy as np\n",
    "import itertools\n",
    "import matplotlib.pyplot as plt\n",
    "\n",
    "# Librerías de Ciencia de Datos\n",
    "from sklearn.model_selection import learning_curve\n",
    "from sklearn.model_selection import validation_curve\n",
    "from sklearn.model_selection import StratifiedShuffleSplit\n",
    "from sklearn.model_selection import train_test_split\n",
    "from sklearn.model_selection import StratifiedKFold\n",
    "from sklearn.metrics         import confusion_matrix\n",
    "from sklearn.metrics         import roc_curve\n",
    "from sklearn.metrics         import roc_auc_score\n",
    "from sklearn.ensemble        import RandomForestClassifier, ExtraTreesClassifier\n",
    "from sklearn.neighbors       import KNeighborsClassifier\n",
    "from sklearn.dummy           import DummyClassifier\n",
    "from sklearn.linear_model    import LogisticRegression\n",
    "from sklearn.pipeline        import Pipeline\n",
    "from sklearn.svm             import SVC\n",
    "from sklearn.tree            import DecisionTreeClassifier\n",
    "from sklearn.preprocessing   import StandardScaler\n",
    "from sklearn.model_selection import cross_val_predict\n",
    "from sklearn.model_selection import cross_val_score\n",
    "from sklearn import preprocessing\n",
    "from sklearn.inspection import permutation_importance\n",
    "\n",
    "# import seaborn as sns\n",
    "%matplotlib inline"
   ]
  },
  {
   "cell_type": "code",
   "execution_count": 2,
   "id": "79b189bd",
   "metadata": {
    "ExecuteTime": {
     "end_time": "2022-03-19T15:05:44.743096Z",
     "start_time": "2022-03-19T15:05:44.731247Z"
    }
   },
   "outputs": [],
   "source": [
    "# Definir funciones útiles\n",
    "def grafica_matriz_confusion(cm, classes=[0,1], normalize=False, title='Matriz de confusión\\n', cmap=plt.cm.Reds):\n",
    "    \"\"\" \n",
    "    Función para mostrar la matriz de confusión de un problema de clasificación binario. \n",
    "    El parámetro cm puede ser el objeto resultante de ejecutar la función confusion_matrix() de la librería sklearn.\n",
    "    \n",
    "    Args:\n",
    "        cm         matriz de confusión de sklearn\n",
    "        classes    categorías de la variable target\n",
    "        normalize  normaliza asignando el parámetro True\n",
    "        title      string para definir el título para la gráfica\n",
    "        cmap       mapa de colores\n",
    "    \"\"\"\n",
    "    plt.imshow(cm, interpolation='nearest', cmap=cmap)\n",
    "    plt.title(title)\n",
    "    plt.colorbar()\n",
    "    tick_marks = np.arange(len(classes))\n",
    "    plt.xticks(tick_marks, classes, rotation=0)\n",
    "    plt.yticks(tick_marks, classes)\n",
    "    if normalize:\n",
    "        cm = cm.astype('float') / cm.sum(axis=1)[:, np.newaxis]\n",
    "    thresh = cm.max()\n",
    "    text = [[\"VN =\", \"FN =\"], [\"FP =\", \"VP =\"]]\n",
    "    for i, j in itertools.product(range(cm.shape[0]), range(cm.shape[1])):\n",
    "        plt.text(j, i, \"     {}\".format(round (cm[i, j],2)), horizontalalignment=\"left\",\n",
    "                 color=\"white\" if cm[i, j] > thresh else \"black\")\n",
    "    for i, j in itertools.product(range(cm.shape[0]), range(cm.shape[1])):\n",
    "        plt.text(j, i, text[j][i] , horizontalalignment=\"center\",\n",
    "                 color=\"white\" if cm[i, j] > thresh else \"black\")\n",
    "    plt.tight_layout()\n",
    "    plt.ylabel('Valor real')\n",
    "    plt.xlabel('Predicción')\n",
    "    \n",
    "def grafica_curva_roc(fpr, tpr, title='Curva ROC', note=''):\n",
    "    \"\"\"\n",
    "    Función para graficar la curva ROC\n",
    "    Los parámetros fpr y tpr son el output de ejecutar la función roc_curve de sklearn\n",
    "    \n",
    "    Args:\n",
    "        fpr        Tasa de falsos positivos \n",
    "        tpr        Tasa de verdaderos positivos\n",
    "        title      sting para definir el título de la gráfica\n",
    "        note       Nota para mostrar en la gráfica\n",
    "    \"\"\"\n",
    "    plt.figure(1)\n",
    "    plt.plot([0, 1], [0, 1], 'k--')\n",
    "    plt.plot(fpr, tpr)\n",
    "    plt.xlabel('Tasa de falsos positivos ')\n",
    "    plt.ylabel('Tasa de verdaderos positivos')\n",
    "    plt.title(title)\n",
    "    if note: plt.text(0.6, 0.2, note)\n",
    "    plt.show()\n",
    "    \n",
    "## Compara las métricas de los modelos anteriores\n",
    "def print_metrics(classifier_name, metric_1_list, metric_2_list, metric_3_list, metric_4_list): \n",
    "    dash = '-' * 80\n",
    "    print(dash)\n",
    "    print('{:<20s}{:<15s}{:<15s}{:<15s}{:<15s}'.format('Clasificador','Efectividad', 'ROC AUC', 'recall', 'precision'))\n",
    "    print(dash)\n",
    "    for i in range(len(classifier_name)):\n",
    "        print('{:<20s}{:<15.3f}{:<15.3f}{:<15.3f}{:<15.3f}'.format(classifier_name[i], metric_1_list[i], metric_2_list[i], metric_3_list[i], metric_4_list[i]))\n",
    "    print(dash)"
   ]
  },
  {
   "cell_type": "markdown",
   "id": "15298431",
   "metadata": {
    "ExecuteTime": {
     "end_time": "2022-03-19T11:46:57.673895Z",
     "start_time": "2022-03-19T11:46:57.671453Z"
    }
   },
   "source": [
    "## Explora y preprocesa el Data set"
   ]
  },
  {
   "cell_type": "code",
   "execution_count": 3,
   "id": "c2eb4fa2",
   "metadata": {
    "ExecuteTime": {
     "end_time": "2022-03-19T15:06:01.386589Z",
     "start_time": "2022-03-19T15:06:01.307030Z"
    }
   },
   "outputs": [
    {
     "data": {
      "text/html": [
       "<div>\n",
       "<style scoped>\n",
       "    .dataframe tbody tr th:only-of-type {\n",
       "        vertical-align: middle;\n",
       "    }\n",
       "\n",
       "    .dataframe tbody tr th {\n",
       "        vertical-align: top;\n",
       "    }\n",
       "\n",
       "    .dataframe thead th {\n",
       "        text-align: right;\n",
       "    }\n",
       "</style>\n",
       "<table border=\"1\" class=\"dataframe\">\n",
       "  <thead>\n",
       "    <tr style=\"text-align: right;\">\n",
       "      <th></th>\n",
       "      <th>survived</th>\n",
       "      <th>name</th>\n",
       "      <th>sex</th>\n",
       "      <th>age</th>\n",
       "      <th>sibsp</th>\n",
       "      <th>parch</th>\n",
       "      <th>ticket</th>\n",
       "      <th>fare</th>\n",
       "      <th>cabin</th>\n",
       "      <th>embarked</th>\n",
       "    </tr>\n",
       "  </thead>\n",
       "  <tbody>\n",
       "    <tr>\n",
       "      <th>0</th>\n",
       "      <td>1</td>\n",
       "      <td>Allen, Miss. Elisabeth Walton</td>\n",
       "      <td>female</td>\n",
       "      <td>29.0000</td>\n",
       "      <td>0</td>\n",
       "      <td>0</td>\n",
       "      <td>24160</td>\n",
       "      <td>211.3375</td>\n",
       "      <td>B5</td>\n",
       "      <td>S</td>\n",
       "    </tr>\n",
       "    <tr>\n",
       "      <th>1</th>\n",
       "      <td>1</td>\n",
       "      <td>Allison, Master. Hudson Trevor</td>\n",
       "      <td>male</td>\n",
       "      <td>0.9167</td>\n",
       "      <td>1</td>\n",
       "      <td>2</td>\n",
       "      <td>113781</td>\n",
       "      <td>151.5500</td>\n",
       "      <td>C22 C26</td>\n",
       "      <td>S</td>\n",
       "    </tr>\n",
       "    <tr>\n",
       "      <th>2</th>\n",
       "      <td>0</td>\n",
       "      <td>Allison, Miss. Helen Loraine</td>\n",
       "      <td>female</td>\n",
       "      <td>2.0000</td>\n",
       "      <td>1</td>\n",
       "      <td>2</td>\n",
       "      <td>113781</td>\n",
       "      <td>151.5500</td>\n",
       "      <td>C22 C26</td>\n",
       "      <td>S</td>\n",
       "    </tr>\n",
       "    <tr>\n",
       "      <th>3</th>\n",
       "      <td>0</td>\n",
       "      <td>Allison, Mr. Hudson Joshua Creighton</td>\n",
       "      <td>male</td>\n",
       "      <td>30.0000</td>\n",
       "      <td>1</td>\n",
       "      <td>2</td>\n",
       "      <td>113781</td>\n",
       "      <td>151.5500</td>\n",
       "      <td>C22 C26</td>\n",
       "      <td>S</td>\n",
       "    </tr>\n",
       "    <tr>\n",
       "      <th>4</th>\n",
       "      <td>0</td>\n",
       "      <td>Allison, Mrs. Hudson J C (Bessie Waldo Daniels)</td>\n",
       "      <td>female</td>\n",
       "      <td>25.0000</td>\n",
       "      <td>1</td>\n",
       "      <td>2</td>\n",
       "      <td>113781</td>\n",
       "      <td>151.5500</td>\n",
       "      <td>C22 C26</td>\n",
       "      <td>S</td>\n",
       "    </tr>\n",
       "  </tbody>\n",
       "</table>\n",
       "</div>"
      ],
      "text/plain": [
       "   survived                                             name     sex      age  \\\n",
       "0         1                    Allen, Miss. Elisabeth Walton  female  29.0000   \n",
       "1         1                   Allison, Master. Hudson Trevor    male   0.9167   \n",
       "2         0                     Allison, Miss. Helen Loraine  female   2.0000   \n",
       "3         0             Allison, Mr. Hudson Joshua Creighton    male  30.0000   \n",
       "4         0  Allison, Mrs. Hudson J C (Bessie Waldo Daniels)  female  25.0000   \n",
       "\n",
       "   sibsp  parch  ticket      fare    cabin embarked  \n",
       "0      0      0   24160  211.3375       B5        S  \n",
       "1      1      2  113781  151.5500  C22 C26        S  \n",
       "2      1      2  113781  151.5500  C22 C26        S  \n",
       "3      1      2  113781  151.5500  C22 C26        S  \n",
       "4      1      2  113781  151.5500  C22 C26        S  "
      ]
     },
     "execution_count": 3,
     "metadata": {},
     "output_type": "execute_result"
    }
   ],
   "source": [
    "# Carga los datos\n",
    "titanic = pd.read_excel('titanic.xls')\n",
    "titanic.head(5)"
   ]
  },
  {
   "cell_type": "code",
   "execution_count": 4,
   "id": "eb80039d",
   "metadata": {
    "ExecuteTime": {
     "end_time": "2022-03-19T15:08:34.655639Z",
     "start_time": "2022-03-19T15:08:34.649601Z"
    }
   },
   "outputs": [
    {
     "name": "stdout",
     "output_type": "stream",
     "text": [
      "Sobrevivientes 500, Muertos 809\n",
      "Sobrevivieron 38.20%\n"
     ]
    }
   ],
   "source": [
    "# Analiza la variable target\n",
    "dead = titanic[titanic['survived']==0]\n",
    "survived = titanic[titanic['survived']==1]\n",
    "\n",
    "print(\"Sobrevivientes {0}, Muertos {1}\".format(len(survived), len(dead)))\n",
    "print(\"Sobrevivieron {:.2%}\".format(len(survived)/len(titanic)))"
   ]
  },
  {
   "cell_type": "code",
   "execution_count": 5,
   "id": "70f6572c",
   "metadata": {
    "ExecuteTime": {
     "end_time": "2022-03-19T15:09:56.092335Z",
     "start_time": "2022-03-19T15:09:56.089989Z"
    }
   },
   "outputs": [],
   "source": [
    "# Delimita variables a usar. Cuáles tienen sentido?\n",
    "titanic_features = ['sex', 'age', 'sibsp', 'parch', 'fare']"
   ]
  },
  {
   "cell_type": "code",
   "execution_count": 6,
   "id": "a7ad73a6",
   "metadata": {
    "ExecuteTime": {
     "end_time": "2022-03-19T15:09:58.779876Z",
     "start_time": "2022-03-19T15:09:58.773019Z"
    }
   },
   "outputs": [],
   "source": [
    "# Define X e y y transforma variables categóricas con one-hot encoding\n",
    "X = pd.get_dummies(titanic[titanic_features])\n",
    "y = titanic['survived']"
   ]
  },
  {
   "cell_type": "code",
   "execution_count": 8,
   "id": "fe32169d",
   "metadata": {
    "ExecuteTime": {
     "end_time": "2022-03-19T15:10:39.812478Z",
     "start_time": "2022-03-19T15:10:39.802879Z"
    }
   },
   "outputs": [
    {
     "name": "stdout",
     "output_type": "stream",
     "text": [
      "Valores missing en el data set X: 264\n",
      "Valores missing después de imputación en el data set X: 0\n"
     ]
    }
   ],
   "source": [
    "# Hay valores missing? En caso de ser cierto, imputalos\n",
    "print(\"Valores missing en el data set X: {0}\".format(len(X[X.isna().any(axis=1)])))\n",
    "\n",
    "# Imputa con la media\n",
    "X = X.fillna(X.mean())\n",
    "\n",
    "# Verifica si sigue habiendo valores missing\n",
    "print(\"Valores missing después de imputación en el data set X: {0}\".format(len(X[X.isna().any(axis=1)])))"
   ]
  },
  {
   "cell_type": "code",
   "execution_count": 9,
   "id": "c5de4062",
   "metadata": {
    "ExecuteTime": {
     "end_time": "2022-03-19T15:11:40.266689Z",
     "start_time": "2022-03-19T15:11:40.262488Z"
    }
   },
   "outputs": [],
   "source": [
    "# Normaliza los valores de las variables independientes\n",
    "data_values = X.values\n",
    "min_max_scaler = preprocessing.MinMaxScaler()\n",
    "data_values = min_max_scaler.fit_transform(data_values)\n",
    "X = pd.DataFrame(data_values, columns=X.columns)"
   ]
  },
  {
   "cell_type": "code",
   "execution_count": 10,
   "id": "c9d012ca",
   "metadata": {
    "ExecuteTime": {
     "end_time": "2022-03-19T15:11:50.030576Z",
     "start_time": "2022-03-19T15:11:50.025927Z"
    }
   },
   "outputs": [],
   "source": [
    "# Separa los datos en train y test con 30% de datos para test.\n",
    "X_train, X_test, y_train, y_test = train_test_split(X, y, test_size=0.3, random_state=1)\n",
    "\n",
    "# Define una semilla \n",
    "SEED = 12345"
   ]
  },
  {
   "cell_type": "markdown",
   "id": "ce487836",
   "metadata": {
    "ExecuteTime": {
     "end_time": "2022-03-19T11:54:37.061839Z",
     "start_time": "2022-03-19T11:54:37.059729Z"
    }
   },
   "source": [
    "## Entrena una regresión Logística con término regularizador L2"
   ]
  },
  {
   "cell_type": "code",
   "execution_count": 11,
   "id": "e7539f4a",
   "metadata": {
    "ExecuteTime": {
     "end_time": "2022-03-19T15:12:14.756309Z",
     "start_time": "2022-03-19T15:12:14.753514Z"
    }
   },
   "outputs": [],
   "source": [
    "# Utiliza el siguiente espacio para los valores que puede tomar el hyper parámetro C\n",
    "C_values = np.logspace(-4, 6, 10, base = 10)"
   ]
  },
  {
   "cell_type": "code",
   "execution_count": 12,
   "id": "5d97e07a",
   "metadata": {
    "ExecuteTime": {
     "end_time": "2022-03-19T15:16:27.637094Z",
     "start_time": "2022-03-19T15:16:25.481299Z"
    }
   },
   "outputs": [],
   "source": [
    "# 3-Fold CV\n",
    "cv_schema = StratifiedKFold(n_splits=3, random_state=SEED, shuffle = True)\n",
    "N_JOBS = -1\n",
    "\n",
    "# Define un pipeline con toda la información del modelo\n",
    "estimators = []\n",
    "estimators.append(('logit_model_l2', LogisticRegression()))\n",
    "pipeline = Pipeline(estimators)\n",
    "pipeline.set_params(logit_model_l2__penalty='l2')\n",
    "pipeline.set_params(logit_model_l2__random_state = SEED)\n",
    "pipeline.set_params(logit_model_l2__solver = 'lbfgs')\n",
    "pipeline.set_params(logit_model_l2__n_jobs = N_JOBS)\n",
    "pipeline\n",
    "\n",
    "# Utiliza la función validation_curve para entrenar y validar varios modelos (tantos como valores para el hyper parámetro C)\n",
    "train_scores, test_scores = validation_curve(pipeline, X_train, y_train, \n",
    "                                              param_name = 'logit_model_l2__C', \n",
    "                                              param_range  = C_values, \n",
    "                                              cv = cv_schema, scoring = 'accuracy', n_jobs = N_JOBS)\n"
   ]
  },
  {
   "cell_type": "code",
   "execution_count": 13,
   "id": "7adbaa25",
   "metadata": {
    "ExecuteTime": {
     "end_time": "2022-03-19T15:23:40.915457Z",
     "start_time": "2022-03-19T15:23:40.452957Z"
    }
   },
   "outputs": [
    {
     "data": {
      "image/png": "[encoded data removed]",
      "text/plain": [
       "<Figure size 432x288 with 1 Axes>"
      ]
     },
     "metadata": {
      "needs_background": "light"
     },
     "output_type": "display_data"
    }
   ],
   "source": [
    "# Gráfica los resultados para todos los valores del hyper parámetro C\n",
    "# Saca el promedio de los resultados obtenidos en la parte de arriba\n",
    "train_scores_mean_cv = np.mean(train_scores, axis = 1)\n",
    "test_scores_mean_cv = np.mean(test_scores, axis = 1)\n",
    "\n",
    "# Escoge el valor de C tal que:\n",
    "# Maximice la efectividad en el test de validación\n",
    "# Minimice la diferencia entre la métrica de efectividad en el set de datos de entrenamiento y validación\n",
    "choose_index_list = list(np.array(test_scores_mean_cv) - np.abs((np.array(train_scores_mean_cv)-np.array(test_scores_mean_cv))))\n",
    "choose_index = choose_index_list.index(np.max(choose_index_list))\n",
    "\n",
    "# Guarda el valor óptimo para C\n",
    "optimum_parameter = C_values[choose_index]\n",
    "\n",
    "# Gráfica las curvas de efectividad en el set de datos de train y test\n",
    "import matplotlib.lines as mlines\n",
    "def plot_score_metric_train_test(SM_list_train, SM_list_test, param_range,choose_index, value_parameter, symbol_parameter):\n",
    "    plt.plot(param_range, SM_list_train, color = 'r')\n",
    "    plt.plot(param_range, SM_list_test, 'b')\n",
    "    plt.axvline(x = optimum_parameter, color = 'g')\n",
    "    plt.title('Trade-off entre sesgo y varianza')\n",
    "    plt.xlabel('Hyper parámetro {0}'.format(symbol_parameter))\n",
    "    plt.ylabel('Efectividad')\n",
    "    plt.ylim(0.0, 1.1)\n",
    "    plt.xscale('log')\n",
    "\n",
    "    train = mlines.Line2D([], [], color='r', marker='',\n",
    "                              markersize=15, label='Curva en train')\n",
    "    test = mlines.Line2D([], [], color='b', marker='',\n",
    "                              markersize=15, label='Curva en test')\n",
    "    opt_value = mlines.Line2D([], [], color='g', marker='',\n",
    "                              markersize=15, label='Valor óptimo: {0:.5f}'.format(value_parameter))\n",
    "    plt.legend(handles=[train, test, opt_value])\n",
    "    plt.show()\n",
    "    \n",
    "# Gráfica las curvas de performance en cada set de datos\n",
    "plot_score_metric_train_test(train_scores_mean_cv, test_scores_mean_cv, C_values,choose_index, optimum_parameter, 'C')"
   ]
  },
  {
   "cell_type": "code",
   "execution_count": 14,
   "id": "c993810f",
   "metadata": {
    "ExecuteTime": {
     "end_time": "2022-03-19T15:24:01.682119Z",
     "start_time": "2022-03-19T15:24:01.679237Z"
    }
   },
   "outputs": [
    {
     "name": "stdout",
     "output_type": "stream",
     "text": [
      "Valor óptimo para C es: 2.78256\n"
     ]
    }
   ],
   "source": [
    "# Imprime el mejor valor para C\n",
    "print(\"Valor óptimo para C es: {0:.5f}\".format(optimum_parameter))"
   ]
  },
  {
   "cell_type": "code",
   "execution_count": 15,
   "id": "6eb8268b",
   "metadata": {
    "ExecuteTime": {
     "end_time": "2022-03-19T15:24:16.702856Z",
     "start_time": "2022-03-19T15:24:16.697787Z"
    }
   },
   "outputs": [
    {
     "name": "stdout",
     "output_type": "stream",
     "text": [
      "----------------------------------------------------------------------------------------------------\n",
      "Valor de Hyper parámetro      Efectividad media en train         Efectividad media en test\n",
      "----------------------------------------------------------------------------------------------------\n",
      "0.0001                        0.626                              0.626                    \n",
      "0.0013                        0.626                              0.626                    \n",
      "0.0167                        0.776                              0.776                    \n",
      "0.2154                        0.776                              0.776                    \n",
      "2.7826                        0.778                              0.777                    \n",
      "35.9381                       0.776                              0.770                    \n",
      "464.1589                      0.776                              0.772                    \n",
      "5994.8425                     0.776                              0.772                    \n",
      "77426.3683                    0.776                              0.772                    \n",
      "1000000.0000                  0.776                              0.772                    \n",
      "----------------------------------------------------------------------------------------------------\n"
     ]
    }
   ],
   "source": [
    "# Imprime las métricas de efectividad en train y test para cada valor de C\n",
    "def print_cv_validation_scores(parameter, train_accu_mean_scores, test_accu_mean_scores): \n",
    "    dash = '-' * 100\n",
    "    print(dash)\n",
    "    print('{:<30s}{:<35s}{:<25s}'.format('Valor de Hyper parámetro','Efectividad media en train', 'Efectividad media en test'))\n",
    "    print(dash)\n",
    "    for i in range(len(parameter)):\n",
    "        print('{:<30.4f}{:<35.3f}{:<25.3f}'.format(parameter[i], train_accu_mean_scores[i], test_accu_mean_scores[i]))\n",
    "    print(dash)\n",
    "\n",
    "print_cv_validation_scores(C_values, train_scores_mean_cv, test_scores_mean_cv)"
   ]
  },
  {
   "cell_type": "code",
   "execution_count": 16,
   "id": "c1e70ae9",
   "metadata": {
    "ExecuteTime": {
     "end_time": "2022-03-19T15:25:41.240468Z",
     "start_time": "2022-03-19T15:25:40.119630Z"
    }
   },
   "outputs": [
    {
     "name": "stdout",
     "output_type": "stream",
     "text": [
      "Efectividad del modelo: 79.13%\n"
     ]
    }
   ],
   "source": [
    "# Entrena un modelo final con el hyper parámetro C óptimo\n",
    "pipeline.set_params(logit_model_l2__C = optimum_parameter)\n",
    "logit_model_l2 = pipeline.named_steps['logit_model_l2'] \n",
    "logit_model_l2.fit(X_train,y_train)\n",
    "accu_logit_model_l2 = logit_model_l2.score(X_test,y_test)\n",
    "print (\"Efectividad del modelo: {0:.2f}%\".format(100*accu_logit_model_l2))"
   ]
  },
  {
   "cell_type": "code",
   "execution_count": 17,
   "id": "b5e78bac",
   "metadata": {
    "ExecuteTime": {
     "end_time": "2022-03-19T15:25:51.937571Z",
     "start_time": "2022-03-19T15:25:51.932545Z"
    }
   },
   "outputs": [],
   "source": [
    "# Haz una predicción\n",
    "y_pred_logit = logit_model_l2.predict(X_test)\n",
    "y_pred_proba_logit = logit_model_l2.predict_proba(X_test)"
   ]
  },
  {
   "cell_type": "code",
   "execution_count": 18,
   "id": "01ffe196",
   "metadata": {
    "ExecuteTime": {
     "end_time": "2022-03-19T15:27:00.223991Z",
     "start_time": "2022-03-19T15:27:00.096061Z"
    }
   },
   "outputs": [
    {
     "name": "stdout",
     "output_type": "stream",
     "text": [
      "# Errores = 82.0000\n",
      "% Erroress = 0.2087\n",
      "# Aciertos = 311.0000\n",
      "% Efectividad = 0.7913\n",
      "Otra forma de calcular la efectividad = 0.7913\n",
      "% Recall = 0.7006\n",
      "% Precisión = 0.7586\n"
     ]
    },
    {
     "data": {
      "image/png": "[encoded data removed]",
      "text/plain": [
       "<Figure size 432x288 with 1 Axes>"
      ]
     },
     "metadata": {
      "needs_background": "light"
     },
     "output_type": "display_data"
    }
   ],
   "source": [
    "# Calcula métricas de performance de un modelo\n",
    "matriz_confusion_logit = confusion_matrix(y_test, y_pred_logit)  \n",
    "\n",
    "# Cuántos errores cometimos?\n",
    "error_logit = matriz_confusion_logit[0][1] + matriz_confusion_logit[1][0]\n",
    "print('# Errores = {0:.4f}'.format(error_logit))\n",
    "print('% Erroress = {0:.4f}'.format(error_logit/len(y_pred_logit)))\n",
    "\n",
    "# Calcula la efectividad\n",
    "efectividad_logit = matriz_confusion_logit[0][0] + matriz_confusion_logit[1][1]\n",
    "print('# Aciertos = {0:.4f}'.format(efectividad_logit))\n",
    "print('% Efectividad = {0:.4f}'.format(efectividad_logit/len(y_pred_logit)))\n",
    "print('Otra forma de calcular la efectividad = {0:.4f}'.format(1-(error_logit/len(y_pred_logit))))\n",
    "\n",
    "# Calcula el recall y la precisión de la predicción\n",
    "recall_logit = matriz_confusion_logit[1][1]/(matriz_confusion_logit[1][1] + matriz_confusion_logit[1][0])\n",
    "precision_logit = matriz_confusion_logit[1][1]/(matriz_confusion_logit[1][1] + matriz_confusion_logit[0][1])\n",
    "print('% Recall = {0:.4f}'.format(recall_logit))\n",
    "print('% Precisión = {0:.4f}'.format(precision_logit))\n",
    "\n",
    "# Calcula la tasa de falsos positivos y la tasa de verdaderos positivos para poder graficar la curva ROC, y para calcular la métrica ROC AUC\n",
    "fpr_logit, tpr_logit, _ = roc_curve(y_test, y_pred_logit)\n",
    "auc_logit = roc_auc_score(y_test, y_pred_logit)\n",
    "grafica_curva_roc(fpr_logit, tpr_logit, 'Curva ROC', note='ROC AUC: {0:.4f}'.format(auc_logit))"
   ]
  },
  {
   "cell_type": "markdown",
   "id": "cdb444c8",
   "metadata": {},
   "source": [
    "## Entrena modelos ensamble"
   ]
  },
  {
   "cell_type": "markdown",
   "id": "30e74548",
   "metadata": {},
   "source": [
    "### Bosque aleatorio"
   ]
  },
  {
   "cell_type": "code",
   "execution_count": 19,
   "id": "6fa3623a",
   "metadata": {
    "ExecuteTime": {
     "end_time": "2022-03-19T15:28:41.902794Z",
     "start_time": "2022-03-19T15:28:41.900033Z"
    }
   },
   "outputs": [],
   "source": [
    "# Utiliza el siguiente espacio para los valores que puede tomar el hyper parámetro n\n",
    "n_values = [10, 50, 150, 200, 250]"
   ]
  },
  {
   "cell_type": "code",
   "execution_count": 20,
   "id": "b6073b25",
   "metadata": {
    "ExecuteTime": {
     "end_time": "2022-03-19T15:30:38.576464Z",
     "start_time": "2022-03-19T15:30:37.119184Z"
    }
   },
   "outputs": [],
   "source": [
    "# 3-Fold CV\n",
    "cv_schema = StratifiedKFold(n_splits=3, random_state=SEED, shuffle = True)\n",
    "N_JOBS = -1\n",
    "\n",
    "# Define un pipeline con toda la información del modelo\n",
    "estimators = []\n",
    "estimators.append(('standardize', StandardScaler()))\n",
    "estimators.append(('forest_model', RandomForestClassifier()))\n",
    "pipeline = Pipeline(estimators)\n",
    "pipeline.set_params(forest_model__random_state=SEED)\n",
    "pipeline\n",
    "\n",
    "# Utiliza la función validation_curve para entrenar y validar varios modelos (tantos como valores para el hyper parámetro n)\n",
    "train_scores, test_scores = validation_curve(pipeline, X_train, y_train, \n",
    "                                              param_name = 'forest_model__n_estimators', \n",
    "                                              param_range  = n_values, \n",
    "                                              cv = cv_schema, scoring = 'accuracy', n_jobs = N_JOBS)"
   ]
  },
  {
   "cell_type": "code",
   "execution_count": 21,
   "id": "266020db",
   "metadata": {
    "ExecuteTime": {
     "end_time": "2022-03-19T15:30:50.163025Z",
     "start_time": "2022-03-19T15:30:49.853779Z"
    }
   },
   "outputs": [
    {
     "data": {
      "image/png": "[encoded data removed]",
      "text/plain": [
       "<Figure size 432x288 with 1 Axes>"
      ]
     },
     "metadata": {
      "needs_background": "light"
     },
     "output_type": "display_data"
    }
   ],
   "source": [
    "# Gráfica los resultados para todos los valores del hyper parámetro n\n",
    "# Saca el promedio de los resultados obtenidos en la parte de arriba\n",
    "train_scores_mean_cv = np.mean(train_scores, axis = 1)\n",
    "test_scores_mean_cv = np.mean(test_scores, axis = 1)\n",
    "\n",
    "# Escoge el valor de n tal que:\n",
    "# Maximice la efectividad en el test de validación\n",
    "# Minimice la diferencia entre la métrica de efectividad en el set de datos de entrenamiento y validación\n",
    "choose_index_list = list(np.array(test_scores_mean_cv) - np.abs((np.array(train_scores_mean_cv)-np.array(test_scores_mean_cv))))\n",
    "choose_index = choose_index_list.index(np.max(choose_index_list))\n",
    "\n",
    "# Guarda el valor óptimo para n \n",
    "optimum_parameter = n_values[choose_index]\n",
    "\n",
    "# Gráfica las curvas de efectividad en el set de datos de train y test\n",
    "import matplotlib.lines as mlines\n",
    "def plot_score_metric_train_test(SM_list_train, SM_list_test, param_range,choose_index, value_parameter, symbol_parameter):\n",
    "    plt.plot(param_range, SM_list_train, color = 'r')\n",
    "    plt.plot(param_range, SM_list_test, 'b')\n",
    "    plt.axvline(x = optimum_parameter, color = 'g')\n",
    "    plt.title('Trade-off entre sesgo y varianza')\n",
    "    plt.xlabel('Hyper parámetro {0}'.format(symbol_parameter))\n",
    "    plt.ylabel('Efectividad')\n",
    "    plt.ylim(0.0, 1.1)\n",
    "    plt.xscale('log')\n",
    "\n",
    "    train = mlines.Line2D([], [], color='r', marker='',\n",
    "                              markersize=15, label='Curva en train')\n",
    "    test = mlines.Line2D([], [], color='b', marker='',\n",
    "                              markersize=15, label='Curva en test')\n",
    "    opt_value = mlines.Line2D([], [], color='g', marker='',\n",
    "                              markersize=15, label='Valor óptimo: {0:.5f}'.format(value_parameter))\n",
    "    plt.legend(handles=[train, test, opt_value])\n",
    "    plt.show()\n",
    "    \n",
    "# Gráfica las curvas de performance en cada set de datos\n",
    "plot_score_metric_train_test(train_scores_mean_cv, test_scores_mean_cv, n_values,choose_index, optimum_parameter, 'n')"
   ]
  },
  {
   "cell_type": "code",
   "execution_count": 22,
   "id": "d62e76dd",
   "metadata": {
    "ExecuteTime": {
     "end_time": "2022-03-19T15:31:59.420178Z",
     "start_time": "2022-03-19T15:31:59.416829Z"
    }
   },
   "outputs": [
    {
     "name": "stdout",
     "output_type": "stream",
     "text": [
      "Valor óptimo para n es: 10.00000\n"
     ]
    }
   ],
   "source": [
    "# Imprime el mejor valor para n\n",
    "print(\"Valor óptimo para n es: {0:.5f}\".format(optimum_parameter))"
   ]
  },
  {
   "cell_type": "code",
   "execution_count": 23,
   "id": "301b57da",
   "metadata": {
    "ExecuteTime": {
     "end_time": "2022-03-19T15:32:10.816540Z",
     "start_time": "2022-03-19T15:32:10.811672Z"
    }
   },
   "outputs": [
    {
     "name": "stdout",
     "output_type": "stream",
     "text": [
      "----------------------------------------------------------------------------------------------------\n",
      "Valor de Hyper parámetro      Efectividad media en train         Efectividad media en test\n",
      "----------------------------------------------------------------------------------------------------\n",
      "10.0000                       0.963                              0.776                    \n",
      "50.0000                       0.979                              0.776                    \n",
      "150.0000                      0.979                              0.776                    \n",
      "200.0000                      0.979                              0.781                    \n",
      "250.0000                      0.979                              0.780                    \n",
      "----------------------------------------------------------------------------------------------------\n"
     ]
    }
   ],
   "source": [
    "# Imprime las métricas de efectividad en train y test para cada valor de C\n",
    "def print_cv_validation_scores(parameter, train_accu_mean_scores, test_accu_mean_scores): \n",
    "    dash = '-' * 100\n",
    "    print(dash)\n",
    "    print('{:<30s}{:<35s}{:<25s}'.format('Valor de Hyper parámetro','Efectividad media en train', 'Efectividad media en test'))\n",
    "    print(dash)\n",
    "    for i in range(len(parameter)):\n",
    "        print('{:<30.4f}{:<35.3f}{:<25.3f}'.format(parameter[i], train_accu_mean_scores[i], test_accu_mean_scores[i]))\n",
    "    print(dash)\n",
    "\n",
    "print_cv_validation_scores(n_values, train_scores_mean_cv, test_scores_mean_cv)"
   ]
  },
  {
   "cell_type": "code",
   "execution_count": 24,
   "id": "930118d6",
   "metadata": {
    "ExecuteTime": {
     "end_time": "2022-03-19T15:33:02.492637Z",
     "start_time": "2022-03-19T15:33:02.462578Z"
    }
   },
   "outputs": [
    {
     "name": "stdout",
     "output_type": "stream",
     "text": [
      "Efectividad del modelo: 79.13%\n"
     ]
    }
   ],
   "source": [
    "# Entrena un modelo final con el hyper parámetro n óptimo\n",
    "pipeline.set_params(forest_model__n_estimators = optimum_parameter)\n",
    "rf = pipeline.named_steps['forest_model'] \n",
    "rf.fit(X_train,y_train)\n",
    "accu_rf = rf.score(X_test,y_test)\n",
    "print (\"Efectividad del modelo: {0:.2f}%\".format(100*accu_rf))"
   ]
  },
  {
   "cell_type": "code",
   "execution_count": 25,
   "id": "1ab90d1b",
   "metadata": {
    "ExecuteTime": {
     "end_time": "2022-03-19T15:33:12.984541Z",
     "start_time": "2022-03-19T15:33:12.974198Z"
    }
   },
   "outputs": [],
   "source": [
    "# Haz una predicción\n",
    "y_pred_rf = rf.predict(X_test)\n",
    "y_pred_proba_rf = rf.predict_proba(X_test)"
   ]
  },
  {
   "cell_type": "code",
   "execution_count": 26,
   "id": "bfb4c23e",
   "metadata": {
    "ExecuteTime": {
     "end_time": "2022-03-19T15:33:30.759095Z",
     "start_time": "2022-03-19T15:33:30.628799Z"
    }
   },
   "outputs": [
    {
     "name": "stdout",
     "output_type": "stream",
     "text": [
      "# Errores = 82.0000\n",
      "% Erroress = 0.2087\n",
      "# Aciertos = 311.0000\n",
      "% Efectividad = 0.7913\n",
      "Otra forma de calcular la efectividad = 0.7913\n",
      "% Recall = 0.6752\n",
      "% Precisión = 0.7737\n"
     ]
    },
    {
     "data": {
      "image/png": "[encoded data removed]",
      "text/plain": [
       "<Figure size 432x288 with 1 Axes>"
      ]
     },
     "metadata": {
      "needs_background": "light"
     },
     "output_type": "display_data"
    }
   ],
   "source": [
    "# Calcula métricas de performance de un modelo\n",
    "matriz_confusion_rf = confusion_matrix(y_test, y_pred_rf)  \n",
    "\n",
    "# Cuántos errores cometimos?\n",
    "error_rf = matriz_confusion_rf[0][1] + matriz_confusion_rf[1][0]\n",
    "print('# Errores = {0:.4f}'.format(error_rf))\n",
    "print('% Erroress = {0:.4f}'.format(error_rf/len(y_pred_rf)))\n",
    "\n",
    "# Calcula la efectividad\n",
    "efectividad_rf = matriz_confusion_rf[0][0] + matriz_confusion_rf[1][1]\n",
    "print('# Aciertos = {0:.4f}'.format(efectividad_rf))\n",
    "print('% Efectividad = {0:.4f}'.format(efectividad_rf/len(y_pred_rf)))\n",
    "print('Otra forma de calcular la efectividad = {0:.4f}'.format(1-(error_rf/len(y_pred_rf))))\n",
    "\n",
    "# Calcula el recall y la precisión de la predicción\n",
    "recall_rf = matriz_confusion_rf[1][1]/(matriz_confusion_rf[1][1] + matriz_confusion_rf[1][0])\n",
    "precision_rf = matriz_confusion_rf[1][1]/(matriz_confusion_rf[1][1] + matriz_confusion_rf[0][1])\n",
    "print('% Recall = {0:.4f}'.format(recall_rf))\n",
    "print('% Precisión = {0:.4f}'.format(precision_rf))\n",
    "\n",
    "# Calcula la tasa de falsos positivos y la tasa de verdaderos positivos para poder graficar la curva ROC, y para calcular la métrica ROC AUC\n",
    "fpr_rf, tpr_rf, _ = roc_curve(y_test, y_pred_rf)\n",
    "auc_rf = roc_auc_score(y_test, y_pred_rf)\n",
    "grafica_curva_roc(fpr_rf, tpr_rf, 'Curva ROC', note='ROC AUC: {0:.4f}'.format(auc_rf))"
   ]
  },
  {
   "cell_type": "markdown",
   "id": "39a24097",
   "metadata": {},
   "source": [
    "Para este modelo, determine la importancia de variables"
   ]
  },
  {
   "cell_type": "code",
   "execution_count": 27,
   "id": "736b1d6f",
   "metadata": {
    "ExecuteTime": {
     "end_time": "2022-03-19T15:34:30.482272Z",
     "start_time": "2022-03-19T15:34:30.360332Z"
    }
   },
   "outputs": [
    {
     "data": {
      "image/png": "[encoded data removed]",
      "text/plain": [
       "<Figure size 432x288 with 1 Axes>"
      ]
     },
     "metadata": {
      "needs_background": "light"
     },
     "output_type": "display_data"
    }
   ],
   "source": [
    "# Utiliza el atributo llamado feature_importances_ del modelo random forest\n",
    "sorted_idx = rf.feature_importances_.argsort()\n",
    "plt.barh(X.columns[sorted_idx], rf.feature_importances_[sorted_idx])\n",
    "plt.xlabel(\"Importancia de variables para el modelo de Bosque aleatorio\")\n",
    "plt.show()"
   ]
  },
  {
   "cell_type": "markdown",
   "id": "e82ad6fc",
   "metadata": {},
   "source": [
    "### Modelo de árboles extra"
   ]
  },
  {
   "cell_type": "code",
   "execution_count": 28,
   "id": "724a1aad",
   "metadata": {
    "ExecuteTime": {
     "end_time": "2022-03-19T15:35:40.829618Z",
     "start_time": "2022-03-19T15:35:40.826888Z"
    }
   },
   "outputs": [],
   "source": [
    "# Utiliza el siguiente espacio para los valores que puede tomar el hyper parámetro n\n",
    "n_values = [10, 50, 150, 200, 250]"
   ]
  },
  {
   "cell_type": "code",
   "execution_count": 29,
   "id": "99696907",
   "metadata": {
    "ExecuteTime": {
     "end_time": "2022-03-19T15:36:19.379782Z",
     "start_time": "2022-03-19T15:36:17.348461Z"
    }
   },
   "outputs": [],
   "source": [
    "# 3-Fold CV\n",
    "cv_schema = StratifiedKFold(n_splits=3, random_state=SEED, shuffle = True)\n",
    "N_JOBS = -1\n",
    "\n",
    "# Define un pipeline con toda la información del modelo\n",
    "estimators = []\n",
    "estimators.append(('standardize', StandardScaler()))\n",
    "estimators.append(('extra_trees', ExtraTreesClassifier()))\n",
    "pipeline = Pipeline(estimators)\n",
    "pipeline.set_params(extra_trees__random_state=SEED)\n",
    "pipeline\n",
    "\n",
    "# Utiliza la función validation_curve para entrenar y validar varios modelos (tantos como valores para el hyper parámetro n)\n",
    "train_scores, test_scores = validation_curve(pipeline, X_train, y_train, \n",
    "                                              param_name = 'extra_trees__n_estimators', \n",
    "                                              param_range  = n_values, \n",
    "                                              cv = cv_schema, scoring = 'accuracy', n_jobs = N_JOBS)"
   ]
  },
  {
   "cell_type": "code",
   "execution_count": 30,
   "id": "227c091f",
   "metadata": {
    "ExecuteTime": {
     "end_time": "2022-03-19T15:36:26.547153Z",
     "start_time": "2022-03-19T15:36:26.229975Z"
    }
   },
   "outputs": [
    {
     "data": {
      "image/png": "[encoded data removed]",
      "text/plain": [
       "<Figure size 432x288 with 1 Axes>"
      ]
     },
     "metadata": {
      "needs_background": "light"
     },
     "output_type": "display_data"
    }
   ],
   "source": [
    "# Gráfica los resultados para todos los valores del hyper parámetro n\n",
    "# Saca el promedio de los resultados obtenidos en la parte de arriba\n",
    "train_scores_mean_cv = np.mean(train_scores, axis = 1)\n",
    "test_scores_mean_cv = np.mean(test_scores, axis = 1)\n",
    "\n",
    "# Escoge el valor de n tal que:\n",
    "# Maximice la efectividad en el test de validación\n",
    "# Minimice la diferencia entre la métrica de efectividad en el set de datos de entrenamiento y validación\n",
    "choose_index_list = list(np.array(test_scores_mean_cv) - np.abs((np.array(train_scores_mean_cv)-np.array(test_scores_mean_cv))))\n",
    "choose_index = choose_index_list.index(np.max(choose_index_list))\n",
    "\n",
    "# Guarda el valor óptimo para n \n",
    "optimum_parameter = n_values[choose_index]\n",
    "\n",
    "# Gráfica las curvas de efectividad en el set de datos de train y test\n",
    "import matplotlib.lines as mlines\n",
    "def plot_score_metric_train_test(SM_list_train, SM_list_test, param_range,choose_index, value_parameter, symbol_parameter):\n",
    "    plt.plot(param_range, SM_list_train, color = 'r')\n",
    "    plt.plot(param_range, SM_list_test, 'b')\n",
    "    plt.axvline(x = optimum_parameter, color = 'g')\n",
    "    plt.title('Trade-off entre sesgo y varianza')\n",
    "    plt.xlabel('Hyper parámetro {0}'.format(symbol_parameter))\n",
    "    plt.ylabel('Efectividad')\n",
    "    plt.ylim(0.0, 1.1)\n",
    "    plt.xscale('log')\n",
    "\n",
    "    train = mlines.Line2D([], [], color='r', marker='',\n",
    "                              markersize=15, label='Curva en train')\n",
    "    test = mlines.Line2D([], [], color='b', marker='',\n",
    "                              markersize=15, label='Curva en test')\n",
    "    opt_value = mlines.Line2D([], [], color='g', marker='',\n",
    "                              markersize=15, label='Valor óptimo: {0:.5f}'.format(value_parameter))\n",
    "    plt.legend(handles=[train, test, opt_value])\n",
    "    plt.show()\n",
    "    \n",
    "# Gráfica las curvas de performance en cada set de datos\n",
    "plot_score_metric_train_test(train_scores_mean_cv, test_scores_mean_cv, n_values,choose_index, optimum_parameter, 'n')"
   ]
  },
  {
   "cell_type": "code",
   "execution_count": 31,
   "id": "9bc42233",
   "metadata": {
    "ExecuteTime": {
     "end_time": "2022-03-19T15:36:32.977231Z",
     "start_time": "2022-03-19T15:36:32.974401Z"
    }
   },
   "outputs": [
    {
     "name": "stdout",
     "output_type": "stream",
     "text": [
      "Valor óptimo para n es: 150.00000\n"
     ]
    }
   ],
   "source": [
    "# Imprime el mejor valor para n\n",
    "print(\"Valor óptimo para n es: {0:.5f}\".format(optimum_parameter))"
   ]
  },
  {
   "cell_type": "code",
   "execution_count": 32,
   "id": "d8ef6c92",
   "metadata": {
    "ExecuteTime": {
     "end_time": "2022-03-19T15:37:01.603688Z",
     "start_time": "2022-03-19T15:37:01.598701Z"
    }
   },
   "outputs": [
    {
     "name": "stdout",
     "output_type": "stream",
     "text": [
      "----------------------------------------------------------------------------------------------------\n",
      "Valor de Hyper parámetro      Efectividad media en train         Efectividad media en test\n",
      "----------------------------------------------------------------------------------------------------\n",
      "10.0000                       0.979                              0.757                    \n",
      "50.0000                       0.979                              0.760                    \n",
      "150.0000                      0.979                              0.766                    \n",
      "200.0000                      0.979                              0.766                    \n",
      "250.0000                      0.979                              0.764                    \n",
      "----------------------------------------------------------------------------------------------------\n"
     ]
    }
   ],
   "source": [
    "# Imprime las métricas de efectividad en train y test para cada valor de C\n",
    "def print_cv_validation_scores(parameter, train_accu_mean_scores, test_accu_mean_scores): \n",
    "    dash = '-' * 100\n",
    "    print(dash)\n",
    "    print('{:<30s}{:<35s}{:<25s}'.format('Valor de Hyper parámetro','Efectividad media en train', 'Efectividad media en test'))\n",
    "    print(dash)\n",
    "    for i in range(len(parameter)):\n",
    "        print('{:<30.4f}{:<35.3f}{:<25.3f}'.format(parameter[i], train_accu_mean_scores[i], test_accu_mean_scores[i]))\n",
    "    print(dash)\n",
    "\n",
    "print_cv_validation_scores(n_values, train_scores_mean_cv, test_scores_mean_cv)"
   ]
  },
  {
   "cell_type": "code",
   "execution_count": 33,
   "id": "faffe1d6",
   "metadata": {
    "ExecuteTime": {
     "end_time": "2022-03-19T15:40:09.218906Z",
     "start_time": "2022-03-19T15:40:09.003866Z"
    }
   },
   "outputs": [
    {
     "name": "stdout",
     "output_type": "stream",
     "text": [
      "Efectividad del modelo: 77.86%\n"
     ]
    }
   ],
   "source": [
    "# Entrena un modelo final con el hyper parámetro C óptimo\n",
    "pipeline.set_params(extra_trees__n_estimators = optimum_parameter)\n",
    "extra = pipeline.named_steps['extra_trees'] \n",
    "extra.fit(X_train,y_train)\n",
    "accu_extra = extra.score(X_test,y_test)\n",
    "print (\"Efectividad del modelo: {0:.2f}%\".format(100*accu_extra))"
   ]
  },
  {
   "cell_type": "code",
   "execution_count": 34,
   "id": "67b1a423",
   "metadata": {
    "ExecuteTime": {
     "end_time": "2022-03-19T15:40:18.466000Z",
     "start_time": "2022-03-19T15:40:18.401140Z"
    }
   },
   "outputs": [],
   "source": [
    "# Haz una predicción\n",
    "y_pred_extra =extra.predict(X_test)\n",
    "y_pred_proba_extra =extra.predict_proba(X_test)"
   ]
  },
  {
   "cell_type": "code",
   "execution_count": 35,
   "id": "6a842586",
   "metadata": {
    "ExecuteTime": {
     "end_time": "2022-03-19T15:40:21.962674Z",
     "start_time": "2022-03-19T15:40:21.838055Z"
    }
   },
   "outputs": [
    {
     "name": "stdout",
     "output_type": "stream",
     "text": [
      "# Errores = 87.0000\n",
      "% Erroress = 0.2214\n",
      "# Aciertos = 306.0000\n",
      "% Efectividad = 0.7786\n",
      "Otra forma de calcular la efectividad = 0.7786\n",
      "% Recall = 0.6879\n",
      "% Precisión = 0.7397\n"
     ]
    },
    {
     "data": {
      "image/png": "[encoded data removed]",
      "text/plain": [
       "<Figure size 432x288 with 1 Axes>"
      ]
     },
     "metadata": {
      "needs_background": "light"
     },
     "output_type": "display_data"
    }
   ],
   "source": [
    "# Calcula métricas de performance de un modelo\n",
    "matriz_confusion_extra = confusion_matrix(y_test, y_pred_extra)  \n",
    "\n",
    "# Cuántos errores cometimos?\n",
    "error_extra = matriz_confusion_extra[0][1] + matriz_confusion_extra[1][0]\n",
    "print('# Errores = {0:.4f}'.format(error_extra))\n",
    "print('% Erroress = {0:.4f}'.format(error_extra/len(y_pred_extra)))\n",
    "\n",
    "# Calcula la efectividad\n",
    "efectividad_extra = matriz_confusion_extra[0][0] + matriz_confusion_extra[1][1]\n",
    "print('# Aciertos = {0:.4f}'.format(efectividad_extra))\n",
    "print('% Efectividad = {0:.4f}'.format(efectividad_extra/len(y_pred_extra)))\n",
    "print('Otra forma de calcular la efectividad = {0:.4f}'.format(1-(error_extra/len(y_pred_extra))))\n",
    "\n",
    "# Calcula el recall y la precisión de la predicción\n",
    "recall_extra = matriz_confusion_extra[1][1]/(matriz_confusion_extra[1][1] + matriz_confusion_extra[1][0])\n",
    "precision_extra = matriz_confusion_extra[1][1]/(matriz_confusion_extra[1][1] + matriz_confusion_extra[0][1])\n",
    "print('% Recall = {0:.4f}'.format(recall_extra))\n",
    "print('% Precisión = {0:.4f}'.format(precision_extra))\n",
    "\n",
    "# Calcula la tasa de falsos positivos y la tasa de verdaderos positivos para poder graficar la curva ROC, y para calcular la métrica ROC AUC\n",
    "fpr_extra, tpr_extra, _ = roc_curve(y_test, y_pred_extra)\n",
    "auc_extra = roc_auc_score(y_test, y_pred_extra)\n",
    "grafica_curva_roc(fpr_extra, tpr_extra, 'Curva ROC', note='ROC AUC: {0:.4f}'.format(auc_extra))"
   ]
  },
  {
   "cell_type": "markdown",
   "id": "af1ce3d4",
   "metadata": {},
   "source": [
    "Para este modelo, determine la importancia de variables también"
   ]
  },
  {
   "cell_type": "code",
   "execution_count": 36,
   "id": "25cdbea9",
   "metadata": {
    "ExecuteTime": {
     "end_time": "2022-03-19T15:41:06.540903Z",
     "start_time": "2022-03-19T15:41:06.394937Z"
    }
   },
   "outputs": [
    {
     "data": {
      "image/png": "[encoded data removed]",
      "text/plain": [
       "<Figure size 432x288 with 1 Axes>"
      ]
     },
     "metadata": {
      "needs_background": "light"
     },
     "output_type": "display_data"
    }
   ],
   "source": [
    "# Utiliza el atributo llamado feature_importances_ del modelo random forest\n",
    "sorted_idx = extra.feature_importances_.argsort()\n",
    "plt.barh(X.columns[sorted_idx], extra.feature_importances_[sorted_idx])\n",
    "plt.xlabel(\"Importancia de variables para el modelo de árboles extras\")\n",
    "plt.show()"
   ]
  },
  {
   "cell_type": "markdown",
   "id": "a6aa079b",
   "metadata": {},
   "source": [
    "## Compara los modelos"
   ]
  },
  {
   "cell_type": "code",
   "execution_count": 37,
   "id": "ecf77f98",
   "metadata": {
    "ExecuteTime": {
     "end_time": "2022-03-19T15:43:32.891085Z",
     "start_time": "2022-03-19T15:43:32.886322Z"
    }
   },
   "outputs": [
    {
     "name": "stdout",
     "output_type": "stream",
     "text": [
      "--------------------------------------------------------------------------------\n",
      "Clasificador        Efectividad    ROC AUC        recall         precision      \n",
      "--------------------------------------------------------------------------------\n",
      "logit_model_l2      0.791          0.776          0.701          0.759          \n",
      "rf                  0.791          0.772          0.675          0.774          \n",
      "extra trees         0.779          0.763          0.688          0.740          \n",
      "--------------------------------------------------------------------------------\n"
     ]
    }
   ],
   "source": [
    "# Agrega las métricas del modelo ensamble\n",
    "classifiers = ['logit_model_l2', 'rf', 'extra trees']\n",
    "accuracy = [efectividad_logit/len(y_pred_logit), efectividad_rf/len(y_pred_rf), efectividad_extra/len(y_pred_extra)]\n",
    "roc_auc = [auc_logit, auc_rf, auc_extra]\n",
    "recall = [recall_logit, recall_rf, recall_extra]\n",
    "precision = [precision_logit, precision_rf, precision_extra]\n",
    "\n",
    "# Imprime tabla de resultados\n",
    "print_metrics(classifiers, accuracy, roc_auc, recall, precision)"
   ]
  },
  {
   "cell_type": "code",
   "execution_count": 38,
   "id": "5549a389",
   "metadata": {
    "ExecuteTime": {
     "end_time": "2022-03-19T15:49:35.898914Z",
     "start_time": "2022-03-19T15:45:49.058873Z"
    }
   },
   "outputs": [
    {
     "name": "stdout",
     "output_type": "stream",
     "text": [
      "95% CIs\n",
      "Knn: [0.703547, 0.774777], con media: 0.740829\n",
      "logit_model_l2: [0.729695, 0.790746], con media: 0.760560\n",
      "Extra Trees: [0.706091, 0.771177], con media: 0.739288\n"
     ]
    }
   ],
   "source": [
    "## Selecciona el mejor modelo utilizando bootstrap\n",
    "num_records = y.shape[0]\n",
    "bootstrap_errors_logit_model_l2 = []\n",
    "bootstrap_errors_rf = []\n",
    "bootstrap_errors_extra = []\n",
    "for i in range(1000):\n",
    "    train_indices = np.random.choice(range(num_records), num_records, replace=True)\n",
    "    test_indices = np.setdiff1d(range(num_records), train_indices)\n",
    "    X_train_b, y_train_b = np.array(X)[train_indices], y[train_indices]\n",
    "    X_test_b, y_test_b = np.array(X)[test_indices], y[test_indices]\n",
    "    \n",
    "    # Logit model L2\n",
    "    logit_model_l2.fit(X_train_b, y_train_b)\n",
    "    bootstrap_errors_logit_model_l2.append(roc_auc_score(y_test_b, logit_model_l2.predict(X_test_b)))\n",
    "    \n",
    "    # RF model\n",
    "    rf.fit(X_train_b, y_train_b)\n",
    "    bootstrap_errors_rf.append(roc_auc_score(y_test_b, rf.predict(X_test_b)))\n",
    "    \n",
    "    # Extra trees\n",
    "    extra.fit(X_train_b, y_train_b)\n",
    "    bootstrap_errors_extra.append(roc_auc_score(y_test_b, extra.predict(X_test_b)))\n",
    "    \n",
    "bootstrap_errors_sorted_logit_model_l2 = np.sort(bootstrap_errors_logit_model_l2)\n",
    "bootstrap_errors_sorted_rf = np.sort(bootstrap_errors_rf)\n",
    "bootstrap_errors_sorted_extra = np.sort(bootstrap_errors_extra)\n",
    "\n",
    "mean_error_rf = bootstrap_errors_sorted_rf.mean()\n",
    "mean_error_logit_model_l2 = bootstrap_errors_sorted_logit_model_l2.mean()\n",
    "mean_error_extra = bootstrap_errors_sorted_extra.mean()\n",
    "\n",
    "errors = [mean_error_rf, mean_error_logit_model_l2, mean_error_extra]\n",
    "\n",
    "deviation_rf = bootstrap_errors_sorted_rf - mean_error_rf\n",
    "deviation_logit_model_l2 = bootstrap_errors_sorted_logit_model_l2 - mean_error_logit_model_l2\n",
    "deviation_extra = bootstrap_errors_sorted_extra - mean_error_extra\n",
    "\n",
    "print('95% CIs')\n",
    "print('RF: [{:f}, {:f}], con media: {:f}'.format(bootstrap_errors_sorted_rf[25], bootstrap_errors_sorted_rf[975], mean_error_rf))\n",
    "print('logit_model_l2: [{:f}, {:f}], con media: {:f}'.format(bootstrap_errors_sorted_logit_model_l2[25], bootstrap_errors_sorted_logit_model_l2[975], mean_error_logit_model_l2))\n",
    "print('Extra Trees: [{:f}, {:f}], con media: {:f}'.format(bootstrap_errors_sorted_extra[25], bootstrap_errors_sorted_extra[975], mean_error_extra))"
   ]
  },
  {
   "cell_type": "code",
   "execution_count": 39,
   "id": "7f908980",
   "metadata": {
    "ExecuteTime": {
     "end_time": "2022-03-19T15:51:08.814490Z",
     "start_time": "2022-03-19T15:51:08.710320Z"
    }
   },
   "outputs": [
    {
     "data": {
      "image/png": "[encoded data removed]",
      "text/plain": [
       "<Figure size 432x288 with 1 Axes>"
      ]
     },
     "metadata": {
      "needs_background": "light"
     },
     "output_type": "display_data"
    }
   ],
   "source": [
    "# grafica resultados\n",
    "xpos = np.arange(len(errors))\n",
    "plt.bar(xpos, errors, align='center', alpha=0.5, ecolor='black', capsize=10)\n",
    "plt.xticks(xpos, ('RF model', 'Logit L2 model', 'Extra Trees'))\n",
    "plt.ylabel('ROC AUC')\n",
    "plt.title('Comparison of the Models')\n",
    "plt.show()"
   ]
  },
  {
   "cell_type": "code",
   "execution_count": 40,
   "id": "db2fa42e",
   "metadata": {
    "ExecuteTime": {
     "end_time": "2022-03-19T15:51:16.446641Z",
     "start_time": "2022-03-19T15:51:16.162567Z"
    }
   },
   "outputs": [
    {
     "data": {
      "image/png": "[encoded data removed]",
      "text/plain": [
       "<Figure size 1800x360 with 3 Axes>"
      ]
     },
     "metadata": {
      "needs_background": "light"
     },
     "output_type": "display_data"
    }
   ],
   "source": [
    "# Checa si los resultados tienen una distribución simétrica\n",
    "fig, ax = plt.subplots(1,3,figsize=(25,5))\n",
    "ax[0].hist(bootstrap_errors_sorted_rf, color = 'b')\n",
    "ax[0].set_title(\"Histogram - {}\".format('RF model'))\n",
    "\n",
    "ax[1].hist(bootstrap_errors_sorted_logit_model_l2)\n",
    "ax[1].set_title(\"Histogram - {}\".format('Logit L2 model'))\n",
    "\n",
    "ax[2].hist(bootstrap_errors_sorted_extra, color = 'green')\n",
    "ax[2].set_title(\"Histogram - {}\".format('Extra Trees model'))\n",
    "\n",
    "plt.show()"
   ]
  }
 ],
 "metadata": {
  "kernelspec": {
   "display_name": "Python 3",
   "language": "python",
   "name": "python3"
  },
  "language_info": {
   "codemirror_mode": {
    "name": "ipython",
    "version": 3
   },
   "file_extension": ".py",
   "mimetype": "text/x-python",
   "name": "python",
   "nbconvert_exporter": "python",
   "pygments_lexer": "ipython3",
   "version": "3.7.7"
  },
  "toc": {
   "base_numbering": 1,
   "nav_menu": {},
   "number_sections": true,
   "sideBar": true,
   "skip_h1_title": false,
   "title_cell": "Table of Contents",
   "title_sidebar": "Contents",
   "toc_cell": false,
   "toc_position": {},
   "toc_section_display": true,
   "toc_window_display": false
  },
  "varInspector": {
   "cols": {
    "lenName": 16,
    "lenType": 16,
    "lenVar": 40
   },
   "kernels_config": {
    "python": {
     "delete_cmd_postfix": "",
     "delete_cmd_prefix": "del ",
     "library": "var_list.py",
     "varRefreshCmd": "print(var_dic_list())"
    },
    "r": {
     "delete_cmd_postfix": ") ",
     "delete_cmd_prefix": "rm(",
     "library": "var_list.r",
     "varRefreshCmd": "cat(var_dic_list()) "
    }
   },
   "types_to_exclude": [
    "module",
    "function",
    "builtin_function_or_method",
    "instance",
    "_Feature"
   ],
   "window_display": false
  }
 },
 "nbformat": 4,
 "nbformat_minor": 5
}
