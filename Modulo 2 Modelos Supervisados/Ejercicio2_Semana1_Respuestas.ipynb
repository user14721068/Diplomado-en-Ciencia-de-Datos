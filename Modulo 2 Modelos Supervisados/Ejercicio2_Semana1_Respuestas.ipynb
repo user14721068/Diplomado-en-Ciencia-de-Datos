{
 "cells": [
  {
   "cell_type": "markdown",
   "metadata": {},
   "source": [
    "# Importar librerías"
   ]
  },
  {
   "cell_type": "code",
   "execution_count": 1,
   "metadata": {},
   "outputs": [],
   "source": [
    "# Imports estándar\n",
    "import numpy as np\n",
    "import pandas as pd\n",
    "%matplotlib inline\n",
    "import matplotlib.pyplot as plt\n",
    "%load_ext autoreload\n",
    "%autoreload 2\n",
    "import datetime\n",
    "\n",
    "# scikit-learn\n",
    "from sklearn.dummy           import DummyClassifier\n",
    "from sklearn.linear_model    import LogisticRegression\n",
    "from sklearn.linear_model    import LinearRegression\n",
    "from sklearn.linear_model    import Lasso\n",
    "from sklearn.metrics         import confusion_matrix\n",
    "from sklearn.metrics         import roc_curve\n",
    "from sklearn.metrics         import roc_auc_score\n",
    "from sklearn.preprocessing   import StandardScaler\n",
    "from sklearn.model_selection import train_test_split"
   ]
  },
  {
   "cell_type": "markdown",
   "metadata": {},
   "source": [
    "# Definir funciones que nos serán útiles"
   ]
  },
  {
   "cell_type": "code",
   "execution_count": 2,
   "metadata": {},
   "outputs": [],
   "source": [
    "def estandarizacion(X):\n",
    "    \"\"\" \n",
    "    Función para estandarizar una variable\n",
    "    \n",
    "    Args:\n",
    "        x     set de variables independientes\n",
    "    \"\"\"\n",
    "    media_X = np.mean(X)\n",
    "    X = X - media_X\n",
    "    std_X = np.std(X)\n",
    "    X = X / std_X\n",
    "    return X, media_X, std_X"
   ]
  },
  {
   "cell_type": "markdown",
   "metadata": {},
   "source": [
    "# Importar set de datos"
   ]
  },
  {
   "cell_type": "code",
   "execution_count": 3,
   "metadata": {},
   "outputs": [],
   "source": [
    "# Importar datos\n",
    "data = pd.read_csv('data/height_weight_genders.csv')"
   ]
  },
  {
   "cell_type": "code",
   "execution_count": 4,
   "metadata": {},
   "outputs": [
    {
     "data": {
      "text/html": [
       "<div>\n",
       "<style scoped>\n",
       "    .dataframe tbody tr th:only-of-type {\n",
       "        vertical-align: middle;\n",
       "    }\n",
       "\n",
       "    .dataframe tbody tr th {\n",
       "        vertical-align: top;\n",
       "    }\n",
       "\n",
       "    .dataframe thead th {\n",
       "        text-align: right;\n",
       "    }\n",
       "</style>\n",
       "<table border=\"1\" class=\"dataframe\">\n",
       "  <thead>\n",
       "    <tr style=\"text-align: right;\">\n",
       "      <th></th>\n",
       "      <th>Gender</th>\n",
       "      <th>Height</th>\n",
       "      <th>Weight</th>\n",
       "    </tr>\n",
       "  </thead>\n",
       "  <tbody>\n",
       "    <tr>\n",
       "      <th>0</th>\n",
       "      <td>Male</td>\n",
       "      <td>73.847017</td>\n",
       "      <td>241.893563</td>\n",
       "    </tr>\n",
       "    <tr>\n",
       "      <th>1</th>\n",
       "      <td>Male</td>\n",
       "      <td>68.781904</td>\n",
       "      <td>162.310473</td>\n",
       "    </tr>\n",
       "    <tr>\n",
       "      <th>2</th>\n",
       "      <td>Male</td>\n",
       "      <td>74.110105</td>\n",
       "      <td>212.740856</td>\n",
       "    </tr>\n",
       "    <tr>\n",
       "      <th>3</th>\n",
       "      <td>Male</td>\n",
       "      <td>71.730978</td>\n",
       "      <td>220.042470</td>\n",
       "    </tr>\n",
       "    <tr>\n",
       "      <th>4</th>\n",
       "      <td>Male</td>\n",
       "      <td>69.881796</td>\n",
       "      <td>206.349801</td>\n",
       "    </tr>\n",
       "  </tbody>\n",
       "</table>\n",
       "</div>"
      ],
      "text/plain": [
       "  Gender     Height      Weight\n",
       "0   Male  73.847017  241.893563\n",
       "1   Male  68.781904  162.310473\n",
       "2   Male  74.110105  212.740856\n",
       "3   Male  71.730978  220.042470\n",
       "4   Male  69.881796  206.349801"
      ]
     },
     "execution_count": 4,
     "metadata": {},
     "output_type": "execute_result"
    }
   ],
   "source": [
    "# Hecha un vistazo a los datos\n",
    "data.head()"
   ]
  },
  {
   "cell_type": "markdown",
   "metadata": {},
   "source": [
    "# Preprocesa set de datos\n",
    "Para este ejercicio no vamos a dividir el set en entrenamiento y validación, nos quedaremos con un solo set de datos"
   ]
  },
  {
   "cell_type": "code",
   "execution_count": 5,
   "metadata": {},
   "outputs": [],
   "source": [
    "# Crear variables dummy para la variable categórica \"Gender\"\n",
    "data = pd.get_dummies(data=data, columns=['Gender'])"
   ]
  },
  {
   "cell_type": "code",
   "execution_count": 6,
   "metadata": {},
   "outputs": [
    {
     "name": "stdout",
     "output_type": "stream",
     "text": [
      "Height\n",
      "Weight\n",
      "Gender_Female\n",
      "Gender_Male\n"
     ]
    }
   ],
   "source": [
    "# Mostrar el nombre de las variables dummy creadas\n",
    "print('\\n'.join(data.columns))"
   ]
  },
  {
   "cell_type": "code",
   "execution_count": 7,
   "metadata": {},
   "outputs": [
    {
     "data": {
      "text/html": [
       "<div>\n",
       "<style scoped>\n",
       "    .dataframe tbody tr th:only-of-type {\n",
       "        vertical-align: middle;\n",
       "    }\n",
       "\n",
       "    .dataframe tbody tr th {\n",
       "        vertical-align: top;\n",
       "    }\n",
       "\n",
       "    .dataframe thead th {\n",
       "        text-align: right;\n",
       "    }\n",
       "</style>\n",
       "<table border=\"1\" class=\"dataframe\">\n",
       "  <thead>\n",
       "    <tr style=\"text-align: right;\">\n",
       "      <th></th>\n",
       "      <th>Height</th>\n",
       "      <th>Weight</th>\n",
       "      <th>Gender_Female</th>\n",
       "      <th>Gender_Male</th>\n",
       "    </tr>\n",
       "  </thead>\n",
       "  <tbody>\n",
       "    <tr>\n",
       "      <th>0</th>\n",
       "      <td>73.847017</td>\n",
       "      <td>241.893563</td>\n",
       "      <td>0</td>\n",
       "      <td>1</td>\n",
       "    </tr>\n",
       "    <tr>\n",
       "      <th>1</th>\n",
       "      <td>68.781904</td>\n",
       "      <td>162.310473</td>\n",
       "      <td>0</td>\n",
       "      <td>1</td>\n",
       "    </tr>\n",
       "    <tr>\n",
       "      <th>2</th>\n",
       "      <td>74.110105</td>\n",
       "      <td>212.740856</td>\n",
       "      <td>0</td>\n",
       "      <td>1</td>\n",
       "    </tr>\n",
       "    <tr>\n",
       "      <th>3</th>\n",
       "      <td>71.730978</td>\n",
       "      <td>220.042470</td>\n",
       "      <td>0</td>\n",
       "      <td>1</td>\n",
       "    </tr>\n",
       "    <tr>\n",
       "      <th>4</th>\n",
       "      <td>69.881796</td>\n",
       "      <td>206.349801</td>\n",
       "      <td>0</td>\n",
       "      <td>1</td>\n",
       "    </tr>\n",
       "  </tbody>\n",
       "</table>\n",
       "</div>"
      ],
      "text/plain": [
       "      Height      Weight  Gender_Female  Gender_Male\n",
       "0  73.847017  241.893563              0            1\n",
       "1  68.781904  162.310473              0            1\n",
       "2  74.110105  212.740856              0            1\n",
       "3  71.730978  220.042470              0            1\n",
       "4  69.881796  206.349801              0            1"
      ]
     },
     "execution_count": 7,
     "metadata": {},
     "output_type": "execute_result"
    }
   ],
   "source": [
    "# Hecha un vistazo a los datos\n",
    "data.head()"
   ]
  },
  {
   "cell_type": "code",
   "execution_count": 8,
   "metadata": {},
   "outputs": [],
   "source": [
    "# Define la variable target (Weight)\n",
    "y = np.array(data['Weight'])\n",
    "\n",
    "# Define el conjunto de variables independientes\n",
    "atributos = list(set(list(data.columns)) - set(['Weight']))\n",
    "X = data.loc[:, atributos]"
   ]
  },
  {
   "cell_type": "code",
   "execution_count": 9,
   "metadata": {},
   "outputs": [
    {
     "data": {
      "text/plain": [
       "((10000,), (10000, 3))"
      ]
     },
     "execution_count": 9,
     "metadata": {},
     "output_type": "execute_result"
    }
   ],
   "source": [
    "# Checa el tamaño de las variables dependiente e independientes\n",
    "y.shape, X.shape"
   ]
  },
  {
   "cell_type": "code",
   "execution_count": 10,
   "metadata": {},
   "outputs": [],
   "source": [
    "# Estandarizar las variables independientes\n",
    "X, media_X, std_X = estandarizacion(X)"
   ]
  },
  {
   "cell_type": "code",
   "execution_count": 11,
   "metadata": {},
   "outputs": [
    {
     "data": {
      "text/html": [
       "<div>\n",
       "<style scoped>\n",
       "    .dataframe tbody tr th:only-of-type {\n",
       "        vertical-align: middle;\n",
       "    }\n",
       "\n",
       "    .dataframe tbody tr th {\n",
       "        vertical-align: top;\n",
       "    }\n",
       "\n",
       "    .dataframe thead th {\n",
       "        text-align: right;\n",
       "    }\n",
       "</style>\n",
       "<table border=\"1\" class=\"dataframe\">\n",
       "  <thead>\n",
       "    <tr style=\"text-align: right;\">\n",
       "      <th></th>\n",
       "      <th>Gender_Male</th>\n",
       "      <th>Gender_Female</th>\n",
       "      <th>Height</th>\n",
       "    </tr>\n",
       "  </thead>\n",
       "  <tbody>\n",
       "    <tr>\n",
       "      <th>0</th>\n",
       "      <td>1.0</td>\n",
       "      <td>-1.0</td>\n",
       "      <td>1.944061</td>\n",
       "    </tr>\n",
       "    <tr>\n",
       "      <th>1</th>\n",
       "      <td>1.0</td>\n",
       "      <td>-1.0</td>\n",
       "      <td>0.627537</td>\n",
       "    </tr>\n",
       "    <tr>\n",
       "      <th>2</th>\n",
       "      <td>1.0</td>\n",
       "      <td>-1.0</td>\n",
       "      <td>2.012443</td>\n",
       "    </tr>\n",
       "    <tr>\n",
       "      <th>3</th>\n",
       "      <td>1.0</td>\n",
       "      <td>-1.0</td>\n",
       "      <td>1.394060</td>\n",
       "    </tr>\n",
       "    <tr>\n",
       "      <th>4</th>\n",
       "      <td>1.0</td>\n",
       "      <td>-1.0</td>\n",
       "      <td>0.913421</td>\n",
       "    </tr>\n",
       "  </tbody>\n",
       "</table>\n",
       "</div>"
      ],
      "text/plain": [
       "   Gender_Male  Gender_Female    Height\n",
       "0          1.0           -1.0  1.944061\n",
       "1          1.0           -1.0  0.627537\n",
       "2          1.0           -1.0  2.012443\n",
       "3          1.0           -1.0  1.394060\n",
       "4          1.0           -1.0  0.913421"
      ]
     },
     "execution_count": 11,
     "metadata": {},
     "output_type": "execute_result"
    }
   ],
   "source": [
    "# Hecha un vistazo a las variables estandarizadas\n",
    "X.head()"
   ]
  },
  {
   "cell_type": "markdown",
   "metadata": {},
   "source": [
    "# Define las funciones que nos van a servir para ejecutar el algoritmo de gradiente descendente"
   ]
  },
  {
   "cell_type": "markdown",
   "metadata": {},
   "source": [
    "## Función de costo error cuadrático medio (MSE)\n",
    " $\\mathcal{L}(w) =  \\displaystyle \\frac{1}{N} \\sum_{i=1}^{N} \\textbf{e}^2$, $\\textbf{e} = \\textbf{y-Xw}$"
   ]
  },
  {
   "cell_type": "code",
   "execution_count": 12,
   "metadata": {},
   "outputs": [],
   "source": [
    "def calcula_costo_mse(y, X, w):\n",
    "    \"\"\" \n",
    "    Función para calcular el valor de la función de costo/pérdida\n",
    "    \n",
    "    Args:\n",
    "        y     arreglo de numpy que contiene variable target\n",
    "        X     matriz que contiene variables independientes\n",
    "        w     arreglo de numpy que contiene parámetros w\n",
    "    \"\"\"\n",
    "    e = y - X.dot(w)\n",
    "    mse = np.mean(e**2)\n",
    "    return mse"
   ]
  },
  {
   "cell_type": "markdown",
   "metadata": {},
   "source": [
    "## Fórmula del gradiente de la función de costo error cuadrático medio (MSE)\n",
    "$\\nabla \\mathcal{L}(w) =  \\displaystyle -\\frac{1}{N} \\textbf{X}^T\\textbf{e}$, $\\textbf{e} = \\textbf{y-Xw}$"
   ]
  },
  {
   "cell_type": "code",
   "execution_count": 13,
   "metadata": {},
   "outputs": [],
   "source": [
    "def calcula_gradiente(y, X, w):\n",
    "    \"\"\" \n",
    "    Función para calcular el valor del gradiente\n",
    "    \n",
    "    Args:\n",
    "        y     arreglo de numpy que contiene variable target\n",
    "        X     matriz que contiene variables independientes\n",
    "        w     arreglo de numpy que contiene parámetros w\n",
    "    \"\"\"\n",
    "    e = y - X.dot(w)\n",
    "    gradiente = -X.T.dot(e) / len(e)\n",
    "    return gradiente"
   ]
  },
  {
   "cell_type": "markdown",
   "metadata": {},
   "source": [
    "## Pasos para llevar a cabo el algoritmo gradiente descendente\n",
    "Itera las veces que sean necesarias\n",
    "1. Calcula el valor de la función de costo para el vector w inicial\n",
    "2. Calcula el valor del gradiente de la función de costo en ese valor w\n",
    "3. Da un paso de tamaño $\\gamma$ en dirección contraria al gradiente de la función de costo, i.e. $\\textbf{w}^{(t+1)} = \\textbf{w}^{(t)}-\\gamma \\nabla\\mathcal{L}(\\textbf{w}^{(t)})$\n",
    "4. Guarda el valor de los parámetros ws y de los valores de la función de costo en cada iteración\n",
    "5. Imprime resultados de cada iteración para que veas como va la ejecución del algoritmo "
   ]
  },
  {
   "cell_type": "code",
   "execution_count": 14,
   "metadata": {},
   "outputs": [],
   "source": [
    "def gradiente_descendente(y, X, w_inicial, max_iters, gamma):\n",
    "    \"\"\" \n",
    "    Función para llevar a cabo el algoritmo de optimización llamado gradiente descendente\n",
    "    \n",
    "    Args:\n",
    "        y             arreglo de numpy que contiene variable target\n",
    "        X             matriz que contiene variables independientes\n",
    "        w_inicial     arreglo de numpy que contiene parámetros w iniciales\n",
    "        max_iters     número de iteraciones máximas para ejecutar el algoritmo\n",
    "        gamma         parámetro de aprendizaje\n",
    "    \"\"\"\n",
    "    # Define variables para guardar w y el valor de la función de costo\n",
    "    ws = [w_inicial]\n",
    "    costos = []\n",
    "    w = w_inicial\n",
    "    for n_iter in range(max_iters):\n",
    "        # Calcula el valor de la función de costo y del gradiente\n",
    "        costo = calcula_costo_mse(y, X, w)\n",
    "        gradiente = calcula_gradiente(y, X, w)\n",
    "        # Actualiza el valor de w\n",
    "        w = w - gamma * gradiente\n",
    "        # Almacena el valor de w y de la función de costo\n",
    "        ws.append(w)\n",
    "        costos.append(costo)\n",
    "        print(\"Gradiente Descendente({bi}/{ti}): valor función de costo={l}, w0={w0}, w1={w1}, w2={w2}\".format(\n",
    "              bi=n_iter, ti=max_iters - 1, l=costo, w0=w[0], w1=w[1], w2=w[2]))\n",
    "\n",
    "    return costos, ws"
   ]
  },
  {
   "cell_type": "code",
   "execution_count": 15,
   "metadata": {},
   "outputs": [
    {
     "name": "stdout",
     "output_type": "stream",
     "text": [
      "Gradiente Descendente(0/49): valor función de costo=27093.837574561636, w0=17.906184677753693, w1=-17.906184677753693, w2=20.783697586992925\n",
      "Gradiente Descendente(1/49): valor función de costo=26770.71679162065, w0=0.6895882288757171, w1=-0.6895882288757171, w2=9.694557903357348\n",
      "Gradiente Descendente(2/49): valor función de costo=26561.962555030197, w0=12.940602863009842, w1=-12.940602863009842, w2=23.024887757957828\n",
      "Gradiente Descendente(3/49): valor función de costo=26426.096016492695, w0=1.591644253073607, w1=-1.591644253073607, w2=15.171119598834544\n",
      "Gradiente Descendente(4/49): valor función de costo=26337.133067123337, w0=9.930491395856004, w1=-9.930491395856004, w2=23.795116293230404\n",
      "Gradiente Descendente(5/49): valor función de costo=26278.597524419347, w0=2.423090457278823, w1=-2.423090457278823, w2=18.314473573199063\n",
      "Gradiente Descendente(6/49): valor función de costo=26239.932416356834, w0=8.07731408755412, w1=-8.07731408755412, w2=23.93369757328183\n",
      "Gradiente Descendente(7/49): valor función de costo=26214.31366505811, w0=3.0973226272309535, w1=-3.0973226272309535, w2=20.14899858479499\n",
      "Gradiente Descendente(8/49): valor función de costo=26197.297888202986, w0=6.920168962274974, w1=-6.920168962274974, w2=23.831734876834176\n",
      "Gradiente Descendente(9/49): valor función de costo=26185.974593402076, w0=3.6095051752648044, w1=-3.6095051752648044, w2=21.237948672261307\n",
      "Gradiente Descendente(10/49): valor función de costo=26178.42819222006, w0=6.188515873507388, w1=-6.188515873507388, w2=23.66288285067266\n",
      "Gradiente Descendente(11/49): valor función de costo=26173.393070231232, w0=3.983848650490191, w1=-3.983848650490191, w2=21.895168052305443\n",
      "Gradiente Descendente(12/49): valor función de costo=26170.030503873182, w0=5.720848327832706, w1=-5.720848327832706, w2=23.497871032880635\n",
      "Gradiente Descendente(13/49): valor función de costo=26167.78334012215, w0=4.250740206040714, w1=-4.250740206040714, w2=22.298133256590518\n",
      "Gradiente Descendente(14/49): valor función de costo=26166.28077542723, w0=5.419157116062051, w1=-5.419157116062051, w2=23.360542786363034\n",
      "Gradiente Descendente(15/49): valor función de costo=26165.27566659097, w0=4.437849288610811, w1=-4.437849288610811, w2=22.54882128753496\n",
      "Gradiente Descendente(16/49): valor función de costo=26164.603103199832, w0=5.223043041075975, w1=-5.223043041075975, w2=23.25472099855093\n",
      "Gradiente Descendente(17/49): valor función de costo=26164.152948645376, w0=4.567486253621977, w1=-4.567486253621977, w2=22.70681528613553\n",
      "Gradiente Descendente(18/49): valor función de costo=26163.85159693542, w0=5.0947585908197635, w1=-5.0947585908197635, w2=23.17669532382984\n",
      "Gradiente Descendente(19/49): valor función de costo=26163.649829920843, w0=4.656544987170612, w1=-4.656544987170612, w2=22.807522898840574\n",
      "Gradiente Descendente(20/49): valor función de costo=26163.51472336506, w0=5.01041774677427, w1=-5.01041774677427, w2=23.120743206916053\n",
      "Gradiente Descendente(21/49): valor función de costo=26163.424245771257, w0=4.717348185225088, w1=-4.717348185225088, w2=22.872337102370473\n",
      "Gradiente Descendente(22/49): valor función de costo=26163.363650987005, w0=4.95474256893347, w1=-4.95474256893347, w2=23.081360321958133\n",
      "Gradiente Descendente(23/49): valor función de costo=26163.323067230154, w0=4.758669743767607, w1=-4.758669743767607, w2=22.914388018966164\n",
      "Gradiente Descendente(24/49): valor función de costo=26163.295884890682, w0=4.917871796666795, w1=-4.917871796666795, w2=23.053996953776515\n",
      "Gradiente Descendente(25/49): valor función de costo=26163.277678034487, w0=4.786655093710305, w1=-4.786655093710305, w2=22.941851512151114\n",
      "Gradiente Descendente(26/49): valor función de costo=26163.265482705065, w0=4.89339218014064, w1=-4.89339218014064, w2=23.035160151775248\n",
      "Gradiente Descendente(27/49): valor función de costo=26163.257313869402, w0=4.805559251328054, w1=-4.805559251328054, w2=22.95988452143462\n",
      "Gradiente Descendente(28/49): valor función de costo=26163.251842034428, w0=4.87710704115651, w1=-4.87710704115651, w2=23.022280265929304\n",
      "Gradiente Descendente(29/49): valor función de costo=26163.248176725494, w0=4.818303957196566, w1=-4.818303957196566, w2=22.971776441548315\n",
      "Gradiente Descendente(30/49): valor función de costo=26163.24572149729, w0=4.866256437378863, w1=-4.866256437378863, w2=23.013517328157246\n",
      "Gradiente Descendente(31/49): valor función de costo=26163.244076837662, w0=4.826883273594707, w1=-4.826883273594707, w2=22.979645528633238\n",
      "Gradiente Descendente(32/49): valor función de costo=26163.24297514039, w0=4.859018036583923, w1=-4.859018036583923, w2=23.00757755834457\n",
      "Gradiente Descendente(33/49): valor función de costo=26163.24223715056, w0=4.832652000094556, w1=-4.832652000094556, w2=22.984866756636926\n",
      "Gradiente Descendente(34/49): valor función de costo=26163.24174279473, w0=4.854184774708881, w1=-4.854184774708881, w2=23.003562678933108\n",
      "Gradiente Descendente(35/49): valor función de costo=26163.241411640865, w0=4.836527504473321, w1=-4.836527504473321, w2=22.988338477803083\n",
      "Gradiente Descendente(36/49): valor función de costo=26163.241189810597, w0=4.850955126361567, w1=-4.850955126361567, w2=23.000854641488502\n",
      "Gradiente Descendente(37/49): valor función de costo=26163.24104121259, w0=4.839129378081807, w1=-4.839129378081807, w2=22.990650754102436\n",
      "Gradiente Descendente(38/49): valor función de costo=26163.240941670945, w0=4.848795812271531, w1=-4.848795812271531, w2=22.999031009441282\n",
      "Gradiente Descendente(39/49): valor función de costo=26163.240874990763, w0=4.840875286498938, w1=-4.840875286498938, w2=22.992192802713475\n",
      "Gradiente Descendente(40/49): valor función de costo=26163.240830323342, w0=4.847351482230958, w1=-4.847351482230958, w2=22.99780445614076\n",
      "Gradiente Descendente(41/49): valor función de costo=26163.240800401887, w0=4.842046364197732, w1=-4.842046364197732, w2=22.993222227270397\n",
      "Gradiente Descendente(42/49): valor función de costo=26163.240780358352, w0=4.8463850665827355, w1=-4.8463850665827355, w2=22.996980264834654\n",
      "Gradiente Descendente(43/49): valor función de costo=26163.240766931533, w0=4.842831633353158, w1=-4.842831633353158, w2=22.99390997784311\n",
      "Gradiente Descendente(44/49): valor función de costo=26163.24075793749, w0=4.845738259287474, w1=-4.845738259287474, w2=22.996426841428335\n",
      "Gradiente Descendente(45/49): valor función de costo=26163.24075191248, w0=4.84335807508024, w1=-4.84335807508024, w2=22.994369737431473\n",
      "Gradiente Descendente(46/49): valor función de costo=26163.24074787629, w0=4.845305273699533, w1=-4.845305273699533, w2=22.99605543648455\n",
      "Gradiente Descendente(47/49): valor función de costo=26163.240745172836, w0=4.84371093661547, w1=-4.84371093661547, w2=22.994677229874245\n",
      "Gradiente Descendente(48/49): valor función de costo=26163.240743361697, w0=4.84501537948502, w1=-4.84501537948502, w2=22.995806290380845\n",
      "Gradiente Descendente(49/49): valor función de costo=26163.24074214856, w0=4.843947418835312, w1=-4.843947418835312, w2=22.99488295894313\n",
      "Gradiente Descendente: tiempo de ejecución=-0.381 segundos\n"
     ]
    }
   ],
   "source": [
    "# Definir parámetros para iniciar con el algoritmo\n",
    "max_iters = 50\n",
    "gamma = 0.7\n",
    "\n",
    "# Inicializar el vector de parámetros w\n",
    "w_inicial = np.array([0,0,0])\n",
    "\n",
    "# Iniciar algoritmo de gradiente descendente\n",
    "inicio = datetime.datetime.now()\n",
    "costo_gradiente, ws_gradiente = gradiente_descendente(y, X, w_inicial, max_iters, gamma)\n",
    "final = datetime.datetime.now()\n",
    "\n",
    "# Imprimir proceso de ejecución\n",
    "tiempo_ejecucion = (inicio - final).total_seconds()\n",
    "print(\"Gradiente Descendente: tiempo de ejecución={t:.3f} segundos\".format(t=tiempo_ejecucion))"
   ]
  },
  {
   "cell_type": "markdown",
   "metadata": {},
   "source": [
    "# Confirma predicción utilizando el objeto de regresión lineal de sklearn"
   ]
  },
  {
   "cell_type": "markdown",
   "metadata": {},
   "source": [
    "## Fórmula de regresión lineal con tres variables independientes\n",
    "$y = b + w_0x_0 + w_1x_1 + w_2x_2$"
   ]
  },
  {
   "cell_type": "code",
   "execution_count": 16,
   "metadata": {},
   "outputs": [],
   "source": [
    "# Entrena una regresión lineal para confirmar los resultados anteriores\n",
    "modelo_LinReg = LinearRegression()\n",
    "modelo_LinReg.fit(X, y)\n",
    "y_pred_proba_LinReg = modelo_LinReg.predict(X)"
   ]
  },
  {
   "cell_type": "code",
   "execution_count": 17,
   "metadata": {},
   "outputs": [
    {
     "data": {
      "text/plain": [
       "0.9027481729220092"
      ]
     },
     "execution_count": 17,
     "metadata": {},
     "output_type": "execute_result"
    }
   ],
   "source": [
    "# Revisa la medida de R^2 de la regresión anterior\n",
    "modelo_LinReg.score(X,y)"
   ]
  },
  {
   "cell_type": "code",
   "execution_count": 18,
   "metadata": {},
   "outputs": [
    {
     "name": "stdout",
     "output_type": "stream",
     "text": [
      "Los parámetros del modelo son: w0= 4.8444276304793, w1=-4.8444276304792995, w2=22.99529959926877\n"
     ]
    }
   ],
   "source": [
    "# Checa los coefientes del modelo\n",
    "print(\"Los parámetros del modelo son: w0= {0}, w1={1}, w2={2}\".format(modelo_LinReg.coef_[0], modelo_LinReg.coef_[1], modelo_LinReg.coef_[2]))"
   ]
  }
 ],
 "metadata": {
  "kernelspec": {
   "display_name": "Python 3 (ipykernel)",
   "language": "python",
   "name": "python3"
  },
  "language_info": {
   "codemirror_mode": {
    "name": "ipython",
    "version": 3
   },
   "file_extension": ".py",
   "mimetype": "text/x-python",
   "name": "python",
   "nbconvert_exporter": "python",
   "pygments_lexer": "ipython3",
   "version": "3.8.1"
  }
 },
 "nbformat": 4,
 "nbformat_minor": 4
}
