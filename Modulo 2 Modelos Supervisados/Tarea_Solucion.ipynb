{
  "cells": [
    {
      "cell_type": "markdown",
      "metadata": {
        "id": "TfTZwR1vI1HO"
      },
      "source": [
        "# Tarea\n",
        "## Modelación Supervisada\n",
        "Esta tarea consiste de dos partes. La primera consiste en la primera mitad del curso, y la segunda en la otra.\n",
        "Esta tarea vale 100 puntos y contiene varias secciones donde podrás ganar puntos extras. Justifica tus respuestas y respeta el deadline. Sigue las instrucciones en los comentarios como guía.\n",
        "\n",
        "**Deadline: 20 marzo 23:59 PM**"
      ]
    },
    {
      "cell_type": "markdown",
      "metadata": {
        "id": "TcCAfdc7I1HS"
      },
      "source": [
        "# Parte 1 - Exploración de datos y tus primeros modelos supervisados. [30 puntos]\n",
        "Esta parte de la tarea consiste en refinar tus skills de Data Exploration y Pre-processing. También podrás entrenar tus primeros modelos supervisados. "
      ]
    },
    {
      "cell_type": "code",
      "execution_count": 1,
      "metadata": {
        "id": "cGedi9omI1HT"
      },
      "outputs": [],
      "source": [
        "## Importa librerías útiles\n",
        "import pandas as pd\n",
        "import numpy as np\n",
        "import matplotlib.pyplot as plt\n",
        "import datetime\n",
        "import itertools\n",
        "import random\n",
        "\n",
        "\n",
        "# Sklearn\n",
        "from sklearn.linear_model import LinearRegression\n",
        "from sklearn.linear_model import LogisticRegression\n",
        "from sklearn.metrics import mean_squared_error, roc_curve, confusion_matrix, roc_auc_score\n",
        "from sklearn.model_selection import train_test_split, cross_val_score\n",
        "from sklearn import preprocessing"
      ]
    },
    {
      "cell_type": "code",
      "execution_count": 2,
      "metadata": {
        "id": "wdGaF_IUI1HV"
      },
      "outputs": [],
      "source": [
        "# Funciones útiles\n",
        "def grafica_matriz_confusion(cm, classes=[0,1], normalize=False, title='Matriz de confusión\\n', cmap=plt.cm.Reds):\n",
        "    \"\"\" \n",
        "    Función para mostrar la matriz de confusión de un problema de clasificación binario. \n",
        "    El parámetro cm puede ser el objeto resultante de ejecutar la función confusion_matrix() de la librería sklearn.\n",
        "    \n",
        "    Args:\n",
        "        cm         matriz de confusión de sklearn\n",
        "        classes    categorías de la variable target\n",
        "        normalize  normaliza asignando el parámetro True\n",
        "        title      string para definir el título para la gráfica\n",
        "        cmap       mapa de colores\n",
        "    \"\"\"\n",
        "    plt.imshow(cm, interpolation='nearest', cmap=cmap)\n",
        "    plt.title(title)\n",
        "    plt.colorbar()\n",
        "    tick_marks = np.arange(len(classes))\n",
        "    plt.xticks(tick_marks, classes, rotation=0)\n",
        "    plt.yticks(tick_marks, classes)\n",
        "    if normalize:\n",
        "        cm = cm.astype('float') / cm.sum(axis=1)[:, np.newaxis]\n",
        "    thresh = cm.max()\n",
        "    text = [[\"VN =\", \"FN =\"], [\"FP =\", \"VP =\"]]\n",
        "    for i, j in itertools.product(range(cm.shape[0]), range(cm.shape[1])):\n",
        "        plt.text(j, i, \"     {}\".format(round (cm[i, j],2)), horizontalalignment=\"left\",\n",
        "                 color=\"white\" if cm[i, j] > thresh else \"black\")\n",
        "    for i, j in itertools.product(range(cm.shape[0]), range(cm.shape[1])):\n",
        "        plt.text(j, i, text[j][i] , horizontalalignment=\"center\",\n",
        "                 color=\"white\" if cm[i, j] > thresh else \"black\")\n",
        "    plt.tight_layout()\n",
        "    plt.ylabel('Valor real')\n",
        "    plt.xlabel('Predicción')\n",
        "    \n",
        "def grafica_curva_roc(fpr, tpr, title='Curva ROC', note=''):\n",
        "    \"\"\"\n",
        "    Función para graficar la curva ROC\n",
        "    Los parámetros fpr y tpr son el output de ejecutar la función roc_curve de sklearn\n",
        "    \n",
        "    Args:\n",
        "        fpr        Tasa de falsos positivos \n",
        "        tpr        Tasa de verdaderos positivos\n",
        "        title      sting para definir el título de la gráfica\n",
        "        note       Nota para mostrar en la gráfica\n",
        "    \"\"\"\n",
        "    plt.figure(1)\n",
        "    plt.plot([0, 1], [0, 1], 'k--')\n",
        "    plt.plot(fpr, tpr)\n",
        "    plt.xlabel('Tasa de falsos positivos ')\n",
        "    plt.ylabel('Tasa de verdaderos positivos')\n",
        "    plt.title(title)\n",
        "    if note: plt.text(0.6, 0.2, note)\n",
        "    plt.show()"
      ]
    },
    {
      "cell_type": "markdown",
      "metadata": {
        "id": "jvfln8wkI1HW"
      },
      "source": [
        "## 1) Exploración y Limpieza de datos [10 puntos]\n",
        "Tu tarea aquí es explorar los data sets **happiness2020.csv** y **countries_info.csv** y responder algunas preguntas.\n",
        "\n",
        "El layout de **happiness2020.csv** es:\n",
        "\n",
        "* country: Nombre del país\n",
        "* happiness_score: Score de felicidad\n",
        "* social_support: Ayuda social\n",
        "* healthy_life_expectancy: Expectativa de vida\n",
        "* freedom_of_choices: Libertar de tomar decisiones de vida\n",
        "* generosity: Generosidad\n",
        "* perception_of_corruption: Percepción de la corrupción\n",
        "* world_region: Región en donde se encuentra el país en cuestión\n",
        "\n",
        "\n",
        "El layout de **countries_info.csv**\n",
        "\n",
        "* country_name: Nombre del país\n",
        "* area: Área en metros cuadrados\n",
        "* population: Número de personas\n",
        "* literacy: Porcentaje de alfabetismo\n"
      ]
    },
    {
      "cell_type": "code",
      "execution_count": 3,
      "metadata": {
        "id": "9bhj_BUtI1HW"
      },
      "outputs": [],
      "source": [
        "# Carga el data set happiness2020.csv\n",
        "happiness = pd.read_csv(\"happiness2020.csv\")\n"
      ]
    },
    {
      "cell_type": "code",
      "execution_count": 4,
      "metadata": {
        "colab": {
          "base_uri": "https://localhost:8080/"
        },
        "id": "8vyAM8drI1HX",
        "outputId": "f93cd0da-3ba8-4ed3-db9b-8e576bb00b10"
      },
      "outputs": [
        {
          "output_type": "stream",
          "name": "stdout",
          "text": [
            "Numero de variables: 8\n",
            "Numero de observaciones: 135\n",
            "Primeros 5 registros: \n",
            "        country  happiness_score  social_support  healthy_life_expectancy  \\\n",
            "0  Afghanistan           2.5669        0.470367                52.590000   \n",
            "1      Albania           4.8827        0.671070                68.708138   \n",
            "2      Algeria           5.0051        0.803385                65.905174   \n",
            "3    Argentina           5.9747        0.900568                68.803802   \n",
            "4      Armenia           4.6768        0.757479                66.750656   \n",
            "\n",
            "   freedom_of_choices  generosity  perception_of_corruption  \\\n",
            "0            0.396573   -0.096429                  0.933687   \n",
            "1            0.781994   -0.042309                  0.896304   \n",
            "2            0.466611   -0.121105                  0.735485   \n",
            "3            0.831132   -0.194914                  0.842010   \n",
            "4            0.712018   -0.138780                  0.773545   \n",
            "\n",
            "                         world_region  \n",
            "0                          South Asia  \n",
            "1          Central and Eastern Europe  \n",
            "2        Middle East and North Africa  \n",
            "3         Latin America and Caribbean  \n",
            "4  Commonwealth of Independent States  \n",
            "Numero de valores perdidos por cada columna:\n",
            " country                     0\n",
            "happiness_score             0\n",
            "social_support              0\n",
            "healthy_life_expectancy     0\n",
            "freedom_of_choices          0\n",
            "generosity                  0\n",
            "perception_of_corruption    0\n",
            "world_region                0\n",
            "dtype: int64\n",
            "Estadísticos descriptivos de los datos:\n",
            "        happiness_score  social_support  healthy_life_expectancy  \\\n",
            "count       135.000000      135.000000               135.000000   \n",
            "mean          5.525062        0.815165                64.762495   \n",
            "std           1.123414        0.116311                 6.694776   \n",
            "min           2.566900        0.468671                48.003624   \n",
            "25%           4.749000        0.740405                59.809444   \n",
            "50%           5.541500        0.836419                66.480164   \n",
            "75%           6.292700        0.910313                69.145870   \n",
            "max           7.808700        0.974670                76.804581   \n",
            "\n",
            "       freedom_of_choices  generosity  perception_of_corruption  \n",
            "count          135.000000  135.000000                135.000000  \n",
            "mean             0.790657   -0.022749                  0.727447  \n",
            "std              0.117230    0.146165                  0.180406  \n",
            "min              0.396573   -0.300907                  0.109784  \n",
            "25%              0.720287   -0.130953                  0.675699  \n",
            "50%              0.811602   -0.042309                  0.780623  \n",
            "75%              0.886453    0.083279                  0.848558  \n",
            "max              0.974998    0.519587                  0.935585  \n"
          ]
        }
      ],
      "source": [
        "# Explora el set de datos (número de variables, observaciones, checa 5 registros y más!)\n",
        "print(\"Numero de variables:\",happiness.shape[1])\n",
        "print(\"Numero de observaciones:\",happiness.shape[0])\n",
        "print(\"Primeros 5 registros: \\n\",happiness.head(5))\n",
        "print(\"Numero de valores perdidos por cada columna:\\n\",happiness.isna().sum())\n",
        "print(\"Estadísticos descriptivos de los datos:\\n\",happiness.describe())"
      ]
    },
    {
      "cell_type": "code",
      "execution_count": 5,
      "metadata": {
        "id": "3CuUkDIaI1HY"
      },
      "outputs": [],
      "source": [
        "# Carga el data set countries_info.csv\n",
        "# La variable literacy contiene números con formato europeo. Hint: busca en la documentación de pandas como importar estos datos para ser interpretados como números\n",
        "countries = pd.read_csv(\"countries_info.csv\",decimal=\",\")"
      ]
    },
    {
      "cell_type": "code",
      "execution_count": 6,
      "metadata": {
        "colab": {
          "base_uri": "https://localhost:8080/"
        },
        "id": "XXCd2lJMI1HY",
        "outputId": "d7c0c550-8898-4b47-a965-e875e474ab3c"
      },
      "outputs": [
        {
          "output_type": "stream",
          "name": "stdout",
          "text": [
            "Numero de variables: 4\n",
            "Numero de observaciones: 135\n",
            "Primeros 5 registros: \n",
            "   country_name     area  population  literacy\n",
            "0  afghanistan   647500    31056997      36.0\n",
            "1      albania    28748     3581655      86.5\n",
            "2      algeria  2381740    32930091      70.0\n",
            "3    argentina  2766890    39921833      97.1\n",
            "4      armenia    29800     2976372      98.6\n",
            "Numero de valores perdidos por cada columna:\n",
            " country_name    0\n",
            "area            0\n",
            "population      0\n",
            "literacy        2\n",
            "dtype: int64\n",
            "Estadísticos descriptivos de los datos:\n",
            "                area    population    literacy\n",
            "count  1.350000e+02  1.350000e+02  133.000000\n",
            "mean   9.007829e+05  4.552204e+07   81.851128\n",
            "std    2.244994e+06  1.505270e+08   20.514483\n",
            "min    3.160000e+02  2.993880e+05   17.600000\n",
            "25%    6.540500e+04  4.636146e+06   70.000000\n",
            "50%    2.375000e+05  1.023546e+07   90.900000\n",
            "75%    7.000570e+05  2.967980e+07   98.400000\n",
            "max    1.707520e+07  1.313974e+09  100.000000\n"
          ]
        }
      ],
      "source": [
        "# Explora el set de datos (número de variables, observaciones, checa 5 registros y más!)\n",
        "print(\"Numero de variables:\",countries.shape[1])\n",
        "print(\"Numero de observaciones:\",countries.shape[0])\n",
        "print(\"Primeros 5 registros: \\n\",countries.head(5))\n",
        "print(\"Numero de valores perdidos por cada columna:\\n\",countries.isna().sum())\n",
        "print(\"Estadísticos descriptivos de los datos:\\n\",countries.describe())"
      ]
    },
    {
      "cell_type": "code",
      "execution_count": 7,
      "metadata": {
        "colab": {
          "base_uri": "https://localhost:8080/",
          "height": 211
        },
        "id": "E4HMxnARI1HY",
        "outputId": "1941edf9-8975-4973-c3de-611717f5c6eb"
      },
      "outputs": [
        {
          "output_type": "execute_result",
          "data": {
            "text/plain": [
              "       country  happiness_score  social_support  healthy_life_expectancy  \\\n",
              "0  AFGHANISTAN           2.5669        0.470367                52.590000   \n",
              "1      ALBANIA           4.8827        0.671070                68.708138   \n",
              "\n",
              "   freedom_of_choices  generosity  perception_of_corruption  \\\n",
              "0            0.396573   -0.096429                  0.933687   \n",
              "1            0.781994   -0.042309                  0.896304   \n",
              "\n",
              "                 world_region    area  population  literacy  \n",
              "0                  South Asia  647500    31056997      36.0  \n",
              "1  Central and Eastern Europe   28748     3581655      86.5  "
            ],
            "text/html": [
              "\n",
              "  <div id=\"df-65d157f7-1de0-4200-8be8-37639088ac83\">\n",
              "    <div class=\"colab-df-container\">\n",
              "      <div>\n",
              "<style scoped>\n",
              "    .dataframe tbody tr th:only-of-type {\n",
              "        vertical-align: middle;\n",
              "    }\n",
              "\n",
              "    .dataframe tbody tr th {\n",
              "        vertical-align: top;\n",
              "    }\n",
              "\n",
              "    .dataframe thead th {\n",
              "        text-align: right;\n",
              "    }\n",
              "</style>\n",
              "<table border=\"1\" class=\"dataframe\">\n",
              "  <thead>\n",
              "    <tr style=\"text-align: right;\">\n",
              "      <th></th>\n",
              "      <th>country</th>\n",
              "      <th>happiness_score</th>\n",
              "      <th>social_support</th>\n",
              "      <th>healthy_life_expectancy</th>\n",
              "      <th>freedom_of_choices</th>\n",
              "      <th>generosity</th>\n",
              "      <th>perception_of_corruption</th>\n",
              "      <th>world_region</th>\n",
              "      <th>area</th>\n",
              "      <th>population</th>\n",
              "      <th>literacy</th>\n",
              "    </tr>\n",
              "  </thead>\n",
              "  <tbody>\n",
              "    <tr>\n",
              "      <th>0</th>\n",
              "      <td>AFGHANISTAN</td>\n",
              "      <td>2.5669</td>\n",
              "      <td>0.470367</td>\n",
              "      <td>52.590000</td>\n",
              "      <td>0.396573</td>\n",
              "      <td>-0.096429</td>\n",
              "      <td>0.933687</td>\n",
              "      <td>South Asia</td>\n",
              "      <td>647500</td>\n",
              "      <td>31056997</td>\n",
              "      <td>36.0</td>\n",
              "    </tr>\n",
              "    <tr>\n",
              "      <th>1</th>\n",
              "      <td>ALBANIA</td>\n",
              "      <td>4.8827</td>\n",
              "      <td>0.671070</td>\n",
              "      <td>68.708138</td>\n",
              "      <td>0.781994</td>\n",
              "      <td>-0.042309</td>\n",
              "      <td>0.896304</td>\n",
              "      <td>Central and Eastern Europe</td>\n",
              "      <td>28748</td>\n",
              "      <td>3581655</td>\n",
              "      <td>86.5</td>\n",
              "    </tr>\n",
              "  </tbody>\n",
              "</table>\n",
              "</div>\n",
              "      <button class=\"colab-df-convert\" onclick=\"convertToInteractive('df-65d157f7-1de0-4200-8be8-37639088ac83')\"\n",
              "              title=\"Convert this dataframe to an interactive table.\"\n",
              "              style=\"display:none;\">\n",
              "        \n",
              "  <svg xmlns=\"http://www.w3.org/2000/svg\" height=\"24px\"viewBox=\"0 0 24 24\"\n",
              "       width=\"24px\">\n",
              "    <path d=\"M0 0h24v24H0V0z\" fill=\"none\"/>\n",
              "    <path d=\"M18.56 5.44l.94 2.06.94-2.06 2.06-.94-2.06-.94-.94-2.06-.94 2.06-2.06.94zm-11 1L8.5 8.5l.94-2.06 2.06-.94-2.06-.94L8.5 2.5l-.94 2.06-2.06.94zm10 10l.94 2.06.94-2.06 2.06-.94-2.06-.94-.94-2.06-.94 2.06-2.06.94z\"/><path d=\"M17.41 7.96l-1.37-1.37c-.4-.4-.92-.59-1.43-.59-.52 0-1.04.2-1.43.59L10.3 9.45l-7.72 7.72c-.78.78-.78 2.05 0 2.83L4 21.41c.39.39.9.59 1.41.59.51 0 1.02-.2 1.41-.59l7.78-7.78 2.81-2.81c.8-.78.8-2.07 0-2.86zM5.41 20L4 18.59l7.72-7.72 1.47 1.35L5.41 20z\"/>\n",
              "  </svg>\n",
              "      </button>\n",
              "      \n",
              "  <style>\n",
              "    .colab-df-container {\n",
              "      display:flex;\n",
              "      flex-wrap:wrap;\n",
              "      gap: 12px;\n",
              "    }\n",
              "\n",
              "    .colab-df-convert {\n",
              "      background-color: #E8F0FE;\n",
              "      border: none;\n",
              "      border-radius: 50%;\n",
              "      cursor: pointer;\n",
              "      display: none;\n",
              "      fill: #1967D2;\n",
              "      height: 32px;\n",
              "      padding: 0 0 0 0;\n",
              "      width: 32px;\n",
              "    }\n",
              "\n",
              "    .colab-df-convert:hover {\n",
              "      background-color: #E2EBFA;\n",
              "      box-shadow: 0px 1px 2px rgba(60, 64, 67, 0.3), 0px 1px 3px 1px rgba(60, 64, 67, 0.15);\n",
              "      fill: #174EA6;\n",
              "    }\n",
              "\n",
              "    [theme=dark] .colab-df-convert {\n",
              "      background-color: #3B4455;\n",
              "      fill: #D2E3FC;\n",
              "    }\n",
              "\n",
              "    [theme=dark] .colab-df-convert:hover {\n",
              "      background-color: #434B5C;\n",
              "      box-shadow: 0px 1px 3px 1px rgba(0, 0, 0, 0.15);\n",
              "      filter: drop-shadow(0px 1px 2px rgba(0, 0, 0, 0.3));\n",
              "      fill: #FFFFFF;\n",
              "    }\n",
              "  </style>\n",
              "\n",
              "      <script>\n",
              "        const buttonEl =\n",
              "          document.querySelector('#df-65d157f7-1de0-4200-8be8-37639088ac83 button.colab-df-convert');\n",
              "        buttonEl.style.display =\n",
              "          google.colab.kernel.accessAllowed ? 'block' : 'none';\n",
              "\n",
              "        async function convertToInteractive(key) {\n",
              "          const element = document.querySelector('#df-65d157f7-1de0-4200-8be8-37639088ac83');\n",
              "          const dataTable =\n",
              "            await google.colab.kernel.invokeFunction('convertToInteractive',\n",
              "                                                     [key], {});\n",
              "          if (!dataTable) return;\n",
              "\n",
              "          const docLinkHtml = 'Like what you see? Visit the ' +\n",
              "            '<a target=\"_blank\" href=https://colab.research.google.com/notebooks/data_table.ipynb>data table notebook</a>'\n",
              "            + ' to learn more about interactive tables.';\n",
              "          element.innerHTML = '';\n",
              "          dataTable['output_type'] = 'display_data';\n",
              "          await google.colab.output.renderOutput(dataTable, element);\n",
              "          const docLink = document.createElement('div');\n",
              "          docLink.innerHTML = docLinkHtml;\n",
              "          element.appendChild(docLink);\n",
              "        }\n",
              "      </script>\n",
              "    </div>\n",
              "  </div>\n",
              "  "
            ]
          },
          "metadata": {},
          "execution_count": 7
        }
      ],
      "source": [
        "# Une los datos utilizando la función merge de pandas\n",
        "# Ojo: ¿Cuál es la llave de cruce en cada set de datos? ¿Ves algo que pueda afectar a la hora de cruzar los datos con esta llave? \n",
        "# Explica por que y toma la decisión correcta para transformar una de las variables de cruce\n",
        "\n",
        "# Repuesta: \n",
        "# Algunos nombres de países difieren en que en un dataset empiezan con mayusculas y en otro con minusculas.\n",
        "# Al realizar el cruce usando como llave el nombre del pais, esta diferencia entre mayusculas y minusculas provoca que no hagan match a pesar de ser el mismo país.\n",
        "# Una forma de lidiar con este problema es pasar los datos a mayusculas y realizar el cruce.\n",
        "happiness[\"country\"]      = happiness[\"country\"].apply(lambda x: x.upper())\n",
        "countries[\"country_name\"] = countries[\"country_name\"].apply(lambda x: x.upper()) \n",
        "\n",
        "datos = pd.merge(happiness,countries, how='outer', left_on='country', right_on='country_name', indicator = True) #Realizar el cruce\n",
        "datos.drop(columns=[\"_merge\",\"country_name\"],inplace=True)\n",
        "datos.head(2)"
      ]
    },
    {
      "cell_type": "code",
      "execution_count": 8,
      "metadata": {
        "colab": {
          "base_uri": "https://localhost:8080/"
        },
        "id": "QbP-SPxII1HZ",
        "outputId": "e7c4aa20-9188-4809-d0b5-270ce7fa8f87"
      },
      "outputs": [
        {
          "output_type": "stream",
          "name": "stdout",
          "text": [
            "Numero de variables: 11\n",
            "Numero de observaciones: 135\n",
            "Primeros 5 registros: \n",
            "        country  happiness_score  social_support  healthy_life_expectancy  \\\n",
            "0  AFGHANISTAN           2.5669        0.470367                52.590000   \n",
            "1      ALBANIA           4.8827        0.671070                68.708138   \n",
            "2      ALGERIA           5.0051        0.803385                65.905174   \n",
            "3    ARGENTINA           5.9747        0.900568                68.803802   \n",
            "4      ARMENIA           4.6768        0.757479                66.750656   \n",
            "\n",
            "   freedom_of_choices  generosity  perception_of_corruption  \\\n",
            "0            0.396573   -0.096429                  0.933687   \n",
            "1            0.781994   -0.042309                  0.896304   \n",
            "2            0.466611   -0.121105                  0.735485   \n",
            "3            0.831132   -0.194914                  0.842010   \n",
            "4            0.712018   -0.138780                  0.773545   \n",
            "\n",
            "                         world_region     area  population  literacy  \n",
            "0                          South Asia   647500    31056997      36.0  \n",
            "1          Central and Eastern Europe    28748     3581655      86.5  \n",
            "2        Middle East and North Africa  2381740    32930091      70.0  \n",
            "3         Latin America and Caribbean  2766890    39921833      97.1  \n",
            "4  Commonwealth of Independent States    29800     2976372      98.6  \n",
            "Numero de valores perdidos por cada columna:\n",
            " country                     0\n",
            "happiness_score             0\n",
            "social_support              0\n",
            "healthy_life_expectancy     0\n",
            "freedom_of_choices          0\n",
            "generosity                  0\n",
            "perception_of_corruption    0\n",
            "world_region                0\n",
            "area                        0\n",
            "population                  0\n",
            "literacy                    2\n",
            "dtype: int64\n",
            "Estadísticos descriptivos de los datos:\n",
            "        happiness_score  social_support  healthy_life_expectancy  \\\n",
            "count       135.000000      135.000000               135.000000   \n",
            "mean          5.525062        0.815165                64.762495   \n",
            "std           1.123414        0.116311                 6.694776   \n",
            "min           2.566900        0.468671                48.003624   \n",
            "25%           4.749000        0.740405                59.809444   \n",
            "50%           5.541500        0.836419                66.480164   \n",
            "75%           6.292700        0.910313                69.145870   \n",
            "max           7.808700        0.974670                76.804581   \n",
            "\n",
            "       freedom_of_choices  generosity  perception_of_corruption          area  \\\n",
            "count          135.000000  135.000000                135.000000  1.350000e+02   \n",
            "mean             0.790657   -0.022749                  0.727447  9.007829e+05   \n",
            "std              0.117230    0.146165                  0.180406  2.244994e+06   \n",
            "min              0.396573   -0.300907                  0.109784  3.160000e+02   \n",
            "25%              0.720287   -0.130953                  0.675699  6.540500e+04   \n",
            "50%              0.811602   -0.042309                  0.780623  2.375000e+05   \n",
            "75%              0.886453    0.083279                  0.848558  7.000570e+05   \n",
            "max              0.974998    0.519587                  0.935585  1.707520e+07   \n",
            "\n",
            "         population    literacy  \n",
            "count  1.350000e+02  133.000000  \n",
            "mean   4.552204e+07   81.851128  \n",
            "std    1.505270e+08   20.514483  \n",
            "min    2.993880e+05   17.600000  \n",
            "25%    4.636146e+06   70.000000  \n",
            "50%    1.023546e+07   90.900000  \n",
            "75%    2.967980e+07   98.400000  \n",
            "max    1.313974e+09  100.000000  \n"
          ]
        }
      ],
      "source": [
        "# Explora el set de datos que contiene los dos sets anteriores (número de variables, observaciones, checa 5 registros y más!)\n",
        "print(\"Numero de variables:\",datos.shape[1])\n",
        "print(\"Numero de observaciones:\",datos.shape[0])\n",
        "print(\"Primeros 5 registros: \\n\",datos.head(5))\n",
        "print(\"Numero de valores perdidos por cada columna:\\n\",datos.isna().sum())\n",
        "print(\"Estadísticos descriptivos de los datos:\\n\",datos.describe())"
      ]
    },
    {
      "cell_type": "code",
      "execution_count": 9,
      "metadata": {
        "colab": {
          "base_uri": "https://localhost:8080/"
        },
        "id": "lXaodDVvI1HZ",
        "outputId": "0df90923-01f1-4285-8f65-f88b51bb13fd"
      },
      "outputs": [
        {
          "output_type": "stream",
          "name": "stdout",
          "text": [
            "         country  happiness_score\n",
            "38       FINLAND           7.8087\n",
            "31       DENMARK           7.6456\n",
            "115  SWITZERLAND           7.5599\n",
            "50       ICELAND           7.5045\n",
            "92        NORWAY           7.4880\n",
            "87   NETHERLANDS           7.4489\n",
            "114       SWEDEN           7.3535\n",
            "88   NEW ZEALAND           7.2996\n",
            "6        AUSTRIA           7.2942\n",
            "72    LUXEMBOURG           7.2375\n"
          ]
        }
      ],
      "source": [
        "# Determina el top 10 de países más felices\n",
        "print(datos.sort_values(by=\"happiness_score\",ascending=False).head(10)[[\"country\",\"happiness_score\"]])"
      ]
    },
    {
      "cell_type": "code",
      "execution_count": 10,
      "metadata": {
        "colab": {
          "base_uri": "https://localhost:8080/"
        },
        "id": "RNhCpN-3I1HZ",
        "outputId": "feb46c8f-7912-43aa-d640-b1f29ec5da18"
      },
      "outputs": [
        {
          "output_type": "execute_result",
          "data": {
            "text/plain": [
              "world_region\n",
              "Central and Eastern Europe            5.891393\n",
              "Commonwealth of Independent States    5.358342\n",
              "East Asia                             5.483633\n",
              "Latin America and Caribbean           5.971280\n",
              "Middle East and North Africa          5.269306\n",
              "North America and ANZ                 7.173525\n",
              "South Asia                            4.355083\n",
              "Southeast Asia                        5.517788\n",
              "Sub-Saharan Africa                    4.393856\n",
              "Western Europe                        6.967405\n",
              "Name: happiness_score, dtype: float64"
            ]
          },
          "metadata": {},
          "execution_count": 10
        }
      ],
      "source": [
        "# Determina el top 10 de regiones con países más felices (¿Cómo puedes medir la felicidad por región?)\n",
        "\n",
        "# Respuesta:\n",
        "# Tomare como medida de felicidad por region el promedio de score de felicidad de los paises que pertenecen a la región\n",
        "datos.groupby(\"world_region\")[\"happiness_score\"].agg(np.mean)"
      ]
    },
    {
      "cell_type": "code",
      "execution_count": 11,
      "metadata": {
        "colab": {
          "base_uri": "https://localhost:8080/"
        },
        "id": "bbzS5-TmI1Ha",
        "outputId": "04f5fb1b-9ae8-450a-b85c-bf0b7d26ef77"
      },
      "outputs": [
        {
          "output_type": "stream",
          "name": "stdout",
          "text": [
            "                          Top 3\n",
            "0                Western Europe\n",
            "1         North America and ANZ\n",
            "2  Middle East and North Africa\n"
          ]
        }
      ],
      "source": [
        "# ¿Cuáles son las regiones con países más felices? Muestra el nombre y el score de felicidad\n",
        "\n",
        "# Respuesta:\n",
        "# Mostraré el top 3\n",
        "print(pd.DataFrame(datos.sort_values(by=\"happiness_score\",ascending=False)[\"world_region\"].unique()[0:3],columns=[\"Top 3\"]))"
      ]
    },
    {
      "cell_type": "code",
      "execution_count": 12,
      "metadata": {
        "colab": {
          "base_uri": "https://localhost:8080/"
        },
        "id": "8ZoaRLgHI1Ha",
        "outputId": "df6b13cc-958a-4d2f-c294-444d654a682a"
      },
      "outputs": [
        {
          "output_type": "execute_result",
          "data": {
            "text/plain": [
              "38           FINLAND\n",
              "5          AUSTRALIA\n",
              "72        LUXEMBOURG\n",
              "92            NORWAY\n",
              "31           DENMARK\n",
              "30    CZECH REPUBLIC\n",
              "50           ICELAND\n",
              "66            LATVIA\n",
              "36           ESTONIA\n",
              "98            POLAND\n",
              "Name: country, dtype: object"
            ]
          },
          "metadata": {},
          "execution_count": 12
        }
      ],
      "source": [
        "# ¿Cuál es el top 10 de países con mayor porcentaje de alfabetismo?\n",
        "\n",
        "# Respuesta:\n",
        "# Dado que se tienen valores NA en la columna alfabetismo (literacy), procederé a imputar los datos usando la media de alfabetismo de la región\n",
        "datos['literacy'] = datos.groupby(['world_region'], sort=False)['literacy'].apply(lambda x: x.fillna(x.mean()))\n",
        "datos.sort_values(by=\"literacy\",ascending=False).head(10)[\"country\"]"
      ]
    },
    {
      "cell_type": "code",
      "execution_count": 13,
      "metadata": {
        "id": "Jo8k_ZjCI1Ha",
        "colab": {
          "base_uri": "https://localhost:8080/"
        },
        "outputId": "5d206a4f-66ca-4064-9287-0c302457c1c8"
      },
      "outputs": [
        {
          "output_type": "stream",
          "name": "stdout",
          "text": [
            "                        Top 3\n",
            "0              Western Europe\n",
            "1       North America and ANZ\n",
            "2  Central and Eastern Europe\n"
          ]
        }
      ],
      "source": [
        "# ¿Cuáles son las regiones del mundo que tienen los países con mayor tasa de alfabetismo?\n",
        "\n",
        "# Respuesta:\n",
        "# Mostraré el top 3\n",
        "print(pd.DataFrame(datos.sort_values(by=\"literacy\",ascending=False)[\"world_region\"].unique()[0:3],columns=[\"Top 3\"]))"
      ]
    },
    {
      "cell_type": "code",
      "execution_count": 14,
      "metadata": {
        "id": "d7bZzezEI1Ha",
        "colab": {
          "base_uri": "https://localhost:8080/"
        },
        "outputId": "44e64d00-0bc1-4e48-b423-2a0027324327"
      },
      "outputs": [
        {
          "output_type": "stream",
          "name": "stdout",
          "text": [
            "            country    world_region\n",
            "6           AUSTRIA  Western Europe\n",
            "11          BELGIUM  Western Europe\n",
            "29           CYPRUS  Western Europe\n",
            "31          DENMARK  Western Europe\n",
            "38          FINLAND  Western Europe\n",
            "39           FRANCE  Western Europe\n",
            "42          GERMANY  Western Europe\n",
            "44           GREECE  Western Europe\n",
            "50          ICELAND  Western Europe\n",
            "55          IRELAND  Western Europe\n",
            "57            ITALY  Western Europe\n",
            "72       LUXEMBOURG  Western Europe\n",
            "78            MALTA  Western Europe\n",
            "87      NETHERLANDS  Western Europe\n",
            "92           NORWAY  Western Europe\n",
            "99         PORTUGAL  Western Europe\n",
            "111           SPAIN  Western Europe\n",
            "114          SWEDEN  Western Europe\n",
            "115     SWITZERLAND  Western Europe\n",
            "126  UNITED KINGDOM  Western Europe\n"
          ]
        }
      ],
      "source": [
        "# Muestra los países de la región con mayor porcentaje de alfabetismo\n",
        "\n",
        "print(datos[datos[\"world_region\"]==\"Western Europe\"][[\"country\",\"world_region\"]])"
      ]
    },
    {
      "cell_type": "code",
      "execution_count": 15,
      "metadata": {
        "id": "5_cPTNLcI1Ha",
        "colab": {
          "base_uri": "https://localhost:8080/"
        },
        "outputId": "54d26a4b-dcd2-4852-bd69-1c6a07fc83df"
      },
      "outputs": [
        {
          "output_type": "execute_result",
          "data": {
            "text/plain": [
              "90            NIGER\n",
              "17     BURKINA FASO\n",
              "106    SIERRA LEONE\n",
              "46           GUINEA\n",
              "0       AFGHANISTAN\n",
              "104         SENEGAL\n",
              "54             IRAQ\n",
              "12            BENIN\n",
              "79       MAURITANIA\n",
              "37         ETHIOPIA\n",
              "Name: country, dtype: object"
            ]
          },
          "metadata": {},
          "execution_count": 15
        }
      ],
      "source": [
        "# ¿Cuál es el top 10 de países de países con menor porcentaje de alfabetismo?\n",
        "\n",
        "datos.sort_values(by=\"literacy\",ascending=True).head(10)[\"country\"]"
      ]
    },
    {
      "cell_type": "code",
      "execution_count": 16,
      "metadata": {
        "id": "LDCbhf8OI1Hb",
        "colab": {
          "base_uri": "https://localhost:8080/"
        },
        "outputId": "b20de5f8-bcb5-447c-e362-6347ae4aad90"
      },
      "outputs": [
        {
          "output_type": "stream",
          "name": "stdout",
          "text": [
            "                          Top 3\n",
            "0            Sub-Saharan Africa\n",
            "1                    South Asia\n",
            "2  Middle East and North Africa\n"
          ]
        }
      ],
      "source": [
        "# ¿Cuáles son las regiones del mundo que tienen los países con menor tasa de alfabetismo?\n",
        "\n",
        "# Respuesta:\n",
        "# Mostraré el top 3\n",
        "print(pd.DataFrame(datos.sort_values(by=\"literacy\",ascending=True)[\"world_region\"].unique()[0:3],columns=[\"Top 3\"]))"
      ]
    },
    {
      "cell_type": "code",
      "execution_count": 17,
      "metadata": {
        "id": "oD54dmuDI1Hb",
        "colab": {
          "base_uri": "https://localhost:8080/"
        },
        "outputId": "b96740e2-4f69-4697-e064-37c67b62c578"
      },
      "outputs": [
        {
          "output_type": "stream",
          "name": "stdout",
          "text": [
            "          country        world_region\n",
            "12          BENIN  Sub-Saharan Africa\n",
            "14       BOTSWANA  Sub-Saharan Africa\n",
            "17   BURKINA FASO  Sub-Saharan Africa\n",
            "18        BURUNDI  Sub-Saharan Africa\n",
            "20       CAMEROON  Sub-Saharan Africa\n",
            "22           CHAD  Sub-Saharan Africa\n",
            "26        COMOROS  Sub-Saharan Africa\n",
            "37       ETHIOPIA  Sub-Saharan Africa\n",
            "40          GABON  Sub-Saharan Africa\n",
            "43          GHANA  Sub-Saharan Africa\n",
            "46         GUINEA  Sub-Saharan Africa\n",
            "62          KENYA  Sub-Saharan Africa\n",
            "68        LESOTHO  Sub-Saharan Africa\n",
            "69        LIBERIA  Sub-Saharan Africa\n",
            "74     MADAGASCAR  Sub-Saharan Africa\n",
            "75         MALAWI  Sub-Saharan Africa\n",
            "77           MALI  Sub-Saharan Africa\n",
            "79     MAURITANIA  Sub-Saharan Africa\n",
            "80      MAURITIUS  Sub-Saharan Africa\n",
            "85     MOZAMBIQUE  Sub-Saharan Africa\n",
            "90          NIGER  Sub-Saharan Africa\n",
            "91        NIGERIA  Sub-Saharan Africa\n",
            "102        RWANDA  Sub-Saharan Africa\n",
            "104       SENEGAL  Sub-Saharan Africa\n",
            "106  SIERRA LEONE  Sub-Saharan Africa\n",
            "110  SOUTH AFRICA  Sub-Saharan Africa\n",
            "113     SWAZILAND  Sub-Saharan Africa\n",
            "117      TANZANIA  Sub-Saharan Africa\n",
            "119          TOGO  Sub-Saharan Africa\n",
            "123        UGANDA  Sub-Saharan Africa\n",
            "133        ZAMBIA  Sub-Saharan Africa\n",
            "134      ZIMBABWE  Sub-Saharan Africa\n"
          ]
        }
      ],
      "source": [
        "# Muestra los países de la región con menor porcentaje de alfabetismo\n",
        "print(datos[datos[\"world_region\"]==\"Sub-Saharan Africa\"][[\"country\",\"world_region\"]])"
      ]
    },
    {
      "cell_type": "code",
      "execution_count": 18,
      "metadata": {
        "id": "kpg5MXVPI1Hb",
        "colab": {
          "base_uri": "https://localhost:8080/"
        },
        "outputId": "7fba5a70-13aa-4b54-f6e7-bdd17186c996"
      },
      "outputs": [
        {
          "output_type": "execute_result",
          "data": {
            "text/plain": [
              "24             CHINA\n",
              "51             INDIA\n",
              "127    UNITED STATES\n",
              "52         INDONESIA\n",
              "15            BRAZIL\n",
              "93          PAKISTAN\n",
              "9         BANGLADESH\n",
              "101           RUSSIA\n",
              "91           NIGERIA\n",
              "59             JAPAN\n",
              "Name: country, dtype: object"
            ]
          },
          "metadata": {},
          "execution_count": 18
        }
      ],
      "source": [
        "# Determina el top 10 de países con mayor cantidad de personas\n",
        "\n",
        "datos.sort_values(by=\"population\",ascending=False).head(10)[\"country\"]"
      ]
    },
    {
      "cell_type": "code",
      "execution_count": 19,
      "metadata": {
        "id": "B69_ZCfRI1Hb",
        "colab": {
          "base_uri": "https://localhost:8080/"
        },
        "outputId": "5ce083d5-4721-4b46-bd7e-e9ab30e72bdb"
      },
      "outputs": [
        {
          "output_type": "stream",
          "name": "stdout",
          "text": [
            "                   Top 3\n",
            "0              East Asia\n",
            "1             South Asia\n",
            "2  North America and ANZ\n"
          ]
        }
      ],
      "source": [
        "# ¿Cuáles son las regiones más pobladas del mundo?\n",
        "\n",
        "# Respuesta:\n",
        "# Mostraré el top 3\n",
        "print(pd.DataFrame(datos.sort_values(by=\"population\",ascending=False)[\"world_region\"].unique()[0:3],columns=[\"Top 3\"])) "
      ]
    },
    {
      "cell_type": "code",
      "execution_count": 20,
      "metadata": {
        "id": "2IjXzu_AI1Hb",
        "colab": {
          "base_uri": "https://localhost:8080/"
        },
        "outputId": "a1648870-b28c-4776-ccc9-c5d5558160b6"
      },
      "outputs": [
        {
          "output_type": "stream",
          "name": "stdout",
          "text": [
            "     country world_region\n",
            "24     CHINA    East Asia\n",
            "59     JAPAN    East Asia\n",
            "83  MONGOLIA    East Asia\n"
          ]
        }
      ],
      "source": [
        "# ¿Cuáles son los países en las regiones menos pobladas del mundo?\n",
        "print(datos[datos[\"world_region\"]==\"East Asia\"][[\"country\",\"world_region\"]]) "
      ]
    },
    {
      "cell_type": "code",
      "execution_count": 21,
      "metadata": {
        "id": "1znsTCrEI1Hb",
        "colab": {
          "base_uri": "https://localhost:8080/"
        },
        "outputId": "79deed8e-530e-47a5-9116-993ed8612952"
      },
      "outputs": [
        {
          "output_type": "stream",
          "name": "stdout",
          "text": [
            "           country  happiness_score\n",
            "24           CHINA           5.1239\n",
            "51           INDIA           3.5733\n",
            "127  UNITED STATES           6.9396\n"
          ]
        }
      ],
      "source": [
        "# ¿Cuál es el score de felicidad de los tres países más poblados del mundo?\n",
        "\n",
        "print(datos.sort_values(by=\"population\",ascending=False).head(3)[[\"country\",\"happiness_score\"]]) "
      ]
    },
    {
      "cell_type": "code",
      "execution_count": 22,
      "metadata": {
        "id": "ZT58WcRqI1Hc",
        "colab": {
          "base_uri": "https://localhost:8080/"
        },
        "outputId": "53d72219-4485-43f1-a48b-ff669fa237bd"
      },
      "outputs": [
        {
          "output_type": "stream",
          "name": "stdout",
          "text": [
            "       country  happiness_score\n",
            "50     ICELAND           7.5045\n",
            "78       MALTA           6.7728\n",
            "72  LUXEMBOURG           7.2375\n"
          ]
        }
      ],
      "source": [
        "# ¿Cuál es el score de felicidad de los tres países menos poblados del mundo?\n",
        "print(datos.sort_values(by=\"population\",ascending=True).head(3)[[\"country\",\"happiness_score\"]]) "
      ]
    },
    {
      "cell_type": "code",
      "execution_count": 23,
      "metadata": {
        "id": "mSM19bFVI1Hc",
        "colab": {
          "base_uri": "https://localhost:8080/",
          "height": 908
        },
        "outputId": "f076663a-943a-43ce-e0da-16c43f78d503"
      },
      "outputs": [
        {
          "output_type": "stream",
          "name": "stdout",
          "text": [
            "       happiness_score    literacy    population\n",
            "count       135.000000  135.000000  1.350000e+02\n",
            "mean          5.525062   82.086667  4.552204e+07\n",
            "std           1.123414   20.451886  1.505270e+08\n",
            "min           2.566900   17.600000  2.993880e+05\n",
            "25%           4.749000   70.200000  4.636146e+06\n",
            "50%           5.541500   90.900000  1.023546e+07\n",
            "75%           6.292700   98.200000  2.967980e+07\n",
            "max           7.808700  100.000000  1.313974e+09 \n",
            "\n"
          ]
        },
        {
          "output_type": "execute_result",
          "data": {
            "text/plain": [
              "Text(0.5, 1.0, 'population')"
            ]
          },
          "metadata": {},
          "execution_count": 23
        },
        {
          "output_type": "display_data",
          "data": {
            "text/plain": [
              "<Figure size 1440x360 with 3 Axes>"
            ],
            "image/png": "[encoded data removed]"
          },
          "metadata": {
            "needs_background": "light"
          }
        },
        {
          "output_type": "display_data",
          "data": {
            "text/plain": [
              "<Figure size 1440x360 with 3 Axes>"
            ],
            "image/png": "[encoded data removed]"
          },
          "metadata": {
            "needs_background": "light"
          }
        }
      ],
      "source": [
        "# Gráfica y explora las variables happiness_score, literacy y population\n",
        "# Hint: Utiliza los métodos vistos en clase para variables númericas \n",
        "\n",
        "# Primero veamos las estadísticas principales de estas variables\n",
        "print(datos[[\"happiness_score\",\"literacy\",\"population\"]].describe(),\"\\n\")\n",
        "\n",
        "fig, (ax1, ax2, ax3) = plt.subplots(1,3,figsize=(20,5))\n",
        "fig.suptitle('Histogramas')\n",
        "ax1.hist(datos[\"happiness_score\"],bins=40)\n",
        "ax2.hist(datos[\"literacy\"],bins=40)\n",
        "ax3.hist(datos[\"population\"],bins=40)\n",
        "ax1.set_title(\"happiness_score\")\n",
        "ax2.set_title(\"literacy\")\n",
        "ax3.set_title(\"population\")\n",
        "\n",
        "fig, (ax1, ax2, ax3) = plt.subplots(1,3,figsize=(20,5))\n",
        "fig.suptitle('Boxplot')\n",
        "ax1.boxplot(datos[\"happiness_score\"])\n",
        "ax2.boxplot(datos[\"literacy\"])\n",
        "ax3.boxplot(datos[\"population\"])\n",
        "ax1.set_title(\"happiness_score\")\n",
        "ax2.set_title(\"literacy\")\n",
        "ax3.set_title(\"population\")"
      ]
    },
    {
      "cell_type": "code",
      "execution_count": 24,
      "metadata": {
        "id": "8m6VUQ8dI1Hc",
        "colab": {
          "base_uri": "https://localhost:8080/",
          "height": 315
        },
        "outputId": "5465ce79-5fcf-4b82-ec40-344ecb789146"
      },
      "outputs": [
        {
          "output_type": "display_data",
          "data": {
            "text/plain": [
              "<Figure size 432x288 with 1 Axes>"
            ],
            "image/png": "[encoded data removed]"
          },
          "metadata": {
            "needs_background": "light"
          }
        },
        {
          "output_type": "stream",
          "name": "stdout",
          "text": [
            "Correlacion de Pearson: 0.788\n"
          ]
        }
      ],
      "source": [
        "# ¿Existe una relación (¿de qué tipo?) entre la variable happiness_score y healthy_life_expectancy?\n",
        "# Hint: Gráfica la relación que existe entre las variables\n",
        "\n",
        "fig, ax = plt.subplots()\n",
        "ax.scatter(datos[\"happiness_score\"],datos[\"healthy_life_expectancy\"])\n",
        "ax.set_title(\"Gráfica de dispersión\")\n",
        "ax.set_xlabel(\"happiness_score\")\n",
        "ax.set_ylabel(\"healthy_life_expectancy\")\n",
        "plt.show()\n",
        "\n",
        "# Podemos visualizar que existe una correlación lineal positiva entre la puntuación de felicidad y la esperanza de vida\n",
        "# Calculando el coeficiente de correlación de pearson tenemos:\n",
        "from scipy.stats import pearsonr\n",
        "corr, _ = pearsonr(datos[\"happiness_score\"],datos[\"healthy_life_expectancy\"])\n",
        "print('Correlacion de Pearson: %.3f' % corr)"
      ]
    },
    {
      "cell_type": "markdown",
      "metadata": {
        "id": "7B4YIWO0I1Hc"
      },
      "source": [
        "¿Podrías entrenar un modelo de regresión lineal para predecir la variable healthy_life_expectancy con base en la variable independiente happiness_score? ¿Sería un buen modelo para predecir la expectativa de vida? Elabora tu respuesta\n"
      ]
    },
    {
      "cell_type": "code",
      "execution_count": 25,
      "metadata": {
        "id": "LsVHZJM-I1Hc",
        "colab": {
          "base_uri": "https://localhost:8080/",
          "height": 384
        },
        "outputId": "3b9c2292-9097-48bc-db99-8fef893d52f2"
      },
      "outputs": [
        {
          "output_type": "display_data",
          "data": {
            "text/plain": [
              "<Figure size 432x288 with 2 Axes>"
            ],
            "image/png": "[encoded data removed]"
          },
          "metadata": {
            "needs_background": "light"
          }
        }
      ],
      "source": [
        "# Respuesta:\n",
        "# Sí, podríamos realizar una regresión lineal con happiness_score como variable independiente, ya que como vimos en el gráfico de dispersión, parece\n",
        "# haber una correlación lineal entre ambas variables.\n",
        "# Considero que sería un buen modelo, ya que un modelo de regresión lineal es útil cuando existe correlación lineal entre la variable target y la variable independiente.\n",
        "# Habría que obtener los parámetros del modelo de regresión y posteriormente calcular el estadístico R cuadrado. De igual manera, si queremos predecir valores es\n",
        "# altamente recomendable validar los supuestos de los modelos de regresión, tales como la normalidad de los residuales.\n",
        "\n",
        "# Define la variable target (healthy_life_expectancy)\n",
        "y = np.array(datos[\"healthy_life_expectancy\"])\n",
        "\n",
        "# Define el conjunto de variables independientes\n",
        "# Respuesta: Visualizando la matriz de correlación entre las variables numericas independientes podemos observar que happiness_score y social_support están altamente correlacionadas.\n",
        "# De igual manera perception_of_corruption tiene una fuerte correlación con happiness_score, social_support, freedom_of_choices y generosity.\n",
        "# Por lo cual decidí omitir las variables social_support y perception_of_corruption para ajustar el modelo de regresión lineal.\n",
        "import seaborn as sns\n",
        "import matplotlib.pyplot as plt\n",
        "ax = sns.heatmap(\n",
        "  datos.drop(columns=[\"country\",\"world_region\",\"healthy_life_expectancy\"]).corr(), \n",
        "  vmin=-1, vmax=1, center=0,\n",
        "  cmap=sns.diverging_palette(20, 220, n=200),\n",
        "  square=True)\n",
        "\n",
        "X = datos.drop(columns=[\"country\",\"world_region\",\"healthy_life_expectancy\",\"social_support\",\"perception_of_corruption\"])\n",
        "\n",
        "\n",
        "# Utiliza la función de sklearn para partir los datos en set de entrenamiento y validación\n",
        "# 70% train, 30% test, utiliza una semilla para poder replicar resultados (busca en la documentación de sklearn como hacer esto)\n",
        "\n",
        "X_train, X_test, y_train, y_test = train_test_split(X, y, test_size=0.3, random_state=1)"
      ]
    },
    {
      "cell_type": "code",
      "execution_count": 26,
      "metadata": {
        "id": "H5YP-FtRI1Hc",
        "colab": {
          "base_uri": "https://localhost:8080/"
        },
        "outputId": "3158a04f-a649-4ea9-8345-85b05eb948e1"
      },
      "outputs": [
        {
          "output_type": "stream",
          "name": "stdout",
          "text": [
            "R^2: 0.7938344695068895\n",
            "MSE: 8.318597037674191\n"
          ]
        }
      ],
      "source": [
        "# Entrena un modelo de regresión lineal y determina el score R² y el score de error (MSE)\n",
        "modelo_regresion_lineal = LinearRegression()\n",
        "modelo_regresion_lineal.fit(X_train,y_train)\n",
        "\n",
        "print(\"R^2:\",modelo_regresion_lineal.score(X_test,y_test))\n",
        "print(\"MSE:\",mean_squared_error(y_test,modelo_regresion_lineal.predict(X_test)))\n"
      ]
    },
    {
      "cell_type": "markdown",
      "metadata": {
        "id": "tA3DsApmI1Hc"
      },
      "source": [
        "## 2) Regresión logísitica utilizando el método de gradiente descendente aplicado a una función de costo de error cuadrático medio [20 puntos]\n",
        "En esta parte se requiere llevar a cabo una tarea de clasificación. Para ello vamos a utilizar una regresión logística. Primero que nada expliquemos el modelo anterior.\n",
        "\n",
        "**Regresión logística**\n",
        "Es un modelo que sirve para clasificar observaciones. En pocas palabras (y para esta tarea) la regresión logística es una transformación del modelo de regresión lineal sin término regularizador. Es decir, una regresión logística transforma las predicciones de una regresión lineal a un valor de probabilidad. \n",
        "\n",
        "$y = \\textbf{X}^T\\textbf{W}$\n",
        "\n",
        "$y\\_pred = \\sigma(y)$\n",
        "\n",
        "En esta parte de la tarea deberás utilizar el método de gradiente descendente para estimar los parámetros de una regresión lineal y después transformar las predicciones en probabilidades utilizando la función sigmoide. \n",
        "\n",
        "Vamos a utilizar un data set con información de los pasajeros del barco Titanic (**titanic.xls**). A continuación puedes ver el layout:\n",
        "\n",
        "* name: Nombre del pasajero\n",
        "* sex: Sexo del pasajero\n",
        "* age: edad en años\n",
        "* sibsp: # hijos / esposos abordo del Titanic\n",
        "* parch: # padres / niños abordo del Titanic\n",
        "* ticket: número de ticket de pasajero\n",
        "* fare: precio del ticket\n",
        "* cabin: Número de cabina en el barco\n",
        "* embarked: Puerto de embarcación\n"
      ]
    },
    {
      "cell_type": "code",
      "execution_count": 27,
      "metadata": {
        "id": "O_xgLJfdI1Hd",
        "colab": {
          "base_uri": "https://localhost:8080/",
          "height": 206
        },
        "outputId": "f0dbb2b0-8c2e-4ea1-ad06-42d061ea9c07"
      },
      "outputs": [
        {
          "output_type": "execute_result",
          "data": {
            "text/plain": [
              "   survived                                             name     sex      age  \\\n",
              "0       1.0                    Allen, Miss. Elisabeth Walton  female  29.0000   \n",
              "1       1.0                   Allison, Master. Hudson Trevor    male   0.9167   \n",
              "2       0.0                     Allison, Miss. Helen Loraine  female   2.0000   \n",
              "3       0.0             Allison, Mr. Hudson Joshua Creighton    male  30.0000   \n",
              "4       0.0  Allison, Mrs. Hudson J C (Bessie Waldo Daniels)  female  25.0000   \n",
              "\n",
              "   sibsp  parch    ticket      fare    cabin embarked  \n",
              "0    0.0    0.0   24160.0  211.3375       B5        S  \n",
              "1    1.0    2.0  113781.0  151.5500  C22 C26        S  \n",
              "2    1.0    2.0  113781.0  151.5500  C22 C26        S  \n",
              "3    1.0    2.0  113781.0  151.5500  C22 C26        S  \n",
              "4    1.0    2.0  113781.0  151.5500  C22 C26        S  "
            ],
            "text/html": [
              "\n",
              "  <div id=\"df-8951eeb2-f5b4-4d91-9211-3b6e25b7cec4\">\n",
              "    <div class=\"colab-df-container\">\n",
              "      <div>\n",
              "<style scoped>\n",
              "    .dataframe tbody tr th:only-of-type {\n",
              "        vertical-align: middle;\n",
              "    }\n",
              "\n",
              "    .dataframe tbody tr th {\n",
              "        vertical-align: top;\n",
              "    }\n",
              "\n",
              "    .dataframe thead th {\n",
              "        text-align: right;\n",
              "    }\n",
              "</style>\n",
              "<table border=\"1\" class=\"dataframe\">\n",
              "  <thead>\n",
              "    <tr style=\"text-align: right;\">\n",
              "      <th></th>\n",
              "      <th>survived</th>\n",
              "      <th>name</th>\n",
              "      <th>sex</th>\n",
              "      <th>age</th>\n",
              "      <th>sibsp</th>\n",
              "      <th>parch</th>\n",
              "      <th>ticket</th>\n",
              "      <th>fare</th>\n",
              "      <th>cabin</th>\n",
              "      <th>embarked</th>\n",
              "    </tr>\n",
              "  </thead>\n",
              "  <tbody>\n",
              "    <tr>\n",
              "      <th>0</th>\n",
              "      <td>1.0</td>\n",
              "      <td>Allen, Miss. Elisabeth Walton</td>\n",
              "      <td>female</td>\n",
              "      <td>29.0000</td>\n",
              "      <td>0.0</td>\n",
              "      <td>0.0</td>\n",
              "      <td>24160.0</td>\n",
              "      <td>211.3375</td>\n",
              "      <td>B5</td>\n",
              "      <td>S</td>\n",
              "    </tr>\n",
              "    <tr>\n",
              "      <th>1</th>\n",
              "      <td>1.0</td>\n",
              "      <td>Allison, Master. Hudson Trevor</td>\n",
              "      <td>male</td>\n",
              "      <td>0.9167</td>\n",
              "      <td>1.0</td>\n",
              "      <td>2.0</td>\n",
              "      <td>113781.0</td>\n",
              "      <td>151.5500</td>\n",
              "      <td>C22 C26</td>\n",
              "      <td>S</td>\n",
              "    </tr>\n",
              "    <tr>\n",
              "      <th>2</th>\n",
              "      <td>0.0</td>\n",
              "      <td>Allison, Miss. Helen Loraine</td>\n",
              "      <td>female</td>\n",
              "      <td>2.0000</td>\n",
              "      <td>1.0</td>\n",
              "      <td>2.0</td>\n",
              "      <td>113781.0</td>\n",
              "      <td>151.5500</td>\n",
              "      <td>C22 C26</td>\n",
              "      <td>S</td>\n",
              "    </tr>\n",
              "    <tr>\n",
              "      <th>3</th>\n",
              "      <td>0.0</td>\n",
              "      <td>Allison, Mr. Hudson Joshua Creighton</td>\n",
              "      <td>male</td>\n",
              "      <td>30.0000</td>\n",
              "      <td>1.0</td>\n",
              "      <td>2.0</td>\n",
              "      <td>113781.0</td>\n",
              "      <td>151.5500</td>\n",
              "      <td>C22 C26</td>\n",
              "      <td>S</td>\n",
              "    </tr>\n",
              "    <tr>\n",
              "      <th>4</th>\n",
              "      <td>0.0</td>\n",
              "      <td>Allison, Mrs. Hudson J C (Bessie Waldo Daniels)</td>\n",
              "      <td>female</td>\n",
              "      <td>25.0000</td>\n",
              "      <td>1.0</td>\n",
              "      <td>2.0</td>\n",
              "      <td>113781.0</td>\n",
              "      <td>151.5500</td>\n",
              "      <td>C22 C26</td>\n",
              "      <td>S</td>\n",
              "    </tr>\n",
              "  </tbody>\n",
              "</table>\n",
              "</div>\n",
              "      <button class=\"colab-df-convert\" onclick=\"convertToInteractive('df-8951eeb2-f5b4-4d91-9211-3b6e25b7cec4')\"\n",
              "              title=\"Convert this dataframe to an interactive table.\"\n",
              "              style=\"display:none;\">\n",
              "        \n",
              "  <svg xmlns=\"http://www.w3.org/2000/svg\" height=\"24px\"viewBox=\"0 0 24 24\"\n",
              "       width=\"24px\">\n",
              "    <path d=\"M0 0h24v24H0V0z\" fill=\"none\"/>\n",
              "    <path d=\"M18.56 5.44l.94 2.06.94-2.06 2.06-.94-2.06-.94-.94-2.06-.94 2.06-2.06.94zm-11 1L8.5 8.5l.94-2.06 2.06-.94-2.06-.94L8.5 2.5l-.94 2.06-2.06.94zm10 10l.94 2.06.94-2.06 2.06-.94-2.06-.94-.94-2.06-.94 2.06-2.06.94z\"/><path d=\"M17.41 7.96l-1.37-1.37c-.4-.4-.92-.59-1.43-.59-.52 0-1.04.2-1.43.59L10.3 9.45l-7.72 7.72c-.78.78-.78 2.05 0 2.83L4 21.41c.39.39.9.59 1.41.59.51 0 1.02-.2 1.41-.59l7.78-7.78 2.81-2.81c.8-.78.8-2.07 0-2.86zM5.41 20L4 18.59l7.72-7.72 1.47 1.35L5.41 20z\"/>\n",
              "  </svg>\n",
              "      </button>\n",
              "      \n",
              "  <style>\n",
              "    .colab-df-container {\n",
              "      display:flex;\n",
              "      flex-wrap:wrap;\n",
              "      gap: 12px;\n",
              "    }\n",
              "\n",
              "    .colab-df-convert {\n",
              "      background-color: #E8F0FE;\n",
              "      border: none;\n",
              "      border-radius: 50%;\n",
              "      cursor: pointer;\n",
              "      display: none;\n",
              "      fill: #1967D2;\n",
              "      height: 32px;\n",
              "      padding: 0 0 0 0;\n",
              "      width: 32px;\n",
              "    }\n",
              "\n",
              "    .colab-df-convert:hover {\n",
              "      background-color: #E2EBFA;\n",
              "      box-shadow: 0px 1px 2px rgba(60, 64, 67, 0.3), 0px 1px 3px 1px rgba(60, 64, 67, 0.15);\n",
              "      fill: #174EA6;\n",
              "    }\n",
              "\n",
              "    [theme=dark] .colab-df-convert {\n",
              "      background-color: #3B4455;\n",
              "      fill: #D2E3FC;\n",
              "    }\n",
              "\n",
              "    [theme=dark] .colab-df-convert:hover {\n",
              "      background-color: #434B5C;\n",
              "      box-shadow: 0px 1px 3px 1px rgba(0, 0, 0, 0.15);\n",
              "      filter: drop-shadow(0px 1px 2px rgba(0, 0, 0, 0.3));\n",
              "      fill: #FFFFFF;\n",
              "    }\n",
              "  </style>\n",
              "\n",
              "      <script>\n",
              "        const buttonEl =\n",
              "          document.querySelector('#df-8951eeb2-f5b4-4d91-9211-3b6e25b7cec4 button.colab-df-convert');\n",
              "        buttonEl.style.display =\n",
              "          google.colab.kernel.accessAllowed ? 'block' : 'none';\n",
              "\n",
              "        async function convertToInteractive(key) {\n",
              "          const element = document.querySelector('#df-8951eeb2-f5b4-4d91-9211-3b6e25b7cec4');\n",
              "          const dataTable =\n",
              "            await google.colab.kernel.invokeFunction('convertToInteractive',\n",
              "                                                     [key], {});\n",
              "          if (!dataTable) return;\n",
              "\n",
              "          const docLinkHtml = 'Like what you see? Visit the ' +\n",
              "            '<a target=\"_blank\" href=https://colab.research.google.com/notebooks/data_table.ipynb>data table notebook</a>'\n",
              "            + ' to learn more about interactive tables.';\n",
              "          element.innerHTML = '';\n",
              "          dataTable['output_type'] = 'display_data';\n",
              "          await google.colab.output.renderOutput(dataTable, element);\n",
              "          const docLink = document.createElement('div');\n",
              "          docLink.innerHTML = docLinkHtml;\n",
              "          element.appendChild(docLink);\n",
              "        }\n",
              "      </script>\n",
              "    </div>\n",
              "  </div>\n",
              "  "
            ]
          },
          "metadata": {},
          "execution_count": 27
        }
      ],
      "source": [
        "import xlrd                                                                     #Lectura de los datos\n",
        "workbook = xlrd.open_workbook('titanic.xls', encoding_override='cp1252') \n",
        "sheet = workbook.sheet_by_name(\"titanic3\")\n",
        "titanic = {'survived':sheet.col_values(0, start_rowx=1, end_rowx=None),\n",
        "  'name':sheet.col_values(1, start_rowx=1, end_rowx=None),\n",
        "  'sex':sheet.col_values(2, start_rowx=1, end_rowx=None),\n",
        "  'age':sheet.col_values(3, start_rowx=1, end_rowx=None),\n",
        "  'sibsp':sheet.col_values(4, start_rowx=1, end_rowx=None),\n",
        "  'parch':sheet.col_values(5, start_rowx=1, end_rowx=None),\n",
        "  'ticket':sheet.col_values(6, start_rowx=1, end_rowx=None),\n",
        "  'fare':sheet.col_values(7, start_rowx=1, end_rowx=None),\n",
        "  'cabin':sheet.col_values(8, start_rowx=1, end_rowx=None),\n",
        "  'embarked':sheet.col_values(9, start_rowx=1, end_rowx=None)}\n",
        "titanic = pd.DataFrame(titanic)\n",
        "titanic = titanic.replace(\"\", np.nan, regex=True)                               #Considerar los espacios en blanco como np.nan\n",
        "titanic.head(5)"
      ]
    },
    {
      "cell_type": "code",
      "execution_count": 28,
      "metadata": {
        "id": "R1lckrEXI1Hd",
        "colab": {
          "base_uri": "https://localhost:8080/",
          "height": 1000
        },
        "outputId": "7a85807a-ad19-4705-e65d-3764f0c2f808"
      },
      "outputs": [
        {
          "output_type": "stream",
          "name": "stdout",
          "text": [
            "Dimensión de los datos: (1309, 10)\n",
            "\n",
            "Variables Categoricas\n",
            "Variable: name Numero de valores únicos: 1307\n",
            "Variable: sex Numero de valores únicos: 2\n",
            "Variable: ticket Numero de valores únicos: 939\n",
            "Variable: cabin Numero de valores únicos: 187\n",
            "Variable: embarked Numero de valores únicos: 4\n",
            "\n",
            "Variables Numericas\n",
            "Variable: age Numero de valores únicos: 99\n",
            "Variable: sibsp Numero de valores únicos: 7\n",
            "Variable: parch Numero de valores únicos: 8\n",
            "Variable: fare Numero de valores únicos: 282\n"
          ]
        },
        {
          "output_type": "execute_result",
          "data": {
            "text/plain": [
              "Text(0.5, 1.0, 'embarked')"
            ]
          },
          "metadata": {},
          "execution_count": 28
        },
        {
          "output_type": "display_data",
          "data": {
            "text/plain": [
              "<Figure size 1440x360 with 3 Axes>"
            ],
            "image/png": "[encoded data removed]"
          },
          "metadata": {
            "needs_background": "light"
          }
        },
        {
          "output_type": "display_data",
          "data": {
            "text/plain": [
              "<Figure size 1440x360 with 3 Axes>"
            ],
            "image/png": "[encoded data removed]"
          },
          "metadata": {
            "needs_background": "light"
          }
        },
        {
          "output_type": "display_data",
          "data": {
            "text/plain": [
              "<Figure size 1440x360 with 3 Axes>"
            ],
            "image/png": "[encoded data removed]"
          },
          "metadata": {
            "needs_background": "light"
          }
        }
      ],
      "source": [
        "# Explora el data set\n",
        "# Aquí ocupa todo lo que ya sabes para analizar un set de datos. Si el análisis que vas a realizar es muy bueno, podríamos considerar tener puntos extras\n",
        "\n",
        "print(\"Dimensión de los datos:\",titanic.shape)                                  #Conocer la dimensión del data set\n",
        "\n",
        "numericas = [\"age\",\"sibsp\",\"parch\",\"fare\"]                                      #Definimos cuales son las variables numéricas y cuales son categóricas\n",
        "categoricas = [\"name\",\"sex\",\"ticket\",\"cabin\",\"embarked\"]\n",
        "\n",
        "print(\"\\nVariables Categoricas\")                                                #Imprimir cuantos valores unicos tiene cada variable\n",
        "for k in categoricas:\n",
        "  print(\"Variable:\",k, \"Numero de valores únicos:\" ,len(titanic[k].unique()))\n",
        "print(\"\\nVariables Numericas\")\n",
        "for k in numericas:\n",
        "  print(\"Variable:\",k, \"Numero de valores únicos:\" ,len(titanic[k].unique()))\n",
        "\n",
        "fig, (ax1, ax2, ax3) = plt.subplots(1,3,figsize=(20,5))                         #Histogramas para variables numéricas\n",
        "fig.suptitle('Histogramas')\n",
        "ax1.hist(titanic[\"age\"],bins=10)\n",
        "ax2.hist(titanic[\"sibsp\"],bins=10)\n",
        "ax3.hist(titanic[\"parch\"],bins=10)\n",
        "ax1.set_title(\"age\")\n",
        "ax2.set_title(\"sibsp\")\n",
        "ax3.set_title(\"parch\")\n",
        "\n",
        "fig, (ax1, ax2, ax3) = plt.subplots(1,3,figsize=(20,5))                         #Graficos de caja para variables numericas\n",
        "fig.suptitle('Boxplot')\n",
        "ax1.boxplot(titanic[\"age\"].dropna())  \n",
        "ax2.boxplot(titanic[\"sibsp\"])\n",
        "ax3.boxplot(titanic[\"parch\"])\n",
        "ax1.set_title(\"age\")\n",
        "ax2.set_title(\"sibsp\")\n",
        "ax3.set_title(\"parch\")\n",
        "\n",
        "fig, (ax1, ax2, ax3) = plt.subplots(1,3,figsize=(20,5))                         #Graficos de barras para variables categoricas\n",
        "fig.suptitle('Barplot')\n",
        "ax1.bar(titanic[\"sex\"].value_counts().index,titanic[\"sex\"].value_counts())  \n",
        "ax2.bar(titanic[\"cabin\"].value_counts().index,titanic[\"cabin\"].value_counts()) \n",
        "ax3.bar(titanic[\"embarked\"].value_counts().index,titanic[\"embarked\"].value_counts()) \n",
        "ax1.set_title(\"sex\")\n",
        "ax2.set_title(\"cabin\")\n",
        "ax2.set_xticklabels(titanic[\"cabin\"].value_counts().index,rotation=90)\n",
        "ax3.set_title(\"embarked\") \n",
        "\n",
        "\n",
        "#embarked tiene la cadena \"\"\n",
        "#cabin    tiene la cadena \"\"\n",
        "#fare     tiene la cadena \"\"\n",
        "#ticket   demasiada variabilidad\n",
        "#parch    OK\n",
        "#sibsp    OK\n",
        "#age      tiene la cadena \"\"\n",
        "#sex      OK"
      ]
    },
    {
      "cell_type": "code",
      "execution_count": 29,
      "metadata": {
        "id": "U_QSx09lI1Hd"
      },
      "outputs": [],
      "source": [
        "# ¿Hace sentido utilizar todas las columnas para entrenar un modelo de clasificación? Elimina variables que podrían meter ruido y quedate solo con las que consideres cruciales\n",
        "\n",
        "# Algunas variable son innecesarias y pueden afectar el desempeño de un modelo. Por ejemplo:\n",
        "# Las variables \"ticket\",\"name\" y \"cabin\" tiene demasiadas categorías y no resultan utiles ya que podrían introducir mucho ruido a un modelo de aprendizaje de maquina.\n",
        "# Por lo cual procedere a eliminar dichas variables.\n",
        "titanic.drop(columns=[\"ticket\",\"name\",\"cabin\"],inplace=True)"
      ]
    },
    {
      "cell_type": "code",
      "execution_count": 30,
      "metadata": {
        "id": "zX1CiSnWI1Hd",
        "colab": {
          "base_uri": "https://localhost:8080/",
          "height": 423
        },
        "outputId": "d994f840-8584-4a68-9a7a-7796a0f73018"
      },
      "outputs": [
        {
          "output_type": "execute_result",
          "data": {
            "text/plain": [
              "     survived     sex      age  sibsp  parch      fare embarked  embarked_Q  \\\n",
              "0           1  female  29.0000      0      0  211.3375        S           0   \n",
              "1           1    male   0.9167      1      2  151.5500        S           0   \n",
              "2           0  female   2.0000      1      2  151.5500        S           0   \n",
              "3           0    male  30.0000      1      2  151.5500        S           0   \n",
              "4           0  female  25.0000      1      2  151.5500        S           0   \n",
              "...       ...     ...      ...    ...    ...       ...      ...         ...   \n",
              "1304        0  female  14.5000      1      0   14.4542        C           0   \n",
              "1305        0  female      NaN      1      0   14.4542        C           0   \n",
              "1306        0    male  26.5000      0      0    7.2250        C           0   \n",
              "1307        0    male  27.0000      0      0    7.2250        C           0   \n",
              "1308        0    male  29.0000      0      0    7.8750        S           0   \n",
              "\n",
              "      embarked_S  sex_male  \n",
              "0              1         0  \n",
              "1              1         1  \n",
              "2              1         0  \n",
              "3              1         1  \n",
              "4              1         0  \n",
              "...          ...       ...  \n",
              "1304           0         0  \n",
              "1305           0         0  \n",
              "1306           0         1  \n",
              "1307           0         1  \n",
              "1308           1         1  \n",
              "\n",
              "[1309 rows x 10 columns]"
            ],
            "text/html": [
              "\n",
              "  <div id=\"df-f2ffcb02-5db0-47ad-91aa-46f2ab63313d\">\n",
              "    <div class=\"colab-df-container\">\n",
              "      <div>\n",
              "<style scoped>\n",
              "    .dataframe tbody tr th:only-of-type {\n",
              "        vertical-align: middle;\n",
              "    }\n",
              "\n",
              "    .dataframe tbody tr th {\n",
              "        vertical-align: top;\n",
              "    }\n",
              "\n",
              "    .dataframe thead th {\n",
              "        text-align: right;\n",
              "    }\n",
              "</style>\n",
              "<table border=\"1\" class=\"dataframe\">\n",
              "  <thead>\n",
              "    <tr style=\"text-align: right;\">\n",
              "      <th></th>\n",
              "      <th>survived</th>\n",
              "      <th>sex</th>\n",
              "      <th>age</th>\n",
              "      <th>sibsp</th>\n",
              "      <th>parch</th>\n",
              "      <th>fare</th>\n",
              "      <th>embarked</th>\n",
              "      <th>embarked_Q</th>\n",
              "      <th>embarked_S</th>\n",
              "      <th>sex_male</th>\n",
              "    </tr>\n",
              "  </thead>\n",
              "  <tbody>\n",
              "    <tr>\n",
              "      <th>0</th>\n",
              "      <td>1</td>\n",
              "      <td>female</td>\n",
              "      <td>29.0000</td>\n",
              "      <td>0</td>\n",
              "      <td>0</td>\n",
              "      <td>211.3375</td>\n",
              "      <td>S</td>\n",
              "      <td>0</td>\n",
              "      <td>1</td>\n",
              "      <td>0</td>\n",
              "    </tr>\n",
              "    <tr>\n",
              "      <th>1</th>\n",
              "      <td>1</td>\n",
              "      <td>male</td>\n",
              "      <td>0.9167</td>\n",
              "      <td>1</td>\n",
              "      <td>2</td>\n",
              "      <td>151.5500</td>\n",
              "      <td>S</td>\n",
              "      <td>0</td>\n",
              "      <td>1</td>\n",
              "      <td>1</td>\n",
              "    </tr>\n",
              "    <tr>\n",
              "      <th>2</th>\n",
              "      <td>0</td>\n",
              "      <td>female</td>\n",
              "      <td>2.0000</td>\n",
              "      <td>1</td>\n",
              "      <td>2</td>\n",
              "      <td>151.5500</td>\n",
              "      <td>S</td>\n",
              "      <td>0</td>\n",
              "      <td>1</td>\n",
              "      <td>0</td>\n",
              "    </tr>\n",
              "    <tr>\n",
              "      <th>3</th>\n",
              "      <td>0</td>\n",
              "      <td>male</td>\n",
              "      <td>30.0000</td>\n",
              "      <td>1</td>\n",
              "      <td>2</td>\n",
              "      <td>151.5500</td>\n",
              "      <td>S</td>\n",
              "      <td>0</td>\n",
              "      <td>1</td>\n",
              "      <td>1</td>\n",
              "    </tr>\n",
              "    <tr>\n",
              "      <th>4</th>\n",
              "      <td>0</td>\n",
              "      <td>female</td>\n",
              "      <td>25.0000</td>\n",
              "      <td>1</td>\n",
              "      <td>2</td>\n",
              "      <td>151.5500</td>\n",
              "      <td>S</td>\n",
              "      <td>0</td>\n",
              "      <td>1</td>\n",
              "      <td>0</td>\n",
              "    </tr>\n",
              "    <tr>\n",
              "      <th>...</th>\n",
              "      <td>...</td>\n",
              "      <td>...</td>\n",
              "      <td>...</td>\n",
              "      <td>...</td>\n",
              "      <td>...</td>\n",
              "      <td>...</td>\n",
              "      <td>...</td>\n",
              "      <td>...</td>\n",
              "      <td>...</td>\n",
              "      <td>...</td>\n",
              "    </tr>\n",
              "    <tr>\n",
              "      <th>1304</th>\n",
              "      <td>0</td>\n",
              "      <td>female</td>\n",
              "      <td>14.5000</td>\n",
              "      <td>1</td>\n",
              "      <td>0</td>\n",
              "      <td>14.4542</td>\n",
              "      <td>C</td>\n",
              "      <td>0</td>\n",
              "      <td>0</td>\n",
              "      <td>0</td>\n",
              "    </tr>\n",
              "    <tr>\n",
              "      <th>1305</th>\n",
              "      <td>0</td>\n",
              "      <td>female</td>\n",
              "      <td>NaN</td>\n",
              "      <td>1</td>\n",
              "      <td>0</td>\n",
              "      <td>14.4542</td>\n",
              "      <td>C</td>\n",
              "      <td>0</td>\n",
              "      <td>0</td>\n",
              "      <td>0</td>\n",
              "    </tr>\n",
              "    <tr>\n",
              "      <th>1306</th>\n",
              "      <td>0</td>\n",
              "      <td>male</td>\n",
              "      <td>26.5000</td>\n",
              "      <td>0</td>\n",
              "      <td>0</td>\n",
              "      <td>7.2250</td>\n",
              "      <td>C</td>\n",
              "      <td>0</td>\n",
              "      <td>0</td>\n",
              "      <td>1</td>\n",
              "    </tr>\n",
              "    <tr>\n",
              "      <th>1307</th>\n",
              "      <td>0</td>\n",
              "      <td>male</td>\n",
              "      <td>27.0000</td>\n",
              "      <td>0</td>\n",
              "      <td>0</td>\n",
              "      <td>7.2250</td>\n",
              "      <td>C</td>\n",
              "      <td>0</td>\n",
              "      <td>0</td>\n",
              "      <td>1</td>\n",
              "    </tr>\n",
              "    <tr>\n",
              "      <th>1308</th>\n",
              "      <td>0</td>\n",
              "      <td>male</td>\n",
              "      <td>29.0000</td>\n",
              "      <td>0</td>\n",
              "      <td>0</td>\n",
              "      <td>7.8750</td>\n",
              "      <td>S</td>\n",
              "      <td>0</td>\n",
              "      <td>1</td>\n",
              "      <td>1</td>\n",
              "    </tr>\n",
              "  </tbody>\n",
              "</table>\n",
              "<p>1309 rows × 10 columns</p>\n",
              "</div>\n",
              "      <button class=\"colab-df-convert\" onclick=\"convertToInteractive('df-f2ffcb02-5db0-47ad-91aa-46f2ab63313d')\"\n",
              "              title=\"Convert this dataframe to an interactive table.\"\n",
              "              style=\"display:none;\">\n",
              "        \n",
              "  <svg xmlns=\"http://www.w3.org/2000/svg\" height=\"24px\"viewBox=\"0 0 24 24\"\n",
              "       width=\"24px\">\n",
              "    <path d=\"M0 0h24v24H0V0z\" fill=\"none\"/>\n",
              "    <path d=\"M18.56 5.44l.94 2.06.94-2.06 2.06-.94-2.06-.94-.94-2.06-.94 2.06-2.06.94zm-11 1L8.5 8.5l.94-2.06 2.06-.94-2.06-.94L8.5 2.5l-.94 2.06-2.06.94zm10 10l.94 2.06.94-2.06 2.06-.94-2.06-.94-.94-2.06-.94 2.06-2.06.94z\"/><path d=\"M17.41 7.96l-1.37-1.37c-.4-.4-.92-.59-1.43-.59-.52 0-1.04.2-1.43.59L10.3 9.45l-7.72 7.72c-.78.78-.78 2.05 0 2.83L4 21.41c.39.39.9.59 1.41.59.51 0 1.02-.2 1.41-.59l7.78-7.78 2.81-2.81c.8-.78.8-2.07 0-2.86zM5.41 20L4 18.59l7.72-7.72 1.47 1.35L5.41 20z\"/>\n",
              "  </svg>\n",
              "      </button>\n",
              "      \n",
              "  <style>\n",
              "    .colab-df-container {\n",
              "      display:flex;\n",
              "      flex-wrap:wrap;\n",
              "      gap: 12px;\n",
              "    }\n",
              "\n",
              "    .colab-df-convert {\n",
              "      background-color: #E8F0FE;\n",
              "      border: none;\n",
              "      border-radius: 50%;\n",
              "      cursor: pointer;\n",
              "      display: none;\n",
              "      fill: #1967D2;\n",
              "      height: 32px;\n",
              "      padding: 0 0 0 0;\n",
              "      width: 32px;\n",
              "    }\n",
              "\n",
              "    .colab-df-convert:hover {\n",
              "      background-color: #E2EBFA;\n",
              "      box-shadow: 0px 1px 2px rgba(60, 64, 67, 0.3), 0px 1px 3px 1px rgba(60, 64, 67, 0.15);\n",
              "      fill: #174EA6;\n",
              "    }\n",
              "\n",
              "    [theme=dark] .colab-df-convert {\n",
              "      background-color: #3B4455;\n",
              "      fill: #D2E3FC;\n",
              "    }\n",
              "\n",
              "    [theme=dark] .colab-df-convert:hover {\n",
              "      background-color: #434B5C;\n",
              "      box-shadow: 0px 1px 3px 1px rgba(0, 0, 0, 0.15);\n",
              "      filter: drop-shadow(0px 1px 2px rgba(0, 0, 0, 0.3));\n",
              "      fill: #FFFFFF;\n",
              "    }\n",
              "  </style>\n",
              "\n",
              "      <script>\n",
              "        const buttonEl =\n",
              "          document.querySelector('#df-f2ffcb02-5db0-47ad-91aa-46f2ab63313d button.colab-df-convert');\n",
              "        buttonEl.style.display =\n",
              "          google.colab.kernel.accessAllowed ? 'block' : 'none';\n",
              "\n",
              "        async function convertToInteractive(key) {\n",
              "          const element = document.querySelector('#df-f2ffcb02-5db0-47ad-91aa-46f2ab63313d');\n",
              "          const dataTable =\n",
              "            await google.colab.kernel.invokeFunction('convertToInteractive',\n",
              "                                                     [key], {});\n",
              "          if (!dataTable) return;\n",
              "\n",
              "          const docLinkHtml = 'Like what you see? Visit the ' +\n",
              "            '<a target=\"_blank\" href=https://colab.research.google.com/notebooks/data_table.ipynb>data table notebook</a>'\n",
              "            + ' to learn more about interactive tables.';\n",
              "          element.innerHTML = '';\n",
              "          dataTable['output_type'] = 'display_data';\n",
              "          await google.colab.output.renderOutput(dataTable, element);\n",
              "          const docLink = document.createElement('div');\n",
              "          docLink.innerHTML = docLinkHtml;\n",
              "          element.appendChild(docLink);\n",
              "        }\n",
              "      </script>\n",
              "    </div>\n",
              "  </div>\n",
              "  "
            ]
          },
          "metadata": {},
          "execution_count": 30
        }
      ],
      "source": [
        "# Preprocesa los datos\n",
        "# Hint: crea variables dummies para la variable \"sex\"\n",
        "\n",
        "# Respuesta: Antes de continuar procederé a convertir a cadena las variables categoricas y a numero las variables cuantitativas.\n",
        "\n",
        "titanic[\"survived\"] = titanic[\"survived\"].apply(int).apply(str)\n",
        "titanic[\"sex\"] = titanic[\"sex\"].apply(str)\n",
        "titanic[\"sibsp\"] = titanic[\"sibsp\"].apply(int)\n",
        "titanic[\"parch\"] = titanic[\"parch\"].apply(int)\n",
        "\n",
        "#Posteriormente procederé a imputar los valores perdidos.\n",
        "titanic[\"embarked\"] = titanic[\"embarked\"].fillna(titanic['embarked'].mode()[0])\n",
        "\n",
        "# Posteriormente creare variables dummy para las variables categoricas \"sex\" y \"embarked\"\n",
        "dummies_embarked = pd.get_dummies(titanic[\"embarked\"],drop_first=True)\n",
        "dummies_embarked.columns = \"embarked_\"+ dummies_embarked.columns\n",
        "titanic = pd.merge(titanic,dummies_embarked,right_index=True,left_index=True,how=\"left\")\n",
        "\n",
        "dummies_sex = pd.get_dummies(titanic[\"sex\"],drop_first=True)\n",
        "dummies_sex.columns = \"sex_\"+ dummies_sex.columns\n",
        "titanic = pd.merge(titanic,dummies_sex,right_index=True,left_index=True,how=\"left\")\n",
        "\n",
        "titanic"
      ]
    },
    {
      "cell_type": "code",
      "execution_count": 31,
      "metadata": {
        "id": "hKxr67cUI1Hd",
        "colab": {
          "base_uri": "https://localhost:8080/"
        },
        "outputId": "a6fc1ca8-3e83-49aa-dd21-a617dac91054"
      },
      "outputs": [
        {
          "output_type": "stream",
          "name": "stdout",
          "text": [
            "['embarked_Q' 'embarked_S']\n",
            "\n",
            "\n",
            "['sex_male']\n"
          ]
        }
      ],
      "source": [
        "# Mostrar el nombre de las variables dummy creadas\n",
        "print(dummies_embarked.columns.values)\n",
        "print(\"\\n\")\n",
        "print(dummies_sex.columns.values)"
      ]
    },
    {
      "cell_type": "code",
      "execution_count": 32,
      "metadata": {
        "id": "E-QGYVzkI1Hd"
      },
      "outputs": [],
      "source": [
        "# Define la variable target (survived)\n",
        "y = np.array(titanic[\"survived\"])\n",
        "\n",
        "# Define el conjunto de variables independientes\n",
        "X = titanic[['age', 'sibsp', 'parch', 'fare', 'embarked_Q', 'embarked_S', 'sex_male']]"
      ]
    },
    {
      "cell_type": "code",
      "execution_count": 33,
      "metadata": {
        "id": "jhGfQCi9I1He",
        "colab": {
          "base_uri": "https://localhost:8080/"
        },
        "outputId": "369fa3b1-b430-420f-e87e-906ec031a241"
      },
      "outputs": [
        {
          "output_type": "execute_result",
          "data": {
            "text/plain": [
              "264"
            ]
          },
          "metadata": {},
          "execution_count": 33
        }
      ],
      "source": [
        "# Determina cuántas observaciones tienen un valor missing\n",
        "X.isna().sum(axis=1).sum()"
      ]
    },
    {
      "cell_type": "code",
      "execution_count": 34,
      "metadata": {
        "id": "43VgbiMpI1He",
        "colab": {
          "base_uri": "https://localhost:8080/"
        },
        "outputId": "686b4a29-df3d-4067-82bb-a69e88d5ebf7"
      },
      "outputs": [
        {
          "output_type": "execute_result",
          "data": {
            "text/plain": [
              "age     263\n",
              "fare      1\n",
              "dtype: int64"
            ]
          },
          "metadata": {},
          "execution_count": 34
        }
      ],
      "source": [
        "# Cuál o cuáles variables tienen valores missing\n",
        "X.isna().sum()[X.isna().sum()>0]"
      ]
    },
    {
      "cell_type": "code",
      "execution_count": 35,
      "metadata": {
        "id": "UKTu9VPPI1He",
        "colab": {
          "base_uri": "https://localhost:8080/",
          "height": 539
        },
        "outputId": "e4be540f-1fb5-4d6e-a71f-1c9772d0d951"
      },
      "outputs": [
        {
          "output_type": "stream",
          "name": "stdout",
          "text": [
            "               age         fare\n",
            "count  1046.000000  1308.000000\n",
            "mean     29.881135    33.295479\n",
            "std      14.413500    51.758668\n",
            "min       0.166700     0.000000\n",
            "25%      21.000000     7.895800\n",
            "50%      28.000000    14.454200\n",
            "75%      39.000000    31.275000\n",
            "max      80.000000   512.329200\n"
          ]
        },
        {
          "output_type": "execute_result",
          "data": {
            "text/plain": [
              "Text(0.5, 1.0, 'fare')"
            ]
          },
          "metadata": {},
          "execution_count": 35
        },
        {
          "output_type": "display_data",
          "data": {
            "text/plain": [
              "<Figure size 1440x360 with 2 Axes>"
            ],
            "image/png": "[encoded data removed]"
          },
          "metadata": {
            "needs_background": "light"
          }
        }
      ],
      "source": [
        "# Describe las variables para ver qué método podría servirnos para imputar valores nulos\n",
        "print(X[[\"age\",\"fare\"]].describe())\n",
        "\n",
        "fig, (ax1, ax2) = plt.subplots(1,2,figsize=(20,5))                         #Histogramas para variables numéricas\n",
        "fig.suptitle('Histogramas')\n",
        "ax1.hist(X[\"age\"],bins=10)\n",
        "ax2.hist(X[\"fare\"],bins=10)\n",
        "ax1.set_title(\"age\")\n",
        "ax2.set_title(\"fare\")\n",
        "\n",
        "# Variable \"fare\":  unicamente se tiene 1 valor missing, por lo cual procederé a imputarlo con la media, ya que la distribucion de los datos no se vera\n",
        "# tan afectada.\n",
        "\n",
        "# Variable \"age\":   se tiene un valor bastante alto de valores perdidos. En total un 20% de valores faltantes. En este caso imputar la media o mediana puede \n",
        "# afectar severamente la distribución de la variable. Por lo cual opté por realizar un imputación con el metodo de KNN"
      ]
    },
    {
      "cell_type": "code",
      "execution_count": 36,
      "metadata": {
        "id": "Nan1zWueI1He",
        "colab": {
          "base_uri": "https://localhost:8080/",
          "height": 484
        },
        "outputId": "353f3532-4fd0-4ddf-9cbe-716a667d589e"
      },
      "outputs": [
        {
          "output_type": "stream",
          "name": "stderr",
          "text": [
            "/usr/local/lib/python3.7/dist-packages/ipykernel_launcher.py:2: SettingWithCopyWarning: \n",
            "A value is trying to be set on a copy of a slice from a DataFrame.\n",
            "Try using .loc[row_indexer,col_indexer] = value instead\n",
            "\n",
            "See the caveats in the documentation: https://pandas.pydata.org/pandas-docs/stable/user_guide/indexing.html#returning-a-view-versus-a-copy\n",
            "  \n"
          ]
        },
        {
          "output_type": "execute_result",
          "data": {
            "text/plain": [
              "Text(0.5, 1.0, 'fare')"
            ]
          },
          "metadata": {},
          "execution_count": 36
        },
        {
          "output_type": "display_data",
          "data": {
            "text/plain": [
              "<Figure size 1440x360 with 2 Axes>"
            ],
            "image/png": "[encoded data removed]"
          },
          "metadata": {
            "needs_background": "light"
          }
        }
      ],
      "source": [
        "# Imputa los valores missing de las variables con valores missing\n",
        "X[\"fare\"] = X[\"fare\"].fillna(X[\"fare\"].mean())                                  #Imputacion de la variable \"fare\"\n",
        "\n",
        "from sklearn.impute import KNNImputer                                           #Imputación de la variable \"age\" usando KNNimputer\n",
        "from sklearn.preprocessing import MinMaxScaler                                  #Normalización usando MinMaxScaler\n",
        "scaler = MinMaxScaler()\n",
        "X_escalado = pd.DataFrame(scaler.fit_transform(X),columns=X.columns)\n",
        "imputer = KNNImputer(n_neighbors=4,missing_values=np.nan)\n",
        "X_imputado = pd.DataFrame(imputer.fit_transform(X_escalado),columns=X_escalado.columns)\n",
        "\n",
        "# Comprueba que ya no existan registros con valores nulos\n",
        "X_imputado.isna().sum()\n",
        "\n",
        "fig, (ax1, ax2) = plt.subplots(1,2,figsize=(20,5))                              #Histogramas para variables imputadas\n",
        "fig.suptitle('Histogramas')\n",
        "ax1.hist(X_imputado[\"age\"],bins=10)\n",
        "ax2.hist(X_imputado[\"fare\"],bins=10)\n",
        "ax1.set_title(\"age\")\n",
        "ax2.set_title(\"fare\")"
      ]
    },
    {
      "cell_type": "code",
      "execution_count": 37,
      "metadata": {
        "id": "MtevNo9EI1He",
        "colab": {
          "base_uri": "https://localhost:8080/",
          "height": 268
        },
        "outputId": "dc828ee0-dd32-4e30-938e-68ad742a3e9d"
      },
      "outputs": [
        {
          "output_type": "execute_result",
          "data": {
            "text/plain": [
              "     Variable  Min  Max\n",
              "0         age  0.0  1.0\n",
              "1       sibsp  0.0  1.0\n",
              "2       parch  0.0  1.0\n",
              "3        fare  0.0  1.0\n",
              "4  embarked_Q  0.0  1.0\n",
              "5  embarked_S  0.0  1.0\n",
              "6    sex_male  0.0  1.0"
            ],
            "text/html": [
              "\n",
              "  <div id=\"df-acc7e201-4614-4c35-b060-344dd4cdabee\">\n",
              "    <div class=\"colab-df-container\">\n",
              "      <div>\n",
              "<style scoped>\n",
              "    .dataframe tbody tr th:only-of-type {\n",
              "        vertical-align: middle;\n",
              "    }\n",
              "\n",
              "    .dataframe tbody tr th {\n",
              "        vertical-align: top;\n",
              "    }\n",
              "\n",
              "    .dataframe thead th {\n",
              "        text-align: right;\n",
              "    }\n",
              "</style>\n",
              "<table border=\"1\" class=\"dataframe\">\n",
              "  <thead>\n",
              "    <tr style=\"text-align: right;\">\n",
              "      <th></th>\n",
              "      <th>Variable</th>\n",
              "      <th>Min</th>\n",
              "      <th>Max</th>\n",
              "    </tr>\n",
              "  </thead>\n",
              "  <tbody>\n",
              "    <tr>\n",
              "      <th>0</th>\n",
              "      <td>age</td>\n",
              "      <td>0.0</td>\n",
              "      <td>1.0</td>\n",
              "    </tr>\n",
              "    <tr>\n",
              "      <th>1</th>\n",
              "      <td>sibsp</td>\n",
              "      <td>0.0</td>\n",
              "      <td>1.0</td>\n",
              "    </tr>\n",
              "    <tr>\n",
              "      <th>2</th>\n",
              "      <td>parch</td>\n",
              "      <td>0.0</td>\n",
              "      <td>1.0</td>\n",
              "    </tr>\n",
              "    <tr>\n",
              "      <th>3</th>\n",
              "      <td>fare</td>\n",
              "      <td>0.0</td>\n",
              "      <td>1.0</td>\n",
              "    </tr>\n",
              "    <tr>\n",
              "      <th>4</th>\n",
              "      <td>embarked_Q</td>\n",
              "      <td>0.0</td>\n",
              "      <td>1.0</td>\n",
              "    </tr>\n",
              "    <tr>\n",
              "      <th>5</th>\n",
              "      <td>embarked_S</td>\n",
              "      <td>0.0</td>\n",
              "      <td>1.0</td>\n",
              "    </tr>\n",
              "    <tr>\n",
              "      <th>6</th>\n",
              "      <td>sex_male</td>\n",
              "      <td>0.0</td>\n",
              "      <td>1.0</td>\n",
              "    </tr>\n",
              "  </tbody>\n",
              "</table>\n",
              "</div>\n",
              "      <button class=\"colab-df-convert\" onclick=\"convertToInteractive('df-acc7e201-4614-4c35-b060-344dd4cdabee')\"\n",
              "              title=\"Convert this dataframe to an interactive table.\"\n",
              "              style=\"display:none;\">\n",
              "        \n",
              "  <svg xmlns=\"http://www.w3.org/2000/svg\" height=\"24px\"viewBox=\"0 0 24 24\"\n",
              "       width=\"24px\">\n",
              "    <path d=\"M0 0h24v24H0V0z\" fill=\"none\"/>\n",
              "    <path d=\"M18.56 5.44l.94 2.06.94-2.06 2.06-.94-2.06-.94-.94-2.06-.94 2.06-2.06.94zm-11 1L8.5 8.5l.94-2.06 2.06-.94-2.06-.94L8.5 2.5l-.94 2.06-2.06.94zm10 10l.94 2.06.94-2.06 2.06-.94-2.06-.94-.94-2.06-.94 2.06-2.06.94z\"/><path d=\"M17.41 7.96l-1.37-1.37c-.4-.4-.92-.59-1.43-.59-.52 0-1.04.2-1.43.59L10.3 9.45l-7.72 7.72c-.78.78-.78 2.05 0 2.83L4 21.41c.39.39.9.59 1.41.59.51 0 1.02-.2 1.41-.59l7.78-7.78 2.81-2.81c.8-.78.8-2.07 0-2.86zM5.41 20L4 18.59l7.72-7.72 1.47 1.35L5.41 20z\"/>\n",
              "  </svg>\n",
              "      </button>\n",
              "      \n",
              "  <style>\n",
              "    .colab-df-container {\n",
              "      display:flex;\n",
              "      flex-wrap:wrap;\n",
              "      gap: 12px;\n",
              "    }\n",
              "\n",
              "    .colab-df-convert {\n",
              "      background-color: #E8F0FE;\n",
              "      border: none;\n",
              "      border-radius: 50%;\n",
              "      cursor: pointer;\n",
              "      display: none;\n",
              "      fill: #1967D2;\n",
              "      height: 32px;\n",
              "      padding: 0 0 0 0;\n",
              "      width: 32px;\n",
              "    }\n",
              "\n",
              "    .colab-df-convert:hover {\n",
              "      background-color: #E2EBFA;\n",
              "      box-shadow: 0px 1px 2px rgba(60, 64, 67, 0.3), 0px 1px 3px 1px rgba(60, 64, 67, 0.15);\n",
              "      fill: #174EA6;\n",
              "    }\n",
              "\n",
              "    [theme=dark] .colab-df-convert {\n",
              "      background-color: #3B4455;\n",
              "      fill: #D2E3FC;\n",
              "    }\n",
              "\n",
              "    [theme=dark] .colab-df-convert:hover {\n",
              "      background-color: #434B5C;\n",
              "      box-shadow: 0px 1px 3px 1px rgba(0, 0, 0, 0.15);\n",
              "      filter: drop-shadow(0px 1px 2px rgba(0, 0, 0, 0.3));\n",
              "      fill: #FFFFFF;\n",
              "    }\n",
              "  </style>\n",
              "\n",
              "      <script>\n",
              "        const buttonEl =\n",
              "          document.querySelector('#df-acc7e201-4614-4c35-b060-344dd4cdabee button.colab-df-convert');\n",
              "        buttonEl.style.display =\n",
              "          google.colab.kernel.accessAllowed ? 'block' : 'none';\n",
              "\n",
              "        async function convertToInteractive(key) {\n",
              "          const element = document.querySelector('#df-acc7e201-4614-4c35-b060-344dd4cdabee');\n",
              "          const dataTable =\n",
              "            await google.colab.kernel.invokeFunction('convertToInteractive',\n",
              "                                                     [key], {});\n",
              "          if (!dataTable) return;\n",
              "\n",
              "          const docLinkHtml = 'Like what you see? Visit the ' +\n",
              "            '<a target=\"_blank\" href=https://colab.research.google.com/notebooks/data_table.ipynb>data table notebook</a>'\n",
              "            + ' to learn more about interactive tables.';\n",
              "          element.innerHTML = '';\n",
              "          dataTable['output_type'] = 'display_data';\n",
              "          await google.colab.output.renderOutput(dataTable, element);\n",
              "          const docLink = document.createElement('div');\n",
              "          docLink.innerHTML = docLinkHtml;\n",
              "          element.appendChild(docLink);\n",
              "        }\n",
              "      </script>\n",
              "    </div>\n",
              "  </div>\n",
              "  "
            ]
          },
          "metadata": {},
          "execution_count": 37
        }
      ],
      "source": [
        "# Revisa los rangos de las distintas variables independientes\n",
        "imprimir = pd.DataFrame(columns=[\"Variable\",\"Min\",\"Max\"])\n",
        "for j in range(0,len(X_imputado.columns)):\n",
        "  k = X_imputado.columns[j]\n",
        "  imprimir.at[j, ['Variable',\"Min\",\"Max\"]]=[k,X_imputado[k].min(),X_imputado[k].max()]\n",
        "imprimir"
      ]
    },
    {
      "cell_type": "code",
      "execution_count": 38,
      "metadata": {
        "id": "zpQWow7OI1He"
      },
      "outputs": [],
      "source": [
        "# Normaliza los valores de las variables independientes\n",
        "\n",
        "# Respuesta: Ya realicé la normalización al imputar los valores"
      ]
    },
    {
      "cell_type": "code",
      "execution_count": 39,
      "metadata": {
        "id": "3jqj7OUSI1Hf",
        "colab": {
          "base_uri": "https://localhost:8080/",
          "height": 268
        },
        "outputId": "a0e61de9-6b0c-4c07-9bdf-b31d3b037635"
      },
      "outputs": [
        {
          "output_type": "execute_result",
          "data": {
            "text/plain": [
              "     Variable  Min  Max\n",
              "0         age  0.0  1.0\n",
              "1       sibsp  0.0  1.0\n",
              "2       parch  0.0  1.0\n",
              "3        fare  0.0  1.0\n",
              "4  embarked_Q  0.0  1.0\n",
              "5  embarked_S  0.0  1.0\n",
              "6    sex_male  0.0  1.0"
            ],
            "text/html": [
              "\n",
              "  <div id=\"df-a20529f3-da0b-4e2e-b191-9750c02676a3\">\n",
              "    <div class=\"colab-df-container\">\n",
              "      <div>\n",
              "<style scoped>\n",
              "    .dataframe tbody tr th:only-of-type {\n",
              "        vertical-align: middle;\n",
              "    }\n",
              "\n",
              "    .dataframe tbody tr th {\n",
              "        vertical-align: top;\n",
              "    }\n",
              "\n",
              "    .dataframe thead th {\n",
              "        text-align: right;\n",
              "    }\n",
              "</style>\n",
              "<table border=\"1\" class=\"dataframe\">\n",
              "  <thead>\n",
              "    <tr style=\"text-align: right;\">\n",
              "      <th></th>\n",
              "      <th>Variable</th>\n",
              "      <th>Min</th>\n",
              "      <th>Max</th>\n",
              "    </tr>\n",
              "  </thead>\n",
              "  <tbody>\n",
              "    <tr>\n",
              "      <th>0</th>\n",
              "      <td>age</td>\n",
              "      <td>0.0</td>\n",
              "      <td>1.0</td>\n",
              "    </tr>\n",
              "    <tr>\n",
              "      <th>1</th>\n",
              "      <td>sibsp</td>\n",
              "      <td>0.0</td>\n",
              "      <td>1.0</td>\n",
              "    </tr>\n",
              "    <tr>\n",
              "      <th>2</th>\n",
              "      <td>parch</td>\n",
              "      <td>0.0</td>\n",
              "      <td>1.0</td>\n",
              "    </tr>\n",
              "    <tr>\n",
              "      <th>3</th>\n",
              "      <td>fare</td>\n",
              "      <td>0.0</td>\n",
              "      <td>1.0</td>\n",
              "    </tr>\n",
              "    <tr>\n",
              "      <th>4</th>\n",
              "      <td>embarked_Q</td>\n",
              "      <td>0.0</td>\n",
              "      <td>1.0</td>\n",
              "    </tr>\n",
              "    <tr>\n",
              "      <th>5</th>\n",
              "      <td>embarked_S</td>\n",
              "      <td>0.0</td>\n",
              "      <td>1.0</td>\n",
              "    </tr>\n",
              "    <tr>\n",
              "      <th>6</th>\n",
              "      <td>sex_male</td>\n",
              "      <td>0.0</td>\n",
              "      <td>1.0</td>\n",
              "    </tr>\n",
              "  </tbody>\n",
              "</table>\n",
              "</div>\n",
              "      <button class=\"colab-df-convert\" onclick=\"convertToInteractive('df-a20529f3-da0b-4e2e-b191-9750c02676a3')\"\n",
              "              title=\"Convert this dataframe to an interactive table.\"\n",
              "              style=\"display:none;\">\n",
              "        \n",
              "  <svg xmlns=\"http://www.w3.org/2000/svg\" height=\"24px\"viewBox=\"0 0 24 24\"\n",
              "       width=\"24px\">\n",
              "    <path d=\"M0 0h24v24H0V0z\" fill=\"none\"/>\n",
              "    <path d=\"M18.56 5.44l.94 2.06.94-2.06 2.06-.94-2.06-.94-.94-2.06-.94 2.06-2.06.94zm-11 1L8.5 8.5l.94-2.06 2.06-.94-2.06-.94L8.5 2.5l-.94 2.06-2.06.94zm10 10l.94 2.06.94-2.06 2.06-.94-2.06-.94-.94-2.06-.94 2.06-2.06.94z\"/><path d=\"M17.41 7.96l-1.37-1.37c-.4-.4-.92-.59-1.43-.59-.52 0-1.04.2-1.43.59L10.3 9.45l-7.72 7.72c-.78.78-.78 2.05 0 2.83L4 21.41c.39.39.9.59 1.41.59.51 0 1.02-.2 1.41-.59l7.78-7.78 2.81-2.81c.8-.78.8-2.07 0-2.86zM5.41 20L4 18.59l7.72-7.72 1.47 1.35L5.41 20z\"/>\n",
              "  </svg>\n",
              "      </button>\n",
              "      \n",
              "  <style>\n",
              "    .colab-df-container {\n",
              "      display:flex;\n",
              "      flex-wrap:wrap;\n",
              "      gap: 12px;\n",
              "    }\n",
              "\n",
              "    .colab-df-convert {\n",
              "      background-color: #E8F0FE;\n",
              "      border: none;\n",
              "      border-radius: 50%;\n",
              "      cursor: pointer;\n",
              "      display: none;\n",
              "      fill: #1967D2;\n",
              "      height: 32px;\n",
              "      padding: 0 0 0 0;\n",
              "      width: 32px;\n",
              "    }\n",
              "\n",
              "    .colab-df-convert:hover {\n",
              "      background-color: #E2EBFA;\n",
              "      box-shadow: 0px 1px 2px rgba(60, 64, 67, 0.3), 0px 1px 3px 1px rgba(60, 64, 67, 0.15);\n",
              "      fill: #174EA6;\n",
              "    }\n",
              "\n",
              "    [theme=dark] .colab-df-convert {\n",
              "      background-color: #3B4455;\n",
              "      fill: #D2E3FC;\n",
              "    }\n",
              "\n",
              "    [theme=dark] .colab-df-convert:hover {\n",
              "      background-color: #434B5C;\n",
              "      box-shadow: 0px 1px 3px 1px rgba(0, 0, 0, 0.15);\n",
              "      filter: drop-shadow(0px 1px 2px rgba(0, 0, 0, 0.3));\n",
              "      fill: #FFFFFF;\n",
              "    }\n",
              "  </style>\n",
              "\n",
              "      <script>\n",
              "        const buttonEl =\n",
              "          document.querySelector('#df-a20529f3-da0b-4e2e-b191-9750c02676a3 button.colab-df-convert');\n",
              "        buttonEl.style.display =\n",
              "          google.colab.kernel.accessAllowed ? 'block' : 'none';\n",
              "\n",
              "        async function convertToInteractive(key) {\n",
              "          const element = document.querySelector('#df-a20529f3-da0b-4e2e-b191-9750c02676a3');\n",
              "          const dataTable =\n",
              "            await google.colab.kernel.invokeFunction('convertToInteractive',\n",
              "                                                     [key], {});\n",
              "          if (!dataTable) return;\n",
              "\n",
              "          const docLinkHtml = 'Like what you see? Visit the ' +\n",
              "            '<a target=\"_blank\" href=https://colab.research.google.com/notebooks/data_table.ipynb>data table notebook</a>'\n",
              "            + ' to learn more about interactive tables.';\n",
              "          element.innerHTML = '';\n",
              "          dataTable['output_type'] = 'display_data';\n",
              "          await google.colab.output.renderOutput(dataTable, element);\n",
              "          const docLink = document.createElement('div');\n",
              "          docLink.innerHTML = docLinkHtml;\n",
              "          element.appendChild(docLink);\n",
              "        }\n",
              "      </script>\n",
              "    </div>\n",
              "  </div>\n",
              "  "
            ]
          },
          "metadata": {},
          "execution_count": 39
        }
      ],
      "source": [
        "# Revisa los rangos de las distintas variables independientes\n",
        "imprimir = pd.DataFrame(columns=[\"Variable\",\"Min\",\"Max\"])\n",
        "for j in range(0,len(X_imputado.columns)):\n",
        "  k = X_imputado.columns[j]\n",
        "  imprimir.at[j, ['Variable',\"Min\",\"Max\"]]=[k,X_imputado[k].min(),X_imputado[k].max()]\n",
        "imprimir"
      ]
    },
    {
      "cell_type": "code",
      "execution_count": 40,
      "metadata": {
        "id": "MVkih6jQI1Hf",
        "colab": {
          "base_uri": "https://localhost:8080/"
        },
        "outputId": "1c58b6d3-471c-47df-cca7-5e2ce92a47d9"
      },
      "outputs": [
        {
          "output_type": "execute_result",
          "data": {
            "text/plain": [
              "array(['1', '1', '0', ..., '0', '0', '0'], dtype=object)"
            ]
          },
          "metadata": {},
          "execution_count": 40
        }
      ],
      "source": [
        "# Utiliza la función de sklearn para partir los datos en set de entrenamiento y validación\n",
        "# 70% train, 30% test, utiliza una semilla para poder replicar resultados (busca en la documentación de sklearn como hacer esto)\n",
        "X_train, X_test, y_train, y_test = train_test_split(X_imputado, y, test_size=0.3, random_state=1)\n",
        "\n",
        "# Define las Matrices de variables independientes con intercepto (agregar una columna con puros 1s)\n",
        "y"
      ]
    },
    {
      "cell_type": "code",
      "execution_count": 41,
      "metadata": {
        "id": "7I81FTaJI1Hf"
      },
      "outputs": [],
      "source": [
        "# Define todas las funciones que necesitas para llevar a cabo el proceso de gradiente descendente con una función de costo de error cuadrático medio\n",
        "# Determina los parámetros W tal óptimos. Para ello encuentra los hyper parámetros óptimos para la tasa de aprendizaje gamma y el número máximo de iteraciones\n",
        "# Recuerda agregar una columna de 1s a la matrix X, con ello estarás optimizando todos los parámetros, incluido el intercepto o w0\n"
      ]
    },
    {
      "cell_type": "markdown",
      "metadata": {
        "id": "EWvABwJVI1Hf"
      },
      "source": [
        "Ahora vamos a transformar los resultados del proceso anterior en probabilidades para el modelo de clasificación. Para ello debes expresar la variable target como una combinación lineal de los parámetros óptimos obtenidos con el proceso anterior y transformarlos utilizando la función sigmoide\n",
        "\n",
        "$\\sigma(t) = \\displaystyle \\frac{1}{1+exp(-t)}$"
      ]
    },
    {
      "cell_type": "code",
      "execution_count": 42,
      "metadata": {
        "id": "yyyj9npvI1Hf"
      },
      "outputs": [],
      "source": [
        "# Define la función sigmoide\n"
      ]
    },
    {
      "cell_type": "code",
      "execution_count": 43,
      "metadata": {
        "id": "WUymQQ2rI1Hf"
      },
      "outputs": [],
      "source": [
        "# Determina y_pred\n",
        "# Hint: Recuerda que en una regresión lineal, la variable target se puede escribir como combinación lineal de los parámetros óptimos y la matrix X (y = XW^T)\n",
        "# Utiliza X_b (X con una fila de 1s para representar el intercepto)\n",
        "\n",
        "\n",
        "# Transforma el resultado anterior utilizando la función sigmoide definida anteriomente\n"
      ]
    },
    {
      "cell_type": "code",
      "execution_count": 44,
      "metadata": {
        "id": "q7gcFAjoI1Hf"
      },
      "outputs": [],
      "source": [
        "# Asignar una etiqueta positiva o negativa si la probabilidad sobrepasa un threshold de probabilidad determinado\n",
        "# Prueba con threshold de probabilidad = 60%\n"
      ]
    },
    {
      "cell_type": "markdown",
      "metadata": {
        "id": "BPT1bjDQI1Hf"
      },
      "source": [
        "**[Stretch: Por 5 puntos extras]** Determinar cuál es el valor óptimo para el threshold de probabilidad"
      ]
    },
    {
      "cell_type": "code",
      "execution_count": 45,
      "metadata": {
        "id": "vd0BslREI1Hg"
      },
      "outputs": [],
      "source": [
        "# Ya sea con 60% como threshold de probabilidad u otro valor optimizado, evalúa el modelo creado\n",
        "# Distribución de predicciones \n"
      ]
    },
    {
      "cell_type": "code",
      "execution_count": 46,
      "metadata": {
        "id": "du4IkJ1LI1Hg"
      },
      "outputs": [],
      "source": [
        "# Muestra la matriz de confusión\n"
      ]
    },
    {
      "cell_type": "code",
      "execution_count": 47,
      "metadata": {
        "id": "YCWtiYP-I1Hg"
      },
      "outputs": [],
      "source": [
        "# Cuántos errores cometimos?\n"
      ]
    },
    {
      "cell_type": "code",
      "execution_count": 48,
      "metadata": {
        "id": "_pMPX0usI1Hg"
      },
      "outputs": [],
      "source": [
        "# Calcula la efectividad\n"
      ]
    },
    {
      "cell_type": "code",
      "execution_count": 49,
      "metadata": {
        "id": "U3Mnwt_qI1Hg"
      },
      "outputs": [],
      "source": [
        "# Calcula el recall y la precisión de la predicción\n"
      ]
    },
    {
      "cell_type": "code",
      "execution_count": 50,
      "metadata": {
        "id": "LZBK97IoI1Hg"
      },
      "outputs": [],
      "source": [
        "# Utiliza la función de sklearn llamada roc_curve para determinar la lista de tasa de falsos y verdaderos positivos\n"
      ]
    },
    {
      "cell_type": "markdown",
      "metadata": {
        "id": "jknPXtmlI1Hg"
      },
      "source": [
        "# Parte 2 - Entrena un modelo de clasificación de sentimientos. [70 puntos]\n",
        "Esta parte de la tarea consiste en entrenar un modelo de clasificación de sentimientos. Lee las instrucciones con cuidado y justifica tus resultados."
      ]
    },
    {
      "cell_type": "markdown",
      "metadata": {
        "id": "QOlMFxk_I1Hh"
      },
      "source": [
        "## Descripción\n",
        "En esta tarea vamos a ayudar a un científic@ de datos a predecir el sentimiento de reseñas que los usuarios de la aplicación móvil de la Institución Financiera para la que trabaja dan acerca de ella. Para ello, tiene un set de datos (**data_app_movil.csv**) con el siguiente layout:\n",
        "\n",
        "**Layout Tabla de datos*:**\n",
        "* at: Fecha en la que la reseña fue hecha\n",
        "* content: Texto de la reseña\n",
        "* repliedAt: Fecha en la que se respondió a la reseña hecha por el usuario\n",
        "* replyContent: Texto de la respuesta a la reseña hecha por el usuario\n",
        "* reviewCreatedVersion: Versión de la aplicación móvil que el usuario tenía al dar la reseña de la misma\n",
        "* reviewId: ID del usuario que escribió la reseña de la aplicación móvil\n",
        "* thumbsUpCount: Número de pulgares hacía arriba (votos de otros usuarios que apoyan una reseña)\n",
        "* sentiment: Sentimiento de la reseña escrita por un usuario\n",
        "\n",
        "**Objetivo:**\n",
        "En esta tarea deberás ayudar al científic@ de datos a entrenar un modelo supervisado para clasificar los sentimientos de las reseñas de los usuarios de la aplicación móvil.\n",
        "\n",
        "*Los datos con los que fue hecho este set son públicos"
      ]
    },
    {
      "cell_type": "markdown",
      "metadata": {
        "id": "8UeeiFGaI1Hh"
      },
      "source": [
        "## Importa librerías importantes"
      ]
    },
    {
      "cell_type": "code",
      "execution_count": 51,
      "metadata": {
        "id": "736LjmsAI1Hh"
      },
      "outputs": [],
      "source": [
        "# Import useful libraries\n",
        "import matplotlib.pyplot as plt\n",
        "import seaborn as sns\n",
        "import statistics as sts\n",
        "from scipy import stats\n",
        "import re\n",
        "import pandas as pd\n",
        "import numpy as np\n",
        "from numpy import zeros\n",
        "from numpy import asarray\n",
        "from numpy import array\n",
        "import itertools\n",
        "import collections\n",
        "import csv\n",
        "\n",
        "# Tunning plots\n",
        "import matplotlib.lines as mlines\n",
        "from matplotlib.ticker import MaxNLocator\n",
        "from wordcloud import WordCloud, ImageColorGenerator\n",
        "%matplotlib inline\n",
        "pd.set_option('display.max_columns', 100)\n",
        "SEED = 15432\n",
        "\n",
        "# scikit-learn\n",
        "from sklearn.linear_model            import LinearRegression, LogisticRegression, Ridge, RidgeCV\n",
        "from sklearn.svm                     import SVC\n",
        "from sklearn.ensemble                import RandomForestClassifier\n",
        "from sklearn.ensemble                import GradientBoostingClassifier\n",
        "from sklearn.preprocessing           import LabelEncoder,OneHotEncoder\n",
        "from sklearn.model_selection         import StratifiedKFold\n",
        "from sklearn.model_selection         import validation_curve\n",
        "from sklearn.model_selection         import train_test_split\n",
        "from sklearn.metrics                 import confusion_matrix\n",
        "from sklearn.metrics                 import accuracy_score\n",
        "from sklearn.model_selection         import train_test_split\n",
        "from sklearn.model_selection         import cross_val_predict\n",
        "from sklearn.model_selection         import cross_val_score\n",
        "from sklearn                         import metrics\n",
        "from sklearn.feature_extraction.text import TfidfTransformer\n",
        "from sklearn.feature_extraction.text import TfidfVectorizer\n",
        "from sklearn.feature_extraction.text import CountVectorizer\n",
        "from sklearn.decomposition           import TruncatedSVD\n",
        "from sklearn.naive_bayes             import GaussianNB\n",
        "from sklearn.metrics         import roc_curve, roc_auc_score\n",
        "\n",
        "# Ignore some warnings \n",
        "import warnings\n",
        "warnings.filterwarnings('ignore')\n",
        "\n",
        "# Gensim\n",
        "import gensim\n",
        "import gensim.corpora as corpora\n",
        "from gensim.utils  import simple_preprocess\n",
        "from gensim.models import CoherenceModel\n",
        "\n",
        "# NLTK\n",
        "import nltk\n",
        "from nltk.tokenize import word_tokenize\n",
        "from nltk.tokenize import WordPunctTokenizer\n",
        "from nltk.stem     import WordNetLemmatizer \n",
        "from nltk.corpus   import stopwords\n",
        "\n",
        "# Read/Write xlsx files\n",
        "from openpyxl import workbook \n",
        "from openpyxl import load_workbook\n",
        "import os"
      ]
    },
    {
      "cell_type": "markdown",
      "metadata": {
        "id": "TnR4GQE-I1Hh"
      },
      "source": [
        "## Importa los datos\n",
        "**Ojo:** importa solo las variables que necesites para la tarea (layout). Intenta nombrar al dataframe **data** "
      ]
    },
    {
      "cell_type": "code",
      "source": [
        "data = pd.read_csv(\"data_app_movil.csv\")\n",
        "data.head(1)"
      ],
      "metadata": {
        "colab": {
          "base_uri": "https://localhost:8080/",
          "height": 159
        },
        "id": "mPR2JeT4Ld8w",
        "outputId": "6c7779f2-e282-4dd0-8b8b-e0a36a9cd343"
      },
      "execution_count": 52,
      "outputs": [
        {
          "output_type": "execute_result",
          "data": {
            "text/plain": [
              "   Unnamed: 0                   at  \\\n",
              "0           0  2019-11-10 13:21:40   \n",
              "\n",
              "                                             content repliedAt replyContent  \\\n",
              "0  Está muy bien la app lo único que haría falta ...       NaN          NaN   \n",
              "\n",
              "  reviewCreatedVersion                                           reviewId  \\\n",
              "0         11.12.191105  gp:AOqpTOGfJ1RQk-t56JnOxTN9TmuzS2_tZtmdrRgXhNo...   \n",
              "\n",
              "   thumbsUpCount     sentiment  \n",
              "0           1069  non-negative  "
            ],
            "text/html": [
              "\n",
              "  <div id=\"df-1fc242f4-ab68-416f-be78-60bbe2c79fb2\">\n",
              "    <div class=\"colab-df-container\">\n",
              "      <div>\n",
              "<style scoped>\n",
              "    .dataframe tbody tr th:only-of-type {\n",
              "        vertical-align: middle;\n",
              "    }\n",
              "\n",
              "    .dataframe tbody tr th {\n",
              "        vertical-align: top;\n",
              "    }\n",
              "\n",
              "    .dataframe thead th {\n",
              "        text-align: right;\n",
              "    }\n",
              "</style>\n",
              "<table border=\"1\" class=\"dataframe\">\n",
              "  <thead>\n",
              "    <tr style=\"text-align: right;\">\n",
              "      <th></th>\n",
              "      <th>Unnamed: 0</th>\n",
              "      <th>at</th>\n",
              "      <th>content</th>\n",
              "      <th>repliedAt</th>\n",
              "      <th>replyContent</th>\n",
              "      <th>reviewCreatedVersion</th>\n",
              "      <th>reviewId</th>\n",
              "      <th>thumbsUpCount</th>\n",
              "      <th>sentiment</th>\n",
              "    </tr>\n",
              "  </thead>\n",
              "  <tbody>\n",
              "    <tr>\n",
              "      <th>0</th>\n",
              "      <td>0</td>\n",
              "      <td>2019-11-10 13:21:40</td>\n",
              "      <td>Está muy bien la app lo único que haría falta ...</td>\n",
              "      <td>NaN</td>\n",
              "      <td>NaN</td>\n",
              "      <td>11.12.191105</td>\n",
              "      <td>gp:AOqpTOGfJ1RQk-t56JnOxTN9TmuzS2_tZtmdrRgXhNo...</td>\n",
              "      <td>1069</td>\n",
              "      <td>non-negative</td>\n",
              "    </tr>\n",
              "  </tbody>\n",
              "</table>\n",
              "</div>\n",
              "      <button class=\"colab-df-convert\" onclick=\"convertToInteractive('df-1fc242f4-ab68-416f-be78-60bbe2c79fb2')\"\n",
              "              title=\"Convert this dataframe to an interactive table.\"\n",
              "              style=\"display:none;\">\n",
              "        \n",
              "  <svg xmlns=\"http://www.w3.org/2000/svg\" height=\"24px\"viewBox=\"0 0 24 24\"\n",
              "       width=\"24px\">\n",
              "    <path d=\"M0 0h24v24H0V0z\" fill=\"none\"/>\n",
              "    <path d=\"M18.56 5.44l.94 2.06.94-2.06 2.06-.94-2.06-.94-.94-2.06-.94 2.06-2.06.94zm-11 1L8.5 8.5l.94-2.06 2.06-.94-2.06-.94L8.5 2.5l-.94 2.06-2.06.94zm10 10l.94 2.06.94-2.06 2.06-.94-2.06-.94-.94-2.06-.94 2.06-2.06.94z\"/><path d=\"M17.41 7.96l-1.37-1.37c-.4-.4-.92-.59-1.43-.59-.52 0-1.04.2-1.43.59L10.3 9.45l-7.72 7.72c-.78.78-.78 2.05 0 2.83L4 21.41c.39.39.9.59 1.41.59.51 0 1.02-.2 1.41-.59l7.78-7.78 2.81-2.81c.8-.78.8-2.07 0-2.86zM5.41 20L4 18.59l7.72-7.72 1.47 1.35L5.41 20z\"/>\n",
              "  </svg>\n",
              "      </button>\n",
              "      \n",
              "  <style>\n",
              "    .colab-df-container {\n",
              "      display:flex;\n",
              "      flex-wrap:wrap;\n",
              "      gap: 12px;\n",
              "    }\n",
              "\n",
              "    .colab-df-convert {\n",
              "      background-color: #E8F0FE;\n",
              "      border: none;\n",
              "      border-radius: 50%;\n",
              "      cursor: pointer;\n",
              "      display: none;\n",
              "      fill: #1967D2;\n",
              "      height: 32px;\n",
              "      padding: 0 0 0 0;\n",
              "      width: 32px;\n",
              "    }\n",
              "\n",
              "    .colab-df-convert:hover {\n",
              "      background-color: #E2EBFA;\n",
              "      box-shadow: 0px 1px 2px rgba(60, 64, 67, 0.3), 0px 1px 3px 1px rgba(60, 64, 67, 0.15);\n",
              "      fill: #174EA6;\n",
              "    }\n",
              "\n",
              "    [theme=dark] .colab-df-convert {\n",
              "      background-color: #3B4455;\n",
              "      fill: #D2E3FC;\n",
              "    }\n",
              "\n",
              "    [theme=dark] .colab-df-convert:hover {\n",
              "      background-color: #434B5C;\n",
              "      box-shadow: 0px 1px 3px 1px rgba(0, 0, 0, 0.15);\n",
              "      filter: drop-shadow(0px 1px 2px rgba(0, 0, 0, 0.3));\n",
              "      fill: #FFFFFF;\n",
              "    }\n",
              "  </style>\n",
              "\n",
              "      <script>\n",
              "        const buttonEl =\n",
              "          document.querySelector('#df-1fc242f4-ab68-416f-be78-60bbe2c79fb2 button.colab-df-convert');\n",
              "        buttonEl.style.display =\n",
              "          google.colab.kernel.accessAllowed ? 'block' : 'none';\n",
              "\n",
              "        async function convertToInteractive(key) {\n",
              "          const element = document.querySelector('#df-1fc242f4-ab68-416f-be78-60bbe2c79fb2');\n",
              "          const dataTable =\n",
              "            await google.colab.kernel.invokeFunction('convertToInteractive',\n",
              "                                                     [key], {});\n",
              "          if (!dataTable) return;\n",
              "\n",
              "          const docLinkHtml = 'Like what you see? Visit the ' +\n",
              "            '<a target=\"_blank\" href=https://colab.research.google.com/notebooks/data_table.ipynb>data table notebook</a>'\n",
              "            + ' to learn more about interactive tables.';\n",
              "          element.innerHTML = '';\n",
              "          dataTable['output_type'] = 'display_data';\n",
              "          await google.colab.output.renderOutput(dataTable, element);\n",
              "          const docLink = document.createElement('div');\n",
              "          docLink.innerHTML = docLinkHtml;\n",
              "          element.appendChild(docLink);\n",
              "        }\n",
              "      </script>\n",
              "    </div>\n",
              "  </div>\n",
              "  "
            ]
          },
          "metadata": {},
          "execution_count": 52
        }
      ]
    },
    {
      "cell_type": "markdown",
      "metadata": {
        "id": "M0yKv3DQI1Hh"
      },
      "source": [
        "## Exploración Básica de Datos [10 puntos]\n",
        "En esta sección tienes que explorar los datos, haz un análisis exhaustivo para responder las siguientes preguntas:\n",
        "\n",
        "* ¿Cuántos registros y columnas tiene el set de datos?\n",
        "* ¿Qué porcentaje de valores nulos presenta cada variable? \n",
        "* ¿Hay reseñas duplicadas? ¿Cuáles son?\n",
        "* ¿Cuál es la variable target?\n",
        "* ¿Cuál es la distribución de la variable target?\n",
        "* ¿Cuál es la reseña con más apoyo por parte de otros usuarios (thumbsUpCount)?\n",
        "* ¿Qué porcentaje de reseñas son respondidas por la Institución financiera?\n",
        "* ¿Cuál es el rango de fechas en las que fueron escritas las reseñas de este set de datos?\n",
        "* ¿Qué otras cosas básicas crees que vale la pena analizar de este set de datos?"
      ]
    },
    {
      "cell_type": "code",
      "source": [
        "# Número de registros y columnas del dataset.\n",
        "print(\"Numero de filas:\",data.shape[0])\n",
        "print(\"Numero de columnas:\",data.shape[1])\n",
        "\n",
        "# Porcentaje de valores nulos que presenta cada variable\n",
        "print(\"\\nPorcentaje de valores nulos\")\n",
        "print(data.isna().sum()*100/len(data),\"\\n\")                                     #Las variables \"repliedAt\" y \"replyContent\" tiene más del 60% de valores missing\n",
        "\n",
        "# ¿Hay reseñas duplicadas? ¿Cuáles son?                                         #Existen reseñas duplicada pero todas ellas corresponden a Id de usuarios distintos.\n",
        "print(\"Resenas duplicadas:\")\n",
        "a = data.groupby(\"content\")[\"Unnamed: 0\"].count().sort_values(ascending=False)\n",
        "a = a[a>1]\n",
        "a = a.reset_index()\n",
        "a.columns = [\"Resena\",\"Numero de repeticiones\"]\n",
        "print(a,\"\\n\")\n",
        "\n",
        "# ¿Cuál es la variable target?\n",
        "print(\"Variable target: sentiment\\n\" )\n",
        "\n",
        "# ¿Cuál es la distribución de la variable target?                               #La variable objetivo esta dividida en 63% sentimiento no-negativo y 36% sentimiento negativo\n",
        "print(\"Distribución de la variable objetivo:\")                                  #Por lo cual para este problema la variable esta balanceada\n",
        "print(data[\"sentiment\"].value_counts(1)*100,\"\\n\")\n",
        "\n",
        "# ¿Cuál es la reseña con más apoyo por parte de otros usuarios (thumbsUpCount)?\n",
        "print(\"Resena con mas pulgares arriba:\")\n",
        "print(data[[\"content\",\"reviewId\",\"thumbsUpCount\",\"sentiment\"]].sort_values(by=\"thumbsUpCount\",ascending=False).head(1),\"\\n\")\n",
        "\n",
        "# ¿Qué porcentaje de reseñas son respondidas por la Institución financiera?\n",
        "print(\"Porcentaje de resenas con respuesta:\")\n",
        "print(100-100*data[\"repliedAt\"].isna().sum()/len(data),\"\\n\")\n",
        "\n",
        "# ¿Cuál es el rango de fechas en las que fueron escritas las reseñas de este set de datos?\n",
        "print(\"Rango de fechas:\", data[\"at\"].min(),\" al \", data[\"at\"].max(),\"\\n\")\n",
        "\n",
        "# ¿Qué otras cosas básicas crees que vale la pena analizar de este set de datos?\n",
        "# Conocer el % de reseñas positivas por mes \n",
        "\n",
        "data[\"at\"] = pd.to_datetime(data[\"at\"],format=\"%Y-%m-%d %H:%M:%S\")\n",
        "a = pd.merge(data,pd.get_dummies(data[\"sentiment\"]),left_index=True,right_index=True).groupby(\"at\")[\"negative\",\"non-negative\"].sum()\n",
        "a = a.groupby(pd.Grouper(freq=\"M\"))\n",
        "a = a.sum()\n",
        "a[\"% de reseñas positivas\"] = a[\"non-negative\"]/(a[\"non-negative\"]+a[\"negative\"])\n",
        "\n",
        "import matplotlib.pyplot as plt\n",
        "a[\"% de reseñas positivas\"].plot(title=\"% de reseñas positivas cada mes\")\n",
        "print(\"Podemos observar que el procentaje de reseñas positivas registro una disminución importante en Septiembre del 2022 y Abril del 2021\")"
      ],
      "metadata": {
        "colab": {
          "base_uri": "https://localhost:8080/",
          "height": 1000
        },
        "id": "Zw--tXIDLSK8",
        "outputId": "e4b81033-5371-4beb-cfba-89476f98d03c"
      },
      "execution_count": 53,
      "outputs": [
        {
          "output_type": "stream",
          "name": "stdout",
          "text": [
            "Numero de filas: 199998\n",
            "Numero de columnas: 9\n",
            "\n",
            "Porcentaje de valores nulos\n",
            "Unnamed: 0               0.000000\n",
            "at                       0.000000\n",
            "content                  0.000000\n",
            "repliedAt               60.604106\n",
            "replyContent            60.604106\n",
            "reviewCreatedVersion     9.451595\n",
            "reviewId                 0.000000\n",
            "thumbsUpCount            0.000000\n",
            "sentiment                0.000000\n",
            "dtype: float64 \n",
            "\n",
            "Resenas duplicadas:\n",
            "                                      Resena  Numero de repeticiones\n",
            "0                                  Excelente                    7397\n",
            "1                                  Muy buena                    3589\n",
            "2                                  excelente                    3539\n",
            "3                                      Buena                    3361\n",
            "4                                   Exelente                    1680\n",
            "...                                      ...                     ...\n",
            "4001                  muy buena aplicación!!                       2\n",
            "4002                     muy útil y sencilla                       2\n",
            "4003  Excelente aplicación sin duda la mejor                       2\n",
            "4004                             exactamente                       2\n",
            "4005                          Buena interfaz                       2\n",
            "\n",
            "[4006 rows x 2 columns] \n",
            "\n",
            "Variable target: sentiment\n",
            "\n",
            "Distribución de la variable objetivo:\n",
            "non-negative    63.634636\n",
            "negative        36.365364\n",
            "Name: sentiment, dtype: float64 \n",
            "\n",
            "Resena con mas pulgares arriba:\n",
            "                                             content  \\\n",
            "0  Está muy bien la app lo único que haría falta ...   \n",
            "\n",
            "                                            reviewId  thumbsUpCount  \\\n",
            "0  gp:AOqpTOGfJ1RQk-t56JnOxTN9TmuzS2_tZtmdrRgXhNo...           1069   \n",
            "\n",
            "      sentiment  \n",
            "0  non-negative   \n",
            "\n",
            "Porcentaje de resenas con respuesta:\n",
            "39.39589395893959 \n",
            "\n",
            "Rango de fechas: 2019-07-02 22:27:41  al  2021-06-30 21:51:18 \n",
            "\n",
            "Podemos observar que el procentaje de reseñas positivas registro una disminución importante en Septiembre del 2022 y Abril del 2021\n"
          ]
        },
        {
          "output_type": "display_data",
          "data": {
            "text/plain": [
              "<Figure size 432x288 with 1 Axes>"
            ],
            "image/png": "[encoded data removed]"
          },
          "metadata": {
            "needs_background": "light"
          }
        }
      ]
    },
    {
      "cell_type": "markdown",
      "metadata": {
        "id": "JKpC4RhnI1Hh"
      },
      "source": [
        "## Procesamiento de Texto [5 puntos]\n",
        "Para que un modelo de predicción pueda recibir como input un corpus de texto, primero se tiene que limpiar, y luego convertr a una matriz numérica tal que conserve la semántica del texto. \n",
        "En esta sección haremos la limpieza de la variable de texto llamada 'content'. Existen varias formas de hacerlo, enlistamos las técnicas que usaremos:\n",
        "* Eliminar caracteres especiales, signos de puntiación, números\n",
        "* Eliminar acentos\n",
        "* Convertir a minúsculas todas las palabras en el texto\n",
        "* Eliminar stop words ¿Qué son las stop words? Investiga en internet y escribe un parráfo de ello\n",
        "* Eliminar palabras que tengan menos de 3 caracteres"
      ]
    },
    {
      "cell_type": "code",
      "source": [
        "!pip install unidecode\n",
        "import unidecode"
      ],
      "metadata": {
        "colab": {
          "base_uri": "https://localhost:8080/"
        },
        "id": "bb8pYVNRNVXr",
        "outputId": "d68f0fdc-fa80-4a60-f26d-8c11b7db8c47"
      },
      "execution_count": 54,
      "outputs": [
        {
          "output_type": "stream",
          "name": "stdout",
          "text": [
            "Collecting unidecode\n",
            "  Downloading Unidecode-1.3.4-py3-none-any.whl (235 kB)\n",
            "\u001b[?25l\r\u001b[K     |█▍                              | 10 kB 19.5 MB/s eta 0:00:01\r\u001b[K     |██▉                             | 20 kB 26.6 MB/s eta 0:00:01\r\u001b[K     |████▏                           | 30 kB 31.3 MB/s eta 0:00:01\r\u001b[K     |█████▋                          | 40 kB 29.8 MB/s eta 0:00:01\r\u001b[K     |███████                         | 51 kB 25.3 MB/s eta 0:00:01\r\u001b[K     |████████▍                       | 61 kB 27.4 MB/s eta 0:00:01\r\u001b[K     |█████████▊                      | 71 kB 20.0 MB/s eta 0:00:01\r\u001b[K     |███████████▏                    | 81 kB 21.0 MB/s eta 0:00:01\r\u001b[K     |████████████▌                   | 92 kB 22.6 MB/s eta 0:00:01\r\u001b[K     |██████████████                  | 102 kB 24.2 MB/s eta 0:00:01\r\u001b[K     |███████████████▎                | 112 kB 24.2 MB/s eta 0:00:01\r\u001b[K     |████████████████▊               | 122 kB 24.2 MB/s eta 0:00:01\r\u001b[K     |██████████████████              | 133 kB 24.2 MB/s eta 0:00:01\r\u001b[K     |███████████████████▌            | 143 kB 24.2 MB/s eta 0:00:01\r\u001b[K     |████████████████████▉           | 153 kB 24.2 MB/s eta 0:00:01\r\u001b[K     |██████████████████████▎         | 163 kB 24.2 MB/s eta 0:00:01\r\u001b[K     |███████████████████████▋        | 174 kB 24.2 MB/s eta 0:00:01\r\u001b[K     |█████████████████████████       | 184 kB 24.2 MB/s eta 0:00:01\r\u001b[K     |██████████████████████████▍     | 194 kB 24.2 MB/s eta 0:00:01\r\u001b[K     |███████████████████████████▉    | 204 kB 24.2 MB/s eta 0:00:01\r\u001b[K     |█████████████████████████████▏  | 215 kB 24.2 MB/s eta 0:00:01\r\u001b[K     |██████████████████████████████▋ | 225 kB 24.2 MB/s eta 0:00:01\r\u001b[K     |████████████████████████████████| 235 kB 24.2 MB/s eta 0:00:01\r\u001b[K     |████████████████████████████████| 235 kB 24.2 MB/s \n",
            "\u001b[?25hInstalling collected packages: unidecode\n",
            "Successfully installed unidecode-1.3.4\n"
          ]
        }
      ]
    },
    {
      "cell_type": "code",
      "execution_count": 55,
      "metadata": {
        "id": "IZy75rFRI1Hh",
        "outputId": "816516b3-344d-4a53-c543-f5ed330c0ae4",
        "colab": {
          "base_uri": "https://localhost:8080/"
        }
      },
      "outputs": [
        {
          "output_type": "stream",
          "name": "stdout",
          "text": [
            "[nltk_data] Downloading package stopwords to /root/nltk_data...\n",
            "[nltk_data]   Unzipping corpora/stopwords.zip.\n",
            "The stop words list has a length of 936 words\n"
          ]
        }
      ],
      "source": [
        "# Define funciones para limpiar texto\n",
        "# Importa algunas librerías útiles para las tareas de limpieza de texto\n",
        "import nltk\n",
        "import spacy\n",
        "from spacy.lang.es import Spanish\n",
        "import re\n",
        "import string\n",
        "#from unidecode import unidecode\n",
        "from nltk.corpus import stopwords\n",
        "from nltk.tokenize import word_tokenize\n",
        "import itertools\n",
        "import collections\n",
        "import csv\n",
        "\n",
        "\n",
        "# Si no has descargado el archivo de stop words en español, al ejecutar este pesado de código te saldrá un error. \n",
        "# Investiga en internet cómo descargar la lista de stopwords en español                                         \n",
        "nlp = Spanish()\n",
        "import nltk\n",
        "nltk.download('stopwords')\n",
        "\n",
        "# Stop words en español\n",
        "stop_words = list(set(stopwords.words('spanish')))\n",
        "\n",
        "# ¿Con el conocimiento que tienes de stop words, cuáles crees que nos falten de agregar? Yo te agrego unas, pero piensa en otras\n",
        "\n",
        "# Respuesta:\n",
        "# Las stop words son palabras usadas de manera comun en un texto, por ejemplo, \"los\", \"las\", \"el\",\"es\",\"un\".\n",
        "# Las stop words son usadas en la minería de textos y el procesamiento de lenguaje natural, para eliminar palabras que son comunmente usadas y \n",
        "# y que contienen poca información. Por ejemplo, al realizar la búsqueda en Google, \"Que es una stop word\" lo deseable sería que el sistema\n",
        "# de busqueda se enfoque en las palabras \"stop\" y \"word\" en vez de las palabras \"que\", \"es\" y \"una\".\n",
        "# Existen listas de palabras que fácilmente podemos cargar y utilizar, algunas de ellas se han recopiliado\n",
        "# de distintos trabajos en NLP y algunas otras son elaboradas por diferentes personas.\n",
        "stop_words.append('aplicacion');stop_words.append('banco')\n",
        "stop_words.append('a');\n",
        "stop_words.append('actualmente');\n",
        "stop_words.append('acuerdo');\n",
        "stop_words.append('adelante');\n",
        "stop_words.append('ademas');\n",
        "stop_words.append('ademas');\n",
        "stop_words.append('adrede');\n",
        "stop_words.append('afirmo');\n",
        "stop_words.append('agrego');\n",
        "stop_words.append('ahi');\n",
        "stop_words.append('ahora');\n",
        "stop_words.append('ahi');\n",
        "stop_words.append('al');\n",
        "stop_words.append('algo');\n",
        "stop_words.append('alguna');\n",
        "stop_words.append('algunas');\n",
        "stop_words.append('alguno');\n",
        "stop_words.append('algunos');\n",
        "stop_words.append('algun');\n",
        "stop_words.append('alli');\n",
        "stop_words.append('alli');\n",
        "stop_words.append('alrededor');\n",
        "stop_words.append('ambos');\n",
        "stop_words.append('ampleamos');\n",
        "stop_words.append('antano');\n",
        "stop_words.append('antaño');\n",
        "stop_words.append('ante');\n",
        "stop_words.append('anterior');\n",
        "stop_words.append('antes');\n",
        "stop_words.append('aproximadamente');\n",
        "stop_words.append('aquel');\n",
        "stop_words.append('aquella');\n",
        "stop_words.append('aquellas');\n",
        "stop_words.append('aquello');\n",
        "stop_words.append('aquellos');\n",
        "stop_words.append('aqui');\n",
        "stop_words.append('aquel');\n",
        "stop_words.append('aquella');\n",
        "stop_words.append('aquellas');\n",
        "stop_words.append('aquellos');\n",
        "stop_words.append('aqui');\n",
        "stop_words.append('arriba');\n",
        "stop_words.append('arribaabajo');\n",
        "stop_words.append('asi');\n",
        "stop_words.append('asi');\n",
        "stop_words.append('atras');\n",
        "stop_words.append('aun');\n",
        "stop_words.append('aunque');\n",
        "stop_words.append('ayer');\n",
        "stop_words.append('aun');\n",
        "stop_words.append('b');\n",
        "stop_words.append('breve');\n",
        "stop_words.append('c');\n",
        "stop_words.append('cada');\n",
        "stop_words.append('casi');\n",
        "stop_words.append('cerca');\n",
        "stop_words.append('cierta');\n",
        "stop_words.append('ciertas');\n",
        "stop_words.append('cierto');\n",
        "stop_words.append('ciertos');\n",
        "stop_words.append('cinco');\n",
        "stop_words.append('claro');\n",
        "stop_words.append('comento');\n",
        "stop_words.append('como');\n",
        "stop_words.append('con');\n",
        "stop_words.append('conmigo');\n",
        "stop_words.append('conocer');\n",
        "stop_words.append('conseguimos');\n",
        "stop_words.append('conseguir');\n",
        "stop_words.append('considera');\n",
        "stop_words.append('considero');\n",
        "stop_words.append('consigo');\n",
        "stop_words.append('consigue');\n",
        "stop_words.append('consiguen');\n",
        "stop_words.append('consigues');\n",
        "stop_words.append('contigo');\n",
        "stop_words.append('contra');\n",
        "stop_words.append('cosas');\n",
        "stop_words.append('creo');\n",
        "stop_words.append('cual');\n",
        "stop_words.append('cuales');\n",
        "stop_words.append('cualquier');\n",
        "stop_words.append('cuando');\n",
        "stop_words.append('cuanta');\n",
        "stop_words.append('cuantas');\n",
        "stop_words.append('cuanto');\n",
        "stop_words.append('cuantos');\n",
        "stop_words.append('cuatro');\n",
        "stop_words.append('cuenta');\n",
        "stop_words.append('cual');\n",
        "stop_words.append('cuales');\n",
        "stop_words.append('cuando');\n",
        "stop_words.append('cuanta');\n",
        "stop_words.append('cuantas');\n",
        "stop_words.append('cuanto');\n",
        "stop_words.append('cuantos');\n",
        "stop_words.append('como');\n",
        "stop_words.append('d');\n",
        "stop_words.append('da');\n",
        "stop_words.append('dado');\n",
        "stop_words.append('dan');\n",
        "stop_words.append('dar');\n",
        "stop_words.append('de');\n",
        "stop_words.append('debajo');\n",
        "stop_words.append('debe');\n",
        "stop_words.append('deben');\n",
        "stop_words.append('debido');\n",
        "stop_words.append('decir');\n",
        "stop_words.append('dejo');\n",
        "stop_words.append('del');\n",
        "stop_words.append('delante');\n",
        "stop_words.append('demas');\n",
        "stop_words.append('dentro');\n",
        "stop_words.append('desde');\n",
        "stop_words.append('despues');\n",
        "stop_words.append('despues');\n",
        "stop_words.append('detras');\n",
        "stop_words.append('detras');\n",
        "stop_words.append('dia');\n",
        "stop_words.append('dias');\n",
        "stop_words.append('dice');\n",
        "stop_words.append('dicen');\n",
        "stop_words.append('dicho');\n",
        "stop_words.append('dieron');\n",
        "stop_words.append('diferente');\n",
        "stop_words.append('diferentes');\n",
        "stop_words.append('dijeron');\n",
        "stop_words.append('dijo');\n",
        "stop_words.append('dio');\n",
        "stop_words.append('donde');\n",
        "stop_words.append('dos');\n",
        "stop_words.append('durante');\n",
        "stop_words.append('dia');\n",
        "stop_words.append('dias');\n",
        "stop_words.append('donde');\n",
        "stop_words.append('e');\n",
        "stop_words.append('ejemplo');\n",
        "stop_words.append('el');\n",
        "stop_words.append('ella');\n",
        "stop_words.append('ellas');\n",
        "stop_words.append('ello');\n",
        "stop_words.append('ellos');\n",
        "stop_words.append('embargo');\n",
        "stop_words.append('emplean');\n",
        "stop_words.append('emplear');\n",
        "stop_words.append('empleas');\n",
        "stop_words.append('empleo');\n",
        "stop_words.append('en');\n",
        "stop_words.append('encima');\n",
        "stop_words.append('encuentra');\n",
        "stop_words.append('enfrente');\n",
        "stop_words.append('enseguida');\n",
        "stop_words.append('entonces');\n",
        "stop_words.append('entre');\n",
        "stop_words.append('era');\n",
        "stop_words.append('eramos');\n",
        "stop_words.append('eran');\n",
        "stop_words.append('eras');\n",
        "stop_words.append('eres');\n",
        "stop_words.append('es');\n",
        "stop_words.append('esa');\n",
        "stop_words.append('esas');\n",
        "stop_words.append('ese');\n",
        "stop_words.append('eso');\n",
        "stop_words.append('esos');\n",
        "stop_words.append('esta');\n",
        "stop_words.append('estaba');\n",
        "stop_words.append('estaban');\n",
        "stop_words.append('estabas');\n",
        "stop_words.append('estad');\n",
        "stop_words.append('estada');\n",
        "stop_words.append('estadas');\n",
        "stop_words.append('estado');\n",
        "stop_words.append('estados');\n",
        "stop_words.append('estamos');\n",
        "stop_words.append('estan');\n",
        "stop_words.append('estando');\n",
        "stop_words.append('estar');\n",
        "stop_words.append('estaremos');\n",
        "stop_words.append('estara');\n",
        "stop_words.append('estaran');\n",
        "stop_words.append('estaras');\n",
        "stop_words.append('estare');\n",
        "stop_words.append('estaria');\n",
        "stop_words.append('estariamos');\n",
        "stop_words.append('estarian');\n",
        "stop_words.append('estas');\n",
        "stop_words.append('este');\n",
        "stop_words.append('estemos');\n",
        "stop_words.append('esto');\n",
        "stop_words.append('estos');\n",
        "stop_words.append('estoy');\n",
        "stop_words.append('estuve');\n",
        "stop_words.append('estuviera');\n",
        "stop_words.append('estuvieran');\n",
        "stop_words.append('estuvieras');\n",
        "stop_words.append('estuvieron');\n",
        "stop_words.append('estuviese');\n",
        "stop_words.append('estuviesen');\n",
        "stop_words.append('estuvieses');\n",
        "stop_words.append('estuvimos');\n",
        "stop_words.append('estuviste');\n",
        "stop_words.append('estuvieramos');\n",
        "stop_words.append('estuviesemos');\n",
        "stop_words.append('estuvo');\n",
        "stop_words.append('esta');\n",
        "stop_words.append('estabamos');\n",
        "stop_words.append('estan');\n",
        "stop_words.append('estas');\n",
        "stop_words.append('este');\n",
        "stop_words.append('esten');\n",
        "stop_words.append('estes');\n",
        "stop_words.append('ex');\n",
        "stop_words.append('excepto');\n",
        "stop_words.append('existe');\n",
        "stop_words.append('existen');\n",
        "stop_words.append('explico');\n",
        "stop_words.append('expreso');\n",
        "stop_words.append('f');\n",
        "stop_words.append('fin');\n",
        "stop_words.append('final');\n",
        "stop_words.append('fue');\n",
        "stop_words.append('fuera');\n",
        "stop_words.append('fueran');\n",
        "stop_words.append('fueras');\n",
        "stop_words.append('fueron');\n",
        "stop_words.append('fuese');\n",
        "stop_words.append('fuesen');\n",
        "stop_words.append('fueses');\n",
        "stop_words.append('fui');\n",
        "stop_words.append('fuimos');\n",
        "stop_words.append('fuiste');\n",
        "stop_words.append('fueramos');\n",
        "stop_words.append('fuesemos');\n",
        "stop_words.append('g');\n",
        "stop_words.append('general');\n",
        "stop_words.append('gran');\n",
        "stop_words.append('grandes');\n",
        "stop_words.append('gueno');\n",
        "stop_words.append('h');\n",
        "stop_words.append('ha');\n",
        "stop_words.append('haber');\n",
        "stop_words.append('habia');\n",
        "stop_words.append('habida');\n",
        "stop_words.append('habidas');\n",
        "stop_words.append('habido');\n",
        "stop_words.append('habidos');\n",
        "stop_words.append('habiendo');\n",
        "stop_words.append('habla');\n",
        "stop_words.append('hablan');\n",
        "stop_words.append('habremos');\n",
        "stop_words.append('habra');\n",
        "stop_words.append('habran');\n",
        "stop_words.append('habras');\n",
        "stop_words.append('habre');\n",
        "stop_words.append('habreis');\n",
        "stop_words.append('habria');\n",
        "stop_words.append('habriamos');\n",
        "stop_words.append('habrian');\n",
        "stop_words.append('habrias');\n",
        "stop_words.append('habia');\n",
        "stop_words.append('habiamos');\n",
        "stop_words.append('habian');\n",
        "stop_words.append('habias');\n",
        "stop_words.append('hace');\n",
        "stop_words.append('hacemos');\n",
        "stop_words.append('hacen');\n",
        "stop_words.append('hacer');\n",
        "stop_words.append('hacerlo');\n",
        "stop_words.append('haces');\n",
        "stop_words.append('hacia');\n",
        "stop_words.append('haciendo');\n",
        "stop_words.append('hago');\n",
        "stop_words.append('han');\n",
        "stop_words.append('has');\n",
        "stop_words.append('hasta');\n",
        "stop_words.append('hay');\n",
        "stop_words.append('haya');\n",
        "stop_words.append('hayamos');\n",
        "stop_words.append('hayan');\n",
        "stop_words.append('hayas');\n",
        "stop_words.append('he');\n",
        "stop_words.append('hecho');\n",
        "stop_words.append('hemos');\n",
        "stop_words.append('hicieron');\n",
        "stop_words.append('hizo');\n",
        "stop_words.append('horas');\n",
        "stop_words.append('hoy');\n",
        "stop_words.append('hube');\n",
        "stop_words.append('hubieras');\n",
        "stop_words.append('hubieron');\n",
        "stop_words.append('hubiese');\n",
        "stop_words.append('hubiesen');\n",
        "stop_words.append('hubieses');\n",
        "stop_words.append('hubimos');\n",
        "stop_words.append('hubiste');\n",
        "stop_words.append('hubieramos');\n",
        "stop_words.append('hubiesemos');\n",
        "stop_words.append('hubo');\n",
        "stop_words.append('i');\n",
        "stop_words.append('igual');\n",
        "stop_words.append('indico');\n",
        "stop_words.append('ir');\n",
        "stop_words.append('j');\n",
        "stop_words.append('junto');\n",
        "stop_words.append('k');\n",
        "stop_words.append('l');\n",
        "stop_words.append('la');\n",
        "stop_words.append('lado');\n",
        "stop_words.append('largo');\n",
        "stop_words.append('las');\n",
        "stop_words.append('le');\n",
        "stop_words.append('lejos');\n",
        "stop_words.append('les');\n",
        "stop_words.append('llego');\n",
        "stop_words.append('lleva');\n",
        "stop_words.append('llevar');\n",
        "stop_words.append('lo');\n",
        "stop_words.append('los');\n",
        "stop_words.append('luego');\n",
        "stop_words.append('lugar');\n",
        "stop_words.append('m');\n",
        "stop_words.append('mal');\n",
        "stop_words.append('manera');\n",
        "stop_words.append('manifesto');\n",
        "stop_words.append('mas');\n",
        "stop_words.append('mayor');\n",
        "stop_words.append('me');\n",
        "stop_words.append('mediante');\n",
        "stop_words.append('medio');\n",
        "stop_words.append('menciono');\n",
        "stop_words.append('menudo');\n",
        "stop_words.append('mi');\n",
        "stop_words.append('mia');\n",
        "stop_words.append('mias');\n",
        "stop_words.append('mientras');\n",
        "stop_words.append('mio');\n",
        "stop_words.append('mios');\n",
        "stop_words.append('mis');\n",
        "stop_words.append('misma');\n",
        "stop_words.append('mismas');\n",
        "stop_words.append('mismo');\n",
        "stop_words.append('mismos');\n",
        "stop_words.append('modo');\n",
        "stop_words.append('momento');\n",
        "stop_words.append('muy');\n",
        "stop_words.append('mas');\n",
        "stop_words.append('mi');\n",
        "stop_words.append('mia');\n",
        "stop_words.append('mias');\n",
        "stop_words.append('mio');\n",
        "stop_words.append('mios');\n",
        "stop_words.append('n');\n",
        "stop_words.append('nada');\n",
        "stop_words.append('nadie');\n",
        "stop_words.append('ni');\n",
        "stop_words.append('ninguna');\n",
        "stop_words.append('ningunas');\n",
        "stop_words.append('ninguno');\n",
        "stop_words.append('ningunos');\n",
        "stop_words.append('ningun');\n",
        "stop_words.append('no');\n",
        "stop_words.append('nos');\n",
        "stop_words.append('nosotras');\n",
        "stop_words.append('nosotros');\n",
        "stop_words.append('nuestra');\n",
        "stop_words.append('nuestras');\n",
        "stop_words.append('nuestro');\n",
        "stop_words.append('nuestros');\n",
        "stop_words.append('nueva');\n",
        "stop_words.append('nuevas');\n",
        "stop_words.append('nuevo');\n",
        "stop_words.append('nuevos');\n",
        "stop_words.append('nunca');\n",
        "stop_words.append('o');\n",
        "stop_words.append('ocho');\n",
        "stop_words.append('os');\n",
        "stop_words.append('otra');\n",
        "stop_words.append('otras');\n",
        "stop_words.append('otro');\n",
        "stop_words.append('otros');\n",
        "stop_words.append('p');\n",
        "stop_words.append('pais');\n",
        "stop_words.append('para');\n",
        "stop_words.append('parece');\n",
        "stop_words.append('parte');\n",
        "stop_words.append('partir');\n",
        "stop_words.append('pasada');\n",
        "stop_words.append('pasado');\n",
        "stop_words.append('pais');\n",
        "stop_words.append('peor');\n",
        "stop_words.append('pero');\n",
        "stop_words.append('pesar');\n",
        "stop_words.append('podemos');\n",
        "stop_words.append('poder');\n",
        "stop_words.append('podria');\n",
        "stop_words.append('podriamos');\n",
        "stop_words.append('podrian');\n",
        "stop_words.append('podrias');\n",
        "stop_words.append('podra');\n",
        "stop_words.append('podran');\n",
        "stop_words.append('podria');\n",
        "stop_words.append('podrian');\n",
        "stop_words.append('poner');\n",
        "stop_words.append('por');\n",
        "stop_words.append('por que');\n",
        "stop_words.append('porque');\n",
        "stop_words.append('posible');\n",
        "stop_words.append('primer');\n",
        "stop_words.append('primera');\n",
        "stop_words.append('primero');\n",
        "stop_words.append('primeros');\n",
        "stop_words.append('principalmente');\n",
        "stop_words.append('pronto');\n",
        "stop_words.append('propia');\n",
        "stop_words.append('propias');\n",
        "stop_words.append('propio');\n",
        "stop_words.append('propios');\n",
        "stop_words.append('proximo');\n",
        "stop_words.append('proximo');\n",
        "stop_words.append('proximos');\n",
        "stop_words.append('pudo');\n",
        "stop_words.append('pueda');\n",
        "stop_words.append('puede');\n",
        "stop_words.append('pueden');\n",
        "stop_words.append('puedo');\n",
        "stop_words.append('pues');\n",
        "stop_words.append('q');\n",
        "stop_words.append('qeu');\n",
        "stop_words.append('que');\n",
        "stop_words.append('quedo');\n",
        "stop_words.append('queremos');\n",
        "stop_words.append('quien');\n",
        "stop_words.append('quienes');\n",
        "stop_words.append('quiere');\n",
        "stop_words.append('quien');\n",
        "stop_words.append('quienes');\n",
        "stop_words.append('que');\n",
        "stop_words.append('r');\n",
        "stop_words.append('raras');\n",
        "stop_words.append('realizado');\n",
        "stop_words.append('realizar');\n",
        "stop_words.append('realizo');\n",
        "stop_words.append('repente');\n",
        "stop_words.append('respecto');\n",
        "stop_words.append('s');\n",
        "stop_words.append('sabe');\n",
        "stop_words.append('sabemos');\n",
        "stop_words.append('saben');\n",
        "stop_words.append('saber');\n",
        "stop_words.append('sabes');\n",
        "stop_words.append('sal');\n",
        "stop_words.append('salvo');\n",
        "stop_words.append('se');\n",
        "stop_words.append('sea');\n",
        "stop_words.append('seamos');\n",
        "stop_words.append('sean');\n",
        "stop_words.append('seas');\n",
        "stop_words.append('segun');\n",
        "stop_words.append('segunda');\n",
        "stop_words.append('segundo');\n",
        "stop_words.append('segun');\n",
        "stop_words.append('ser');\n",
        "stop_words.append('sera');\n",
        "stop_words.append('seremos');\n",
        "stop_words.append('sera');\n",
        "stop_words.append('seran');\n",
        "stop_words.append('seras');\n",
        "stop_words.append('sere');\n",
        "stop_words.append('seria');\n",
        "stop_words.append('seriamos');\n",
        "stop_words.append('serian');\n",
        "stop_words.append('serias');\n",
        "stop_words.append('señalo');\n",
        "stop_words.append('si');\n",
        "stop_words.append('sido');\n",
        "stop_words.append('siempre');\n",
        "stop_words.append('siendo');\n",
        "stop_words.append('siete');\n",
        "stop_words.append('sigue');\n",
        "stop_words.append('siguiente');\n",
        "stop_words.append('sin');\n",
        "stop_words.append('sino');\n",
        "stop_words.append('sobre');\n",
        "stop_words.append('somos');\n",
        "stop_words.append('son');\n",
        "stop_words.append('soy');\n",
        "stop_words.append('soyos');\n",
        "stop_words.append('su');\n",
        "stop_words.append('supuesto');\n",
        "stop_words.append('sus');\n",
        "stop_words.append('suya');\n",
        "stop_words.append('suyas');\n",
        "stop_words.append('suyo');\n",
        "stop_words.append('suyos');\n",
        "stop_words.append('se');\n",
        "stop_words.append('si');\n",
        "stop_words.append('solo');\n",
        "stop_words.append('t');\n",
        "stop_words.append('tal');\n",
        "stop_words.append('tambien');\n",
        "stop_words.append('tambien');\n",
        "stop_words.append('tampoco');\n",
        "stop_words.append('tan');\n",
        "stop_words.append('tanto');\n",
        "stop_words.append('tarde');\n",
        "stop_words.append('te');\n",
        "stop_words.append('temprano');\n",
        "stop_words.append('tendremos');\n",
        "stop_words.append('tendra');\n",
        "stop_words.append('tendran');\n",
        "stop_words.append('tendras');\n",
        "stop_words.append('tendre');\n",
        "stop_words.append('tendria');\n",
        "stop_words.append('tendriamos');\n",
        "stop_words.append('tendrian');\n",
        "stop_words.append('tendrias');\n",
        "stop_words.append('tenemos');\n",
        "stop_words.append('tener');\n",
        "stop_words.append('tenga');\n",
        "stop_words.append('tengamos');\n",
        "stop_words.append('tengan');\n",
        "stop_words.append('tengas');\n",
        "stop_words.append('tengo');\n",
        "stop_words.append('tenida');\n",
        "stop_words.append('tenidas');\n",
        "stop_words.append('tenido');\n",
        "stop_words.append('tenidos');\n",
        "stop_words.append('teniendo');\n",
        "stop_words.append('tenia');\n",
        "stop_words.append('teniamos');\n",
        "stop_words.append('tenian');\n",
        "stop_words.append('tenias');\n",
        "stop_words.append('tercera');\n",
        "stop_words.append('ti');\n",
        "stop_words.append('tiempo');\n",
        "stop_words.append('tiene');\n",
        "stop_words.append('tienen');\n",
        "stop_words.append('tienes');\n",
        "stop_words.append('toda');\n",
        "stop_words.append('todas');\n",
        "stop_words.append('todavia');\n",
        "stop_words.append('todavia');\n",
        "stop_words.append('todo');\n",
        "stop_words.append('todos');\n",
        "stop_words.append('total');\n",
        "stop_words.append('trabaja');\n",
        "stop_words.append('trabajamos');\n",
        "stop_words.append('trabajan');\n",
        "stop_words.append('trabajar');\n",
        "stop_words.append('trabajas');\n",
        "stop_words.append('trabajo');\n",
        "stop_words.append('tras');\n",
        "stop_words.append('trata');\n",
        "stop_words.append('traves');\n",
        "stop_words.append('tres');\n",
        "stop_words.append('tu');\n",
        "stop_words.append('tus');\n",
        "stop_words.append('tuve');\n",
        "stop_words.append('tuviera');\n",
        "stop_words.append('tuvieran');\n",
        "stop_words.append('tuvieras');\n",
        "stop_words.append('tuvieron');\n",
        "stop_words.append('tuviese');\n",
        "stop_words.append('tuviesen');\n",
        "stop_words.append('tuvieses');\n",
        "stop_words.append('tuvimos');\n",
        "stop_words.append('tuviste');\n",
        "stop_words.append('tuvieramos');\n",
        "stop_words.append('tuviesemos');\n",
        "stop_words.append('tuvo');\n",
        "stop_words.append('tuya');\n",
        "stop_words.append('tuyas');\n",
        "stop_words.append('tuyo');\n",
        "stop_words.append('tuyos');\n",
        "stop_words.append('tu');\n",
        "stop_words.append('ultimo');\n",
        "stop_words.append('un');\n",
        "stop_words.append('una');\n",
        "stop_words.append('unas');\n",
        "stop_words.append('uno');\n",
        "stop_words.append('unos');\n",
        "stop_words.append('usa');\n",
        "stop_words.append('usamos');\n",
        "stop_words.append('usan');\n",
        "stop_words.append('usar');\n",
        "stop_words.append('usas');\n",
        "stop_words.append('uso');\n",
        "stop_words.append('usted');\n",
        "stop_words.append('ustedes');\n",
        "stop_words.append('va');\n",
        "stop_words.append('valor');\n",
        "stop_words.append('vamos');\n",
        "stop_words.append('van');\n",
        "stop_words.append('varias');\n",
        "stop_words.append('varios');\n",
        "stop_words.append('vaya');\n",
        "stop_words.append('veces');\n",
        "stop_words.append('ver');\n",
        "stop_words.append('verdad');\n",
        "stop_words.append('verdadera');\n",
        "stop_words.append('verdadero');\n",
        "stop_words.append('vez');\n",
        "stop_words.append('voy');\n",
        "stop_words.append('ya');\n",
        "stop_words.append('yo');\n",
        "stop_words.append('el');\n",
        "stop_words.append('eramos');\n",
        "stop_words.append('esa');\n",
        "stop_words.append('esas');\n",
        "stop_words.append('ese');\n",
        "stop_words.append('esos');\n",
        "stop_words.append('esta');\n",
        "stop_words.append('estas');\n",
        "stop_words.append('este');\n",
        "stop_words.append('estos');\n",
        "stop_words.append('ultima');\n",
        "stop_words.append('ultimas');\n",
        "stop_words.append('ultimo');\n",
        "stop_words.append('ultimos');\n",
        "stop_words.append('bbva');\n",
        "\n",
        "\n",
        "# Imprime la longitud de la lista de stopwords en español\n",
        "print(\"The stop words list has a length of {} words\".format(len(stop_words)))\n",
        "# stop_words = list(map(remove_accents, stop_words))\n",
        "# stop_words = list(map(str.lower,stop_words))\n",
        "# stop_words"
      ]
    },
    {
      "cell_type": "code",
      "source": [
        "# unique = set(data.loc[0:10000,\"content\"].str.replace('[^a-zA-Z ]', '').str.lower().str.split(' ').sum())\n",
        "# print(list(sorted(unique)))\n",
        "# len(unique)"
      ],
      "metadata": {
        "id": "RLOkmdCOQEzk"
      },
      "execution_count": 56,
      "outputs": []
    },
    {
      "cell_type": "code",
      "execution_count": 57,
      "metadata": {
        "id": "gANAwBD0I1Hi"
      },
      "outputs": [],
      "source": [
        "# Define funciones para limpiar texto\n",
        "def remove_accents(a):\n",
        "    \"\"\" Función para eliminar acentos\n",
        "      \n",
        "        Args:  \n",
        "        a pandas series string\n",
        "    \"\"\"\n",
        "    return unidecode.unidecode(a)\n",
        "\n",
        "def clean_re(txt):\n",
        "    \"\"\" Función para eliminar puntuación, convertir a minusculas, entre otras cosas\n",
        "      \n",
        "        Args:  \n",
        "        txt pandas series string\n",
        "    \"\"\"\n",
        "    # Convierte a minusculas\n",
        "    txt = pd.Series(txt).str.lower()\n",
        "    \n",
        "    # Elimina caracteres especiales de tipo \\t\\n\\r\\f\\v\n",
        "    txt = pd.Series(txt).apply(lambda x: re.sub(r'[^\\w\\s]',' ',x))\n",
        "    \n",
        "    # Elimina palabras con menos de tres letras\n",
        "    txt = txt.apply(lambda x: ' '.join([w for w in x.split() if len(w)>3]))\n",
        "    \n",
        "    # Elimina números\n",
        "    txt = pd.Series(txt).apply(lambda x: re.sub(r'\\b\\d+(?:\\.\\d+)?\\s+', ' ', x))\n",
        "    \n",
        "    return txt\n",
        "\n",
        "def remove_stopwords(txt):\n",
        "    \"\"\" Función para eliminar stop words\n",
        "      \n",
        "        Args:  \n",
        "        txt pandas series string\n",
        "    \"\"\"\n",
        "    txt = pd.Series(txt).apply(lambda x: ' '.join([item for item in x.split() if item not in stop_words]))\n",
        "    return txt"
      ]
    },
    {
      "cell_type": "code",
      "execution_count": 58,
      "metadata": {
        "id": "eSeQsF0KI1Hj"
      },
      "outputs": [],
      "source": [
        "# Aplica las funciones a la variable 'content'\n",
        "# Esta parte del código tarda un poco\n",
        "data['content_clean'] = data['content'].apply(clean_re)\n",
        "data['content_clean'] = data['content_clean'].apply(remove_accents)\n",
        "data['content_clean'] = data['content_clean'].apply(remove_stopwords)"
      ]
    },
    {
      "cell_type": "markdown",
      "metadata": {
        "id": "KQRtnVPdI1Hj"
      },
      "source": [
        "**Revisa** la variable 'content_clean'\n",
        "* ¿Cómo se diferencia de la variable 'content'?\n",
        "* ¿De qué otras maneras podrías limpiar la variable 'content' para que el texto aporte el más valor posible al modelo de predicción?"
      ]
    },
    {
      "cell_type": "code",
      "execution_count": 59,
      "metadata": {
        "id": "nZve5OsCI1Hj",
        "colab": {
          "base_uri": "https://localhost:8080/"
        },
        "outputId": "f434a149-ddd1-4111-e242-82bf9c9c0094"
      },
      "outputs": [
        {
          "output_type": "stream",
          "name": "stdout",
          "text": [
            "0    Está muy bien la app lo único que haría falta ...\n",
            "1    El cambio en la interfaz está genial! Me encan...\n",
            "2    Excelente aplicación, muy fácil utilizar y ade...\n",
            "3    Normalmente funciona muy bien, pero desde la ú...\n",
            "4    Desde la actualización de la nueva imagen, fal...\n",
            "Name: content, dtype: object \n",
            "\n",
            "\n",
            "0    bien unico haria falta podamos entrar lector h...\n",
            "1    cambio interfaz genial encanto presentacion lu...\n",
            "2    excelente facil utilizar rapidas transferencia...\n",
            "3    normalmente funciona bien actualizacion falla ...\n",
            "4    actualizacion imagen falla demasiado dificil a...\n",
            "Name: content_clean, dtype: object\n"
          ]
        }
      ],
      "source": [
        "# Muestra los primeros 5 registros del data set con las variables 'content' y 'content_clean'\n",
        "print(data[\"content\"].head(5),\"\\n\\n\")\n",
        "print(data[\"content_clean\"].head(5))\n",
        "\n",
        "# Respuesta: \n",
        "# La diferencia se debe la variable \"content_clean\" presenta todas las tranformaciones que le aplicamos al texto, como eliminar acentos, \n",
        "# pasar todo a minusculas, asi como eliminar las stop words definidas anteriormente, ya que anadian poca información. "
      ]
    },
    {
      "cell_type": "code",
      "execution_count": 60,
      "metadata": {
        "id": "8STRClczI1Hj",
        "colab": {
          "base_uri": "https://localhost:8080/"
        },
        "outputId": "31f23c09-d7fa-4281-a65a-7cc719f63983"
      },
      "outputs": [
        {
          "output_type": "stream",
          "name": "stdout",
          "text": [
            "[nltk_data] Downloading package punkt to /root/nltk_data...\n",
            "[nltk_data]   Unzipping tokenizers/punkt.zip.\n"
          ]
        }
      ],
      "source": [
        "# Investiga en internet qué es tokenizar una oración y entiende que hace la siguiente línea de código\n",
        "\n",
        "# Consiste en separar una frase, oración, o parrafo, o un documento entero de texto en unidades mpas pequeñas como palabras.\n",
        "# En el caso de una oración, tokenizar signifca dividirla en palabras.\n",
        "\n",
        "import nltk\n",
        "nltk.download('punkt')\n",
        "\n",
        "data['list_of_words'] = list(data['content_clean'].apply(lambda x : word_tokenize(x))) "
      ]
    },
    {
      "cell_type": "code",
      "execution_count": 61,
      "metadata": {
        "id": "wCjcSe0SI1Hj",
        "colab": {
          "base_uri": "https://localhost:8080/"
        },
        "outputId": "b94f7ed2-46a4-45e4-f3b8-a5137ce92e66"
      },
      "outputs": [
        {
          "output_type": "stream",
          "name": "stdout",
          "text": [
            "0    Está muy bien la app lo único que haría falta ...\n",
            "1    El cambio en la interfaz está genial! Me encan...\n",
            "2    Excelente aplicación, muy fácil utilizar y ade...\n",
            "3    Normalmente funciona muy bien, pero desde la ú...\n",
            "4    Desde la actualización de la nueva imagen, fal...\n",
            "Name: content, dtype: object \n",
            "\n",
            "\n",
            "0    bien unico haria falta podamos entrar lector h...\n",
            "1    cambio interfaz genial encanto presentacion lu...\n",
            "2    excelente facil utilizar rapidas transferencia...\n",
            "3    normalmente funciona bien actualizacion falla ...\n",
            "4    actualizacion imagen falla demasiado dificil a...\n",
            "Name: content_clean, dtype: object \n",
            "\n",
            "\n",
            "0    [bien, unico, haria, falta, podamos, entrar, l...\n",
            "1    [cambio, interfaz, genial, encanto, presentaci...\n",
            "2    [excelente, facil, utilizar, rapidas, transfer...\n",
            "3    [normalmente, funciona, bien, actualizacion, f...\n",
            "4    [actualizacion, imagen, falla, demasiado, difi...\n",
            "Name: list_of_words, dtype: object\n"
          ]
        }
      ],
      "source": [
        "# Muestra los primeros 5 registros del data set con las variables 'content', 'content_clean', y 'list_of_words'\n",
        "print(data[\"content\"].head(5),\"\\n\\n\")\n",
        "print(data[\"content_clean\"].head(5),\"\\n\\n\")\n",
        "print(data[\"list_of_words\"].head(5))"
      ]
    },
    {
      "cell_type": "markdown",
      "metadata": {
        "id": "tqDyfRdyI1Hj"
      },
      "source": [
        "## Exploración avanzada [10 puntos]\n",
        "En esta parte analizamos de manera más avanzada la variable de texto. Investiga como dar respuesta  a las siguientes preguntas:\n",
        "* Cuál es la distribución de la longitud de reseñas. Hint: Calcula la longitud de cada reseña en el set de datos. Saca estadísticos principales (media, mediana, desviación estándar, moda). Gráfica la distribución \n",
        "* ¿Cuál es el top 10 de palabras más usadas para las reseñas no negativas?\n",
        "* ¿Cuál es el top 10 de palabras más usadas para las reseñas negativas?\n",
        "* Investiga como hacer una nube de palabras y crea una para las palabras más usadas en todo el set de datos "
      ]
    },
    {
      "cell_type": "code",
      "source": [
        "# Cuál es la distribución de la longitud de reseñas.\n",
        "\n",
        "data[\"longitud_resenas\"] = data[\"list_of_words\"].apply(len)                     #Calculo de la longitud de las resenas\n",
        "\n",
        "print(\"Media:\",data[\"longitud_resenas\"].mean())\n",
        "print(\"Mediana:\",data[\"longitud_resenas\"].median())\n",
        "print(\"Desviacion Estandar:\",data[\"longitud_resenas\"].std())\n",
        "print(\"Moda:\",data[\"longitud_resenas\"].mode(),\"\\n\")\n",
        "\n",
        "fig, ax = plt.subplots(figsize=(10,5))                                          #Histogramas para variables numéricas\n",
        "fig.suptitle('Histogramas')\n",
        "ax.hist(data[\"longitud_resenas\"],bins=200)\n",
        "ax.set_title(\"Histograma de la longitud de las reseñas\")\n",
        "plt.show()\n",
        "print(\"\\n\")\n",
        "\n",
        "# ¿Cuál es el top 10 de palabras más usadas para las reseñas no negativas?\n",
        "positivas = data[[\"sentiment\",\"list_of_words\"]][data[\"sentiment\"]==\"non-negative\"].reset_index().copy()\n",
        "from collections import Counter\n",
        "counter = Counter(positivas[\"list_of_words\"][0])\n",
        "for i in positivas[\"list_of_words\"][1::]: \n",
        "    counter.update(i)\n",
        "print(\"Top 10 de palabras mas usadas para resenas no-negativas\",counter.most_common(10),\"\\n\")\n",
        "\n",
        "# ¿Cuál es el top 10 de palabras más usadas para las reseñas negativas?\n",
        "negativas = data[[\"sentiment\",\"list_of_words\"]][data[\"sentiment\"]==\"negative\"].reset_index().copy()\n",
        "from collections import Counter\n",
        "counter = Counter(negativas[\"list_of_words\"][0])\n",
        "for i in negativas[\"list_of_words\"][1::]: \n",
        "    counter.update(i)\n",
        "print(\"Top 10 de palabras mas usadas para resenas negativas\",counter.most_common(10),\"\\n\")\n",
        "\n",
        "# Investiga como hacer una nube de palabras y crea una para las palabras más usadas en todo el set de datos\n",
        "# Respuesta: Una nube de palabras es una forma de representar visualmente las palabras que conforman un texto, donde el \n",
        "# tamaño de cada palabra es proporcional a su frecuencia.\n",
        "from collections import Counter\n",
        "counter = Counter(data[\"list_of_words\"][0])\n",
        "for i in data[\"list_of_words\"][1::]: \n",
        "    counter.update(i)\n",
        "print(\"Top 10 de palabras mas usadas en todo el set de datos\",counter.most_common(10),\"\\n\")\n",
        "df = pd.DataFrame.from_dict(counter, orient='index').reset_index()\n",
        "df.columns = [\"Palabra\",\"Frecuencia\"]\n",
        "df = df.sort_values(by=\"Frecuencia\",ascending=False)\n",
        "df = dict(zip(df['Palabra'].tolist(), df['Frecuencia'].tolist()))\n",
        "from wordcloud import WordCloud\n",
        "wc = WordCloud(background_color='white',width=800, height=800, max_words=200).generate_from_frequencies(df)\n",
        "import matplotlib.pyplot as plt\n",
        "plt.figure(figsize=(10, 10))\n",
        "plt.imshow(wc, interpolation='bilinear')\n",
        "plt.axis('off')\n",
        "plt.show()"
      ],
      "metadata": {
        "colab": {
          "base_uri": "https://localhost:8080/",
          "height": 1000
        },
        "id": "lSdnun1Apwig",
        "outputId": "362ea66f-793d-4a34-bf2a-9b2bc0ef1739"
      },
      "execution_count": 62,
      "outputs": [
        {
          "output_type": "stream",
          "name": "stdout",
          "text": [
            "Media: 5.362218622186222\n",
            "Mediana: 3.0\n",
            "Desviacion Estandar: 5.941128969901116\n",
            "Moda: 0    1\n",
            "dtype: int64 \n",
            "\n"
          ]
        },
        {
          "output_type": "display_data",
          "data": {
            "text/plain": [
              "<Figure size 720x360 with 1 Axes>"
            ],
            "image/png": "[encoded data removed]"
          },
          "metadata": {
            "needs_background": "light"
          }
        },
        {
          "output_type": "stream",
          "name": "stdout",
          "text": [
            "\n",
            "\n",
            "Top 10 de palabras mas usadas para resenas no-negativas [('excelente', 29565), ('buena', 27077), ('bien', 9779), ('facil', 9212), ('servicio', 6430), ('exelente', 5805), ('mejor', 5598), ('practica', 4773), ('util', 4022), ('gracias', 3730)] \n",
            "\n",
            "Top 10 de palabras mas usadas para resenas negativas [('deja', 15791), ('entrar', 14359), ('actualizacion', 11050), ('datos', 8083), ('facial', 6744), ('pesima', 6055), ('ingresar', 5829), ('permite', 5338), ('acceder', 5283), ('bien', 5022)] \n",
            "\n",
            "Top 10 de palabras mas usadas en todo el set de datos [('excelente', 30368), ('buena', 29536), ('deja', 19181), ('entrar', 17620), ('bien', 14801), ('actualizacion', 13491), ('facil', 10296), ('datos', 10168), ('servicio', 9934), ('mejor', 9560)] \n",
            "\n"
          ]
        },
        {
          "output_type": "display_data",
          "data": {
            "text/plain": [
              "<Figure size 720x720 with 1 Axes>"
            ],
            "image/png": "[encoded data removed]"
          },
          "metadata": {
            "needs_background": "light"
          }
        }
      ]
    },
    {
      "cell_type": "markdown",
      "metadata": {
        "id": "JPHtaN67I1Hj"
      },
      "source": [
        "## Procesamiento de datos [5 puntos]\n",
        "En esta parte tendrás que preparar los datos para poder entrenar modelos de aprendizaje de máquina. Para ello, tendrás que hacer lo siguiente:\n",
        "* Separa el set de datos en set de variables independientes (X) y en variable target (y)\n",
        "* Divide el set de datos en train (70%) y test (30%). Utiliza la semilla SEED=12345 para poder reproducir tus resultados"
      ]
    },
    {
      "cell_type": "code",
      "source": [
        "# Separa el set de datos en set de variables independientes (X) y en variable target (y)\n",
        "y = np.array(data[\"sentiment\"])\n",
        "y[y==\"negative\"]=\"0\"\n",
        "y[y==\"non-negative\"]=\"1\"\n",
        "X = data[[\"content_clean\"]]\n",
        "X_train, X_test, y_train, y_test = train_test_split(X, y, test_size=0.3, random_state=12345)"
      ],
      "metadata": {
        "id": "sFNe7ubb6ixL"
      },
      "execution_count": 111,
      "outputs": []
    },
    {
      "cell_type": "markdown",
      "metadata": {
        "id": "U3Pct1FkI1Hj"
      },
      "source": [
        "## Word Embeddings [5 puntos]\n",
        "Convierte los datos de texto en una matriz numérica que los modelos de aprendizaje de máquina puedan utilizar. Para ello, te apoyaré con unas líneas de código pero te corresponde a ti lo siguiente:\n",
        "* Investigar qué es un word embedding y por qué son importantes para entrenar un modelo de clasificación cuando se utilizan datos de texto\n",
        "* Investigar acerca de los word embeddings TF-IDF y Bag of Words (BoW)\n",
        "\n",
        "Yo te voy a enseñar cómo convertir los datos, pero te corresponde entender cómo funcionan y cómo manipularlos. "
      ]
    },
    {
      "cell_type": "code",
      "source": [
        "# Investigar qué es un word embedding y por qué son importantes para entrenar un modelo de clasificación cuando se utilizan datos de texto\n",
        "# Respuesta: \n",
        "# Word embedding es el nombre de un conjunto de modelos de lenguaje y técnicas de aprendizaje en procesamiento del lenguaje natural en donde las palabras o \n",
        "# frases del lenguaje natural son representadas como vectores de números reales.\n",
        "# Las técnicas de Word Embeding son usadas para representar palabras de manera matemática. Algunos ejemplos de estas técnicas son \n",
        "# One Hot Encoding, TF-IDF, Word2Vec, FastText. Estas tecnicas son importantes ya que permiten procesar el texto para usarlo como input en las distitnas tecnicas\n",
        "# de aprendizaje de maquinas y aprendizaje profundo.\n",
        "\n",
        "\n",
        "# Investigar acerca de los word embeddings TF-IDF y Bag of Words (BoW)\n",
        "# Respuesta:\n",
        "# TF-IDF es una medida estadistica usada para determinar la significancia matematica de las palabras en un texto. Requiere un proceso de vectorización similar a \n",
        "# One Hot Encoding, con la diferencia de que el valor que se almacena es un valor TF-IDF en lugar de un 1 o 0 como en One Hot Encoding tradicional.\n",
        "# Para obtenerlo se calcula el valor TF es decir la Frecuencia de cada termino. Y posteriormente el IDF (Frecuencia Inversa en el Documento).\n",
        "# Finalmente el TF-IDF  se obtiene multiplicando TD y IDF\n",
        "# Bag of Words: El modelo de bolsa de palabras es una forma de representar texto al usar datos textuales en algoritmos de aprendizaje de maquinas.\n",
        "# Permite extraer caracteristicas del texto para poder modelar.\n",
        "\n",
        "# Fuentes: \n",
        "# https://towardsdatascience.com/word-embedding-techniques-word2vec-and-tf-idf-explained-c5d02e34d08 \n",
        "# https://machinelearningmastery.com/gentle-introduction-bag-words-model/\n"
      ],
      "metadata": {
        "id": "N3BX6Pyig59e"
      },
      "execution_count": 64,
      "outputs": []
    },
    {
      "cell_type": "code",
      "execution_count": 105,
      "metadata": {
        "id": "5cl40kVzI1Hj"
      },
      "outputs": [],
      "source": [
        "# Define función útil\n",
        "def text_transformer(X_train, X_test, vectorizer):\n",
        "    \"\"\" Función para crear word embeddings (TF-IDF y BoW)\n",
        "      \n",
        "        Args:  \n",
        "        X_train pandas dataframe\n",
        "        X_test  pandas dataframe\n",
        "        varToVector string que contiene nombre de variable de texto\n",
        "        vectorizer objeto para crear un word embedding de tipo TF-IDF y BoW\n",
        "    \"\"\"\n",
        "    # Define método para convertir de texto a matrix numérica\n",
        "    vectorizer_ = vectorizer\n",
        "    vectorizer_.fit(X_train)\n",
        "\n",
        "    X_train = vectorizer_.transform(X_train)\n",
        "    X_test = vectorizer_.transform(X_test)\n",
        "    return X_train, X_test"
      ]
    },
    {
      "cell_type": "markdown",
      "metadata": {
        "id": "JMY0S86NI1Hk"
      },
      "source": [
        "**TF-IDF**\n",
        "\n",
        "Investiga qué parámetros puede tomar e intenta optimizarlos. X_train_TFID y X_test_TFID serán los sets de datos que tendrás que utilizar para entrenar modelos en la sección siguiente"
      ]
    },
    {
      "cell_type": "code",
      "execution_count": 109,
      "metadata": {
        "id": "SRRH5B4JI1Hk",
        "colab": {
          "base_uri": "https://localhost:8080/"
        },
        "outputId": "5f94bbab-4074-4ea7-e818-801e8ed86550"
      },
      "outputs": [
        {
          "output_type": "execute_result",
          "data": {
            "text/plain": [
              "(139998, 376)"
            ]
          },
          "metadata": {},
          "execution_count": 109
        }
      ],
      "source": [
        "# Crea un word embedding de tipo TF-IDF con el objeto de Sklearn llamado TfidfVectorizer\n",
        "# TfidfVectorizer(Por optimizar)\n",
        "X_train_TFID, X_test_TFID = text_transformer(X_train[\"content_clean\"], X_test[\"content_clean\"], TfidfVectorizer(min_df=300))  #Despues de multiples pruebas consideré el parametro min_df=300 de tal suerte que los modelos alcanzaban una solución en un tiempo razonable.\n",
        "\n",
        "# Convierte el resultado anterior en una matriz poco densa que pueda ser usada para entrenar un modelo\n",
        "X_train_TFID = pd.DataFrame(X_train_TFID.toarray())\n",
        "X_test_TFID = pd.DataFrame(X_test_TFID.toarray()) \n",
        "\n",
        "X_train_TFID.shape"
      ]
    },
    {
      "cell_type": "markdown",
      "metadata": {
        "id": "UCCp2ka_I1Hk"
      },
      "source": [
        "**Bag of Words (BoW)**\n",
        "\n",
        "Investiga qué parámetros puede tomar e intenta optimizarlos. X_train_BoW y X_test_BoW serán los sets de datos que tendrás que utilizar para entrenar modelos en la sección siguiente"
      ]
    },
    {
      "cell_type": "markdown",
      "metadata": {
        "id": "ipvC7oxhI1Hk"
      },
      "source": [
        "**[Stretch: 5 puntos extras] Word embeddings más complejos**\n",
        "\n",
        "Investiga técnicas más complejas para crear word embeddings y utilizalas en la sección de entrenamiento de modelos. ¿Crees que ayuden a mejorar el performance de los mismos?"
      ]
    },
    {
      "cell_type": "markdown",
      "metadata": {
        "id": "b7gMf0IuI1Hk"
      },
      "source": [
        "## Entrena modelos de aprendizaje de máquina [25 puntos]\n",
        "Entrena al menos tres tipos de modelos de clasificación. Todo modelo extra podrá ser considerado para puntos extras. Tienes la libertad de entrenar los modelos de la manera que desees, entre mejor sea la metodología de entrenamiento y evaluación de resultados, más puntos obtendrás. "
      ]
    },
    {
      "cell_type": "code",
      "source": [
        "# MODELO 1: REGRESION LOGISTICA\n",
        "modelo_reg_log = LogisticRegression(random_state=0, solver='lbfgs')\n",
        "modelo_reg_log.fit(X_train_TFID, y_train)\n",
        "print(modelo_reg_log.score(X_test_TFID,y_test))\n",
        "roc_auc_score(modelo_reg_log.predict(X_test_TFID), y_test)"
      ],
      "metadata": {
        "colab": {
          "base_uri": "https://localhost:8080/"
        },
        "id": "ujewUIKbT8OO",
        "outputId": "b175df8e-1ca1-44b0-8e6b-9f70dc8a6ab7"
      },
      "execution_count": 107,
      "outputs": [
        {
          "output_type": "stream",
          "name": "stdout",
          "text": [
            "0.88965\n"
          ]
        },
        {
          "output_type": "execute_result",
          "data": {
            "text/plain": [
              "0.8785324966085271"
            ]
          },
          "metadata": {},
          "execution_count": 107
        }
      ]
    },
    {
      "cell_type": "code",
      "source": [
        "# MODELO 2: NAIVE BAYES\n",
        "from sklearn.naive_bayes import GaussianNB\n",
        "modelo_nb = GaussianNB()\n",
        "modelo_nb.fit(X_train_TFID, y_train)\n",
        "print(modelo_nb.score(X_test_TFID,y_test))\n",
        "print(roc_auc_score(modelo_nb.predict(X_test_TFID), y_test))"
      ],
      "metadata": {
        "colab": {
          "base_uri": "https://localhost:8080/"
        },
        "id": "NzRNNC2cVgjy",
        "outputId": "5b4bc82e-92ab-4bba-c22a-544d467c1f61"
      },
      "execution_count": 98,
      "outputs": [
        {
          "output_type": "stream",
          "name": "stdout",
          "text": [
            "0.8611\n",
            "0.8474120191969529\n"
          ]
        }
      ]
    },
    {
      "cell_type": "code",
      "source": [
        "# MODELO 3: DECISION TREE\n",
        "from sklearn.tree import DecisionTreeClassifier\n",
        "modelo_tree = DecisionTreeClassifier(max_depth=10)\n",
        "modelo_tree.fit(X_train_TFID, y_train)\n",
        "print(modelo_tree.score(X_test_TFID,y_test))\n",
        "print(roc_auc_score(modelo_tree.predict(X_test_TFID), y_test))"
      ],
      "metadata": {
        "colab": {
          "base_uri": "https://localhost:8080/"
        },
        "id": "EtDOziQ-n88N",
        "outputId": "b31df0e3-f3e5-4e55-86b7-a03e6eb81418"
      },
      "execution_count": 99,
      "outputs": [
        {
          "output_type": "stream",
          "name": "stdout",
          "text": [
            "0.8067666666666666\n",
            "0.8192322766450579\n"
          ]
        }
      ]
    },
    {
      "cell_type": "markdown",
      "metadata": {
        "id": "5PZ3QRylI1Hk"
      },
      "source": [
        "**[Stretch: 10 puntos extras]** Para todos los modelos que entrenes, determinar cuál es el valor óptimo para el threshold de probabilidad"
      ]
    },
    {
      "cell_type": "markdown",
      "metadata": {
        "id": "PvKDNk1kI1Hk"
      },
      "source": [
        "## Selecciona el mejor modelo [10 puntos]\n",
        "En esta parte debes seleccionar el mejor modelo, ya sea usando bootstrap o de la manera que creas adeacuada. Justifica bien tus decisiones"
      ]
    },
    {
      "cell_type": "code",
      "source": [
        "X_complete_TFID = X_train_TFID.append(X_test_TFID,ignore_index=True).copy()\n",
        "y_complete = np.append(y_test,y_train).copy()"
      ],
      "metadata": {
        "id": "yQMW3gdMLYMO"
      },
      "execution_count": 100,
      "outputs": []
    },
    {
      "cell_type": "code",
      "source": [
        "# MODELO 1 USANDO BOOTSTRAP\n",
        "ROC_AUC_1 =[]\n",
        "muestras=10\n",
        "\n",
        "for i in range(muestras):\n",
        "\n",
        "  from sklearn.model_selection import train_test_split\n",
        "  y = np.array(data[\"sentiment\"])\n",
        "  y[y==\"negative\"]=\"0\"\n",
        "  y[y==\"non-negative\"]=\"1\"\n",
        "  X = data[[\"content_clean\"]]\n",
        "  X_train, X_test, y_train, y_test = train_test_split(X, y, test_size=0.3, random_state=1+i) #Al tomar cada muestra variar el random state\n",
        "\n",
        "  # Crea un word embedding de tipo TF-IDF con el objeto de Sklearn llamado TfidfVectorizer\n",
        "  # TfidfVectorizer(Por optimizar)\n",
        "  X_train_TFID, X_test_TFID = text_transformer(X_train[\"content_clean\"], X_test[\"content_clean\"], TfidfVectorizer(min_df=300))  #Despues de multiples pruebas consideré el parametro min_df=300 de tal suerte que los modelos alcanzaban una solución en un tiempo razonable.\n",
        "  # Convierte el resultado anterior en una matriz poco densa que pueda ser usada para entrenar un modelo\n",
        "  X_train_TFID = pd.DataFrame(X_train_TFID.toarray())\n",
        "  X_test_TFID = pd.DataFrame(X_test_TFID.toarray()) \n",
        "\n",
        "\n",
        "  # MODELO 1: REGRESION LOGISTICA\n",
        "  modelo_reg_log = LogisticRegression(random_state=0, solver='lbfgs')\n",
        "  modelo_reg_log.fit(X_train_TFID, y_train)\n",
        "  #print(modelo_reg_log.score(X_test_TFID,y_test))\n",
        "  #roc_auc_score(modelo_reg_log.predict(X_test_TFID), y_test)\n",
        "\n",
        "  ROC_AUC_1.append(roc_auc_score(modelo_reg_log.predict(X_test_TFID), y_test))\n",
        "   \n",
        "# Final accuracy\n",
        "print('Valor Proemdio de ROC_AUC',np.mean(ROC_AUC_1)) "
      ],
      "metadata": {
        "id": "UGFPSDQ2yFRn",
        "colab": {
          "base_uri": "https://localhost:8080/"
        },
        "outputId": "bf52294a-fab5-4c2d-b466-03849fd64b6f"
      },
      "execution_count": 114,
      "outputs": [
        {
          "output_type": "stream",
          "name": "stdout",
          "text": [
            "Valor Proemdio de ROC_AUC 0.8769514300940203\n"
          ]
        }
      ]
    },
    {
      "cell_type": "code",
      "source": [
        "# MODELO 2 USANDO BOOTSTRAP\n",
        "ROC_AUC_2 =[]\n",
        "muestras=10\n",
        "\n",
        "for i in range(muestras):\n",
        "\n",
        "  from sklearn.model_selection import train_test_split\n",
        "  y = np.array(data[\"sentiment\"])\n",
        "  y[y==\"negative\"]=\"0\"\n",
        "  y[y==\"non-negative\"]=\"1\"\n",
        "  X = data[[\"content_clean\"]]\n",
        "  X_train, X_test, y_train, y_test = train_test_split(X, y, test_size=0.3, random_state=1+i) #Al tomar cada muestra variar el random state\n",
        "\n",
        "  # Crea un word embedding de tipo TF-IDF con el objeto de Sklearn llamado TfidfVectorizer\n",
        "  # TfidfVectorizer(Por optimizar)\n",
        "  X_train_TFID, X_test_TFID = text_transformer(X_train[\"content_clean\"], X_test[\"content_clean\"], TfidfVectorizer(min_df=300))  #Despues de multiples pruebas consideré el parametro min_df=300 de tal suerte que los modelos alcanzaban una solución en un tiempo razonable.\n",
        "  # Convierte el resultado anterior en una matriz poco densa que pueda ser usada para entrenar un modelo\n",
        "  X_train_TFID = pd.DataFrame(X_train_TFID.toarray())\n",
        "  X_test_TFID = pd.DataFrame(X_test_TFID.toarray()) \n",
        "\n",
        "  # MODELO 2: NAIVE BAYES\n",
        "  from sklearn.naive_bayes import GaussianNB\n",
        "  modelo_nb = GaussianNB()\n",
        "  modelo_nb.fit(X_train_TFID, y_train)\n",
        "  #print(modelo_nb.score(X_test_TFID,y_test))\n",
        "  #print(roc_auc_score(modelo_nb.predict(X_test_TFID), y_test))\n",
        "\n",
        "  ROC_AUC_2.append(roc_auc_score(modelo_nb.predict(X_test_TFID), y_test))\n",
        "   \n",
        "# Final accuracy\n",
        "print('Valor Proemdio de ROC_AUC',np.mean(ROC_AUC_2)) "
      ],
      "metadata": {
        "colab": {
          "base_uri": "https://localhost:8080/"
        },
        "id": "A2meJ1EaJNXU",
        "outputId": "c8857fc8-c78a-4372-bfab-c775bf6f7e8d"
      },
      "execution_count": 117,
      "outputs": [
        {
          "output_type": "stream",
          "name": "stdout",
          "text": [
            "Valor Proemdio de ROC_AUC 0.8489743226561168\n"
          ]
        }
      ]
    },
    {
      "cell_type": "code",
      "source": [
        "# MODELO 3 USANDO BOOTSTRAP\n",
        "ROC_AUC_3 =[]\n",
        "muestras=10\n",
        "\n",
        "for i in range(muestras):\n",
        "\n",
        "  from sklearn.model_selection import train_test_split\n",
        "  y = np.array(data[\"sentiment\"])\n",
        "  y[y==\"negative\"]=\"0\"\n",
        "  y[y==\"non-negative\"]=\"1\"\n",
        "  X = data[[\"content_clean\"]]\n",
        "  X_train, X_test, y_train, y_test = train_test_split(X, y, test_size=0.3, random_state=1+i) #Al tomar cada muestra variar el random state\n",
        "\n",
        "  # Crea un word embedding de tipo TF-IDF con el objeto de Sklearn llamado TfidfVectorizer\n",
        "  # TfidfVectorizer(Por optimizar)\n",
        "  X_train_TFID, X_test_TFID = text_transformer(X_train[\"content_clean\"], X_test[\"content_clean\"], TfidfVectorizer(min_df=300))  #Despues de multiples pruebas consideré el parametro min_df=300 de tal suerte que los modelos alcanzaban una solución en un tiempo razonable.\n",
        "  # Convierte el resultado anterior en una matriz poco densa que pueda ser usada para entrenar un modelo\n",
        "  X_train_TFID = pd.DataFrame(X_train_TFID.toarray())\n",
        "  X_test_TFID = pd.DataFrame(X_test_TFID.toarray()) \n",
        "\n",
        "  # MODELO 3: DECISION TREE\n",
        "  from sklearn.tree import DecisionTreeClassifier\n",
        "  modelo_tree = DecisionTreeClassifier(max_depth=10)\n",
        "  modelo_tree.fit(X_train_TFID, y_train)\n",
        "  #print(modelo_tree.score(X_test_TFID,y_test))\n",
        "  #print(roc_auc_score(modelo_tree.predict(X_test_TFID), y_test))\n",
        "\n",
        "  ROC_AUC_3.append(roc_auc_score(modelo_tree.predict(X_test_TFID), y_test))\n",
        "   \n",
        "# Final accuracy\n",
        "print('Valor Proemdio de ROC_AUC',np.mean(ROC_AUC_3)) "
      ],
      "metadata": {
        "colab": {
          "base_uri": "https://localhost:8080/"
        },
        "id": "lpxDx3aWKC0S",
        "outputId": "0e3cc781-bb2c-418d-c8bb-a61273578364"
      },
      "execution_count": 119,
      "outputs": [
        {
          "output_type": "stream",
          "name": "stdout",
          "text": [
            "Valor Proemdio de ROC_AUC 0.818379233342632\n"
          ]
        }
      ]
    },
    {
      "cell_type": "code",
      "source": [
        "# Desición tomada: Luego de realizar el proceso de muestreo con reemplazo, para 10 muestras, decidí elegir el modelo 1 regresion logistica,\n",
        "# ya que es el que tuvo mejor desempeño en el conjunto de prueba. Al tener un ROC_AUC promedio del 0.87 considero que es una\n",
        "# buena metrica. TAmbien considero que este modelo se puede mejorar haciendo una limpieza más exhaustiva de las palabras en las reseñas, toda vez que \n",
        "# existen algunas que constan unicamente de emoticons y eso podria mejorar el desempeño de este modelo.\n",
        "# Por otra parte, podriamos intentar con otros algoritmos de clasificacion como SVM o Random Forest."
      ],
      "metadata": {
        "id": "zB3jfl0hRCjD"
      },
      "execution_count": null,
      "outputs": []
    }
  ],
  "metadata": {
    "kernelspec": {
      "display_name": "Python 3",
      "language": "python",
      "name": "python3"
    },
    "language_info": {
      "codemirror_mode": {
        "name": "ipython",
        "version": 3
      },
      "file_extension": ".py",
      "mimetype": "text/x-python",
      "name": "python",
      "nbconvert_exporter": "python",
      "pygments_lexer": "ipython3",
      "version": "3.7.6"
    },
    "colab": {
      "name": "Nicolás - Tarea - M2G12.ipynb",
      "provenance": [],
      "collapsed_sections": [
        "TfTZwR1vI1HO",
        "QOlMFxk_I1Hh"
      ]
    }
  },
  "nbformat": 4,
  "nbformat_minor": 0
}